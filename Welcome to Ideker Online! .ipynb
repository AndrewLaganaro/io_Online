{
 "cells": [
  {
   "cell_type": "code",
   "execution_count": null,
   "metadata": {},
   "outputs": [],
   "source": [
    "%run \"~/Apps/Setup_Notebook/default.ipynb\"\n",
    "%run \"Source Code.ipynb\""
   ]
  },
  {
   "cell_type": "markdown",
   "metadata": {},
   "source": [
    "<p> </p>\n",
    "\n",
    "**<font color=\"Gray\" size=11 face=\"georgia\">io </font>** *<font color=\"magenta\" size=8>Online</font>*\n",
    "\n",
    "<hr class=\"col-xs-3\">"
   ]
  },
  {
   "cell_type": "markdown",
   "metadata": {},
   "source": [
    "<font color=\"magenta\">io Online</font> connects your computer with everyone in the world! This is done using the [power of Github](https://github.com/). With <font color=\"magenta\">io Online</font> you can:\n",
    "\n",
    "* Save your work\n",
    "* Update applications\n",
    "* Share your idea with others"
   ]
  },
  {
   "cell_type": "markdown",
   "metadata": {},
   "source": [
    "# <font color=\"limeGreen\">Github Sign In</font>"
   ]
  },
  {
   "cell_type": "markdown",
   "metadata": {},
   "source": [
    "To use <font color=\"magenta\">io Online</font> you must have a github account which you can [create here](https://github.com/).\n",
    "\n",
    "<font color=\"limeGreen\">Github</font> is an incredible piece of technology that allows people to save/share code on the cloud. However, <font color=\"limeGreen\">Github</font> can be confusing to use... even for programmers! <font color=\"magenta\">io Online</font> makes using <font color=\"limeGreen\">Github</font> simple. In order to use <font color=\"magenta\">io Online</font> you need to sign in to <font color=\"limeGreen\">Github</font>:"
   ]
  },
  {
   "cell_type": "code",
   "execution_count": null,
   "metadata": {
    "cell_style": "split"
   },
   "outputs": [],
   "source": [
    "display(HTML(\"<hr style=margin:0>\"))\n",
    "Git.b.signIn"
   ]
  },
  {
   "cell_type": "markdown",
   "metadata": {},
   "source": [
    "# <font color=\"teal\">Manage Files</font>"
   ]
  },
  {
   "cell_type": "markdown",
   "metadata": {},
   "source": [
    "In this section you can <font color=\"orange\">Add</font> new folders to Github and  <font color=\"green\">Publish</font> your most recent changes. This is smart to do because :\n",
    "1. You <font color=\"blue\">back up</font> your files in the cloud\n",
    "2. Your work is now <font color=\"blue\">shared with everyone</font>\n",
    "\n",
    "**<font color=\"red\">Tip :</font>** When you <font color=\"green\">Publish</font> your recent changes to Github, you can write a short note about what you did. Use the text box to write a note before clicking <font color=\"green\">Publish</font>"
   ]
  },
  {
   "cell_type": "code",
   "execution_count": null,
   "metadata": {},
   "outputs": [],
   "source": [
    "Git.w.folder_type\n",
    "Git.wf.folderType(\"b\")"
   ]
  },
  {
   "cell_type": "markdown",
   "metadata": {},
   "source": [
    "# <font color=\"orange\">Manage Apps</font>"
   ]
  },
  {
   "cell_type": "markdown",
   "metadata": {},
   "source": [
    "This is where you can **check new updates** for all of your <font color=\"orange\">Apps</font>. Only the <font color=\"orange\">Apps</font> that need updates are shown. After updating your <font color=\"orange\">Apps</font> click  <font color=\"blue\">Refresh</font> to confirm everythign is up to date."
   ]
  },
  {
   "cell_type": "code",
   "execution_count": null,
   "metadata": {},
   "outputs": [],
   "source": [
    "display( Git.b.update_refresh )\n",
    "Git.wf.showUpdates(\"b\")"
   ]
  },
  {
   "cell_type": "markdown",
   "metadata": {},
   "source": [
    "#  <font color=\"Orchid\">io News Room</font>"
   ]
  },
  {
   "cell_type": "markdown",
   "metadata": {},
   "source": [
    "You can use the <font color=\"Orchid\">io News Room</font> to check out what everyone else is doing. The news room displays a list of all of the most recent things that people have published.  <font color=\"teal\">Click Download</font>  to save something into your <font color=\"blue\">Downloads Folder.</font> \n",
    "\n",
    "**<font color=\"red\">Note:</font>** A lot of cool <font color=\"orchid\">news room</font> features are on the way, Keep an eye out for updates!"
   ]
  },
  {
   "cell_type": "code",
   "execution_count": null,
   "metadata": {},
   "outputs": [],
   "source": [
    "display( Git.b.news_refresh )\n",
    "Git.wf.showNews(\"b\")"
   ]
  },
  {
   "cell_type": "markdown",
   "metadata": {},
   "source": [
    "# <font color=\"SeaGreen\">Download from Github</font>"
   ]
  },
  {
   "cell_type": "markdown",
   "metadata": {},
   "source": [
    "Here you can download your online repos from the cloud <font color=\"limeGreen\">(Github)</font> to <font color=\"orange\">io</font>. \n",
    "\n",
    "* Click <font color=\"green\">Public</font> or <font color=\"red\">Private</font> to view all your <font color=\"green\">Public</font>/<font color=\"red\">Private</font> <font color=\"limeGreen\">Github</font> repos which are not yet on <font color=\"orange\">io</font>. \n",
    "* Then click <font color=\"blue\">Download</font> to move a repo to your <font color=\"green\">Public</font>/<font color=\"red\">Private</font> folder in <font color=\"orange\">io</font>."
   ]
  },
  {
   "cell_type": "code",
   "execution_count": null,
   "metadata": {},
   "outputs": [],
   "source": [
    "display( Git.w.github_download )\n",
    "Git.wf.githubDownload(\"b\")"
   ]
  },
  {
   "cell_type": "code",
   "execution_count": null,
   "metadata": {},
   "outputs": [],
   "source": []
  }
 ],
 "metadata": {
  "hide_input": false,
  "kernelspec": {
   "display_name": "Python 3",
   "language": "python",
   "name": "python3"
  },
  "language_info": {
   "codemirror_mode": {
    "name": "ipython",
    "version": 3
   },
   "file_extension": ".py",
   "mimetype": "text/x-python",
   "name": "python",
   "nbconvert_exporter": "python",
   "pygments_lexer": "ipython3",
   "version": "3.6.3"
  },
  "toc": {
   "base_numbering": 1,
   "nav_menu": {},
   "number_sections": true,
   "sideBar": true,
   "skip_h1_title": false,
   "title_cell": "Table of Contents",
   "title_sidebar": "Contents",
   "toc_cell": false,
   "toc_position": {},
   "toc_section_display": true,
   "toc_window_display": false
  },
  "varInspector": {
   "cols": {
    "lenName": 16,
    "lenType": 16,
    "lenVar": 40
   },
   "kernels_config": {
    "python": {
     "delete_cmd_postfix": "",
     "delete_cmd_prefix": "del ",
     "library": "var_list.py",
     "varRefreshCmd": "print(var_dic_list())"
    },
    "r": {
     "delete_cmd_postfix": ") ",
     "delete_cmd_prefix": "rm(",
     "library": "var_list.r",
     "varRefreshCmd": "cat(var_dic_list()) "
    }
   },
   "types_to_exclude": [
    "module",
    "function",
    "builtin_function_or_method",
    "instance",
    "_Feature"
   ],
   "window_display": false
  },
  "widgets": {
   "application/vnd.jupyter.widget-state+json": {
    "state": {
     "01a3265233d64daf843c5ee950c698bf": {
      "model_module": "@jupyter-widgets/controls",
      "model_module_version": "1.2.0",
      "model_name": "DescriptionStyleModel",
      "state": {
       "description_width": ""
      }
     },
     "02143fed73934f9bababab4ace1a259d": {
      "model_module": "@jupyter-widgets/base",
      "model_module_version": "1.0.0",
      "model_name": "LayoutModel",
      "state": {}
     },
     "02bc7bb852824fd8830de085fb1e74ab": {
      "model_module": "@jupyter-widgets/controls",
      "model_module_version": "1.2.0",
      "model_name": "PasswordModel",
      "state": {
       "description": "Password",
       "layout": "IPY_MODEL_6a2da55b20104280a2580039c282b516",
       "style": "IPY_MODEL_6269d9cfd6f54cd28e6e8e8f03c832d6"
      }
     },
     "03196ec8ca624bfd8a716180fcb9741e": {
      "model_module": "@jupyter-widgets/controls",
      "model_module_version": "1.2.0",
      "model_name": "HTMLModel",
      "state": {
       "layout": "IPY_MODEL_2a08848efe744fe298208db82f52e442",
       "style": "IPY_MODEL_6464c1a85f69417e89e564cefc7c82da",
       "value": "<font color='orange'> &nbsp Stars: 0</font>"
      }
     },
     "03824a2f921a4ee1b23f79cbb5601b1d": {
      "model_module": "@jupyter-widgets/controls",
      "model_module_version": "1.2.0",
      "model_name": "DescriptionStyleModel",
      "state": {
       "description_width": ""
      }
     },
     "03af4f8d9bad41eb82141dea42cd02a3": {
      "model_module": "@jupyter-widgets/controls",
      "model_module_version": "1.2.0",
      "model_name": "HTMLModel",
      "state": {
       "layout": "IPY_MODEL_f6285127a0584bc099a57be582b58624",
       "style": "IPY_MODEL_768a58eac64e4f5197ebcfed7c7ebf50",
       "value": "<h3 style='padding:0;margin:0;'>&nbsp &nbsp<a href='https://github.com/pupster90/Cytoscape'>Cytoscape</a> &nbsp</h3>"
      }
     },
     "03d95b45ded94f82ad0c249d34e3145b": {
      "model_module": "@jupyter-widgets/controls",
      "model_module_version": "1.2.0",
      "model_name": "HTMLModel",
      "state": {
       "layout": "IPY_MODEL_bb167d56cdce43769283fd9d15eef47c",
       "style": "IPY_MODEL_4284515ff0ef4f5eaef87aa5137883dc",
       "value": "<h3 style='padding:0;margin:0;'>&nbsp &nbsp &nbsp<a href='https://github.com/pupster90/io_Presentation.git'>io_Presentation</a></h3>"
      }
     },
     "04500a8ddebe47d5a156411e6314cf81": {
      "model_module": "@jupyter-widgets/controls",
      "model_module_version": "1.2.0",
      "model_name": "ButtonStyleModel",
      "state": {}
     },
     "04673cef389e40298ead5ee026be77e9": {
      "model_module": "@jupyter-widgets/base",
      "model_module_version": "1.0.0",
      "model_name": "LayoutModel",
      "state": {
       "width": "130px"
      }
     },
     "048e13aee192475fa7c31904fa02dc93": {
      "model_module": "@jupyter-widgets/base",
      "model_module_version": "1.0.0",
      "model_name": "LayoutModel",
      "state": {
       "width": "auto"
      }
     },
     "04d5f612d0204c2296ce5e07048cce5c": {
      "model_module": "@jupyter-widgets/controls",
      "model_module_version": "1.2.0",
      "model_name": "ButtonStyleModel",
      "state": {}
     },
     "068ee5e4b654456aa907a277ed144e15": {
      "model_module": "@jupyter-widgets/controls",
      "model_module_version": "1.2.0",
      "model_name": "HBoxModel",
      "state": {
       "children": [
        "IPY_MODEL_4d454fc0621c469b89ce374b48215490",
        "IPY_MODEL_c994d28942ba4f6aa822decf954231e3"
       ],
       "layout": "IPY_MODEL_1fb4368e068f4225960d7f0f9f312717"
      }
     },
     "06f61c12b706463a9242970e14607f79": {
      "model_module": "@jupyter-widgets/base",
      "model_module_version": "1.0.0",
      "model_name": "LayoutModel",
      "state": {}
     },
     "07879e77e4cc4405b6ba17a37643dc94": {
      "model_module": "@jupyter-widgets/base",
      "model_module_version": "1.0.0",
      "model_name": "LayoutModel",
      "state": {
       "align_items": "center"
      }
     },
     "081543b88a8d4314842d408a4b98a698": {
      "model_module": "@jupyter-widgets/base",
      "model_module_version": "1.0.0",
      "model_name": "LayoutModel",
      "state": {
       "width": "auto"
      }
     },
     "08483044e8dd42409a04f6b1589c92b0": {
      "model_module": "@jupyter-widgets/controls",
      "model_module_version": "1.2.0",
      "model_name": "ButtonModel",
      "state": {
       "button_style": "primary",
       "description": "Download",
       "layout": "IPY_MODEL_5867eecd3efb4b94a3c475f6f042f01e",
       "style": "IPY_MODEL_647d60a1e808455d895f5307b408eae1"
      }
     },
     "095d83e706d541ca9381bb2841a7f334": {
      "model_module": "@jupyter-widgets/base",
      "model_module_version": "1.0.0",
      "model_name": "LayoutModel",
      "state": {
       "width": "130px"
      }
     },
     "0969d5e9debe4b8a8507c1880d29d2d4": {
      "model_module": "@jupyter-widgets/base",
      "model_module_version": "1.0.0",
      "model_name": "LayoutModel",
      "state": {
       "width": "auto"
      }
     },
     "0a7b65b5143541998023b6ac85f99dde": {
      "model_module": "@jupyter-widgets/base",
      "model_module_version": "1.0.0",
      "model_name": "LayoutModel",
      "state": {}
     },
     "0b0caf00d3a44ffaac02cfb9aa93814e": {
      "model_module": "@jupyter-widgets/controls",
      "model_module_version": "1.2.0",
      "model_name": "HBoxModel",
      "state": {
       "children": [
        "IPY_MODEL_e3caa6d726bd4aa9b4e0f8a50d6c6665",
        "IPY_MODEL_7879ad8c23494dcfac3e835e1eefbdf6"
       ],
       "layout": "IPY_MODEL_e8e6b49af0b84e44952e1ee4984dffbb"
      }
     },
     "0b43f7425fd14510b633faee1c2b95d5": {
      "model_module": "@jupyter-widgets/base",
      "model_module_version": "1.0.0",
      "model_name": "LayoutModel",
      "state": {
       "width": "130px"
      }
     },
     "0bf7439f8a5942989c8e3a0dd34e54ce": {
      "model_module": "@jupyter-widgets/controls",
      "model_module_version": "1.2.0",
      "model_name": "DescriptionStyleModel",
      "state": {
       "description_width": ""
      }
     },
     "0c8caa5fb0a8448faccc4b4c1801e373": {
      "model_module": "@jupyter-widgets/controls",
      "model_module_version": "1.2.0",
      "model_name": "HTMLModel",
      "state": {
       "layout": "IPY_MODEL_2409e582350b431f8ca3b709b4528f9d",
       "style": "IPY_MODEL_d4bd21a082e340e8a7f9fe48d7787245",
       "value": "<h3 class='text-center'><font color='red'>Logout</font> of <a stc='https://github.com/'>Github </a> &nbsp&nbsp<h3>"
      }
     },
     "0cc5c3cb0e6d4b1cafc4051caaaa8fe4": {
      "model_module": "@jupyter-widgets/controls",
      "model_module_version": "1.2.0",
      "model_name": "HTMLModel",
      "state": {
       "layout": "IPY_MODEL_fba43f2921894723b45443dde5a0c908",
       "style": "IPY_MODEL_572e0936e8254d40954efdb46f8ee2e4",
       "value": "<h3 style='padding:0;margin:0;'>&nbsp &nbsp &nbsp<a href='https://github.com/pupster90/repo_to_add.git'>repo_to_add</a></h3>"
      }
     },
     "0ce3c4c5cefb4147a4130968806b17b2": {
      "model_module": "@jupyter-widgets/base",
      "model_module_version": "1.0.0",
      "model_name": "LayoutModel",
      "state": {
       "align_items": "center"
      }
     },
     "0dc8b2f38ac8402294942ddd27ae316a": {
      "model_module": "@jupyter-widgets/base",
      "model_module_version": "1.0.0",
      "model_name": "LayoutModel",
      "state": {}
     },
     "0df3d805ea504c5caf0a3ea89c974dc1": {
      "model_module": "@jupyter-widgets/controls",
      "model_module_version": "1.2.0",
      "model_name": "ButtonStyleModel",
      "state": {}
     },
     "0e3a0f2050f549c580310610d2d141d9": {
      "model_module": "@jupyter-widgets/base",
      "model_module_version": "1.0.0",
      "model_name": "LayoutModel",
      "state": {}
     },
     "0f32a4ff64244b9aa137a36677dfe5bd": {
      "model_module": "@jupyter-widgets/controls",
      "model_module_version": "1.2.0",
      "model_name": "DescriptionStyleModel",
      "state": {
       "description_width": ""
      }
     },
     "0f3581e9002242308a73e5ac6bcf616c": {
      "model_module": "@jupyter-widgets/controls",
      "model_module_version": "1.2.0",
      "model_name": "DescriptionStyleModel",
      "state": {
       "description_width": ""
      }
     },
     "1049f5db02d040128029a0ceffc2f933": {
      "model_module": "@jupyter-widgets/controls",
      "model_module_version": "1.2.0",
      "model_name": "ButtonModel",
      "state": {
       "button_style": "primary",
       "description": "Download",
       "layout": "IPY_MODEL_18eced88ef5a416e8490757a733e2b91",
       "style": "IPY_MODEL_14548bba7b794169aad77092d1c7c707"
      }
     },
     "1084c973171b4ffd9902eaeaaf4b70bd": {
      "model_module": "@jupyter-widgets/base",
      "model_module_version": "1.0.0",
      "model_name": "LayoutModel",
      "state": {
       "width": "auto"
      }
     },
     "11b5bd7fd3fe47b0a362e3ae1c62b458": {
      "model_module": "@jupyter-widgets/controls",
      "model_module_version": "1.2.0",
      "model_name": "HTMLModel",
      "state": {
       "layout": "IPY_MODEL_f2bb137957c34dd9a66db7342792ecf6",
       "style": "IPY_MODEL_8190cf8ceb01413b9fbdd8231430b39a",
       "value": "<h3 style='padding:0;margin:0;'>&nbsp &nbsp &nbsp<a href='https://github.com/pupster90/My_First_Research_Paper.git'>My_First_Research_Paper</a></h3>"
      }
     },
     "14162cfeaa354a23985f3c1848632cda": {
      "model_module": "@jupyter-widgets/base",
      "model_module_version": "1.0.0",
      "model_name": "LayoutModel",
      "state": {
       "width": "auto"
      }
     },
     "142e80c73a5d48a1937bf50a4e0539a7": {
      "model_module": "@jupyter-widgets/controls",
      "model_module_version": "1.2.0",
      "model_name": "ButtonStyleModel",
      "state": {}
     },
     "1432ae4b2daf4aadbeb90a9aae49051f": {
      "model_module": "@jupyter-widgets/base",
      "model_module_version": "1.0.0",
      "model_name": "LayoutModel",
      "state": {
       "align_items": "center"
      }
     },
     "14548bba7b794169aad77092d1c7c707": {
      "model_module": "@jupyter-widgets/controls",
      "model_module_version": "1.2.0",
      "model_name": "ButtonStyleModel",
      "state": {}
     },
     "1490dde268a44bd8b0d4fa8a80ca8d3f": {
      "model_module": "@jupyter-widgets/base",
      "model_module_version": "1.0.0",
      "model_name": "LayoutModel",
      "state": {
       "width": "auto"
      }
     },
     "14d303c1a43549058a26e603be53225c": {
      "model_module": "@jupyter-widgets/controls",
      "model_module_version": "1.2.0",
      "model_name": "TextModel",
      "state": {
       "layout": "IPY_MODEL_291e8e1afdda4838af690a1a3a30c82d",
       "style": "IPY_MODEL_8935875adb714a4c84a6d520ab0f2119",
       "value": "cleaned up"
      }
     },
     "156c617bc9b44f179b6f904790a57d22": {
      "model_module": "@jupyter-widgets/controls",
      "model_module_version": "1.2.0",
      "model_name": "HBoxModel",
      "state": {
       "children": [
        "IPY_MODEL_3a121276e6fe417298bf8b85b3c36f2c",
        "IPY_MODEL_33e9f56e1bf242d5b164f0e566f2a7fc"
       ],
       "layout": "IPY_MODEL_36ed9bcac89c483290de7153282a5c2a"
      }
     },
     "15ce0cc02e7e4aa6a640041c123c6679": {
      "model_module": "@jupyter-widgets/base",
      "model_module_version": "1.0.0",
      "model_name": "LayoutModel",
      "state": {
       "width": "auto"
      }
     },
     "15ce15b046eb408cbcf3285cefb2e262": {
      "model_module": "@jupyter-widgets/base",
      "model_module_version": "1.0.0",
      "model_name": "LayoutModel",
      "state": {}
     },
     "17571ae416b14551ac78d5021c930fee": {
      "model_module": "@jupyter-widgets/base",
      "model_module_version": "1.0.0",
      "model_name": "LayoutModel",
      "state": {
       "width": "auto"
      }
     },
     "1790673bc5e64f80a731734ce3a5737f": {
      "model_module": "@jupyter-widgets/base",
      "model_module_version": "1.0.0",
      "model_name": "LayoutModel",
      "state": {
       "align_items": "center"
      }
     },
     "17b4140a0f3d4196873eff4487ee67e4": {
      "model_module": "@jupyter-widgets/controls",
      "model_module_version": "1.2.0",
      "model_name": "DescriptionStyleModel",
      "state": {
       "description_width": ""
      }
     },
     "18eced88ef5a416e8490757a733e2b91": {
      "model_module": "@jupyter-widgets/base",
      "model_module_version": "1.0.0",
      "model_name": "LayoutModel",
      "state": {
       "width": "auto"
      }
     },
     "1909002de29c4627919b208e1ccc639d": {
      "model_module": "@jupyter-widgets/controls",
      "model_module_version": "1.2.0",
      "model_name": "DescriptionStyleModel",
      "state": {
       "description_width": ""
      }
     },
     "19e58a73dbf0427cb73d9ad76312cbce": {
      "model_module": "@jupyter-widgets/base",
      "model_module_version": "1.0.0",
      "model_name": "LayoutModel",
      "state": {
       "width": "130px"
      }
     },
     "1a6e0d20e2e341daba6507026d24ed98": {
      "model_module": "@jupyter-widgets/base",
      "model_module_version": "1.0.0",
      "model_name": "LayoutModel",
      "state": {
       "align_items": "center"
      }
     },
     "1abccab882ae4b7cbef7556e458860b4": {
      "model_module": "@jupyter-widgets/controls",
      "model_module_version": "1.2.0",
      "model_name": "DescriptionStyleModel",
      "state": {
       "description_width": ""
      }
     },
     "1b5366be5939494789085b9dd74bed86": {
      "model_module": "@jupyter-widgets/base",
      "model_module_version": "1.0.0",
      "model_name": "LayoutModel",
      "state": {
       "align_items": "center"
      }
     },
     "1bdb03274685492c87d1217cb1e9b47a": {
      "model_module": "@jupyter-widgets/base",
      "model_module_version": "1.0.0",
      "model_name": "LayoutModel",
      "state": {}
     },
     "1cb0590bc3ba44bb9a106c75b5f20631": {
      "model_module": "@jupyter-widgets/base",
      "model_module_version": "1.0.0",
      "model_name": "LayoutModel",
      "state": {
       "width": "auto"
      }
     },
     "1ceeb95abd0e46c8ac625fe56ca24177": {
      "model_module": "@jupyter-widgets/base",
      "model_module_version": "1.0.0",
      "model_name": "LayoutModel",
      "state": {}
     },
     "1d3ed4ae0c6a47478e6b34146efb2f41": {
      "model_module": "@jupyter-widgets/controls",
      "model_module_version": "1.2.0",
      "model_name": "TextModel",
      "state": {
       "layout": "IPY_MODEL_5708926beab34e61a019716849491fa5",
       "style": "IPY_MODEL_3e8f977ed86d4d1791faf078baf6b920"
      }
     },
     "1d616fe11c18486a9cc428f17823e818": {
      "model_module": "@jupyter-widgets/controls",
      "model_module_version": "1.2.0",
      "model_name": "HTMLModel",
      "state": {
       "layout": "IPY_MODEL_2edc4d178b524043b3f0b45cbf919e45",
       "style": "IPY_MODEL_416bddc20e794938addcfd7fa4e39203",
       "value": "<h3 style='padding:0;margin:0;'>&nbsp &nbsp &nbsp<a href='https://github.com/pupster90/Ideker_Online.git'>Ideker_Online</a></h3>"
      }
     },
     "1d73fc64e57347caa4a74bf468645ce9": {
      "model_module": "@jupyter-widgets/controls",
      "model_module_version": "1.2.0",
      "model_name": "ButtonStyleModel",
      "state": {}
     },
     "1e36adb404ce41699f81e9f0139d24e3": {
      "model_module": "@jupyter-widgets/base",
      "model_module_version": "1.0.0",
      "model_name": "LayoutModel",
      "state": {
       "width": "130px"
      }
     },
     "1e77564ed344415a9b868897b50add86": {
      "model_module": "@jupyter-widgets/controls",
      "model_module_version": "1.2.0",
      "model_name": "ButtonModel",
      "state": {
       "button_style": "primary",
       "description": "Download",
       "layout": "IPY_MODEL_871572e113f24d97a5cc588830360794",
       "style": "IPY_MODEL_2c0ae191a15d49eda00ab2f9e174ef31"
      }
     },
     "1ec5f86d73db47f8967acbdd2931b0ec": {
      "model_module": "@jupyter-widgets/base",
      "model_module_version": "1.0.0",
      "model_name": "LayoutModel",
      "state": {
       "justify_content": "center",
       "padding": "20px 0 0 0"
      }
     },
     "1f063716c2214295bcfed55c97235279": {
      "model_module": "@jupyter-widgets/controls",
      "model_module_version": "1.2.0",
      "model_name": "ButtonStyleModel",
      "state": {}
     },
     "1fae0979f262420eaabf1a94e5d750ce": {
      "model_module": "@jupyter-widgets/base",
      "model_module_version": "1.0.0",
      "model_name": "LayoutModel",
      "state": {}
     },
     "1fb4368e068f4225960d7f0f9f312717": {
      "model_module": "@jupyter-widgets/base",
      "model_module_version": "1.0.0",
      "model_name": "LayoutModel",
      "state": {
       "align_items": "center"
      }
     },
     "1fc8146b64374801b875418eeb38ed8c": {
      "model_module": "@jupyter-widgets/base",
      "model_module_version": "1.0.0",
      "model_name": "LayoutModel",
      "state": {
       "width": "auto"
      }
     },
     "1fca05ae6c094d1489a2dd59cb4bca6d": {
      "model_module": "@jupyter-widgets/base",
      "model_module_version": "1.0.0",
      "model_name": "LayoutModel",
      "state": {
       "align_items": "center"
      }
     },
     "1fe3899f682b4be8ab35a2ea319ec177": {
      "model_module": "@jupyter-widgets/controls",
      "model_module_version": "1.2.0",
      "model_name": "LabelModel",
      "state": {
       "layout": "IPY_MODEL_62364e0ad56a4c3580b8876593dfd9db",
       "style": "IPY_MODEL_e8c89575542a4578ba0782caedad11b8",
       "value": "2 days ago"
      }
     },
     "205ed3d741634ac2b83bf3df0ea29c07": {
      "model_module": "@jupyter-widgets/base",
      "model_module_version": "1.0.0",
      "model_name": "LayoutModel",
      "state": {}
     },
     "20c28388aa9a4c00aa350b973e2691fd": {
      "model_module": "@jupyter-widgets/base",
      "model_module_version": "1.0.0",
      "model_name": "LayoutModel",
      "state": {}
     },
     "20f39cc85e5e4aaba26c2dc480ab7e0a": {
      "model_module": "@jupyter-widgets/controls",
      "model_module_version": "1.2.0",
      "model_name": "HBoxModel",
      "state": {
       "children": [
        "IPY_MODEL_315dc31cb3b348c29d83e14ad3d29b32",
        "IPY_MODEL_fbdf167191424fa0ba934f1c4eb34d79",
        "IPY_MODEL_81d58a3f23c94dd0b6343fc9684f12c1",
        "IPY_MODEL_5db93f9e3c2a4f12b7f5e1e8e377c6c1"
       ],
       "layout": "IPY_MODEL_e1923c50012e4a89bea3856ea204091b"
      }
     },
     "214c3e8d910e4fef829a3940f3db15d5": {
      "model_module": "@jupyter-widgets/controls",
      "model_module_version": "1.2.0",
      "model_name": "HTMLModel",
      "state": {
       "layout": "IPY_MODEL_c9a404da740e443d918bf7d0e7210b6e",
       "style": "IPY_MODEL_de5f594fcae94b59a1a56f4ecfda594b",
       "value": "<h3 style='padding:0;margin:0;'>&nbsp &nbsp &nbsp<a href='https://github.com/pupster90/Cytoscape.git'>Cytoscape</a></h3>"
      }
     },
     "21ad320c29a24f33b3cdfd39104cf622": {
      "model_module": "@jupyter-widgets/controls",
      "model_module_version": "1.2.0",
      "model_name": "HBoxModel",
      "state": {
       "children": [
        "IPY_MODEL_ca1243bdd79c4fbbaff15ab681176e8a",
        "IPY_MODEL_e435d08d330a490aae3fea839665422a"
       ],
       "layout": "IPY_MODEL_434b44bf87564111a78e96d1841f84ef"
      }
     },
     "226b8e31dad74dad8b8793a6c9134b6d": {
      "model_module": "@jupyter-widgets/base",
      "model_module_version": "1.0.0",
      "model_name": "LayoutModel",
      "state": {}
     },
     "22aabd6a8db84a119140844c70444b9d": {
      "model_module": "@jupyter-widgets/controls",
      "model_module_version": "1.2.0",
      "model_name": "DescriptionStyleModel",
      "state": {
       "description_width": ""
      }
     },
     "23d66a5d65a449499e2dc0bf893835bb": {
      "model_module": "@jupyter-widgets/base",
      "model_module_version": "1.0.0",
      "model_name": "LayoutModel",
      "state": {
       "width": "130px"
      }
     },
     "23db2a3bc3484809abc59dd4e310ec98": {
      "model_module": "@jupyter-widgets/base",
      "model_module_version": "1.0.0",
      "model_name": "LayoutModel",
      "state": {}
     },
     "2409e582350b431f8ca3b709b4528f9d": {
      "model_module": "@jupyter-widgets/base",
      "model_module_version": "1.0.0",
      "model_name": "LayoutModel",
      "state": {}
     },
     "2486270524714d57a890278c4aa58ec6": {
      "model_module": "@jupyter-widgets/controls",
      "model_module_version": "1.2.0",
      "model_name": "DescriptionStyleModel",
      "state": {
       "description_width": ""
      }
     },
     "24d4f6e68651442e9c1febabb19b4cbd": {
      "model_module": "@jupyter-widgets/controls",
      "model_module_version": "1.2.0",
      "model_name": "ButtonStyleModel",
      "state": {}
     },
     "24f00bd6b8e14d5db3ef84147723f102": {
      "model_module": "@jupyter-widgets/controls",
      "model_module_version": "1.2.0",
      "model_name": "DescriptionStyleModel",
      "state": {
       "description_width": ""
      }
     },
     "256123b6ca514b65ad6b3caac9927811": {
      "model_module": "@jupyter-widgets/controls",
      "model_module_version": "1.2.0",
      "model_name": "ButtonStyleModel",
      "state": {}
     },
     "25715c9fa2c245f5998dda8e5987d9fd": {
      "model_module": "@jupyter-widgets/controls",
      "model_module_version": "1.2.0",
      "model_name": "DescriptionStyleModel",
      "state": {
       "description_width": ""
      }
     },
     "25d3e493a17a4031adaaf80c5bf0ce9e": {
      "model_module": "@jupyter-widgets/base",
      "model_module_version": "1.0.0",
      "model_name": "LayoutModel",
      "state": {
       "width": "auto"
      }
     },
     "25d87fc048e540b6a537ad9a13635439": {
      "model_module": "@jupyter-widgets/controls",
      "model_module_version": "1.2.0",
      "model_name": "ButtonModel",
      "state": {
       "button_style": "primary",
       "description": " Refresh",
       "icon": "refresh",
       "layout": "IPY_MODEL_ef323d60d3744c44b55b91db8e490b25",
       "style": "IPY_MODEL_56d08a5dfc7f4e40b4e04b573edacc4f"
      }
     },
     "26481c544f1a470e952d5a7a52803455": {
      "model_module": "@jupyter-widgets/controls",
      "model_module_version": "1.2.0",
      "model_name": "ButtonModel",
      "state": {
       "button_style": "primary",
       "description": "Download",
       "layout": "IPY_MODEL_6f010ffa19fb4514b6808bdf7cfa0ab7",
       "style": "IPY_MODEL_595639d1584f41409f981959902f1789"
      }
     },
     "27207de9dc134242be0ff2eaff9ad18a": {
      "model_module": "@jupyter-widgets/base",
      "model_module_version": "1.0.0",
      "model_name": "LayoutModel",
      "state": {}
     },
     "2789d2fceb3b4197b7d3c263ba9bcb1c": {
      "model_module": "@jupyter-widgets/base",
      "model_module_version": "1.0.0",
      "model_name": "LayoutModel",
      "state": {
       "width": "auto"
      }
     },
     "279c2ac3b41f425792adbdc79cc01613": {
      "model_module": "@jupyter-widgets/controls",
      "model_module_version": "1.2.0",
      "model_name": "DescriptionStyleModel",
      "state": {
       "description_width": ""
      }
     },
     "27a42257166341b995bbac30018fdd50": {
      "model_module": "@jupyter-widgets/base",
      "model_module_version": "1.0.0",
      "model_name": "LayoutModel",
      "state": {
       "align_items": "center"
      }
     },
     "27a7500a29e545c29422a747aee24c3d": {
      "model_module": "@jupyter-widgets/base",
      "model_module_version": "1.0.0",
      "model_name": "LayoutModel",
      "state": {
       "align_items": "center"
      }
     },
     "2897a044d45b47218092b86d6f81b4a3": {
      "model_module": "@jupyter-widgets/controls",
      "model_module_version": "1.2.0",
      "model_name": "DescriptionStyleModel",
      "state": {
       "description_width": ""
      }
     },
     "28d5ef5478a2474e89012c2b79a9dc00": {
      "model_module": "@jupyter-widgets/controls",
      "model_module_version": "1.2.0",
      "model_name": "ButtonModel",
      "state": {
       "button_style": "primary",
       "description": "Download",
       "layout": "IPY_MODEL_2789d2fceb3b4197b7d3c263ba9bcb1c",
       "style": "IPY_MODEL_a7f900b748af4f91b5fe1c0c18e4aa3c"
      }
     },
     "291e8e1afdda4838af690a1a3a30c82d": {
      "model_module": "@jupyter-widgets/base",
      "model_module_version": "1.0.0",
      "model_name": "LayoutModel",
      "state": {}
     },
     "291f214f0e644865b4f8ca66dd8fb83a": {
      "model_module": "@jupyter-widgets/controls",
      "model_module_version": "1.2.0",
      "model_name": "TextModel",
      "state": {
       "layout": "IPY_MODEL_8edd15c9063c4f8a92dbc6f0b2b36b97",
       "style": "IPY_MODEL_7795ddd98f6943deacfb19ec62490bd8",
       "value": "cleaned up"
      }
     },
     "2992d2f3a08e4eb1b419d092425aecbf": {
      "model_module": "@jupyter-widgets/controls",
      "model_module_version": "1.2.0",
      "model_name": "DescriptionStyleModel",
      "state": {
       "description_width": ""
      }
     },
     "29b241c52d944a38961a06c498c927eb": {
      "model_module": "@jupyter-widgets/controls",
      "model_module_version": "1.2.0",
      "model_name": "HTMLModel",
      "state": {
       "layout": "IPY_MODEL_02143fed73934f9bababab4ace1a259d",
       "style": "IPY_MODEL_17b4140a0f3d4196873eff4487ee67e4",
       "value": "<font color='orange'> &nbsp Stars: 0</font>"
      }
     },
     "29ced4df0b2e4f90aa738f62a9553556": {
      "model_module": "@jupyter-widgets/base",
      "model_module_version": "1.0.0",
      "model_name": "LayoutModel",
      "state": {
       "align_items": "center"
      }
     },
     "2a08848efe744fe298208db82f52e442": {
      "model_module": "@jupyter-widgets/base",
      "model_module_version": "1.0.0",
      "model_name": "LayoutModel",
      "state": {}
     },
     "2a79a6c91ac34f35adca8d8db51e81e8": {
      "model_module": "@jupyter-widgets/controls",
      "model_module_version": "1.2.0",
      "model_name": "DescriptionStyleModel",
      "state": {
       "description_width": ""
      }
     },
     "2c0ae191a15d49eda00ab2f9e174ef31": {
      "model_module": "@jupyter-widgets/controls",
      "model_module_version": "1.2.0",
      "model_name": "ButtonStyleModel",
      "state": {}
     },
     "2c1d7c25f6ed4af8a4f9bf436958b765": {
      "model_module": "@jupyter-widgets/controls",
      "model_module_version": "1.2.0",
      "model_name": "DescriptionStyleModel",
      "state": {
       "description_width": ""
      }
     },
     "2c5269f9685347cf9932a51f7fce9fba": {
      "model_module": "@jupyter-widgets/controls",
      "model_module_version": "1.2.0",
      "model_name": "ButtonModel",
      "state": {
       "button_style": "info",
       "description": "Download",
       "layout": "IPY_MODEL_972f8d97348849379f0c93577ed4d5b2",
       "style": "IPY_MODEL_6aef0ad23f93440eaab08c3eb3f3622e"
      }
     },
     "2d2b6b9874254e3f87b2f8a0e6d2e4c0": {
      "model_module": "@jupyter-widgets/controls",
      "model_module_version": "1.2.0",
      "model_name": "TextModel",
      "state": {
       "layout": "IPY_MODEL_23db2a3bc3484809abc59dd4e310ec98",
       "style": "IPY_MODEL_9229ca36cc2c4d0a972117fe9360a5e5"
      }
     },
     "2d4b8bf5edb746659e042aad353e9cab": {
      "model_module": "@jupyter-widgets/controls",
      "model_module_version": "1.2.0",
      "model_name": "DescriptionStyleModel",
      "state": {
       "description_width": ""
      }
     },
     "2d7e8c81e0d4428d8479b1166e4a0279": {
      "model_module": "@jupyter-widgets/base",
      "model_module_version": "1.0.0",
      "model_name": "LayoutModel",
      "state": {
       "align_items": "center"
      }
     },
     "2da1402242d141c48bff12883459b965": {
      "model_module": "@jupyter-widgets/controls",
      "model_module_version": "1.2.0",
      "model_name": "DescriptionStyleModel",
      "state": {
       "description_width": ""
      }
     },
     "2e9b8181e7a44de4844c15baab3c9151": {
      "model_module": "@jupyter-widgets/controls",
      "model_module_version": "1.2.0",
      "model_name": "DescriptionStyleModel",
      "state": {
       "description_width": ""
      }
     },
     "2edc4d178b524043b3f0b45cbf919e45": {
      "model_module": "@jupyter-widgets/base",
      "model_module_version": "1.0.0",
      "model_name": "LayoutModel",
      "state": {}
     },
     "2ee7ba7cbaee4f7f995490a4a59a55f6": {
      "model_module": "@jupyter-widgets/controls",
      "model_module_version": "1.2.0",
      "model_name": "ButtonModel",
      "state": {
       "button_style": "success",
       "description": "Publish",
       "layout": "IPY_MODEL_4afe8d674b9e46d6a3e87938145c5dfa",
       "style": "IPY_MODEL_fee7a77193f643b2a8d062e23dd18693"
      }
     },
     "2f9d401698a144f2be6bc2fce3dd4fcf": {
      "model_module": "@jupyter-widgets/controls",
      "model_module_version": "1.2.0",
      "model_name": "TextModel",
      "state": {
       "layout": "IPY_MODEL_a3b6abbb755342d38862e7d9144ec972",
       "style": "IPY_MODEL_5011b2d4a09e4e2cbef0009ea395fd10"
      }
     },
     "305fafd3de394dec8da75298a5c5db3a": {
      "model_module": "@jupyter-widgets/controls",
      "model_module_version": "1.2.0",
      "model_name": "HBoxModel",
      "state": {
       "children": [
        "IPY_MODEL_3aafe91143a74861895acdffeb36e902",
        "IPY_MODEL_e0e1098b654a41d082d7e7b7d68c924f"
       ],
       "layout": "IPY_MODEL_07879e77e4cc4405b6ba17a37643dc94"
      }
     },
     "307a45e8586b4fe0a974ece376b9ce35": {
      "model_module": "@jupyter-widgets/controls",
      "model_module_version": "1.2.0",
      "model_name": "ButtonModel",
      "state": {
       "button_style": "info",
       "description": "Download",
       "layout": "IPY_MODEL_8c12e8ea7bc54828b2ca711f9b5a55b4",
       "style": "IPY_MODEL_50f4e1decd0543c089fffcc174e7cced"
      }
     },
     "30c15b4c814a44e0bbdc8d0efc1591f6": {
      "model_module": "@jupyter-widgets/controls",
      "model_module_version": "1.2.0",
      "model_name": "HTMLModel",
      "state": {
       "layout": "IPY_MODEL_cd25e9c8e53a430f832ec382330dca91",
       "style": "IPY_MODEL_e451131b9c094d85acc1317b6c225168",
       "value": "<h3 style='padding:0;margin:0;'>&nbsp &nbsp &nbsp<a href='https://github.com/pupster90/indra.git'>indra</a></h3>"
      }
     },
     "30febb5521a542b794bf6473f12cddf7": {
      "model_module": "@jupyter-widgets/base",
      "model_module_version": "1.0.0",
      "model_name": "LayoutModel",
      "state": {}
     },
     "315dc31cb3b348c29d83e14ad3d29b32": {
      "model_module": "@jupyter-widgets/controls",
      "model_module_version": "1.2.0",
      "model_name": "ButtonModel",
      "state": {
       "button_style": "success",
       "description": "Publish",
       "layout": "IPY_MODEL_973a0875ffdf41f483cf93f3b9cec6be",
       "style": "IPY_MODEL_dec49c0e99824b28b82c578b57e44a79"
      }
     },
     "33150d8899de4a96be477159b627fd8f": {
      "model_module": "@jupyter-widgets/base",
      "model_module_version": "1.0.0",
      "model_name": "LayoutModel",
      "state": {}
     },
     "3326555a127d4491a81d023f92406e81": {
      "model_module": "@jupyter-widgets/controls",
      "model_module_version": "1.2.0",
      "model_name": "HTMLModel",
      "state": {
       "layout": "IPY_MODEL_3abe742548494e75a24e0357a8c5c9a1",
       "style": "IPY_MODEL_eb963048ad7c4c76a08691d62109297d",
       "value": "<font color='green'> &nbsp Downloads: 0</font>"
      }
     },
     "33e9f56e1bf242d5b164f0e566f2a7fc": {
      "model_module": "@jupyter-widgets/controls",
      "model_module_version": "1.2.0",
      "model_name": "HTMLModel",
      "state": {
       "layout": "IPY_MODEL_06f61c12b706463a9242970e14607f79",
       "style": "IPY_MODEL_5a608e34b6394419b3428188ff89c4c7",
       "value": "<h3 style='padding:0;margin:0;'>&nbsp &nbsp &nbsp<a href='https://github.com/pupster90/notebook.git'>notebook</a></h3>"
      }
     },
     "341c976bc6694dc18ca825a92691174e": {
      "model_module": "@jupyter-widgets/base",
      "model_module_version": "1.0.0",
      "model_name": "LayoutModel",
      "state": {
       "width": "auto"
      }
     },
     "342181f8640847a6ae4d4d7419d54304": {
      "model_module": "@jupyter-widgets/controls",
      "model_module_version": "1.2.0",
      "model_name": "DescriptionStyleModel",
      "state": {
       "description_width": ""
      }
     },
     "34611c612c3644f590de72969d80eeaa": {
      "model_module": "@jupyter-widgets/controls",
      "model_module_version": "1.2.0",
      "model_name": "ButtonModel",
      "state": {
       "button_style": "info",
       "description": "Download",
       "layout": "IPY_MODEL_e217593730404ebcb8b3043b5b45df39",
       "style": "IPY_MODEL_bcdb0b315ede4d3ebacdcc38fce42aab"
      }
     },
     "3577473f1d3b45c9b0330d6a6c80b397": {
      "model_module": "@jupyter-widgets/base",
      "model_module_version": "1.0.0",
      "model_name": "LayoutModel",
      "state": {}
     },
     "3594f443fc9643648063ebd1bfd825eb": {
      "model_module": "@jupyter-widgets/base",
      "model_module_version": "1.0.0",
      "model_name": "LayoutModel",
      "state": {}
     },
     "364956cb55314f5880359bd6eb83b743": {
      "model_module": "@jupyter-widgets/base",
      "model_module_version": "1.0.0",
      "model_name": "LayoutModel",
      "state": {
       "width": "100px"
      }
     },
     "36ed9bcac89c483290de7153282a5c2a": {
      "model_module": "@jupyter-widgets/base",
      "model_module_version": "1.0.0",
      "model_name": "LayoutModel",
      "state": {
       "align_items": "center"
      }
     },
     "373b20930faa4942b17b4426bdbbd0db": {
      "model_module": "@jupyter-widgets/base",
      "model_module_version": "1.0.0",
      "model_name": "LayoutModel",
      "state": {}
     },
     "385780e81b564d3dbb02b632f2f0dfcb": {
      "model_module": "@jupyter-widgets/controls",
      "model_module_version": "1.2.0",
      "model_name": "DescriptionStyleModel",
      "state": {
       "description_width": ""
      }
     },
     "389aa5d7e7874b5792c42fe961e9d4f3": {
      "model_module": "@jupyter-widgets/base",
      "model_module_version": "1.0.0",
      "model_name": "LayoutModel",
      "state": {
       "width": "auto"
      }
     },
     "38ba7dfa43314359bde7324edcb48932": {
      "model_module": "@jupyter-widgets/controls",
      "model_module_version": "1.2.0",
      "model_name": "LabelModel",
      "state": {
       "layout": "IPY_MODEL_60a541b52232480abc6f6e3f7a3a9ef5",
       "style": "IPY_MODEL_3a29f65fc3e04f1e94764dee7d2a5a97",
       "value": "Saved 22 hours ago"
      }
     },
     "38ff606c0f7146e1b744fdd79afa7897": {
      "model_module": "@jupyter-widgets/controls",
      "model_module_version": "1.2.0",
      "model_name": "HBoxModel",
      "state": {
       "children": [
        "IPY_MODEL_be9c0509ce7e48a586230794416d78f7",
        "IPY_MODEL_1d3ed4ae0c6a47478e6b34146efb2f41",
        "IPY_MODEL_8d0c245ab39d4d5e934228475c24f432",
        "IPY_MODEL_e25617dc06c541d9a804681019268eb6"
       ],
       "layout": "IPY_MODEL_898a119fa20b43a2a932bd404cc8437e"
      }
     },
     "393acbabae794181a2813f8373eacfcf": {
      "model_module": "@jupyter-widgets/base",
      "model_module_version": "1.0.0",
      "model_name": "LayoutModel",
      "state": {
       "align_items": "center"
      }
     },
     "399b01f8354e46c188beea1da02abaac": {
      "model_module": "@jupyter-widgets/controls",
      "model_module_version": "1.2.0",
      "model_name": "HTMLModel",
      "state": {
       "layout": "IPY_MODEL_a9256ef7843f4979922f23a1ce4ecef9",
       "style": "IPY_MODEL_78ecf9a7aa3044b18229a678f5af9d26",
       "value": "<h3 style='padding:0;margin:0;'>&nbsp &nbsp &nbsp<a href='https://github.com/pupster90/My_First_Research_Paper.git'>My_First_Research_Paper</a></h3>"
      }
     },
     "3a121276e6fe417298bf8b85b3c36f2c": {
      "model_module": "@jupyter-widgets/controls",
      "model_module_version": "1.2.0",
      "model_name": "ButtonModel",
      "state": {
       "button_style": "primary",
       "description": "Download",
       "layout": "IPY_MODEL_0969d5e9debe4b8a8507c1880d29d2d4",
       "style": "IPY_MODEL_04500a8ddebe47d5a156411e6314cf81"
      }
     },
     "3a29f65fc3e04f1e94764dee7d2a5a97": {
      "model_module": "@jupyter-widgets/controls",
      "model_module_version": "1.2.0",
      "model_name": "DescriptionStyleModel",
      "state": {
       "description_width": ""
      }
     },
     "3a50f7b6767a455c88ed3a27e301d9df": {
      "model_module": "@jupyter-widgets/controls",
      "model_module_version": "1.2.0",
      "model_name": "TextModel",
      "state": {
       "layout": "IPY_MODEL_226b8e31dad74dad8b8793a6c9134b6d",
       "style": "IPY_MODEL_e69110295f38464eae93b7e696328352"
      }
     },
     "3a962d963c894d2c94b390f5554a3af9": {
      "model_module": "@jupyter-widgets/base",
      "model_module_version": "1.0.0",
      "model_name": "LayoutModel",
      "state": {
       "align_items": "center"
      }
     },
     "3aafe91143a74861895acdffeb36e902": {
      "model_module": "@jupyter-widgets/controls",
      "model_module_version": "1.2.0",
      "model_name": "ButtonModel",
      "state": {
       "button_style": "primary",
       "description": "Download",
       "layout": "IPY_MODEL_d4d93b880aa4466ea081ef2b51f9557a",
       "style": "IPY_MODEL_fd3f54db318c402fa849a2b7c86e6908"
      }
     },
     "3abe742548494e75a24e0357a8c5c9a1": {
      "model_module": "@jupyter-widgets/base",
      "model_module_version": "1.0.0",
      "model_name": "LayoutModel",
      "state": {}
     },
     "3b400431ff6546f99fc982e2856637e7": {
      "model_module": "@jupyter-widgets/base",
      "model_module_version": "1.0.0",
      "model_name": "LayoutModel",
      "state": {}
     },
     "3bd5708f5a7c4c44b69dc72b80c4a4b3": {
      "model_module": "@jupyter-widgets/controls",
      "model_module_version": "1.2.0",
      "model_name": "ButtonStyleModel",
      "state": {}
     },
     "3c1ed91ef5a94bd5831f15926e2df316": {
      "model_module": "@jupyter-widgets/controls",
      "model_module_version": "1.2.0",
      "model_name": "DescriptionStyleModel",
      "state": {
       "description_width": ""
      }
     },
     "3c25165ce5ad431d963e6ed2fa120096": {
      "model_module": "@jupyter-widgets/base",
      "model_module_version": "1.0.0",
      "model_name": "LayoutModel",
      "state": {
       "width": "auto"
      }
     },
     "3db2c46c8b384ad0ac5eeeaebd7779d0": {
      "model_module": "@jupyter-widgets/controls",
      "model_module_version": "1.2.0",
      "model_name": "LabelModel",
      "state": {
       "layout": "IPY_MODEL_d2720757d6634e93be05c258a63bb55a",
       "style": "IPY_MODEL_b3bc7a80dd3c412e85f1f6f68fb14d34",
       "value": "22 hours ago"
      }
     },
     "3e8f977ed86d4d1791faf078baf6b920": {
      "model_module": "@jupyter-widgets/controls",
      "model_module_version": "1.2.0",
      "model_name": "DescriptionStyleModel",
      "state": {
       "description_width": ""
      }
     },
     "3ed910908d4349ceb3b913dfd8648c38": {
      "model_module": "@jupyter-widgets/controls",
      "model_module_version": "1.2.0",
      "model_name": "DescriptionStyleModel",
      "state": {
       "description_width": ""
      }
     },
     "3f006c6b8c5e4cda90a7adb03c55d09a": {
      "model_module": "@jupyter-widgets/base",
      "model_module_version": "1.0.0",
      "model_name": "LayoutModel",
      "state": {}
     },
     "40caad58d5414c4c96c07891e04f9e8b": {
      "model_module": "@jupyter-widgets/controls",
      "model_module_version": "1.2.0",
      "model_name": "ButtonModel",
      "state": {
       "button_style": "info",
       "description": "Download",
       "layout": "IPY_MODEL_565c0b3cf9e14121839df042e9af922b",
       "style": "IPY_MODEL_73e8e9b6f85b4df3b2df50275e426046"
      }
     },
     "40d7e3385c2342ee8184c10e73c74f59": {
      "model_module": "@jupyter-widgets/controls",
      "model_module_version": "1.2.0",
      "model_name": "HBoxModel",
      "state": {
       "children": [
        "IPY_MODEL_8138fcd3e666433d8666e4ee22c527b1",
        "IPY_MODEL_ed931835427e47e4b85e719e5bb6281c"
       ],
       "layout": "IPY_MODEL_1fca05ae6c094d1489a2dd59cb4bca6d"
      }
     },
     "4158c032ce6c4dd7877ea45944a3f65b": {
      "model_module": "@jupyter-widgets/base",
      "model_module_version": "1.0.0",
      "model_name": "LayoutModel",
      "state": {
       "justify_content": "center",
       "padding": "15px 0 0 0"
      }
     },
     "416bddc20e794938addcfd7fa4e39203": {
      "model_module": "@jupyter-widgets/controls",
      "model_module_version": "1.2.0",
      "model_name": "DescriptionStyleModel",
      "state": {
       "description_width": ""
      }
     },
     "41cdb103e9e34877bdc9762f27f4ba15": {
      "model_module": "@jupyter-widgets/base",
      "model_module_version": "1.0.0",
      "model_name": "LayoutModel",
      "state": {}
     },
     "4225af97c0c949219927335181cd0bb7": {
      "model_module": "@jupyter-widgets/base",
      "model_module_version": "1.0.0",
      "model_name": "LayoutModel",
      "state": {
       "width": "auto"
      }
     },
     "425b265eb32f4496ae2bc782c41c97b3": {
      "model_module": "@jupyter-widgets/controls",
      "model_module_version": "1.2.0",
      "model_name": "DescriptionStyleModel",
      "state": {
       "description_width": ""
      }
     },
     "428287297b0d4ff981e945bd274147e7": {
      "model_module": "@jupyter-widgets/controls",
      "model_module_version": "1.2.0",
      "model_name": "TextModel",
      "state": {
       "layout": "IPY_MODEL_cc4ff00f108f43f29cf7f3e481ab60a2",
       "style": "IPY_MODEL_b8fa66d77d424a2e9976e0379c9c328c"
      }
     },
     "4284515ff0ef4f5eaef87aa5137883dc": {
      "model_module": "@jupyter-widgets/controls",
      "model_module_version": "1.2.0",
      "model_name": "DescriptionStyleModel",
      "state": {
       "description_width": ""
      }
     },
     "428a7da6a22c4f509abb5d4576605a59": {
      "model_module": "@jupyter-widgets/controls",
      "model_module_version": "1.2.0",
      "model_name": "ButtonModel",
      "state": {
       "button_style": "success",
       "description": "Publish",
       "layout": "IPY_MODEL_6b60d1f62893423f8ae2f15f8eabc132",
       "style": "IPY_MODEL_0df3d805ea504c5caf0a3ea89c974dc1"
      }
     },
     "431aff3ab2cd4da3bbb346403340bcf3": {
      "model_module": "@jupyter-widgets/base",
      "model_module_version": "1.0.0",
      "model_name": "LayoutModel",
      "state": {}
     },
     "434b44bf87564111a78e96d1841f84ef": {
      "model_module": "@jupyter-widgets/base",
      "model_module_version": "1.0.0",
      "model_name": "LayoutModel",
      "state": {
       "align_items": "center"
      }
     },
     "4373c50fea7847f5a85da14568805c20": {
      "model_module": "@jupyter-widgets/base",
      "model_module_version": "1.0.0",
      "model_name": "LayoutModel",
      "state": {}
     },
     "437b1173551f45b192658aab899fa379": {
      "model_module": "@jupyter-widgets/controls",
      "model_module_version": "1.2.0",
      "model_name": "HTMLModel",
      "state": {
       "layout": "IPY_MODEL_373b20930faa4942b17b4426bdbbd0db",
       "style": "IPY_MODEL_d51f38fc8b044a91b4bdbbf3b4078fb9",
       "value": "<h3 style='padding:0;margin:0;'>&nbsp &nbsp &nbsp<a href='https://github.com/pupster90/prosettapal.git'>prosettapal</a></h3>"
      }
     },
     "438ea0013dd545d1a9d4e26a5a28f25d": {
      "model_module": "@jupyter-widgets/controls",
      "model_module_version": "1.2.0",
      "model_name": "HTMLModel",
      "state": {
       "layout": "IPY_MODEL_c8b8fed60b8a41888c11c72cc7adddd2",
       "style": "IPY_MODEL_8914d66d045f4600a70ab11380dfe67d",
       "value": "<h3 style='padding:0;margin:0;'>&nbsp &nbsp &nbsp<a href='https://github.com/pupster90/Ideker_Online.git'>Ideker_Online</a></h3>"
      }
     },
     "443a780c43bd435cadaadaafd96f8f11": {
      "model_module": "@jupyter-widgets/controls",
      "model_module_version": "1.2.0",
      "model_name": "ButtonStyleModel",
      "state": {}
     },
     "444f7eb302154aa3b689a634821e3d9c": {
      "model_module": "@jupyter-widgets/controls",
      "model_module_version": "1.2.0",
      "model_name": "ButtonStyleModel",
      "state": {}
     },
     "4497caae6aac4bf694473cd55ed92485": {
      "model_module": "@jupyter-widgets/controls",
      "model_module_version": "1.2.0",
      "model_name": "ButtonStyleModel",
      "state": {}
     },
     "4617f303d0c148418d2b48d9000f5091": {
      "model_module": "@jupyter-widgets/controls",
      "model_module_version": "1.2.0",
      "model_name": "ButtonModel",
      "state": {
       "button_style": "success",
       "description": "Publish",
       "layout": "IPY_MODEL_1490dde268a44bd8b0d4fa8a80ca8d3f",
       "style": "IPY_MODEL_58968686fba04e8db08f0c7569681a3e"
      }
     },
     "47feba615782476a8cc694fdca4358fc": {
      "model_module": "@jupyter-widgets/base",
      "model_module_version": "1.0.0",
      "model_name": "LayoutModel",
      "state": {
       "align_items": "center"
      }
     },
     "488b7927dd4948df8f8eaf8435a0f44e": {
      "model_module": "@jupyter-widgets/base",
      "model_module_version": "1.0.0",
      "model_name": "LayoutModel",
      "state": {
       "justify_content": "center",
       "padding": "20px 0 0 0"
      }
     },
     "48ca6632cac44b17b8ac2e648a54ed48": {
      "model_module": "@jupyter-widgets/controls",
      "model_module_version": "1.2.0",
      "model_name": "HBoxModel",
      "state": {
       "children": [
        "IPY_MODEL_906b186399514fdebfb3d4d4dc1ed206",
        "IPY_MODEL_c8d424e35b7940ac89c43202564fa36a"
       ],
       "layout": "IPY_MODEL_27a7500a29e545c29422a747aee24c3d"
      }
     },
     "48ef7e2fb1654a1b835523e0eb8d7803": {
      "model_module": "@jupyter-widgets/base",
      "model_module_version": "1.0.0",
      "model_name": "LayoutModel",
      "state": {}
     },
     "48fee1f1883b404dbb08297dd143fcad": {
      "model_module": "@jupyter-widgets/controls",
      "model_module_version": "1.2.0",
      "model_name": "HBoxModel",
      "state": {
       "children": [
        "IPY_MODEL_d1895668026c4192a2178c1cad614a3e",
        "IPY_MODEL_c460779b51f7424383dd3645f15265f9"
       ],
       "layout": "IPY_MODEL_c33d1fe668714d12b6586feab3c280bc"
      }
     },
     "4a4f57199b2048238db38e493bbb1f66": {
      "model_module": "@jupyter-widgets/base",
      "model_module_version": "1.0.0",
      "model_name": "LayoutModel",
      "state": {}
     },
     "4a5eb6cfb0534078acb1d538661a9fa9": {
      "model_module": "@jupyter-widgets/controls",
      "model_module_version": "1.2.0",
      "model_name": "HTMLModel",
      "state": {
       "layout": "IPY_MODEL_589fecc9e29e471dbfdfc3c43f575e5e",
       "style": "IPY_MODEL_a5b7baaa752b4ffea555269d33501be5",
       "value": "<h3 style='padding:0;margin:0;'>&nbsp &nbsp &nbsp<a href='https://github.com/pupster90/Cytoscape.git'>Cytoscape</a></h3>"
      }
     },
     "4aaa56b7642947b08f4ca459d42fb59b": {
      "model_module": "@jupyter-widgets/controls",
      "model_module_version": "1.2.0",
      "model_name": "DescriptionStyleModel",
      "state": {
       "description_width": ""
      }
     },
     "4afe8d674b9e46d6a3e87938145c5dfa": {
      "model_module": "@jupyter-widgets/base",
      "model_module_version": "1.0.0",
      "model_name": "LayoutModel",
      "state": {
       "width": "auto"
      }
     },
     "4c00f55ba73147aba6f1acefa47a4d5e": {
      "model_module": "@jupyter-widgets/base",
      "model_module_version": "1.0.0",
      "model_name": "LayoutModel",
      "state": {
       "align_items": "center"
      }
     },
     "4c4981d3892b4492b7ddb6ec03e7c8c5": {
      "model_module": "@jupyter-widgets/controls",
      "model_module_version": "1.2.0",
      "model_name": "DescriptionStyleModel",
      "state": {
       "description_width": ""
      }
     },
     "4d454fc0621c469b89ce374b48215490": {
      "model_module": "@jupyter-widgets/controls",
      "model_module_version": "1.2.0",
      "model_name": "ButtonModel",
      "state": {
       "button_style": "primary",
       "description": "Download",
       "layout": "IPY_MODEL_7c7415707edc438698916d4c441abbc3",
       "style": "IPY_MODEL_b7f1cf50facb49f7bd8f226387d799e0"
      }
     },
     "4e021c96af744fe5b64ed1d49c9609f2": {
      "model_module": "@jupyter-widgets/base",
      "model_module_version": "1.0.0",
      "model_name": "LayoutModel",
      "state": {}
     },
     "4e27316443364e74a26e36777da76c7a": {
      "model_module": "@jupyter-widgets/base",
      "model_module_version": "1.0.0",
      "model_name": "LayoutModel",
      "state": {
       "width": "auto"
      }
     },
     "4ed6b36d755d49a89c92d618ea1ceb59": {
      "model_module": "@jupyter-widgets/base",
      "model_module_version": "1.0.0",
      "model_name": "LayoutModel",
      "state": {}
     },
     "4f1f3875e5614bfcb6a5d76a480f0a55": {
      "model_module": "@jupyter-widgets/base",
      "model_module_version": "1.0.0",
      "model_name": "LayoutModel",
      "state": {
       "align_items": "center"
      }
     },
     "5011b2d4a09e4e2cbef0009ea395fd10": {
      "model_module": "@jupyter-widgets/controls",
      "model_module_version": "1.2.0",
      "model_name": "DescriptionStyleModel",
      "state": {
       "description_width": ""
      }
     },
     "5025a0b2e73c4c348e13e10ef9dd009d": {
      "model_module": "@jupyter-widgets/base",
      "model_module_version": "1.0.0",
      "model_name": "LayoutModel",
      "state": {}
     },
     "50f4e1decd0543c089fffcc174e7cced": {
      "model_module": "@jupyter-widgets/controls",
      "model_module_version": "1.2.0",
      "model_name": "ButtonStyleModel",
      "state": {}
     },
     "510781d60a234a1ca13448abf20201bb": {
      "model_module": "@jupyter-widgets/controls",
      "model_module_version": "1.2.0",
      "model_name": "DescriptionStyleModel",
      "state": {
       "description_width": ""
      }
     },
     "515057886c5d402e8cce249d861655a4": {
      "model_module": "@jupyter-widgets/controls",
      "model_module_version": "1.2.0",
      "model_name": "HTMLModel",
      "state": {
       "layout": "IPY_MODEL_1fae0979f262420eaabf1a94e5d750ce",
       "style": "IPY_MODEL_60b816f7b99c4897965d55f1eb938d84",
       "value": "<h3 style='padding:0;margin:0;'>&nbsp &nbsp &nbsp<a href='https://github.com/pupster90/ndex-viewer.git'>ndex-viewer</a></h3>"
      }
     },
     "518d68b901834846a73cbfb9522d42bf": {
      "model_module": "@jupyter-widgets/base",
      "model_module_version": "1.0.0",
      "model_name": "LayoutModel",
      "state": {
       "align_items": "center"
      }
     },
     "523c1cf02f6442ebbfe5e2a94676415c": {
      "model_module": "@jupyter-widgets/base",
      "model_module_version": "1.0.0",
      "model_name": "LayoutModel",
      "state": {
       "width": "auto"
      }
     },
     "53120d86e06b4dcfa2d023603df96d39": {
      "model_module": "@jupyter-widgets/controls",
      "model_module_version": "1.2.0",
      "model_name": "ButtonModel",
      "state": {
       "button_style": "success",
       "description": "Publish",
       "layout": "IPY_MODEL_59b1995dcfe54b29b730327ce346ef4c",
       "style": "IPY_MODEL_5535e881f7e74ff89a32e78380a13c20"
      }
     },
     "536db62880f2420cb6438b58cdf80637": {
      "model_module": "@jupyter-widgets/base",
      "model_module_version": "1.0.0",
      "model_name": "LayoutModel",
      "state": {
       "width": "auto"
      }
     },
     "537e430ffe99483da93e3ff23822317f": {
      "model_module": "@jupyter-widgets/base",
      "model_module_version": "1.0.0",
      "model_name": "LayoutModel",
      "state": {
       "width": "auto"
      }
     },
     "53e1b07e5f124da0974b5f6e295d4a6c": {
      "model_module": "@jupyter-widgets/controls",
      "model_module_version": "1.2.0",
      "model_name": "HTMLModel",
      "state": {
       "layout": "IPY_MODEL_a5d4402efebc4ad192c01151ac90f644",
       "style": "IPY_MODEL_e7d0e6137bfd4856acb0a5502c144941",
       "value": "<h3 style='padding:0;margin:0;'>&nbsp &nbsp &nbsp<a href='https://github.com/pupster90/io_Presentation.git'>io_Presentation</a></h3>"
      }
     },
     "54ef6f81d0694e8f9d7fcff5ee8d2634": {
      "model_module": "@jupyter-widgets/controls",
      "model_module_version": "1.2.0",
      "model_name": "HTMLModel",
      "state": {
       "layout": "IPY_MODEL_7fa581e309694a4db15e9f84a3992878",
       "style": "IPY_MODEL_2d4b8bf5edb746659e042aad353e9cab",
       "value": "<h3 style='padding:0;margin:0;'>&nbsp &nbsp &nbsp<a href='https://github.com/pupster90/Ideker_Online.git'>Ideker_Online</a></h3>"
      }
     },
     "5535e881f7e74ff89a32e78380a13c20": {
      "model_module": "@jupyter-widgets/controls",
      "model_module_version": "1.2.0",
      "model_name": "ButtonStyleModel",
      "state": {}
     },
     "556248d777824b7aaab29965ea57521c": {
      "model_module": "@jupyter-widgets/controls",
      "model_module_version": "1.2.0",
      "model_name": "LabelModel",
      "state": {
       "layout": "IPY_MODEL_0b43f7425fd14510b633faee1c2b95d5",
       "style": "IPY_MODEL_efae7e84423c4d9499597b7e28369ef5",
       "value": "Saved 23 hours ago"
      }
     },
     "5626baa747b64af7b8e8b558558702a6": {
      "model_module": "@jupyter-widgets/controls",
      "model_module_version": "1.2.0",
      "model_name": "DescriptionStyleModel",
      "state": {
       "description_width": ""
      }
     },
     "5627beb0dbc1496b963b7b0ed8dc06f9": {
      "model_module": "@jupyter-widgets/base",
      "model_module_version": "1.0.0",
      "model_name": "LayoutModel",
      "state": {
       "align_items": "center"
      }
     },
     "562d025e22da44d0bdcaf67765522925": {
      "model_module": "@jupyter-widgets/controls",
      "model_module_version": "1.2.0",
      "model_name": "HTMLModel",
      "state": {
       "layout": "IPY_MODEL_20c28388aa9a4c00aa350b973e2691fd",
       "style": "IPY_MODEL_f186016e76334721a2d776167a4e1190",
       "value": "<h4 style='padding:0;margin:0;'>&nbsp <a href='https://github.com/pupster90' style='color:gray'>pupster90</a> &nbsp</h4>"
      }
     },
     "565c0b3cf9e14121839df042e9af922b": {
      "model_module": "@jupyter-widgets/base",
      "model_module_version": "1.0.0",
      "model_name": "LayoutModel",
      "state": {
       "width": "auto"
      }
     },
     "56d08a5dfc7f4e40b4e04b573edacc4f": {
      "model_module": "@jupyter-widgets/controls",
      "model_module_version": "1.2.0",
      "model_name": "ButtonStyleModel",
      "state": {}
     },
     "5708926beab34e61a019716849491fa5": {
      "model_module": "@jupyter-widgets/base",
      "model_module_version": "1.0.0",
      "model_name": "LayoutModel",
      "state": {}
     },
     "572e0936e8254d40954efdb46f8ee2e4": {
      "model_module": "@jupyter-widgets/controls",
      "model_module_version": "1.2.0",
      "model_name": "DescriptionStyleModel",
      "state": {
       "description_width": ""
      }
     },
     "582c6e00c89046faafe940b1bc7f3ad1": {
      "model_module": "@jupyter-widgets/controls",
      "model_module_version": "1.2.0",
      "model_name": "HBoxModel",
      "state": {
       "children": [
        "IPY_MODEL_8fd8d70400b54d7abd61d33104997f3f",
        "IPY_MODEL_f0b95a767620456494d9901c86ebb255",
        "IPY_MODEL_38ba7dfa43314359bde7324edcb48932",
        "IPY_MODEL_1d616fe11c18486a9cc428f17823e818"
       ],
       "layout": "IPY_MODEL_29ced4df0b2e4f90aa738f62a9553556"
      }
     },
     "5867eecd3efb4b94a3c475f6f042f01e": {
      "model_module": "@jupyter-widgets/base",
      "model_module_version": "1.0.0",
      "model_name": "LayoutModel",
      "state": {
       "width": "auto"
      }
     },
     "58968686fba04e8db08f0c7569681a3e": {
      "model_module": "@jupyter-widgets/controls",
      "model_module_version": "1.2.0",
      "model_name": "ButtonStyleModel",
      "state": {}
     },
     "589fecc9e29e471dbfdfc3c43f575e5e": {
      "model_module": "@jupyter-widgets/base",
      "model_module_version": "1.0.0",
      "model_name": "LayoutModel",
      "state": {}
     },
     "58c04ef8c7694dd799522f249b06b9e6": {
      "model_module": "@jupyter-widgets/base",
      "model_module_version": "1.0.0",
      "model_name": "LayoutModel",
      "state": {
       "width": "auto"
      }
     },
     "5947b4b1b584485fb1640d7895ab51e8": {
      "model_module": "@jupyter-widgets/base",
      "model_module_version": "1.0.0",
      "model_name": "LayoutModel",
      "state": {}
     },
     "59543fda4374485a91ff207ca181a9b1": {
      "model_module": "@jupyter-widgets/controls",
      "model_module_version": "1.2.0",
      "model_name": "ButtonModel",
      "state": {
       "button_style": "success",
       "description": "Publish",
       "layout": "IPY_MODEL_651cf5dfae254f499293e43a40586a9f",
       "style": "IPY_MODEL_b5fbb6994a0f419b820f1faed810c833"
      }
     },
     "595639d1584f41409f981959902f1789": {
      "model_module": "@jupyter-widgets/controls",
      "model_module_version": "1.2.0",
      "model_name": "ButtonStyleModel",
      "state": {}
     },
     "595c5aaac91c40e1ae428d15038e1050": {
      "model_module": "@jupyter-widgets/controls",
      "model_module_version": "1.2.0",
      "model_name": "LabelModel",
      "state": {
       "layout": "IPY_MODEL_5947b4b1b584485fb1640d7895ab51e8",
       "style": "IPY_MODEL_5b8377e1ee1a40f6aa7c7c37323a17dc",
       "value": "3 Updates Behind"
      }
     },
     "59b1995dcfe54b29b730327ce346ef4c": {
      "model_module": "@jupyter-widgets/base",
      "model_module_version": "1.0.0",
      "model_name": "LayoutModel",
      "state": {
       "width": "auto"
      }
     },
     "59e25e5c69bc4083b1e70f599830240d": {
      "model_module": "@jupyter-widgets/controls",
      "model_module_version": "1.2.0",
      "model_name": "DescriptionStyleModel",
      "state": {
       "description_width": ""
      }
     },
     "5a608e34b6394419b3428188ff89c4c7": {
      "model_module": "@jupyter-widgets/controls",
      "model_module_version": "1.2.0",
      "model_name": "DescriptionStyleModel",
      "state": {
       "description_width": ""
      }
     },
     "5b22a4d73e3640d5aeeaf44fa9e888b3": {
      "model_module": "@jupyter-widgets/controls",
      "model_module_version": "1.2.0",
      "model_name": "HTMLModel",
      "state": {
       "layout": "IPY_MODEL_15ce15b046eb408cbcf3285cefb2e262",
       "style": "IPY_MODEL_f2c7bb41ab0e495b89210372023792f8",
       "value": "<h3 style='padding:0;margin:0;'>&nbsp &nbsp &nbsp<a href='https://github.com/pupster90/Cytoscape.git'>Cytoscape</a></h3>"
      }
     },
     "5b8377e1ee1a40f6aa7c7c37323a17dc": {
      "model_module": "@jupyter-widgets/controls",
      "model_module_version": "1.2.0",
      "model_name": "DescriptionStyleModel",
      "state": {
       "description_width": ""
      }
     },
     "5bb030d018624f979a363f1fbd0f975c": {
      "model_module": "@jupyter-widgets/controls",
      "model_module_version": "1.2.0",
      "model_name": "DescriptionStyleModel",
      "state": {
       "description_width": ""
      }
     },
     "5bfdbd816571441d806c4a71118cefc1": {
      "model_module": "@jupyter-widgets/base",
      "model_module_version": "1.0.0",
      "model_name": "LayoutModel",
      "state": {
       "width": "auto"
      }
     },
     "5c66042074c64828bb9d17254ee14cdf": {
      "model_module": "@jupyter-widgets/controls",
      "model_module_version": "1.2.0",
      "model_name": "HTMLModel",
      "state": {
       "layout": "IPY_MODEL_4a4f57199b2048238db38e493bbb1f66",
       "style": "IPY_MODEL_03824a2f921a4ee1b23f79cbb5601b1d",
       "value": "<h3 style='padding:0;margin:0;'>&nbsp &nbsp &nbsp<a href='https://github.com/pupster90/My_First_Research_Paper.git'>My_First_Research_Paper</a></h3>"
      }
     },
     "5ce13c25732c4533b9933c06f80c38dd": {
      "model_module": "@jupyter-widgets/base",
      "model_module_version": "1.0.0",
      "model_name": "LayoutModel",
      "state": {
       "width": "auto"
      }
     },
     "5d1d01ffc3ad4490a82c4a8ca022984a": {
      "model_module": "@jupyter-widgets/base",
      "model_module_version": "1.0.0",
      "model_name": "LayoutModel",
      "state": {
       "width": "auto"
      }
     },
     "5d31d7f946354778914771dd8b3be8bd": {
      "model_module": "@jupyter-widgets/controls",
      "model_module_version": "1.2.0",
      "model_name": "ButtonStyleModel",
      "state": {}
     },
     "5d7c96fcf9cd425c9d8ca4ee1cb42290": {
      "model_module": "@jupyter-widgets/controls",
      "model_module_version": "1.2.0",
      "model_name": "DescriptionStyleModel",
      "state": {
       "description_width": ""
      }
     },
     "5db93f9e3c2a4f12b7f5e1e8e377c6c1": {
      "model_module": "@jupyter-widgets/controls",
      "model_module_version": "1.2.0",
      "model_name": "HTMLModel",
      "state": {
       "layout": "IPY_MODEL_6f72395be13c47e7bea3416c0cda3f85",
       "style": "IPY_MODEL_ee89627aaa104d3987d45ba620c20a5b",
       "value": "<h3 style='padding:0;margin:0;'>&nbsp &nbsp &nbsp<a href='https://github.com/pupster90/Ideker_Online.git'>Ideker_Online</a></h3>"
      }
     },
     "5e590c6acab14f259e8747d3f3d772df": {
      "model_module": "@jupyter-widgets/controls",
      "model_module_version": "1.2.0",
      "model_name": "DescriptionStyleModel",
      "state": {
       "description_width": ""
      }
     },
     "5eb4ddf691d347c492d13154e8c42adb": {
      "model_module": "@jupyter-widgets/controls",
      "model_module_version": "1.2.0",
      "model_name": "HTMLModel",
      "state": {
       "layout": "IPY_MODEL_5f9d3dc0bcaf4bc583cb0b654f1ae306",
       "style": "IPY_MODEL_d5fdc8dc102943eaafb2f6ee0a471f61",
       "value": "<h3 style='padding:0;margin:0;'>&nbsp &nbsp &nbsp<a href='https://github.com/pupster90/My_First_Research_Paper.git'>My_First_Research_Paper</a></h3>"
      }
     },
     "5ef7efada0774226b9eeced98f701c35": {
      "model_module": "@jupyter-widgets/controls",
      "model_module_version": "1.2.0",
      "model_name": "DescriptionStyleModel",
      "state": {
       "description_width": ""
      }
     },
     "5f61866b26a840ce9807140a071fc47e": {
      "model_module": "@jupyter-widgets/controls",
      "model_module_version": "1.2.0",
      "model_name": "DescriptionStyleModel",
      "state": {
       "description_width": ""
      }
     },
     "5f9d3dc0bcaf4bc583cb0b654f1ae306": {
      "model_module": "@jupyter-widgets/base",
      "model_module_version": "1.0.0",
      "model_name": "LayoutModel",
      "state": {}
     },
     "5ff7aa15495b4a9bbd781c0757ed8bf1": {
      "model_module": "@jupyter-widgets/base",
      "model_module_version": "1.0.0",
      "model_name": "LayoutModel",
      "state": {}
     },
     "60a541b52232480abc6f6e3f7a3a9ef5": {
      "model_module": "@jupyter-widgets/base",
      "model_module_version": "1.0.0",
      "model_name": "LayoutModel",
      "state": {
       "width": "130px"
      }
     },
     "60b816f7b99c4897965d55f1eb938d84": {
      "model_module": "@jupyter-widgets/controls",
      "model_module_version": "1.2.0",
      "model_name": "DescriptionStyleModel",
      "state": {
       "description_width": ""
      }
     },
     "6122e2d0800141dd9156d0525c0f0043": {
      "model_module": "@jupyter-widgets/base",
      "model_module_version": "1.0.0",
      "model_name": "LayoutModel",
      "state": {
       "width": "130px"
      }
     },
     "61fdacc2b505479dba8f508ce732358d": {
      "model_module": "@jupyter-widgets/controls",
      "model_module_version": "1.2.0",
      "model_name": "DescriptionStyleModel",
      "state": {
       "description_width": ""
      }
     },
     "62364e0ad56a4c3580b8876593dfd9db": {
      "model_module": "@jupyter-widgets/base",
      "model_module_version": "1.0.0",
      "model_name": "LayoutModel",
      "state": {
       "width": "100px"
      }
     },
     "62435ae9c4f64ad6a189125862a0bae6": {
      "model_module": "@jupyter-widgets/base",
      "model_module_version": "1.0.0",
      "model_name": "LayoutModel",
      "state": {
       "width": "100px"
      }
     },
     "6269d9cfd6f54cd28e6e8e8f03c832d6": {
      "model_module": "@jupyter-widgets/controls",
      "model_module_version": "1.2.0",
      "model_name": "DescriptionStyleModel",
      "state": {
       "description_width": ""
      }
     },
     "6279cb0796704549aaea5c735e9d0f4f": {
      "model_module": "@jupyter-widgets/base",
      "model_module_version": "1.0.0",
      "model_name": "LayoutModel",
      "state": {}
     },
     "6464c1a85f69417e89e564cefc7c82da": {
      "model_module": "@jupyter-widgets/controls",
      "model_module_version": "1.2.0",
      "model_name": "DescriptionStyleModel",
      "state": {
       "description_width": ""
      }
     },
     "647a2fbf7840437498394909aadc0adf": {
      "model_module": "@jupyter-widgets/controls",
      "model_module_version": "1.2.0",
      "model_name": "HBoxModel",
      "state": {
       "children": [
        "IPY_MODEL_8bb34c2dad5140918c834c5787710d8b",
        "IPY_MODEL_d0426ebde8854df6a2e527993da91aa3"
       ],
       "layout": "IPY_MODEL_6c859bca9da944388200d037051d2ae0"
      }
     },
     "647d60a1e808455d895f5307b408eae1": {
      "model_module": "@jupyter-widgets/controls",
      "model_module_version": "1.2.0",
      "model_name": "ButtonStyleModel",
      "state": {}
     },
     "64b5c5901c8745f1ae5db434e399464a": {
      "model_module": "@jupyter-widgets/base",
      "model_module_version": "1.0.0",
      "model_name": "LayoutModel",
      "state": {}
     },
     "651cf5dfae254f499293e43a40586a9f": {
      "model_module": "@jupyter-widgets/base",
      "model_module_version": "1.0.0",
      "model_name": "LayoutModel",
      "state": {
       "width": "auto"
      }
     },
     "65415428652c483a8067122cd3a7f15f": {
      "model_module": "@jupyter-widgets/controls",
      "model_module_version": "1.2.0",
      "model_name": "HTMLModel",
      "state": {
       "layout": "IPY_MODEL_3f006c6b8c5e4cda90a7adb03c55d09a",
       "style": "IPY_MODEL_0f32a4ff64244b9aa137a36677dfe5bd",
       "value": "<h3 style='padding:0;margin:0;'>&nbsp &nbsp<a href='https://github.com/pupster90/My_First_Research_Paper'>My_First_Research_Paper</a> &nbsp</h3>"
      }
     },
     "6577647f84a844958c32758b1d2c7a1e": {
      "model_module": "@jupyter-widgets/controls",
      "model_module_version": "1.2.0",
      "model_name": "DescriptionStyleModel",
      "state": {
       "description_width": ""
      }
     },
     "65d64ee4812b427c89cf4c28cd98b8c4": {
      "model_module": "@jupyter-widgets/controls",
      "model_module_version": "1.2.0",
      "model_name": "ButtonStyleModel",
      "state": {}
     },
     "6730d0b473f64a259e3b323a68c17123": {
      "model_module": "@jupyter-widgets/base",
      "model_module_version": "1.0.0",
      "model_name": "LayoutModel",
      "state": {
       "align_items": "center"
      }
     },
     "67ddc215c897403ab75ef37698c23368": {
      "model_module": "@jupyter-widgets/base",
      "model_module_version": "1.0.0",
      "model_name": "LayoutModel",
      "state": {}
     },
     "682e91a2e1aa4b1a9d2929bb498c6ca1": {
      "model_module": "@jupyter-widgets/controls",
      "model_module_version": "1.2.0",
      "model_name": "ButtonStyleModel",
      "state": {}
     },
     "6834560900dc4b1596ece19f3f1babd5": {
      "model_module": "@jupyter-widgets/controls",
      "model_module_version": "1.2.0",
      "model_name": "ButtonModel",
      "state": {
       "button_style": "info",
       "description": "Download",
       "layout": "IPY_MODEL_5d1d01ffc3ad4490a82c4a8ca022984a",
       "style": "IPY_MODEL_d9a52544a842498b9fc03c6b63538f2a"
      }
     },
     "6977525d2e624094898f8c2cd1c00a96": {
      "model_module": "@jupyter-widgets/controls",
      "model_module_version": "1.2.0",
      "model_name": "HTMLModel",
      "state": {
       "layout": "IPY_MODEL_4373c50fea7847f5a85da14568805c20",
       "style": "IPY_MODEL_279c2ac3b41f425792adbdc79cc01613",
       "value": "<h3 style='padding:0;margin:0;'>&nbsp &nbsp &nbsp<a href='https://github.com/pupster90/indra-scraper.git'>indra-scraper</a></h3>"
      }
     },
     "6a2da55b20104280a2580039c282b516": {
      "model_module": "@jupyter-widgets/base",
      "model_module_version": "1.0.0",
      "model_name": "LayoutModel",
      "state": {}
     },
     "6aef0ad23f93440eaab08c3eb3f3622e": {
      "model_module": "@jupyter-widgets/controls",
      "model_module_version": "1.2.0",
      "model_name": "ButtonStyleModel",
      "state": {}
     },
     "6b60d1f62893423f8ae2f15f8eabc132": {
      "model_module": "@jupyter-widgets/base",
      "model_module_version": "1.0.0",
      "model_name": "LayoutModel",
      "state": {
       "width": "auto"
      }
     },
     "6bba3a58882246d3bd9867495c27494c": {
      "model_module": "@jupyter-widgets/controls",
      "model_module_version": "1.2.0",
      "model_name": "HTMLModel",
      "state": {
       "layout": "IPY_MODEL_e4762c2d5ece41bf946a1a50d24299e6",
       "style": "IPY_MODEL_2a79a6c91ac34f35adca8d8db51e81e8",
       "value": "<font color='green'> &nbsp Downloads: 0</font>"
      }
     },
     "6bdffaa05b294903bd79505c40a64438": {
      "model_module": "@jupyter-widgets/base",
      "model_module_version": "1.0.0",
      "model_name": "LayoutModel",
      "state": {}
     },
     "6c859bca9da944388200d037051d2ae0": {
      "model_module": "@jupyter-widgets/base",
      "model_module_version": "1.0.0",
      "model_name": "LayoutModel",
      "state": {
       "align_items": "center"
      }
     },
     "6de001105ba247e8a042234686b136c1": {
      "model_module": "@jupyter-widgets/controls",
      "model_module_version": "1.2.0",
      "model_name": "LabelModel",
      "state": {
       "layout": "IPY_MODEL_a6f01cdf86474ec19984bf236dd2fb42",
       "style": "IPY_MODEL_6577647f84a844958c32758b1d2c7a1e",
       "value": "2 hours ago"
      }
     },
     "6deb17932eeb4dc18881811e0fa26ab9": {
      "model_module": "@jupyter-widgets/controls",
      "model_module_version": "1.2.0",
      "model_name": "TextModel",
      "state": {
       "layout": "IPY_MODEL_7cc92834e522485797f3d7022d2195df",
       "style": "IPY_MODEL_7169eebf0b0c4777837cb6596e4f5476"
      }
     },
     "6df388f01b8f403faf5c3ca93375bf28": {
      "model_module": "@jupyter-widgets/base",
      "model_module_version": "1.0.0",
      "model_name": "LayoutModel",
      "state": {
       "width": "130px"
      }
     },
     "6df55d7e060a4dd99a0f20fbae261893": {
      "model_module": "@jupyter-widgets/controls",
      "model_module_version": "1.2.0",
      "model_name": "HTMLModel",
      "state": {
       "layout": "IPY_MODEL_48ef7e2fb1654a1b835523e0eb8d7803",
       "style": "IPY_MODEL_1909002de29c4627919b208e1ccc639d",
       "value": "<h3 style='padding:0;margin:0;'>&nbsp &nbsp &nbsp<a href='https://github.com/pupster90/io_Presentation.git'>io_Presentation</a></h3>"
      }
     },
     "6f010ffa19fb4514b6808bdf7cfa0ab7": {
      "model_module": "@jupyter-widgets/base",
      "model_module_version": "1.0.0",
      "model_name": "LayoutModel",
      "state": {
       "width": "auto"
      }
     },
     "6f72395be13c47e7bea3416c0cda3f85": {
      "model_module": "@jupyter-widgets/base",
      "model_module_version": "1.0.0",
      "model_name": "LayoutModel",
      "state": {}
     },
     "6fcf92ea8e1d417cafbc7beb85be2a9e": {
      "model_module": "@jupyter-widgets/controls",
      "model_module_version": "1.2.0",
      "model_name": "HBoxModel",
      "state": {
       "children": [
        "IPY_MODEL_df58821700764943950f737d56e97404",
        "IPY_MODEL_54ef6f81d0694e8f9d7fcff5ee8d2634"
       ],
       "layout": "IPY_MODEL_393acbabae794181a2813f8373eacfcf"
      }
     },
     "70abb7e907d1476e9e10cc0da9036598": {
      "model_module": "@jupyter-widgets/controls",
      "model_module_version": "1.2.0",
      "model_name": "DescriptionStyleModel",
      "state": {
       "description_width": ""
      }
     },
     "70d96fbb3a43487b9f3101ee48847a90": {
      "model_module": "@jupyter-widgets/controls",
      "model_module_version": "1.2.0",
      "model_name": "ButtonModel",
      "state": {
       "button_style": "danger",
       "description": "Logout",
       "layout": "IPY_MODEL_7d4510e85a134ee8bcdc8723634ade49",
       "style": "IPY_MODEL_c5049aa9d80d45758d21e7950c0d190d"
      }
     },
     "710d537819584bf89f19f2900a7ec724": {
      "model_module": "@jupyter-widgets/base",
      "model_module_version": "1.0.0",
      "model_name": "LayoutModel",
      "state": {}
     },
     "7155bed3f4804dd0bee9e4439adaeec5": {
      "model_module": "@jupyter-widgets/controls",
      "model_module_version": "1.2.0",
      "model_name": "HTMLModel",
      "state": {
       "layout": "IPY_MODEL_c5f2c5b9c9624f59a211475a47dc4b43",
       "style": "IPY_MODEL_b122c3ed1c8c44fba8d197d8bd9cc917",
       "value": "<h3 style='padding:0;margin:0;'>&nbsp &nbsp &nbsp<a href='https://github.com/pupster90/cse103_2017.git'>cse103_2017</a></h3>"
      }
     },
     "7169eebf0b0c4777837cb6596e4f5476": {
      "model_module": "@jupyter-widgets/controls",
      "model_module_version": "1.2.0",
      "model_name": "DescriptionStyleModel",
      "state": {
       "description_width": ""
      }
     },
     "721e4dd81b6b4ecebeb5a72687bbdcd7": {
      "model_module": "@jupyter-widgets/controls",
      "model_module_version": "1.2.0",
      "model_name": "ButtonStyleModel",
      "state": {}
     },
     "722a8e13c9334926abeb2607ff8f0c93": {
      "model_module": "@jupyter-widgets/controls",
      "model_module_version": "1.2.0",
      "model_name": "TextModel",
      "state": {
       "description": "Username",
       "layout": "IPY_MODEL_e94577bfcfc2444486ab79bb6aef3407",
       "style": "IPY_MODEL_8e4d60e39e01445a8b8e8fbe6ce97ab8"
      }
     },
     "72453aca31104f1686ee1fd0df5e4396": {
      "model_module": "@jupyter-widgets/base",
      "model_module_version": "1.0.0",
      "model_name": "LayoutModel",
      "state": {}
     },
     "725fb4c7a7404303a1c3db46ce0124a5": {
      "model_module": "@jupyter-widgets/controls",
      "model_module_version": "1.2.0",
      "model_name": "HBoxModel",
      "state": {
       "children": [
        "IPY_MODEL_ef65b4b3e5bb4ad4a95439d3b0e36e2b",
        "IPY_MODEL_30c15b4c814a44e0bbdc8d0efc1591f6"
       ],
       "layout": "IPY_MODEL_4c00f55ba73147aba6f1acefa47a4d5e"
      }
     },
     "73002b1703124cd7a19f809a237a63fc": {
      "model_module": "@jupyter-widgets/controls",
      "model_module_version": "1.2.0",
      "model_name": "HTMLModel",
      "state": {
       "layout": "IPY_MODEL_fefa07cae8314928a49e0630342fd9eb",
       "style": "IPY_MODEL_5d7c96fcf9cd425c9d8ca4ee1cb42290",
       "value": "<h3 style='padding:0;margin:0;'>&nbsp &nbsp &nbsp<a href='https://github.com/pupster90/Cytoscape.git'>Cytoscape</a></h3>"
      }
     },
     "7324f2ee463e4d0c945adac0f6465ad8": {
      "model_module": "@jupyter-widgets/controls",
      "model_module_version": "1.2.0",
      "model_name": "ButtonStyleModel",
      "state": {}
     },
     "73e8e9b6f85b4df3b2df50275e426046": {
      "model_module": "@jupyter-widgets/controls",
      "model_module_version": "1.2.0",
      "model_name": "ButtonStyleModel",
      "state": {}
     },
     "742e173f70d541c68484268edde376e5": {
      "model_module": "@jupyter-widgets/controls",
      "model_module_version": "1.2.0",
      "model_name": "DescriptionStyleModel",
      "state": {
       "description_width": ""
      }
     },
     "743fd61251dc4b1ebc403f1a9cb3037e": {
      "model_module": "@jupyter-widgets/controls",
      "model_module_version": "1.2.0",
      "model_name": "HTMLModel",
      "state": {
       "layout": "IPY_MODEL_ff2b96c235cd4aff82d2acba5449edbb",
       "style": "IPY_MODEL_cb8993a6443c41ba803563285cc8cd34",
       "value": "<font color='green'> &nbsp Downloads: 0</font>"
      }
     },
     "74c4e073d3844aba8bbef5079dbb045f": {
      "model_module": "@jupyter-widgets/base",
      "model_module_version": "1.0.0",
      "model_name": "LayoutModel",
      "state": {}
     },
     "752e7aefebd0418583c43603d9ef902a": {
      "model_module": "@jupyter-widgets/base",
      "model_module_version": "1.0.0",
      "model_name": "LayoutModel",
      "state": {}
     },
     "756789d0e1d0435bbb1d87844b8e7592": {
      "model_module": "@jupyter-widgets/base",
      "model_module_version": "1.0.0",
      "model_name": "LayoutModel",
      "state": {
       "align_items": "center"
      }
     },
     "768a58eac64e4f5197ebcfed7c7ebf50": {
      "model_module": "@jupyter-widgets/controls",
      "model_module_version": "1.2.0",
      "model_name": "DescriptionStyleModel",
      "state": {
       "description_width": ""
      }
     },
     "7795ddd98f6943deacfb19ec62490bd8": {
      "model_module": "@jupyter-widgets/controls",
      "model_module_version": "1.2.0",
      "model_name": "DescriptionStyleModel",
      "state": {
       "description_width": ""
      }
     },
     "7879ad8c23494dcfac3e835e1eefbdf6": {
      "model_module": "@jupyter-widgets/controls",
      "model_module_version": "1.2.0",
      "model_name": "HTMLModel",
      "state": {
       "layout": "IPY_MODEL_431aff3ab2cd4da3bbb346403340bcf3",
       "style": "IPY_MODEL_2c1d7c25f6ed4af8a4f9bf436958b765",
       "value": "<h3 style='padding:0;margin:0;'>&nbsp &nbsp &nbsp<a href='https://github.com/pupster90/welcome_to_io.git'>welcome_to_io</a></h3>"
      }
     },
     "78ecf9a7aa3044b18229a678f5af9d26": {
      "model_module": "@jupyter-widgets/controls",
      "model_module_version": "1.2.0",
      "model_name": "DescriptionStyleModel",
      "state": {
       "description_width": ""
      }
     },
     "7a5ed4fa2b91476bb7a0bfa1156354cd": {
      "model_module": "@jupyter-widgets/controls",
      "model_module_version": "1.2.0",
      "model_name": "ButtonStyleModel",
      "state": {}
     },
     "7a9532ff80ce4426ad7995e4983f33c5": {
      "model_module": "@jupyter-widgets/controls",
      "model_module_version": "1.2.0",
      "model_name": "HTMLModel",
      "state": {
       "layout": "IPY_MODEL_3594f443fc9643648063ebd1bfd825eb",
       "style": "IPY_MODEL_7ca1dd8fec4d4852bbc17d40b5011f90",
       "value": "<h4 style='padding:0;margin:0;'>&nbsp <a href='https://github.com/pupster90' style='color:gray'>pupster90</a> &nbsp</h4>"
      }
     },
     "7b12cdcf70574651b42ee6dd52713e32": {
      "model_module": "@jupyter-widgets/base",
      "model_module_version": "1.0.0",
      "model_name": "LayoutModel",
      "state": {}
     },
     "7b5f190f98fb44af98340855f6c98170": {
      "model_module": "@jupyter-widgets/controls",
      "model_module_version": "1.2.0",
      "model_name": "DescriptionStyleModel",
      "state": {
       "description_width": ""
      }
     },
     "7b7a3b0c226a4bd7a74cc86a8bcbe92d": {
      "model_module": "@jupyter-widgets/controls",
      "model_module_version": "1.2.0",
      "model_name": "HBoxModel",
      "state": {
       "children": [
        "IPY_MODEL_25d87fc048e540b6a537ad9a13635439"
       ],
       "layout": "IPY_MODEL_4158c032ce6c4dd7877ea45944a3f65b"
      }
     },
     "7c491ac7ddb240eba3c508ffeb8e3b13": {
      "model_module": "@jupyter-widgets/base",
      "model_module_version": "1.0.0",
      "model_name": "LayoutModel",
      "state": {
       "width": "130px"
      }
     },
     "7c4ae5b446a94668b8e5074c3ddd9188": {
      "model_module": "@jupyter-widgets/base",
      "model_module_version": "1.0.0",
      "model_name": "LayoutModel",
      "state": {}
     },
     "7c7415707edc438698916d4c441abbc3": {
      "model_module": "@jupyter-widgets/base",
      "model_module_version": "1.0.0",
      "model_name": "LayoutModel",
      "state": {
       "width": "auto"
      }
     },
     "7c8c49d3c61c419f8e1846508ffced06": {
      "model_module": "@jupyter-widgets/controls",
      "model_module_version": "1.2.0",
      "model_name": "HBoxModel",
      "state": {
       "children": [
        "IPY_MODEL_d363b676d27740dd8934406ed84bfc8d",
        "IPY_MODEL_6834560900dc4b1596ece19f3f1babd5",
        "IPY_MODEL_743fd61251dc4b1ebc403f1a9cb3037e",
        "IPY_MODEL_29b241c52d944a38961a06c498c927eb",
        "IPY_MODEL_fdbeb6f2e09a4ec9b838ae01c22ca27f",
        "IPY_MODEL_946c1364e0d744ca848f9ce43d340d54"
       ],
       "layout": "IPY_MODEL_f5b2d4dee14c4fec978f9fa46a3e8b88"
      }
     },
     "7c9383f678f3493d9b0f83a3d0e1900f": {
      "model_module": "@jupyter-widgets/controls",
      "model_module_version": "1.2.0",
      "model_name": "HBoxModel",
      "state": {
       "children": [
        "IPY_MODEL_b6504b64816742c7b75cd8aaf51c99f5",
        "IPY_MODEL_515057886c5d402e8cce249d861655a4"
       ],
       "layout": "IPY_MODEL_5627beb0dbc1496b963b7b0ed8dc06f9"
      }
     },
     "7ca1dd8fec4d4852bbc17d40b5011f90": {
      "model_module": "@jupyter-widgets/controls",
      "model_module_version": "1.2.0",
      "model_name": "DescriptionStyleModel",
      "state": {
       "description_width": ""
      }
     },
     "7cc92834e522485797f3d7022d2195df": {
      "model_module": "@jupyter-widgets/base",
      "model_module_version": "1.0.0",
      "model_name": "LayoutModel",
      "state": {}
     },
     "7d4510e85a134ee8bcdc8723634ade49": {
      "model_module": "@jupyter-widgets/base",
      "model_module_version": "1.0.0",
      "model_name": "LayoutModel",
      "state": {
       "width": "auto"
      }
     },
     "7d6c002ee8c746d2ae334cdc7a451a20": {
      "model_module": "@jupyter-widgets/controls",
      "model_module_version": "1.2.0",
      "model_name": "ButtonModel",
      "state": {
       "button_style": "success",
       "description": "Login",
       "layout": "IPY_MODEL_341c976bc6694dc18ca825a92691174e",
       "style": "IPY_MODEL_65d64ee4812b427c89cf4c28cd98b8c4"
      }
     },
     "7e1c1584bfea40908512d39582755af0": {
      "model_module": "@jupyter-widgets/controls",
      "model_module_version": "1.2.0",
      "model_name": "DescriptionStyleModel",
      "state": {
       "description_width": ""
      }
     },
     "7f7cf13bb7b04a3793978f6ddcc63a64": {
      "model_module": "@jupyter-widgets/base",
      "model_module_version": "1.0.0",
      "model_name": "LayoutModel",
      "state": {}
     },
     "7fa581e309694a4db15e9f84a3992878": {
      "model_module": "@jupyter-widgets/base",
      "model_module_version": "1.0.0",
      "model_name": "LayoutModel",
      "state": {}
     },
     "809c34a94ca4485abaa3520c4bb857a6": {
      "model_module": "@jupyter-widgets/controls",
      "model_module_version": "1.2.0",
      "model_name": "LabelModel",
      "state": {
       "layout": "IPY_MODEL_7c491ac7ddb240eba3c508ffeb8e3b13",
       "style": "IPY_MODEL_c40982396e76467da46117d81df9de6f",
       "value": "Saved 3 hours ago"
      }
     },
     "80f8c370a319414691bc9a16074171fd": {
      "model_module": "@jupyter-widgets/controls",
      "model_module_version": "1.2.0",
      "model_name": "HBoxModel",
      "state": {
       "children": [
        "IPY_MODEL_f68e20d6e00845a4bebcc1e2bbd61dd2",
        "IPY_MODEL_437b1173551f45b192658aab899fa379"
       ],
       "layout": "IPY_MODEL_1a6e0d20e2e341daba6507026d24ed98"
      }
     },
     "8138fcd3e666433d8666e4ee22c527b1": {
      "model_module": "@jupyter-widgets/controls",
      "model_module_version": "1.2.0",
      "model_name": "ButtonModel",
      "state": {
       "button_style": "primary",
       "description": "Download",
       "layout": "IPY_MODEL_f6cf498cb4f348a8ae7b1fff4f7392e2",
       "style": "IPY_MODEL_3bd5708f5a7c4c44b69dc72b80c4a4b3"
      }
     },
     "8190cf8ceb01413b9fbdd8231430b39a": {
      "model_module": "@jupyter-widgets/controls",
      "model_module_version": "1.2.0",
      "model_name": "DescriptionStyleModel",
      "state": {
       "description_width": ""
      }
     },
     "81d58a3f23c94dd0b6343fc9684f12c1": {
      "model_module": "@jupyter-widgets/controls",
      "model_module_version": "1.2.0",
      "model_name": "LabelModel",
      "state": {
       "layout": "IPY_MODEL_6122e2d0800141dd9156d0525c0f0043",
       "style": "IPY_MODEL_ee9aa728c06e447dad4adfe13cf3270b",
       "value": "Saved 22 hours ago"
      }
     },
     "820804cf189c47c19bab021e2c3a8084": {
      "model_module": "@jupyter-widgets/controls",
      "model_module_version": "1.2.0",
      "model_name": "HTMLModel",
      "state": {
       "layout": "IPY_MODEL_dc988571deb445bfb1cc39fc60dbfef3",
       "style": "IPY_MODEL_c282fbcdbf074e4bbd38241f5adfe8b0",
       "value": "<font color='green'> &nbsp Downloads: 0</font>"
      }
     },
     "8222fb1548474f519c4759811fef62eb": {
      "model_module": "@jupyter-widgets/controls",
      "model_module_version": "1.2.0",
      "model_name": "ToggleButtonsModel",
      "state": {
       "_options_labels": [
        "Public",
        "Private"
       ],
       "button_style": "info",
       "icons": [],
       "index": 0,
       "layout": "IPY_MODEL_1ec5f86d73db47f8967acbdd2931b0ec",
       "style": "IPY_MODEL_82cdaca82c634b50b6d1f282e557656d",
       "tooltips": []
      }
     },
     "82cdaca82c634b50b6d1f282e557656d": {
      "model_module": "@jupyter-widgets/controls",
      "model_module_version": "1.2.0",
      "model_name": "ToggleButtonsStyleModel",
      "state": {
       "button_width": "",
       "description_width": ""
      }
     },
     "82e0ca8d4b12493fab7003d0d18bbaa8": {
      "model_module": "@jupyter-widgets/base",
      "model_module_version": "1.0.0",
      "model_name": "LayoutModel",
      "state": {}
     },
     "83828c35479a43739d2f84dd4df2301d": {
      "model_module": "@jupyter-widgets/base",
      "model_module_version": "1.0.0",
      "model_name": "LayoutModel",
      "state": {
       "align_items": "center",
       "display": "None"
      }
     },
     "845c643df90240a482cefd1d51ccfe1c": {
      "model_module": "@jupyter-widgets/base",
      "model_module_version": "1.0.0",
      "model_name": "LayoutModel",
      "state": {
       "align_items": "center"
      }
     },
     "84931b8b7e52480b81ba6b1a26422240": {
      "model_module": "@jupyter-widgets/controls",
      "model_module_version": "1.2.0",
      "model_name": "DescriptionStyleModel",
      "state": {
       "description_width": ""
      }
     },
     "8537d31971fb4d0882313bdde1417e0e": {
      "model_module": "@jupyter-widgets/controls",
      "model_module_version": "1.2.0",
      "model_name": "HTMLModel",
      "state": {
       "layout": "IPY_MODEL_0a7b65b5143541998023b6ac85f99dde",
       "style": "IPY_MODEL_3c1ed91ef5a94bd5831f15926e2df316",
       "value": "<h3 style='padding:0;margin:0;'>&nbsp &nbsp &nbsp<a href='https://github.com/pupster90/ddot2.git'>ddot2</a></h3>"
      }
     },
     "853f5e676e0947d2a708038c5b340a35": {
      "model_module": "@jupyter-widgets/controls",
      "model_module_version": "1.2.0",
      "model_name": "DescriptionStyleModel",
      "state": {
       "description_width": ""
      }
     },
     "855b2aab9185447dab2b0d6596976b7d": {
      "model_module": "@jupyter-widgets/controls",
      "model_module_version": "1.2.0",
      "model_name": "HBoxModel",
      "state": {
       "children": [
        "IPY_MODEL_9877213e7fc543b68cc585f30901eed3",
        "IPY_MODEL_ab42e70220bb4b858ea78078a9f06fd8",
        "IPY_MODEL_3326555a127d4491a81d023f92406e81",
        "IPY_MODEL_03196ec8ca624bfd8a716180fcb9741e",
        "IPY_MODEL_65415428652c483a8067122cd3a7f15f",
        "IPY_MODEL_914e3494e8fd4009a585816613c1846e"
       ],
       "layout": "IPY_MODEL_b0efb94c2996483cbc87735d8348dccc"
      }
     },
     "86a717e14c0046a3b3f22f1f85d296e4": {
      "model_module": "@jupyter-widgets/controls",
      "model_module_version": "1.2.0",
      "model_name": "ButtonModel",
      "state": {
       "button_style": "warning",
       "description": "Update",
       "layout": "IPY_MODEL_de21c1aecc964a308e305d0665909617",
       "style": "IPY_MODEL_fafb22cf5cc642c3b4034313e9b4e29f"
      }
     },
     "871572e113f24d97a5cc588830360794": {
      "model_module": "@jupyter-widgets/base",
      "model_module_version": "1.0.0",
      "model_name": "LayoutModel",
      "state": {
       "width": "auto"
      }
     },
     "87180bc922924911b5c77bef7290c6a0": {
      "model_module": "@jupyter-widgets/controls",
      "model_module_version": "1.2.0",
      "model_name": "HTMLModel",
      "state": {
       "layout": "IPY_MODEL_710d537819584bf89f19f2900a7ec724",
       "style": "IPY_MODEL_c37044b4c39d493fba925c13e700e1d0",
       "value": "<h3 style='padding:0;margin:0;'>&nbsp &nbsp &nbsp<a href='https://github.com/pupster90/Setup_Notebook.git'>Setup_Notebook</a></h3>"
      }
     },
     "87f228edc94b44fca663c599d6acd62e": {
      "model_module": "@jupyter-widgets/controls",
      "model_module_version": "1.2.0",
      "model_name": "ButtonStyleModel",
      "state": {}
     },
     "881cf68587ff49bba67d140f2df0ed57": {
      "model_module": "@jupyter-widgets/controls",
      "model_module_version": "1.2.0",
      "model_name": "DescriptionStyleModel",
      "state": {
       "description_width": ""
      }
     },
     "888292c981da4bd6bee74d2269bca8aa": {
      "model_module": "@jupyter-widgets/base",
      "model_module_version": "1.0.0",
      "model_name": "LayoutModel",
      "state": {}
     },
     "89029d2f0dcd436b964e5a9fc657dfce": {
      "model_module": "@jupyter-widgets/controls",
      "model_module_version": "1.2.0",
      "model_name": "ButtonModel",
      "state": {
       "button_style": "success",
       "description": "Publish",
       "layout": "IPY_MODEL_4225af97c0c949219927335181cd0bb7",
       "style": "IPY_MODEL_d2b0dee5f661459cb98bd5203132247f"
      }
     },
     "8914d66d045f4600a70ab11380dfe67d": {
      "model_module": "@jupyter-widgets/controls",
      "model_module_version": "1.2.0",
      "model_name": "DescriptionStyleModel",
      "state": {
       "description_width": ""
      }
     },
     "892fc0d5696d4bffa83ec6657c3b7ebc": {
      "model_module": "@jupyter-widgets/controls",
      "model_module_version": "1.2.0",
      "model_name": "HBoxModel",
      "state": {
       "children": [
        "IPY_MODEL_af14ae6e83c04cb791c5ee949f94fc4e",
        "IPY_MODEL_908079b0179e40c4959cc7b4dc443b70"
       ],
       "layout": "IPY_MODEL_1b5366be5939494789085b9dd74bed86"
      }
     },
     "8935875adb714a4c84a6d520ab0f2119": {
      "model_module": "@jupyter-widgets/controls",
      "model_module_version": "1.2.0",
      "model_name": "DescriptionStyleModel",
      "state": {
       "description_width": ""
      }
     },
     "898a119fa20b43a2a932bd404cc8437e": {
      "model_module": "@jupyter-widgets/base",
      "model_module_version": "1.0.0",
      "model_name": "LayoutModel",
      "state": {
       "align_items": "center"
      }
     },
     "898b76b6b2964d6b8d565c50b703f97f": {
      "model_module": "@jupyter-widgets/controls",
      "model_module_version": "1.2.0",
      "model_name": "HBoxModel",
      "state": {
       "children": [
        "IPY_MODEL_1049f5db02d040128029a0ceffc2f933",
        "IPY_MODEL_f59df6d4b6d948d5b274cf920e161ca3"
       ],
       "layout": "IPY_MODEL_2d7e8c81e0d4428d8479b1166e4a0279"
      }
     },
     "899af3ed733f4fc5afc00be8049d9412": {
      "model_module": "@jupyter-widgets/base",
      "model_module_version": "1.0.0",
      "model_name": "LayoutModel",
      "state": {
       "align_items": "center",
       "display": "None"
      }
     },
     "89bdbd9929cf43b5a4f2177ce3a58f28": {
      "model_module": "@jupyter-widgets/base",
      "model_module_version": "1.0.0",
      "model_name": "LayoutModel",
      "state": {}
     },
     "89c0b520ef9548fd88c52e98c74c3b8b": {
      "model_module": "@jupyter-widgets/controls",
      "model_module_version": "1.2.0",
      "model_name": "ButtonModel",
      "state": {
       "button_style": "success",
       "description": "Publish",
       "layout": "IPY_MODEL_1cb0590bc3ba44bb9a106c75b5f20631",
       "style": "IPY_MODEL_444f7eb302154aa3b689a634821e3d9c"
      }
     },
     "89e083c528064553b8d4b302ebc14dfb": {
      "model_module": "@jupyter-widgets/base",
      "model_module_version": "1.0.0",
      "model_name": "LayoutModel",
      "state": {}
     },
     "89e0be611069431f8c3f3e95ca68eab9": {
      "model_module": "@jupyter-widgets/controls",
      "model_module_version": "1.2.0",
      "model_name": "HTMLModel",
      "state": {
       "layout": "IPY_MODEL_9a06b27979d34c08869e7753d22ce8fb",
       "style": "IPY_MODEL_385780e81b564d3dbb02b632f2f0dfcb",
       "value": "<h3 style='padding:0;margin:0;'>&nbsp &nbsp &nbsp<a href='https://github.com/pupster90/mind-reader.git'>mind-reader</a></h3>"
      }
     },
     "8a16829faddc4e6cb98651ba49e4b306": {
      "model_module": "@jupyter-widgets/base",
      "model_module_version": "1.0.0",
      "model_name": "LayoutModel",
      "state": {
       "width": "auto"
      }
     },
     "8ae7323e5cba4a86a2061a35c3c0245d": {
      "model_module": "@jupyter-widgets/controls",
      "model_module_version": "1.2.0",
      "model_name": "HBoxModel",
      "state": {
       "children": [
        "IPY_MODEL_e6cabe55b6534dae9badbfe2a84b9ee6"
       ],
       "layout": "IPY_MODEL_d088331b58c144cea484b0c02f747c3a"
      }
     },
     "8b23e7f6bc0c43ca81e49d2a960ca128": {
      "model_module": "@jupyter-widgets/base",
      "model_module_version": "1.0.0",
      "model_name": "LayoutModel",
      "state": {
       "width": "auto"
      }
     },
     "8bb34c2dad5140918c834c5787710d8b": {
      "model_module": "@jupyter-widgets/controls",
      "model_module_version": "1.2.0",
      "model_name": "ButtonModel",
      "state": {
       "button_style": "primary",
       "description": "Download",
       "layout": "IPY_MODEL_5bfdbd816571441d806c4a71118cefc1",
       "style": "IPY_MODEL_256123b6ca514b65ad6b3caac9927811"
      }
     },
     "8c12e8ea7bc54828b2ca711f9b5a55b4": {
      "model_module": "@jupyter-widgets/base",
      "model_module_version": "1.0.0",
      "model_name": "LayoutModel",
      "state": {
       "width": "auto"
      }
     },
     "8c25459b2007426fbbbf7d857484707f": {
      "model_module": "@jupyter-widgets/controls",
      "model_module_version": "1.2.0",
      "model_name": "HBoxModel",
      "state": {
       "children": [
        "IPY_MODEL_1fe3899f682b4be8ab35a2ea319ec177",
        "IPY_MODEL_307a45e8586b4fe0a974ece376b9ce35",
        "IPY_MODEL_820804cf189c47c19bab021e2c3a8084",
        "IPY_MODEL_92c5978fa18344f280e911081e3296f6",
        "IPY_MODEL_03af4f8d9bad41eb82141dea42cd02a3",
        "IPY_MODEL_ad87d45858c44497b1d7eeb52d23523b"
       ],
       "layout": "IPY_MODEL_82e0ca8d4b12493fab7003d0d18bbaa8"
      }
     },
     "8c43f26410684d4db7bd3a2d84d7c19c": {
      "model_module": "@jupyter-widgets/base",
      "model_module_version": "1.0.0",
      "model_name": "LayoutModel",
      "state": {}
     },
     "8c54215c33914315a913b6f4f7140dfa": {
      "model_module": "@jupyter-widgets/controls",
      "model_module_version": "1.2.0",
      "model_name": "ButtonModel",
      "state": {
       "button_style": "success",
       "description": "Publish",
       "layout": "IPY_MODEL_3c25165ce5ad431d963e6ed2fa120096",
       "style": "IPY_MODEL_7324f2ee463e4d0c945adac0f6465ad8"
      }
     },
     "8d0c245ab39d4d5e934228475c24f432": {
      "model_module": "@jupyter-widgets/controls",
      "model_module_version": "1.2.0",
      "model_name": "LabelModel",
      "state": {
       "layout": "IPY_MODEL_04673cef389e40298ead5ee026be77e9",
       "style": "IPY_MODEL_24f00bd6b8e14d5db3ef84147723f102",
       "value": "Saved 24 hours ago"
      }
     },
     "8d48cf1de9dd422697f3cdc15f8369a1": {
      "model_module": "@jupyter-widgets/controls",
      "model_module_version": "1.2.0",
      "model_name": "DescriptionStyleModel",
      "state": {
       "description_width": ""
      }
     },
     "8d994f5838c74b47893673bb9737d614": {
      "model_module": "@jupyter-widgets/controls",
      "model_module_version": "1.2.0",
      "model_name": "ButtonModel",
      "state": {
       "button_style": "primary",
       "description": "Download",
       "layout": "IPY_MODEL_1fc8146b64374801b875418eeb38ed8c",
       "style": "IPY_MODEL_cc107f45edc54bc59ad6d7a226b6ee9f"
      }
     },
     "8dad61cdb0a5492ab869a6c102f75926": {
      "model_module": "@jupyter-widgets/controls",
      "model_module_version": "1.2.0",
      "model_name": "HTMLModel",
      "state": {
       "layout": "IPY_MODEL_f9fde05d3d3c428d8d1b8ba3da000891",
       "style": "IPY_MODEL_0bf7439f8a5942989c8e3a0dd34e54ce",
       "value": "<font color='green'> &nbsp Downloads: 0</font>"
      }
     },
     "8db84b6a0e564a59afaa12bd62d7707e": {
      "model_module": "@jupyter-widgets/base",
      "model_module_version": "1.0.0",
      "model_name": "LayoutModel",
      "state": {
       "align_items": "center"
      }
     },
     "8dcb6165370c493d810183abb593d0a8": {
      "model_module": "@jupyter-widgets/controls",
      "model_module_version": "1.2.0",
      "model_name": "DescriptionStyleModel",
      "state": {
       "description_width": ""
      }
     },
     "8df7bc1540844a45940152d30698b4e3": {
      "model_module": "@jupyter-widgets/base",
      "model_module_version": "1.0.0",
      "model_name": "LayoutModel",
      "state": {}
     },
     "8e4d60e39e01445a8b8e8fbe6ce97ab8": {
      "model_module": "@jupyter-widgets/controls",
      "model_module_version": "1.2.0",
      "model_name": "DescriptionStyleModel",
      "state": {
       "description_width": ""
      }
     },
     "8edd15c9063c4f8a92dbc6f0b2b36b97": {
      "model_module": "@jupyter-widgets/base",
      "model_module_version": "1.0.0",
      "model_name": "LayoutModel",
      "state": {}
     },
     "8f4a49cc20934a89b0332b67f523176a": {
      "model_module": "@jupyter-widgets/controls",
      "model_module_version": "1.2.0",
      "model_name": "DescriptionStyleModel",
      "state": {
       "description_width": ""
      }
     },
     "8f4e0cb2b2674e43b52c872b155d0542": {
      "model_module": "@jupyter-widgets/base",
      "model_module_version": "1.0.0",
      "model_name": "LayoutModel",
      "state": {}
     },
     "8fa35d60fe0146be96d86b68bc090c41": {
      "model_module": "@jupyter-widgets/controls",
      "model_module_version": "1.2.0",
      "model_name": "HTMLModel",
      "state": {
       "layout": "IPY_MODEL_4e021c96af744fe5b64ed1d49c9609f2",
       "style": "IPY_MODEL_342181f8640847a6ae4d4d7419d54304",
       "value": "<font color='orange'> &nbsp Stars: 0</font>"
      }
     },
     "8fd8d70400b54d7abd61d33104997f3f": {
      "model_module": "@jupyter-widgets/controls",
      "model_module_version": "1.2.0",
      "model_name": "ButtonModel",
      "state": {
       "button_style": "success",
       "description": "Publish",
       "layout": "IPY_MODEL_8b23e7f6bc0c43ca81e49d2a960ca128",
       "style": "IPY_MODEL_d6049d6a66a740229aec9766533c579f"
      }
     },
     "906b186399514fdebfb3d4d4dc1ed206": {
      "model_module": "@jupyter-widgets/controls",
      "model_module_version": "1.2.0",
      "model_name": "ButtonModel",
      "state": {
       "button_style": "primary",
       "description": "Download",
       "layout": "IPY_MODEL_fb12803aadb245869968c5b4d280d4eb",
       "style": "IPY_MODEL_989d0567448540379a539ce2c9bfbe17"
      }
     },
     "908079b0179e40c4959cc7b4dc443b70": {
      "model_module": "@jupyter-widgets/controls",
      "model_module_version": "1.2.0",
      "model_name": "HTMLModel",
      "state": {
       "layout": "IPY_MODEL_8c43f26410684d4db7bd3a2d84d7c19c",
       "style": "IPY_MODEL_96c7c6084dff4ba0942b560112c234a3",
       "value": "<h3 style='padding:0;margin:0;'>&nbsp &nbsp &nbsp<a href='https://github.com/pupster90/Mr_Smiley.git'>Mr_Smiley</a></h3>"
      }
     },
     "90951e1149aa43db9da20c96887157e0": {
      "model_module": "@jupyter-widgets/base",
      "model_module_version": "1.0.0",
      "model_name": "LayoutModel",
      "state": {}
     },
     "90d4863139954aaeb033c3d5f542dbbd": {
      "model_module": "@jupyter-widgets/controls",
      "model_module_version": "1.2.0",
      "model_name": "DescriptionStyleModel",
      "state": {
       "description_width": ""
      }
     },
     "914e3494e8fd4009a585816613c1846e": {
      "model_module": "@jupyter-widgets/controls",
      "model_module_version": "1.2.0",
      "model_name": "HTMLModel",
      "state": {
       "layout": "IPY_MODEL_f4c63550d97949a1906912375619bd95",
       "style": "IPY_MODEL_5e590c6acab14f259e8747d3f3d772df",
       "value": "<h4 style='padding:0;margin:0;'>&nbsp <a href='https://github.com/pupster90' style='color:gray'>pupster90</a> &nbsp</h4>"
      }
     },
     "9229ca36cc2c4d0a972117fe9360a5e5": {
      "model_module": "@jupyter-widgets/controls",
      "model_module_version": "1.2.0",
      "model_name": "DescriptionStyleModel",
      "state": {
       "description_width": ""
      }
     },
     "92c5978fa18344f280e911081e3296f6": {
      "model_module": "@jupyter-widgets/controls",
      "model_module_version": "1.2.0",
      "model_name": "HTMLModel",
      "state": {
       "layout": "IPY_MODEL_30febb5521a542b794bf6473f12cddf7",
       "style": "IPY_MODEL_b4efcd827b87414393c334d64610bf24",
       "value": "<font color='orange'> &nbsp Stars: 0</font>"
      }
     },
     "941525d4ca9d4769a0408844b2f8343e": {
      "model_module": "@jupyter-widgets/controls",
      "model_module_version": "1.2.0",
      "model_name": "HBoxModel",
      "state": {
       "children": [
        "IPY_MODEL_df76e25af5644b00b57a4c3ebea1238c",
        "IPY_MODEL_89e0be611069431f8c3f3e95ca68eab9"
       ],
       "layout": "IPY_MODEL_27a42257166341b995bbac30018fdd50"
      }
     },
     "946c1364e0d744ca848f9ce43d340d54": {
      "model_module": "@jupyter-widgets/controls",
      "model_module_version": "1.2.0",
      "model_name": "HTMLModel",
      "state": {
       "layout": "IPY_MODEL_7b12cdcf70574651b42ee6dd52713e32",
       "style": "IPY_MODEL_5626baa747b64af7b8e8b558558702a6",
       "value": "<h4 style='padding:0;margin:0;'>&nbsp <a href='https://github.com/pupster90' style='color:gray'>pupster90</a> &nbsp</h4>"
      }
     },
     "949c8a2deea744ba8fb4711de111e73f": {
      "model_module": "@jupyter-widgets/controls",
      "model_module_version": "1.2.0",
      "model_name": "LabelModel",
      "state": {
       "layout": "IPY_MODEL_d8b36a7bf143480aa3cc9feccb3bb626",
       "style": "IPY_MODEL_2992d2f3a08e4eb1b419d092425aecbf",
       "value": "1 day ago"
      }
     },
     "94e1ac827dfa43869697353dc6f0333f": {
      "model_module": "@jupyter-widgets/controls",
      "model_module_version": "1.2.0",
      "model_name": "ButtonModel",
      "state": {
       "button_style": "warning",
       "description": "add",
       "layout": "IPY_MODEL_14162cfeaa354a23985f3c1848632cda",
       "style": "IPY_MODEL_a191817d076a46b286b47e1030bcd1d2"
      }
     },
     "959e3a4f1ee74bbab1ddfcadb9c70497": {
      "model_module": "@jupyter-widgets/base",
      "model_module_version": "1.0.0",
      "model_name": "LayoutModel",
      "state": {}
     },
     "96c7c6084dff4ba0942b560112c234a3": {
      "model_module": "@jupyter-widgets/controls",
      "model_module_version": "1.2.0",
      "model_name": "DescriptionStyleModel",
      "state": {
       "description_width": ""
      }
     },
     "972f8d97348849379f0c93577ed4d5b2": {
      "model_module": "@jupyter-widgets/base",
      "model_module_version": "1.0.0",
      "model_name": "LayoutModel",
      "state": {
       "width": "auto"
      }
     },
     "973a0875ffdf41f483cf93f3b9cec6be": {
      "model_module": "@jupyter-widgets/base",
      "model_module_version": "1.0.0",
      "model_name": "LayoutModel",
      "state": {
       "width": "auto"
      }
     },
     "9869e6982e95451fb4e65f23f03426dd": {
      "model_module": "@jupyter-widgets/controls",
      "model_module_version": "1.2.0",
      "model_name": "HBoxModel",
      "state": {
       "children": [
        "IPY_MODEL_949c8a2deea744ba8fb4711de111e73f",
        "IPY_MODEL_40caad58d5414c4c96c07891e04f9e8b",
        "IPY_MODEL_8dad61cdb0a5492ab869a6c102f75926",
        "IPY_MODEL_dabda0402e714c6fab86a3448cc33585",
        "IPY_MODEL_ea157a5781a84fd08ecd9d0d6bb11548",
        "IPY_MODEL_7a9532ff80ce4426ad7995e4983f33c5"
       ],
       "layout": "IPY_MODEL_b65ba05ab1d2467c8da90da728d2f470"
      }
     },
     "9877213e7fc543b68cc585f30901eed3": {
      "model_module": "@jupyter-widgets/controls",
      "model_module_version": "1.2.0",
      "model_name": "LabelModel",
      "state": {
       "layout": "IPY_MODEL_364956cb55314f5880359bd6eb83b743",
       "style": "IPY_MODEL_2e9b8181e7a44de4844c15baab3c9151",
       "value": "2 hours ago"
      }
     },
     "989d0567448540379a539ce2c9bfbe17": {
      "model_module": "@jupyter-widgets/controls",
      "model_module_version": "1.2.0",
      "model_name": "ButtonStyleModel",
      "state": {}
     },
     "99ba6dff3c6d4522baa14bdb916a58f2": {
      "model_module": "@jupyter-widgets/controls",
      "model_module_version": "1.2.0",
      "model_name": "HTMLModel",
      "state": {
       "layout": "IPY_MODEL_4ed6b36d755d49a89c92d618ea1ceb59",
       "style": "IPY_MODEL_1abccab882ae4b7cbef7556e458860b4",
       "value": "<font color='orange'> &nbsp Stars: 0</font>"
      }
     },
     "9a06b27979d34c08869e7753d22ce8fb": {
      "model_module": "@jupyter-widgets/base",
      "model_module_version": "1.0.0",
      "model_name": "LayoutModel",
      "state": {}
     },
     "9a21fa9061334d658b08a9f714d75101": {
      "model_module": "@jupyter-widgets/controls",
      "model_module_version": "1.2.0",
      "model_name": "HTMLModel",
      "state": {
       "layout": "IPY_MODEL_0dc8b2f38ac8402294942ddd27ae316a",
       "style": "IPY_MODEL_ab7e5be4fbf94fcd871562955e84771c",
       "value": "<h3 style='padding:0;margin:0;'>&nbsp &nbsp &nbsp<a href='https://github.com/pupster90/Public_Profile.git'>Public_Profile</a></h3>"
      }
     },
     "9b8e52ca18334401a53b894dd88f00d7": {
      "model_module": "@jupyter-widgets/controls",
      "model_module_version": "1.2.0",
      "model_name": "HTMLModel",
      "state": {
       "layout": "IPY_MODEL_7c4ae5b446a94668b8e5074c3ddd9188",
       "style": "IPY_MODEL_a94e006c679742008fc12d7420941956",
       "value": "<h4 style='padding:0;margin:0;'>&nbsp <a href='https://github.com/pupster90' style='color:gray'>pupster90</a> &nbsp</h4>"
      }
     },
     "9c0e87980b9446ecb2d532b2a3a5006a": {
      "model_module": "@jupyter-widgets/controls",
      "model_module_version": "1.2.0",
      "model_name": "HBoxModel",
      "state": {
       "children": [
        "IPY_MODEL_a133a84283f34373b86657ee8eb93bf7",
        "IPY_MODEL_7155bed3f4804dd0bee9e4439adaeec5"
       ],
       "layout": "IPY_MODEL_518d68b901834846a73cbfb9522d42bf"
      }
     },
     "9c6c8c4fe95244029413a3ec0074a525": {
      "model_module": "@jupyter-widgets/controls",
      "model_module_version": "1.2.0",
      "model_name": "ButtonStyleModel",
      "state": {}
     },
     "9de103be46764ba4badd7771c93ca85d": {
      "model_module": "@jupyter-widgets/controls",
      "model_module_version": "1.2.0",
      "model_name": "HTMLModel",
      "state": {
       "layout": "IPY_MODEL_f7b90322a0db40d586537387cdee47b8",
       "style": "IPY_MODEL_22aabd6a8db84a119140844c70444b9d",
       "value": "<h3 style='padding:0;margin:0;'>&nbsp &nbsp &nbsp<a href='https://github.com/pupster90/Public_Profile.git'>Public_Profile</a></h3>"
      }
     },
     "9dfd34201a294f45b60564bf62553183": {
      "model_module": "@jupyter-widgets/controls",
      "model_module_version": "1.2.0",
      "model_name": "ButtonStyleModel",
      "state": {}
     },
     "9e0f49e9a3cc4cce9751ad51e09a3fb4": {
      "model_module": "@jupyter-widgets/controls",
      "model_module_version": "1.2.0",
      "model_name": "LabelModel",
      "state": {
       "layout": "IPY_MODEL_19e58a73dbf0427cb73d9ad76312cbce",
       "style": "IPY_MODEL_7e1c1584bfea40908512d39582755af0",
       "value": "Saved 2 hours ago"
      }
     },
     "9ef09954b7cb4f2e87182e7afa5666d7": {
      "model_module": "@jupyter-widgets/base",
      "model_module_version": "1.0.0",
      "model_name": "LayoutModel",
      "state": {}
     },
     "9f221a7681914b3e9599632838e3657c": {
      "model_module": "@jupyter-widgets/controls",
      "model_module_version": "1.2.0",
      "model_name": "HBoxModel",
      "state": {
       "children": [
        "IPY_MODEL_7d6c002ee8c746d2ae334cdc7a451a20",
        "IPY_MODEL_c646c8360f804217b3a7151b46531610"
       ],
       "layout": "IPY_MODEL_f800532f85bd4959b0706c22dee039e8"
      }
     },
     "9f87cb25b75347c4b0101e9ba48461a0": {
      "model_module": "@jupyter-widgets/controls",
      "model_module_version": "1.2.0",
      "model_name": "ButtonModel",
      "state": {
       "button_style": "success",
       "description": "Publish",
       "layout": "IPY_MODEL_bec645face8a4669901ed848dd38106f",
       "style": "IPY_MODEL_1f063716c2214295bcfed55c97235279"
      }
     },
     "9fd97067b9e04df4b8e9a4f0f6bdc23a": {
      "model_module": "@jupyter-widgets/controls",
      "model_module_version": "1.2.0",
      "model_name": "ButtonStyleModel",
      "state": {}
     },
     "a0763d4b892342d4981877ca1c85bfca": {
      "model_module": "@jupyter-widgets/base",
      "model_module_version": "1.0.0",
      "model_name": "LayoutModel",
      "state": {
       "width": "auto"
      }
     },
     "a10b1b0f78f041ecb2955e109cfc7285": {
      "model_module": "@jupyter-widgets/controls",
      "model_module_version": "1.2.0",
      "model_name": "HTMLModel",
      "state": {
       "layout": "IPY_MODEL_c67e2019a26d4368890d304dd26302cd",
       "style": "IPY_MODEL_59e25e5c69bc4083b1e70f599830240d",
       "value": "<h3 style='padding:0;margin:0;'>&nbsp &nbsp &nbsp<a href='https://github.com/pupster90/Ideker_Online.git'>Ideker_Online</a></h3>"
      }
     },
     "a1111bb1b84d4fb0bcf5d06421615946": {
      "model_module": "@jupyter-widgets/controls",
      "model_module_version": "1.2.0",
      "model_name": "HTMLModel",
      "state": {
       "layout": "IPY_MODEL_a4d4226ad2704b3490eee6137030930f",
       "style": "IPY_MODEL_d3d4b756fbcd4f53abcaae218c25c440",
       "value": "<font color='green'> &nbsp Downloads: 0</font>"
      }
     },
     "a133a84283f34373b86657ee8eb93bf7": {
      "model_module": "@jupyter-widgets/controls",
      "model_module_version": "1.2.0",
      "model_name": "ButtonModel",
      "state": {
       "button_style": "primary",
       "description": "Download",
       "layout": "IPY_MODEL_389aa5d7e7874b5792c42fe961e9d4f3",
       "style": "IPY_MODEL_4497caae6aac4bf694473cd55ed92485"
      }
     },
     "a191817d076a46b286b47e1030bcd1d2": {
      "model_module": "@jupyter-widgets/controls",
      "model_module_version": "1.2.0",
      "model_name": "ButtonStyleModel",
      "state": {}
     },
     "a22da6abfe6c4ea9832ac58532f87f29": {
      "model_module": "@jupyter-widgets/controls",
      "model_module_version": "1.2.0",
      "model_name": "DescriptionStyleModel",
      "state": {
       "description_width": ""
      }
     },
     "a258ed3d184846c195b476993c4769fb": {
      "model_module": "@jupyter-widgets/controls",
      "model_module_version": "1.2.0",
      "model_name": "HBoxModel",
      "state": {
       "children": [
        "IPY_MODEL_1e77564ed344415a9b868897b50add86",
        "IPY_MODEL_0cc5c3cb0e6d4b1cafc4051caaaa8fe4"
       ],
       "layout": "IPY_MODEL_845c643df90240a482cefd1d51ccfe1c"
      }
     },
     "a3b6abbb755342d38862e7d9144ec972": {
      "model_module": "@jupyter-widgets/base",
      "model_module_version": "1.0.0",
      "model_name": "LayoutModel",
      "state": {}
     },
     "a4d4226ad2704b3490eee6137030930f": {
      "model_module": "@jupyter-widgets/base",
      "model_module_version": "1.0.0",
      "model_name": "LayoutModel",
      "state": {}
     },
     "a571339548fc4417a86feec58daee1c6": {
      "model_module": "@jupyter-widgets/base",
      "model_module_version": "1.0.0",
      "model_name": "LayoutModel",
      "state": {}
     },
     "a5b7baaa752b4ffea555269d33501be5": {
      "model_module": "@jupyter-widgets/controls",
      "model_module_version": "1.2.0",
      "model_name": "DescriptionStyleModel",
      "state": {
       "description_width": ""
      }
     },
     "a5d4402efebc4ad192c01151ac90f644": {
      "model_module": "@jupyter-widgets/base",
      "model_module_version": "1.0.0",
      "model_name": "LayoutModel",
      "state": {}
     },
     "a6af5b41c3e94a6a8d7b2c777525930f": {
      "model_module": "@jupyter-widgets/base",
      "model_module_version": "1.0.0",
      "model_name": "LayoutModel",
      "state": {}
     },
     "a6f01cdf86474ec19984bf236dd2fb42": {
      "model_module": "@jupyter-widgets/base",
      "model_module_version": "1.0.0",
      "model_name": "LayoutModel",
      "state": {
       "width": "100px"
      }
     },
     "a713d21d78764fcc979a8f405773d3d3": {
      "model_module": "@jupyter-widgets/controls",
      "model_module_version": "1.2.0",
      "model_name": "ButtonStyleModel",
      "state": {}
     },
     "a7f900b748af4f91b5fe1c0c18e4aa3c": {
      "model_module": "@jupyter-widgets/controls",
      "model_module_version": "1.2.0",
      "model_name": "ButtonStyleModel",
      "state": {}
     },
     "a9256ef7843f4979922f23a1ce4ecef9": {
      "model_module": "@jupyter-widgets/base",
      "model_module_version": "1.0.0",
      "model_name": "LayoutModel",
      "state": {}
     },
     "a94e006c679742008fc12d7420941956": {
      "model_module": "@jupyter-widgets/controls",
      "model_module_version": "1.2.0",
      "model_name": "DescriptionStyleModel",
      "state": {
       "description_width": ""
      }
     },
     "aa250af875ba4b20a97ddf84268878ee": {
      "model_module": "@jupyter-widgets/controls",
      "model_module_version": "1.2.0",
      "model_name": "LabelModel",
      "state": {
       "layout": "IPY_MODEL_23d66a5d65a449499e2dc0bf893835bb",
       "style": "IPY_MODEL_a22da6abfe6c4ea9832ac58532f87f29",
       "value": "Saved 3 days ago"
      }
     },
     "aa31e356f6f74349a52ea7cefa76b792": {
      "model_module": "@jupyter-widgets/controls",
      "model_module_version": "1.2.0",
      "model_name": "DescriptionStyleModel",
      "state": {
       "description_width": ""
      }
     },
     "aaf901588b364dbf8a8c86f943db78f9": {
      "model_module": "@jupyter-widgets/controls",
      "model_module_version": "1.2.0",
      "model_name": "TextModel",
      "state": {
       "layout": "IPY_MODEL_a6af5b41c3e94a6a8d7b2c777525930f",
       "style": "IPY_MODEL_5f61866b26a840ce9807140a071fc47e"
      }
     },
     "ab42e70220bb4b858ea78078a9f06fd8": {
      "model_module": "@jupyter-widgets/controls",
      "model_module_version": "1.2.0",
      "model_name": "ButtonModel",
      "state": {
       "button_style": "info",
       "description": "Download",
       "layout": "IPY_MODEL_5ce13c25732c4533b9933c06f80c38dd",
       "style": "IPY_MODEL_9dfd34201a294f45b60564bf62553183"
      }
     },
     "ab7e5be4fbf94fcd871562955e84771c": {
      "model_module": "@jupyter-widgets/controls",
      "model_module_version": "1.2.0",
      "model_name": "DescriptionStyleModel",
      "state": {
       "description_width": ""
      }
     },
     "ad0f127ffd1a425e93d5973a92eb1788": {
      "model_module": "@jupyter-widgets/controls",
      "model_module_version": "1.2.0",
      "model_name": "HBoxModel",
      "state": {
       "children": [
        "IPY_MODEL_eb94f353fa30428ea476313990044d94",
        "IPY_MODEL_5c66042074c64828bb9d17254ee14cdf"
       ],
       "layout": "IPY_MODEL_3a962d963c894d2c94b390f5554a3af9"
      }
     },
     "ad639eae2293441dbe52d7cc518387f4": {
      "model_module": "@jupyter-widgets/controls",
      "model_module_version": "1.2.0",
      "model_name": "LabelModel",
      "state": {
       "layout": "IPY_MODEL_1e36adb404ce41699f81e9f0139d24e3",
       "style": "IPY_MODEL_7b5f190f98fb44af98340855f6c98170",
       "value": "Saved 25 hours ago"
      }
     },
     "ad87d45858c44497b1d7eeb52d23523b": {
      "model_module": "@jupyter-widgets/controls",
      "model_module_version": "1.2.0",
      "model_name": "HTMLModel",
      "state": {
       "layout": "IPY_MODEL_33150d8899de4a96be477159b627fd8f",
       "style": "IPY_MODEL_84931b8b7e52480b81ba6b1a26422240",
       "value": "<h4 style='padding:0;margin:0;'>&nbsp <a href='https://github.com/pupster90' style='color:gray'>pupster90</a> &nbsp</h4>"
      }
     },
     "af14ae6e83c04cb791c5ee949f94fc4e": {
      "model_module": "@jupyter-widgets/controls",
      "model_module_version": "1.2.0",
      "model_name": "ButtonModel",
      "state": {
       "button_style": "primary",
       "description": "Download",
       "layout": "IPY_MODEL_4e27316443364e74a26e36777da76c7a",
       "style": "IPY_MODEL_7a5ed4fa2b91476bb7a0bfa1156354cd"
      }
     },
     "b00a73057dfb4cb0a111f3cc652e6490": {
      "model_module": "@jupyter-widgets/controls",
      "model_module_version": "1.2.0",
      "model_name": "HBoxModel",
      "state": {
       "children": [
        "IPY_MODEL_59543fda4374485a91ff207ca181a9b1",
        "IPY_MODEL_6deb17932eeb4dc18881811e0fa26ab9",
        "IPY_MODEL_aa250af875ba4b20a97ddf84268878ee",
        "IPY_MODEL_73002b1703124cd7a19f809a237a63fc"
       ],
       "layout": "IPY_MODEL_cb40926c5c49422ca0b3427155a95daf"
      }
     },
     "b03bab1afa55433a881a212087f9733d": {
      "model_module": "@jupyter-widgets/controls",
      "model_module_version": "1.2.0",
      "model_name": "LabelModel",
      "state": {
       "layout": "IPY_MODEL_cbc3ba20b72d496c9cc27de45fd133ea",
       "style": "IPY_MODEL_f82374ebd7574638ba96b3012c793b85",
       "value": "Saved 2 hours ago"
      }
     },
     "b0efb94c2996483cbc87735d8348dccc": {
      "model_module": "@jupyter-widgets/base",
      "model_module_version": "1.0.0",
      "model_name": "LayoutModel",
      "state": {}
     },
     "b122c3ed1c8c44fba8d197d8bd9cc917": {
      "model_module": "@jupyter-widgets/controls",
      "model_module_version": "1.2.0",
      "model_name": "DescriptionStyleModel",
      "state": {
       "description_width": ""
      }
     },
     "b2b8ef1df4f246758bd82a4d64b6ca16": {
      "model_module": "@jupyter-widgets/controls",
      "model_module_version": "1.2.0",
      "model_name": "HTMLModel",
      "state": {
       "layout": "IPY_MODEL_cfd0fd4026a84202b2b0c1d3a9d2158a",
       "style": "IPY_MODEL_70abb7e907d1476e9e10cc0da9036598",
       "value": "<h3 style='padding:0;margin:0;'>&nbsp &nbsp &nbsp<a href='https://github.com/pupster90/Setup_Notebook.git'>Setup_Notebook</a></h3>"
      }
     },
     "b3bc7a80dd3c412e85f1f6f68fb14d34": {
      "model_module": "@jupyter-widgets/controls",
      "model_module_version": "1.2.0",
      "model_name": "DescriptionStyleModel",
      "state": {
       "description_width": ""
      }
     },
     "b4efcd827b87414393c334d64610bf24": {
      "model_module": "@jupyter-widgets/controls",
      "model_module_version": "1.2.0",
      "model_name": "DescriptionStyleModel",
      "state": {
       "description_width": ""
      }
     },
     "b5fbb6994a0f419b820f1faed810c833": {
      "model_module": "@jupyter-widgets/controls",
      "model_module_version": "1.2.0",
      "model_name": "ButtonStyleModel",
      "state": {}
     },
     "b61aca38e5c342819ca8e6232bb41d3c": {
      "model_module": "@jupyter-widgets/controls",
      "model_module_version": "1.2.0",
      "model_name": "HBoxModel",
      "state": {
       "children": [
        "IPY_MODEL_86a717e14c0046a3b3f22f1f85d296e4",
        "IPY_MODEL_595c5aaac91c40e1ae428d15038e1050",
        "IPY_MODEL_cdb38c75b58b4499a5206b52ff6e5de3"
       ],
       "layout": "IPY_MODEL_67ddc215c897403ab75ef37698c23368"
      }
     },
     "b63fd6bfb4594fc0b86906a933b16a83": {
      "model_module": "@jupyter-widgets/controls",
      "model_module_version": "1.2.0",
      "model_name": "VBoxModel",
      "state": {
       "children": [
        "IPY_MODEL_dd0821851cd647d5be0bb896d408a54e",
        "IPY_MODEL_722a8e13c9334926abeb2607ff8f0c93",
        "IPY_MODEL_02bc7bb852824fd8830de085fb1e74ab",
        "IPY_MODEL_9f221a7681914b3e9599632838e3657c"
       ],
       "layout": "IPY_MODEL_f9f380a72c504816b1bf9981eacd621f"
      }
     },
     "b6504b64816742c7b75cd8aaf51c99f5": {
      "model_module": "@jupyter-widgets/controls",
      "model_module_version": "1.2.0",
      "model_name": "ButtonModel",
      "state": {
       "button_style": "primary",
       "description": "Download",
       "layout": "IPY_MODEL_537e430ffe99483da93e3ff23822317f",
       "style": "IPY_MODEL_a713d21d78764fcc979a8f405773d3d3"
      }
     },
     "b65ba05ab1d2467c8da90da728d2f470": {
      "model_module": "@jupyter-widgets/base",
      "model_module_version": "1.0.0",
      "model_name": "LayoutModel",
      "state": {}
     },
     "b6e1931982754c87b4c7207bc4a7d915": {
      "model_module": "@jupyter-widgets/controls",
      "model_module_version": "1.2.0",
      "model_name": "HBoxModel",
      "state": {
       "children": [
        "IPY_MODEL_428a7da6a22c4f509abb5d4576605a59",
        "IPY_MODEL_428287297b0d4ff981e945bd274147e7",
        "IPY_MODEL_b03bab1afa55433a881a212087f9733d",
        "IPY_MODEL_c3d57bc13b754ea9b2e2f3a97ae36c29"
       ],
       "layout": "IPY_MODEL_f0f6af96ceb048b8890a11696b07c6a4"
      }
     },
     "b7a01b06428348619e25481b94cea03d": {
      "model_module": "@jupyter-widgets/controls",
      "model_module_version": "1.2.0",
      "model_name": "LabelModel",
      "state": {
       "layout": "IPY_MODEL_bad0a8a666f8492d84f2762875b535bb",
       "style": "IPY_MODEL_4c4981d3892b4492b7ddb6ec03e7c8c5",
       "value": "Saved 3 days ago"
      }
     },
     "b7f1cf50facb49f7bd8f226387d799e0": {
      "model_module": "@jupyter-widgets/controls",
      "model_module_version": "1.2.0",
      "model_name": "ButtonStyleModel",
      "state": {}
     },
     "b8fa66d77d424a2e9976e0379c9c328c": {
      "model_module": "@jupyter-widgets/controls",
      "model_module_version": "1.2.0",
      "model_name": "DescriptionStyleModel",
      "state": {
       "description_width": ""
      }
     },
     "b98a1dc3d5aa4de1a300ac3e2348bf92": {
      "model_module": "@jupyter-widgets/controls",
      "model_module_version": "1.2.0",
      "model_name": "HBoxModel",
      "state": {
       "children": [
        "IPY_MODEL_89c0b520ef9548fd88c52e98c74c3b8b",
        "IPY_MODEL_3a50f7b6767a455c88ed3a27e301d9df",
        "IPY_MODEL_9e0f49e9a3cc4cce9751ad51e09a3fb4",
        "IPY_MODEL_f646d3d7183b425f97780a38032c4ee1"
       ],
       "layout": "IPY_MODEL_f6b78c3be4954742a2513b1bae4a3e5a"
      }
     },
     "b9f0508e7ce345f8b5a5f96e0f5e6399": {
      "model_module": "@jupyter-widgets/controls",
      "model_module_version": "1.2.0",
      "model_name": "ButtonModel",
      "state": {
       "button_style": "success",
       "description": "Publish",
       "layout": "IPY_MODEL_15ce0cc02e7e4aa6a640041c123c6679",
       "style": "IPY_MODEL_9c6c8c4fe95244029413a3ec0074a525"
      }
     },
     "bad0a8a666f8492d84f2762875b535bb": {
      "model_module": "@jupyter-widgets/base",
      "model_module_version": "1.0.0",
      "model_name": "LayoutModel",
      "state": {
       "width": "130px"
      }
     },
     "bb167d56cdce43769283fd9d15eef47c": {
      "model_module": "@jupyter-widgets/base",
      "model_module_version": "1.0.0",
      "model_name": "LayoutModel",
      "state": {}
     },
     "bb6899bdfec64750b9cf624bfe4d2079": {
      "model_module": "@jupyter-widgets/controls",
      "model_module_version": "1.2.0",
      "model_name": "DescriptionStyleModel",
      "state": {
       "description_width": ""
      }
     },
     "bb792a6b3dbd44858c569b726ada593b": {
      "model_module": "@jupyter-widgets/controls",
      "model_module_version": "1.2.0",
      "model_name": "ButtonStyleModel",
      "state": {}
     },
     "bbb48c7c007d4c0081e1bb593b0fb913": {
      "model_module": "@jupyter-widgets/base",
      "model_module_version": "1.0.0",
      "model_name": "LayoutModel",
      "state": {
       "width": "auto"
      }
     },
     "bc6e7b4859f84003be3275f95e1a098d": {
      "model_module": "@jupyter-widgets/controls",
      "model_module_version": "1.2.0",
      "model_name": "HTMLModel",
      "state": {
       "layout": "IPY_MODEL_959e3a4f1ee74bbab1ddfcadb9c70497",
       "style": "IPY_MODEL_61fdacc2b505479dba8f508ce732358d",
       "value": "<h3 style='padding:0;margin:0;'>&nbsp &nbsp &nbsp<a href='https://github.com/pupster90/Kubernetes-on-google-cloud.git'>Kubernetes-on-google-cloud</a></h3>"
      }
     },
     "bcdb0b315ede4d3ebacdcc38fce42aab": {
      "model_module": "@jupyter-widgets/controls",
      "model_module_version": "1.2.0",
      "model_name": "ButtonStyleModel",
      "state": {}
     },
     "bd34728cca034ba7a229e2ef53be0832": {
      "model_module": "@jupyter-widgets/controls",
      "model_module_version": "1.2.0",
      "model_name": "HBoxModel",
      "state": {
       "children": [
        "IPY_MODEL_3db2c46c8b384ad0ac5eeeaebd7779d0",
        "IPY_MODEL_2c5269f9685347cf9932a51f7fce9fba",
        "IPY_MODEL_6bba3a58882246d3bd9867495c27494c",
        "IPY_MODEL_99ba6dff3c6d4522baa14bdb916a58f2",
        "IPY_MODEL_fa3e8c1428e24f128e60745cbdbf51c1",
        "IPY_MODEL_9b8e52ca18334401a53b894dd88f00d7"
       ],
       "layout": "IPY_MODEL_0e3a0f2050f549c580310610d2d141d9"
      }
     },
     "be9c0509ce7e48a586230794416d78f7": {
      "model_module": "@jupyter-widgets/controls",
      "model_module_version": "1.2.0",
      "model_name": "ButtonModel",
      "state": {
       "button_style": "success",
       "description": "Publish",
       "layout": "IPY_MODEL_8a16829faddc4e6cb98651ba49e4b306",
       "style": "IPY_MODEL_24d4f6e68651442e9c1febabb19b4cbd"
      }
     },
     "bec645face8a4669901ed848dd38106f": {
      "model_module": "@jupyter-widgets/base",
      "model_module_version": "1.0.0",
      "model_name": "LayoutModel",
      "state": {
       "width": "auto"
      }
     },
     "bf636c360c7e43fd99fc9498a2c550bb": {
      "model_module": "@jupyter-widgets/base",
      "model_module_version": "1.0.0",
      "model_name": "LayoutModel",
      "state": {}
     },
     "c12ca6936fdf4f56a5a85ca198f7ca80": {
      "model_module": "@jupyter-widgets/controls",
      "model_module_version": "1.2.0",
      "model_name": "HTMLModel",
      "state": {
       "layout": "IPY_MODEL_27207de9dc134242be0ff2eaff9ad18a",
       "style": "IPY_MODEL_ce3d3d9267df4dc68ea5996ad3cbfe38",
       "value": "<h3 style='padding:0;margin:0;'>&nbsp &nbsp &nbsp<a href='https://github.com/pupster90/io_Presentation.git'>io_Presentation</a></h3>"
      }
     },
     "c282fbcdbf074e4bbd38241f5adfe8b0": {
      "model_module": "@jupyter-widgets/controls",
      "model_module_version": "1.2.0",
      "model_name": "DescriptionStyleModel",
      "state": {
       "description_width": ""
      }
     },
     "c2d7cabafb654e059edd54bdde1829bc": {
      "model_module": "@jupyter-widgets/controls",
      "model_module_version": "1.2.0",
      "model_name": "VBoxModel",
      "state": {
       "children": [
        "IPY_MODEL_0c8caa5fb0a8448faccc4b4c1801e373",
        "IPY_MODEL_70d96fbb3a43487b9f3101ee48847a90"
       ],
       "layout": "IPY_MODEL_4f1f3875e5614bfcb6a5d76a480f0a55"
      }
     },
     "c33d1fe668714d12b6586feab3c280bc": {
      "model_module": "@jupyter-widgets/base",
      "model_module_version": "1.0.0",
      "model_name": "LayoutModel",
      "state": {
       "align_items": "center"
      }
     },
     "c37044b4c39d493fba925c13e700e1d0": {
      "model_module": "@jupyter-widgets/controls",
      "model_module_version": "1.2.0",
      "model_name": "DescriptionStyleModel",
      "state": {
       "description_width": ""
      }
     },
     "c3d57bc13b754ea9b2e2f3a97ae36c29": {
      "model_module": "@jupyter-widgets/controls",
      "model_module_version": "1.2.0",
      "model_name": "HTMLModel",
      "state": {
       "layout": "IPY_MODEL_7f7cf13bb7b04a3793978f6ddcc63a64",
       "style": "IPY_MODEL_425b265eb32f4496ae2bc782c41c97b3",
       "value": "<h3 style='padding:0;margin:0;'>&nbsp &nbsp &nbsp<a href='https://github.com/pupster90/Public_Profile.git'>Public_Profile</a></h3>"
      }
     },
     "c40982396e76467da46117d81df9de6f": {
      "model_module": "@jupyter-widgets/controls",
      "model_module_version": "1.2.0",
      "model_name": "DescriptionStyleModel",
      "state": {
       "description_width": ""
      }
     },
     "c460779b51f7424383dd3645f15265f9": {
      "model_module": "@jupyter-widgets/controls",
      "model_module_version": "1.2.0",
      "model_name": "HTMLModel",
      "state": {
       "layout": "IPY_MODEL_bf636c360c7e43fd99fc9498a2c550bb",
       "style": "IPY_MODEL_2da1402242d141c48bff12883459b965",
       "value": "<h3 style='padding:0;margin:0;'>&nbsp &nbsp &nbsp<a href='https://github.com/pupster90/xqueue-watcher.git'>xqueue-watcher</a></h3>"
      }
     },
     "c475431a087e40fdb4271bcd52f299f8": {
      "model_module": "@jupyter-widgets/controls",
      "model_module_version": "1.2.0",
      "model_name": "HTMLModel",
      "state": {
       "layout": "IPY_MODEL_6bdffaa05b294903bd79505c40a64438",
       "style": "IPY_MODEL_2897a044d45b47218092b86d6f81b4a3",
       "value": "<h3 style='padding:0;margin:0;'>&nbsp &nbsp &nbsp<a href='https://github.com/pupster90/Setup_Notebook.git'>Setup_Notebook</a></h3>"
      }
     },
     "c5002a8b827c415fb222bad8a96e6613": {
      "model_module": "@jupyter-widgets/controls",
      "model_module_version": "1.2.0",
      "model_name": "HTMLModel",
      "state": {
       "layout": "IPY_MODEL_5025a0b2e73c4c348e13e10ef9dd009d",
       "style": "IPY_MODEL_881cf68587ff49bba67d140f2df0ed57",
       "value": "<h3 style='padding:0;margin:0;'>&nbsp &nbsp &nbsp<a href='https://github.com/pupster90/io_Presentation.git'>io_Presentation</a></h3>"
      }
     },
     "c5049aa9d80d45758d21e7950c0d190d": {
      "model_module": "@jupyter-widgets/controls",
      "model_module_version": "1.2.0",
      "model_name": "ButtonStyleModel",
      "state": {}
     },
     "c5f2c5b9c9624f59a211475a47dc4b43": {
      "model_module": "@jupyter-widgets/base",
      "model_module_version": "1.0.0",
      "model_name": "LayoutModel",
      "state": {}
     },
     "c646c8360f804217b3a7151b46531610": {
      "model_module": "@jupyter-widgets/controls",
      "model_module_version": "1.2.0",
      "model_name": "ValidModel",
      "state": {
       "layout": "IPY_MODEL_fe28a982ab764ecb9ffb45ebc0c0b193",
       "style": "IPY_MODEL_dfbc1521bb534fcb8c5b3ed0c94fa1a8"
      }
     },
     "c67e2019a26d4368890d304dd26302cd": {
      "model_module": "@jupyter-widgets/base",
      "model_module_version": "1.0.0",
      "model_name": "LayoutModel",
      "state": {}
     },
     "c8b8fed60b8a41888c11c72cc7adddd2": {
      "model_module": "@jupyter-widgets/base",
      "model_module_version": "1.0.0",
      "model_name": "LayoutModel",
      "state": {}
     },
     "c8d424e35b7940ac89c43202564fa36a": {
      "model_module": "@jupyter-widgets/controls",
      "model_module_version": "1.2.0",
      "model_name": "HTMLModel",
      "state": {
       "layout": "IPY_MODEL_41cdb103e9e34877bdc9762f27f4ba15",
       "style": "IPY_MODEL_3ed910908d4349ceb3b913dfd8648c38",
       "value": "<h3 style='padding:0;margin:0;'>&nbsp &nbsp &nbsp<a href='https://github.com/pupster90/io_docker_setup.git'>io_docker_setup</a></h3>"
      }
     },
     "c94970aa406d406f96c0ab76718e5662": {
      "model_module": "@jupyter-widgets/base",
      "model_module_version": "1.0.0",
      "model_name": "LayoutModel",
      "state": {
       "width": "auto"
      }
     },
     "c994d28942ba4f6aa822decf954231e3": {
      "model_module": "@jupyter-widgets/controls",
      "model_module_version": "1.2.0",
      "model_name": "HTMLModel",
      "state": {
       "layout": "IPY_MODEL_eaa8f54448df4296ad40d7bfec4b65a8",
       "style": "IPY_MODEL_853f5e676e0947d2a708038c5b340a35",
       "value": "<h3 style='padding:0;margin:0;'>&nbsp &nbsp &nbsp<a href='https://github.com/pupster90/indra_easy.git'>indra_easy</a></h3>"
      }
     },
     "c9a404da740e443d918bf7d0e7210b6e": {
      "model_module": "@jupyter-widgets/base",
      "model_module_version": "1.0.0",
      "model_name": "LayoutModel",
      "state": {}
     },
     "ca1243bdd79c4fbbaff15ab681176e8a": {
      "model_module": "@jupyter-widgets/controls",
      "model_module_version": "1.2.0",
      "model_name": "ButtonModel",
      "state": {
       "button_style": "primary",
       "description": "Download",
       "layout": "IPY_MODEL_bbb48c7c007d4c0081e1bb593b0fb913",
       "style": "IPY_MODEL_721e4dd81b6b4ecebeb5a72687bbdcd7"
      }
     },
     "cb40926c5c49422ca0b3427155a95daf": {
      "model_module": "@jupyter-widgets/base",
      "model_module_version": "1.0.0",
      "model_name": "LayoutModel",
      "state": {
       "align_items": "center"
      }
     },
     "cb8993a6443c41ba803563285cc8cd34": {
      "model_module": "@jupyter-widgets/controls",
      "model_module_version": "1.2.0",
      "model_name": "DescriptionStyleModel",
      "state": {
       "description_width": ""
      }
     },
     "cbc3ba20b72d496c9cc27de45fd133ea": {
      "model_module": "@jupyter-widgets/base",
      "model_module_version": "1.0.0",
      "model_name": "LayoutModel",
      "state": {
       "width": "130px"
      }
     },
     "cc107f45edc54bc59ad6d7a226b6ee9f": {
      "model_module": "@jupyter-widgets/controls",
      "model_module_version": "1.2.0",
      "model_name": "ButtonStyleModel",
      "state": {}
     },
     "cc4ff00f108f43f29cf7f3e481ab60a2": {
      "model_module": "@jupyter-widgets/base",
      "model_module_version": "1.0.0",
      "model_name": "LayoutModel",
      "state": {}
     },
     "cd25e9c8e53a430f832ec382330dca91": {
      "model_module": "@jupyter-widgets/base",
      "model_module_version": "1.0.0",
      "model_name": "LayoutModel",
      "state": {}
     },
     "cd4ce9c953d14ce895b7a8ffc50d29b3": {
      "model_module": "@jupyter-widgets/controls",
      "model_module_version": "1.2.0",
      "model_name": "DescriptionStyleModel",
      "state": {
       "description_width": ""
      }
     },
     "cdb38c75b58b4499a5206b52ff6e5de3": {
      "model_module": "@jupyter-widgets/controls",
      "model_module_version": "1.2.0",
      "model_name": "HTMLModel",
      "state": {
       "layout": "IPY_MODEL_8f4e0cb2b2674e43b52c872b155d0542",
       "style": "IPY_MODEL_2486270524714d57a890278c4aa58ec6",
       "value": "<h3 style='padding:0;margin:0;'>&nbsp &nbsp &nbsp<a href='https://github.com/pupster90/Ideker_Online.git'>Ideker_Online</a></h3>"
      }
     },
     "ce3d3d9267df4dc68ea5996ad3cbfe38": {
      "model_module": "@jupyter-widgets/controls",
      "model_module_version": "1.2.0",
      "model_name": "DescriptionStyleModel",
      "state": {
       "description_width": ""
      }
     },
     "ce61b516b5954d269e5dba96003f053d": {
      "model_module": "@jupyter-widgets/controls",
      "model_module_version": "1.2.0",
      "model_name": "ButtonStyleModel",
      "state": {}
     },
     "cee1a3c0d5d94c3aa6e42220cd0c76e0": {
      "model_module": "@jupyter-widgets/base",
      "model_module_version": "1.0.0",
      "model_name": "LayoutModel",
      "state": {
       "align_items": "center"
      }
     },
     "cfd0fd4026a84202b2b0c1d3a9d2158a": {
      "model_module": "@jupyter-widgets/base",
      "model_module_version": "1.0.0",
      "model_name": "LayoutModel",
      "state": {}
     },
     "d0007725a2074b4c8efb306ee1a49229": {
      "model_module": "@jupyter-widgets/controls",
      "model_module_version": "1.2.0",
      "model_name": "DescriptionStyleModel",
      "state": {
       "description_width": ""
      }
     },
     "d01a91610eb14789a911cc7159446a9b": {
      "model_module": "@jupyter-widgets/controls",
      "model_module_version": "1.2.0",
      "model_name": "HBoxModel",
      "state": {
       "children": [
        "IPY_MODEL_08483044e8dd42409a04f6b1589c92b0",
        "IPY_MODEL_c12ca6936fdf4f56a5a85ca198f7ca80"
       ],
       "layout": "IPY_MODEL_cee1a3c0d5d94c3aa6e42220cd0c76e0"
      }
     },
     "d0426ebde8854df6a2e527993da91aa3": {
      "model_module": "@jupyter-widgets/controls",
      "model_module_version": "1.2.0",
      "model_name": "HTMLModel",
      "state": {
       "layout": "IPY_MODEL_a571339548fc4417a86feec58daee1c6",
       "style": "IPY_MODEL_25715c9fa2c245f5998dda8e5987d9fd",
       "value": "<h3 style='padding:0;margin:0;'>&nbsp &nbsp &nbsp<a href='https://github.com/pupster90/Setup_Notebook.git'>Setup_Notebook</a></h3>"
      }
     },
     "d088331b58c144cea484b0c02f747c3a": {
      "model_module": "@jupyter-widgets/base",
      "model_module_version": "1.0.0",
      "model_name": "LayoutModel",
      "state": {
       "justify_content": "center",
       "padding": "15px 0 0 0"
      }
     },
     "d0ced9e7fa8141d18719eb1ab349550d": {
      "model_module": "@jupyter-widgets/controls",
      "model_module_version": "1.2.0",
      "model_name": "ButtonModel",
      "state": {
       "button_style": "primary",
       "description": "Download",
       "layout": "IPY_MODEL_25d3e493a17a4031adaaf80c5bf0ce9e",
       "style": "IPY_MODEL_5d31d7f946354778914771dd8b3be8bd"
      }
     },
     "d10c556f7f2a47159a6c17cc7893f592": {
      "model_module": "@jupyter-widgets/base",
      "model_module_version": "1.0.0",
      "model_name": "LayoutModel",
      "state": {}
     },
     "d1895668026c4192a2178c1cad614a3e": {
      "model_module": "@jupyter-widgets/controls",
      "model_module_version": "1.2.0",
      "model_name": "ButtonModel",
      "state": {
       "button_style": "primary",
       "description": "Download",
       "layout": "IPY_MODEL_081543b88a8d4314842d408a4b98a698",
       "style": "IPY_MODEL_1d73fc64e57347caa4a74bf468645ce9"
      }
     },
     "d2720757d6634e93be05c258a63bb55a": {
      "model_module": "@jupyter-widgets/base",
      "model_module_version": "1.0.0",
      "model_name": "LayoutModel",
      "state": {
       "width": "100px"
      }
     },
     "d2921a794b74410799d994caba21f590": {
      "model_module": "@jupyter-widgets/controls",
      "model_module_version": "1.2.0",
      "model_name": "HBoxModel",
      "state": {
       "children": [
        "IPY_MODEL_b9f0508e7ce345f8b5a5f96e0f5e6399",
        "IPY_MODEL_291f214f0e644865b4f8ca66dd8fb83a",
        "IPY_MODEL_809c34a94ca4485abaa3520c4bb857a6",
        "IPY_MODEL_dcead6c8b3a24875827be5bbd002b36d"
       ],
       "layout": "IPY_MODEL_83828c35479a43739d2f84dd4df2301d"
      }
     },
     "d2b0dee5f661459cb98bd5203132247f": {
      "model_module": "@jupyter-widgets/controls",
      "model_module_version": "1.2.0",
      "model_name": "ButtonStyleModel",
      "state": {}
     },
     "d363b676d27740dd8934406ed84bfc8d": {
      "model_module": "@jupyter-widgets/controls",
      "model_module_version": "1.2.0",
      "model_name": "LabelModel",
      "state": {
       "layout": "IPY_MODEL_62435ae9c4f64ad6a189125862a0bae6",
       "style": "IPY_MODEL_0f3581e9002242308a73e5ac6bcf616c",
       "value": "1 hour ago"
      }
     },
     "d3d4b756fbcd4f53abcaae218c25c440": {
      "model_module": "@jupyter-widgets/controls",
      "model_module_version": "1.2.0",
      "model_name": "DescriptionStyleModel",
      "state": {
       "description_width": ""
      }
     },
     "d46d696946c14f3aa781c7b7e62e96ed": {
      "model_module": "@jupyter-widgets/controls",
      "model_module_version": "1.2.0",
      "model_name": "HBoxModel",
      "state": {
       "children": [
        "IPY_MODEL_e3d3b8c67a0c4c17b0b562c82d028b77",
        "IPY_MODEL_9a21fa9061334d658b08a9f714d75101"
       ],
       "layout": "IPY_MODEL_6730d0b473f64a259e3b323a68c17123"
      }
     },
     "d4b38c055c154ddfafbe8ce63e497fd6": {
      "model_module": "@jupyter-widgets/controls",
      "model_module_version": "1.2.0",
      "model_name": "HBoxModel",
      "state": {
       "children": [
        "IPY_MODEL_9f87cb25b75347c4b0101e9ba48461a0",
        "IPY_MODEL_2f9d401698a144f2be6bc2fce3dd4fcf",
        "IPY_MODEL_f7743d822e614ba2a75fd73bc4fa7df8",
        "IPY_MODEL_b2b8ef1df4f246758bd82a4d64b6ca16"
       ],
       "layout": "IPY_MODEL_1790673bc5e64f80a731734ce3a5737f"
      }
     },
     "d4bd21a082e340e8a7f9fe48d7787245": {
      "model_module": "@jupyter-widgets/controls",
      "model_module_version": "1.2.0",
      "model_name": "DescriptionStyleModel",
      "state": {
       "description_width": ""
      }
     },
     "d4d93b880aa4466ea081ef2b51f9557a": {
      "model_module": "@jupyter-widgets/base",
      "model_module_version": "1.0.0",
      "model_name": "LayoutModel",
      "state": {
       "width": "auto"
      }
     },
     "d51f38fc8b044a91b4bdbbf3b4078fb9": {
      "model_module": "@jupyter-widgets/controls",
      "model_module_version": "1.2.0",
      "model_name": "DescriptionStyleModel",
      "state": {
       "description_width": ""
      }
     },
     "d520cfda350043128cf7229ded26ec41": {
      "model_module": "@jupyter-widgets/controls",
      "model_module_version": "1.2.0",
      "model_name": "HBoxModel",
      "state": {
       "children": [
        "IPY_MODEL_8d994f5838c74b47893673bb9737d614",
        "IPY_MODEL_bc6e7b4859f84003be3275f95e1a098d"
       ],
       "layout": "IPY_MODEL_756789d0e1d0435bbb1d87844b8e7592"
      }
     },
     "d5fdc8dc102943eaafb2f6ee0a471f61": {
      "model_module": "@jupyter-widgets/controls",
      "model_module_version": "1.2.0",
      "model_name": "DescriptionStyleModel",
      "state": {
       "description_width": ""
      }
     },
     "d6049d6a66a740229aec9766533c579f": {
      "model_module": "@jupyter-widgets/controls",
      "model_module_version": "1.2.0",
      "model_name": "ButtonStyleModel",
      "state": {}
     },
     "d633b1fd593d4492b3465696441493d0": {
      "model_module": "@jupyter-widgets/controls",
      "model_module_version": "1.2.0",
      "model_name": "HTMLModel",
      "state": {
       "layout": "IPY_MODEL_3b400431ff6546f99fc982e2856637e7",
       "style": "IPY_MODEL_aa31e356f6f74349a52ea7cefa76b792",
       "value": "<h3 style='padding:0;margin:0;'>&nbsp &nbsp &nbsp<a href='https://github.com/pupster90/My_First_Research_Paper.git'>My_First_Research_Paper</a></h3>"
      }
     },
     "d6bf43ec4ee34fdf972ac5b83c8e3203": {
      "model_module": "@jupyter-widgets/controls",
      "model_module_version": "1.2.0",
      "model_name": "HBoxModel",
      "state": {
       "children": [
        "IPY_MODEL_8c54215c33914315a913b6f4f7140dfa",
        "IPY_MODEL_f521f3477292489496f9377205393ba8",
        "IPY_MODEL_b7a01b06428348619e25481b94cea03d",
        "IPY_MODEL_5b22a4d73e3640d5aeeaf44fa9e888b3"
       ],
       "layout": "IPY_MODEL_f9a64fedf9d14742a73355a8ac2fc8dc"
      }
     },
     "d6f1b7e5921547eebc097333d324a733": {
      "model_module": "@jupyter-widgets/controls",
      "model_module_version": "1.2.0",
      "model_name": "DescriptionStyleModel",
      "state": {
       "description_width": ""
      }
     },
     "d847ad28c30a432e9e7766c3d36e8855": {
      "model_module": "@jupyter-widgets/controls",
      "model_module_version": "1.2.0",
      "model_name": "HBoxModel",
      "state": {
       "children": [
        "IPY_MODEL_6de001105ba247e8a042234686b136c1",
        "IPY_MODEL_34611c612c3644f590de72969d80eeaa",
        "IPY_MODEL_a1111bb1b84d4fb0bcf5d06421615946",
        "IPY_MODEL_8fa35d60fe0146be96d86b68bc090c41",
        "IPY_MODEL_fe53c4d3271b496fb92c7702b05ae29f",
        "IPY_MODEL_562d025e22da44d0bdcaf67765522925"
       ],
       "layout": "IPY_MODEL_90951e1149aa43db9da20c96887157e0"
      }
     },
     "d8b36a7bf143480aa3cc9feccb3bb626": {
      "model_module": "@jupyter-widgets/base",
      "model_module_version": "1.0.0",
      "model_name": "LayoutModel",
      "state": {
       "width": "100px"
      }
     },
     "d9942f1b0a464711b7db08ce8b839ea1": {
      "model_module": "@jupyter-widgets/controls",
      "model_module_version": "1.2.0",
      "model_name": "ButtonStyleModel",
      "state": {}
     },
     "d9a52544a842498b9fc03c6b63538f2a": {
      "model_module": "@jupyter-widgets/controls",
      "model_module_version": "1.2.0",
      "model_name": "ButtonStyleModel",
      "state": {}
     },
     "dabda0402e714c6fab86a3448cc33585": {
      "model_module": "@jupyter-widgets/controls",
      "model_module_version": "1.2.0",
      "model_name": "HTMLModel",
      "state": {
       "layout": "IPY_MODEL_d10c556f7f2a47159a6c17cc7893f592",
       "style": "IPY_MODEL_5ef7efada0774226b9eeced98f701c35",
       "value": "<font color='orange'> &nbsp Stars: 0</font>"
      }
     },
     "dc988571deb445bfb1cc39fc60dbfef3": {
      "model_module": "@jupyter-widgets/base",
      "model_module_version": "1.0.0",
      "model_name": "LayoutModel",
      "state": {}
     },
     "dcead6c8b3a24875827be5bbd002b36d": {
      "model_module": "@jupyter-widgets/controls",
      "model_module_version": "1.2.0",
      "model_name": "HTMLModel",
      "state": {
       "layout": "IPY_MODEL_1ceeb95abd0e46c8ac625fe56ca24177",
       "style": "IPY_MODEL_ddc9ebaea39a41229e890c3e8d31c218",
       "value": "<h3 style='padding:0;margin:0;'>&nbsp &nbsp &nbsp<a href='https://github.com/pupster90/Public_Profile.git'>Public_Profile</a></h3>"
      }
     },
     "dd0821851cd647d5be0bb896d408a54e": {
      "model_module": "@jupyter-widgets/controls",
      "model_module_version": "1.2.0",
      "model_name": "HTMLModel",
      "state": {
       "layout": "IPY_MODEL_205ed3d741634ac2b83bf3df0ea29c07",
       "style": "IPY_MODEL_5bb030d018624f979a363f1fbd0f975c",
       "value": "<h3 class='text-center'><font color='green'>Login</font> to <a stc='https://github.com/'>Github</a><h3>"
      }
     },
     "dd46af00a55945de9e89df8fe7494278": {
      "model_module": "@jupyter-widgets/controls",
      "model_module_version": "1.2.0",
      "model_name": "HTMLModel",
      "state": {
       "layout": "IPY_MODEL_e5d402594280487b87e804a69a9d940a",
       "style": "IPY_MODEL_90d4863139954aaeb033c3d5f542dbbd",
       "value": "<h3 style='padding:0;margin:0;'>&nbsp &nbsp &nbsp<a href='https://github.com/pupster90/Cytoscape.git'>Cytoscape</a></h3>"
      }
     },
     "dd6b3569130d44d8a3b90cee738890c5": {
      "model_module": "@jupyter-widgets/base",
      "model_module_version": "1.0.0",
      "model_name": "LayoutModel",
      "state": {}
     },
     "ddad2c5af27a4f95915f87ce02db88d3": {
      "model_module": "@jupyter-widgets/base",
      "model_module_version": "1.0.0",
      "model_name": "LayoutModel",
      "state": {
       "align_items": "center"
      }
     },
     "ddc9ebaea39a41229e890c3e8d31c218": {
      "model_module": "@jupyter-widgets/controls",
      "model_module_version": "1.2.0",
      "model_name": "DescriptionStyleModel",
      "state": {
       "description_width": ""
      }
     },
     "de21c1aecc964a308e305d0665909617": {
      "model_module": "@jupyter-widgets/base",
      "model_module_version": "1.0.0",
      "model_name": "LayoutModel",
      "state": {
       "width": "auto"
      }
     },
     "de5f594fcae94b59a1a56f4ecfda594b": {
      "model_module": "@jupyter-widgets/controls",
      "model_module_version": "1.2.0",
      "model_name": "DescriptionStyleModel",
      "state": {
       "description_width": ""
      }
     },
     "dec49c0e99824b28b82c578b57e44a79": {
      "model_module": "@jupyter-widgets/controls",
      "model_module_version": "1.2.0",
      "model_name": "ButtonStyleModel",
      "state": {}
     },
     "df4d3a98ff3c4188a0b5c49da1f6350f": {
      "model_module": "@jupyter-widgets/controls",
      "model_module_version": "1.2.0",
      "model_name": "HBoxModel",
      "state": {
       "children": [
        "IPY_MODEL_89029d2f0dcd436b964e5a9fc657dfce",
        "IPY_MODEL_2d2b6b9874254e3f87b2f8a0e6d2e4c0",
        "IPY_MODEL_f018dede280f4a3e84ec99f9d141eb41",
        "IPY_MODEL_a10b1b0f78f041ecb2955e109cfc7285"
       ],
       "layout": "IPY_MODEL_8db84b6a0e564a59afaa12bd62d7707e"
      }
     },
     "df58821700764943950f737d56e97404": {
      "model_module": "@jupyter-widgets/controls",
      "model_module_version": "1.2.0",
      "model_name": "ButtonModel",
      "state": {
       "button_style": "primary",
       "description": "Download",
       "layout": "IPY_MODEL_1084c973171b4ffd9902eaeaaf4b70bd",
       "style": "IPY_MODEL_142e80c73a5d48a1937bf50a4e0539a7"
      }
     },
     "df76e25af5644b00b57a4c3ebea1238c": {
      "model_module": "@jupyter-widgets/controls",
      "model_module_version": "1.2.0",
      "model_name": "ButtonModel",
      "state": {
       "button_style": "primary",
       "description": "Download",
       "layout": "IPY_MODEL_c94970aa406d406f96c0ab76718e5662",
       "style": "IPY_MODEL_443a780c43bd435cadaadaafd96f8f11"
      }
     },
     "dfae315e188f43a6993648cbcd568b0b": {
      "model_module": "@jupyter-widgets/base",
      "model_module_version": "1.0.0",
      "model_name": "LayoutModel",
      "state": {
       "align_items": "center"
      }
     },
     "dfbc1521bb534fcb8c5b3ed0c94fa1a8": {
      "model_module": "@jupyter-widgets/controls",
      "model_module_version": "1.2.0",
      "model_name": "DescriptionStyleModel",
      "state": {
       "description_width": ""
      }
     },
     "e0e1098b654a41d082d7e7b7d68c924f": {
      "model_module": "@jupyter-widgets/controls",
      "model_module_version": "1.2.0",
      "model_name": "HTMLModel",
      "state": {
       "layout": "IPY_MODEL_ec828bda25d745f0a7fc26d10e939caf",
       "style": "IPY_MODEL_f050bc8ba3854650a46cdb05e9b7199d",
       "value": "<h3 style='padding:0;margin:0;'>&nbsp &nbsp &nbsp<a href='https://github.com/pupster90/jupyter-wysiwyg.git'>jupyter-wysiwyg</a></h3>"
      }
     },
     "e1367aa35bb8405d8fc55a9287caf614": {
      "model_module": "@jupyter-widgets/controls",
      "model_module_version": "1.2.0",
      "model_name": "DescriptionStyleModel",
      "state": {
       "description_width": ""
      }
     },
     "e1923c50012e4a89bea3856ea204091b": {
      "model_module": "@jupyter-widgets/base",
      "model_module_version": "1.0.0",
      "model_name": "LayoutModel",
      "state": {
       "align_items": "center"
      }
     },
     "e217593730404ebcb8b3043b5b45df39": {
      "model_module": "@jupyter-widgets/base",
      "model_module_version": "1.0.0",
      "model_name": "LayoutModel",
      "state": {
       "width": "auto"
      }
     },
     "e25617dc06c541d9a804681019268eb6": {
      "model_module": "@jupyter-widgets/controls",
      "model_module_version": "1.2.0",
      "model_name": "HTMLModel",
      "state": {
       "layout": "IPY_MODEL_74c4e073d3844aba8bbef5079dbb045f",
       "style": "IPY_MODEL_e1367aa35bb8405d8fc55a9287caf614",
       "value": "<h3 style='padding:0;margin:0;'>&nbsp &nbsp &nbsp<a href='https://github.com/pupster90/Setup_Notebook.git'>Setup_Notebook</a></h3>"
      }
     },
     "e3caa6d726bd4aa9b4e0f8a50d6c6665": {
      "model_module": "@jupyter-widgets/controls",
      "model_module_version": "1.2.0",
      "model_name": "ButtonModel",
      "state": {
       "button_style": "primary",
       "description": "Download",
       "layout": "IPY_MODEL_536db62880f2420cb6438b58cdf80637",
       "style": "IPY_MODEL_04d5f612d0204c2296ce5e07048cce5c"
      }
     },
     "e3d3b8c67a0c4c17b0b562c82d028b77": {
      "model_module": "@jupyter-widgets/controls",
      "model_module_version": "1.2.0",
      "model_name": "ButtonModel",
      "state": {
       "button_style": "primary",
       "description": "Download",
       "layout": "IPY_MODEL_58c04ef8c7694dd799522f249b06b9e6",
       "style": "IPY_MODEL_bb792a6b3dbd44858c569b726ada593b"
      }
     },
     "e402a229ea6040b59b2f2ce0161f2617": {
      "model_module": "@jupyter-widgets/base",
      "model_module_version": "1.0.0",
      "model_name": "LayoutModel",
      "state": {}
     },
     "e435d08d330a490aae3fea839665422a": {
      "model_module": "@jupyter-widgets/controls",
      "model_module_version": "1.2.0",
      "model_name": "HTMLModel",
      "state": {
       "layout": "IPY_MODEL_9ef09954b7cb4f2e87182e7afa5666d7",
       "style": "IPY_MODEL_d6f1b7e5921547eebc097333d324a733",
       "value": "<h3 style='padding:0;margin:0;'>&nbsp &nbsp &nbsp<a href='https://github.com/pupster90/indra_me.git'>indra_me</a></h3>"
      }
     },
     "e451131b9c094d85acc1317b6c225168": {
      "model_module": "@jupyter-widgets/controls",
      "model_module_version": "1.2.0",
      "model_name": "DescriptionStyleModel",
      "state": {
       "description_width": ""
      }
     },
     "e4762c2d5ece41bf946a1a50d24299e6": {
      "model_module": "@jupyter-widgets/base",
      "model_module_version": "1.0.0",
      "model_name": "LayoutModel",
      "state": {}
     },
     "e51b67c0e1dd43bc8d28e8cc23a09eb6": {
      "model_module": "@jupyter-widgets/controls",
      "model_module_version": "1.2.0",
      "model_name": "HBoxModel",
      "state": {
       "children": [
        "IPY_MODEL_f0da276e0b184754bebe75822cb41ced",
        "IPY_MODEL_8537d31971fb4d0882313bdde1417e0e"
       ],
       "layout": "IPY_MODEL_dfae315e188f43a6993648cbcd568b0b"
      }
     },
     "e5d402594280487b87e804a69a9d940a": {
      "model_module": "@jupyter-widgets/base",
      "model_module_version": "1.0.0",
      "model_name": "LayoutModel",
      "state": {}
     },
     "e69110295f38464eae93b7e696328352": {
      "model_module": "@jupyter-widgets/controls",
      "model_module_version": "1.2.0",
      "model_name": "DescriptionStyleModel",
      "state": {
       "description_width": ""
      }
     },
     "e6cabe55b6534dae9badbfe2a84b9ee6": {
      "model_module": "@jupyter-widgets/controls",
      "model_module_version": "1.2.0",
      "model_name": "ButtonModel",
      "state": {
       "button_style": "primary",
       "description": " Refresh",
       "icon": "refresh",
       "layout": "IPY_MODEL_e402a229ea6040b59b2f2ce0161f2617",
       "style": "IPY_MODEL_682e91a2e1aa4b1a9d2929bb498c6ca1"
      }
     },
     "e7d0e6137bfd4856acb0a5502c144941": {
      "model_module": "@jupyter-widgets/controls",
      "model_module_version": "1.2.0",
      "model_name": "DescriptionStyleModel",
      "state": {
       "description_width": ""
      }
     },
     "e8c89575542a4578ba0782caedad11b8": {
      "model_module": "@jupyter-widgets/controls",
      "model_module_version": "1.2.0",
      "model_name": "DescriptionStyleModel",
      "state": {
       "description_width": ""
      }
     },
     "e8e6b49af0b84e44952e1ee4984dffbb": {
      "model_module": "@jupyter-widgets/base",
      "model_module_version": "1.0.0",
      "model_name": "LayoutModel",
      "state": {
       "align_items": "center"
      }
     },
     "e94577bfcfc2444486ab79bb6aef3407": {
      "model_module": "@jupyter-widgets/base",
      "model_module_version": "1.0.0",
      "model_name": "LayoutModel",
      "state": {}
     },
     "ea157a5781a84fd08ecd9d0d6bb11548": {
      "model_module": "@jupyter-widgets/controls",
      "model_module_version": "1.2.0",
      "model_name": "HTMLModel",
      "state": {
       "layout": "IPY_MODEL_dd6b3569130d44d8a3b90cee738890c5",
       "style": "IPY_MODEL_f4a2e7be8d874215a1e7255ba45612d6",
       "value": "<h3 style='padding:0;margin:0;'>&nbsp &nbsp<a href='https://github.com/pupster90/Setup_Notebook'>Setup_Notebook</a> &nbsp</h3>"
      }
     },
     "eaa8f54448df4296ad40d7bfec4b65a8": {
      "model_module": "@jupyter-widgets/base",
      "model_module_version": "1.0.0",
      "model_name": "LayoutModel",
      "state": {}
     },
     "eb94f353fa30428ea476313990044d94": {
      "model_module": "@jupyter-widgets/controls",
      "model_module_version": "1.2.0",
      "model_name": "ButtonModel",
      "state": {
       "button_style": "primary",
       "description": "Download",
       "layout": "IPY_MODEL_523c1cf02f6442ebbfe5e2a94676415c",
       "style": "IPY_MODEL_87f228edc94b44fca663c599d6acd62e"
      }
     },
     "eb963048ad7c4c76a08691d62109297d": {
      "model_module": "@jupyter-widgets/controls",
      "model_module_version": "1.2.0",
      "model_name": "DescriptionStyleModel",
      "state": {
       "description_width": ""
      }
     },
     "ec828bda25d745f0a7fc26d10e939caf": {
      "model_module": "@jupyter-widgets/base",
      "model_module_version": "1.0.0",
      "model_name": "LayoutModel",
      "state": {}
     },
     "ed931835427e47e4b85e719e5bb6281c": {
      "model_module": "@jupyter-widgets/controls",
      "model_module_version": "1.2.0",
      "model_name": "HTMLModel",
      "state": {
       "layout": "IPY_MODEL_64b5c5901c8745f1ae5db434e399464a",
       "style": "IPY_MODEL_4aaa56b7642947b08f4ca459d42fb59b",
       "value": "<h3 style='padding:0;margin:0;'>&nbsp &nbsp &nbsp<a href='https://github.com/pupster90/test-repo.git'>test-repo</a></h3>"
      }
     },
     "ee89627aaa104d3987d45ba620c20a5b": {
      "model_module": "@jupyter-widgets/controls",
      "model_module_version": "1.2.0",
      "model_name": "DescriptionStyleModel",
      "state": {
       "description_width": ""
      }
     },
     "ee9aa728c06e447dad4adfe13cf3270b": {
      "model_module": "@jupyter-widgets/controls",
      "model_module_version": "1.2.0",
      "model_name": "DescriptionStyleModel",
      "state": {
       "description_width": ""
      }
     },
     "ef323d60d3744c44b55b91db8e490b25": {
      "model_module": "@jupyter-widgets/base",
      "model_module_version": "1.0.0",
      "model_name": "LayoutModel",
      "state": {}
     },
     "ef65b4b3e5bb4ad4a95439d3b0e36e2b": {
      "model_module": "@jupyter-widgets/controls",
      "model_module_version": "1.2.0",
      "model_name": "ButtonModel",
      "state": {
       "button_style": "primary",
       "description": "Download",
       "layout": "IPY_MODEL_a0763d4b892342d4981877ca1c85bfca",
       "style": "IPY_MODEL_9fd97067b9e04df4b8e9a4f0f6bdc23a"
      }
     },
     "efae7e84423c4d9499597b7e28369ef5": {
      "model_module": "@jupyter-widgets/controls",
      "model_module_version": "1.2.0",
      "model_name": "DescriptionStyleModel",
      "state": {
       "description_width": ""
      }
     },
     "f013e6d7f2a449d3b7e39a62096c64ef": {
      "model_module": "@jupyter-widgets/controls",
      "model_module_version": "1.2.0",
      "model_name": "HBoxModel",
      "state": {
       "children": [
        "IPY_MODEL_d0ced9e7fa8141d18719eb1ab349550d",
        "IPY_MODEL_6977525d2e624094898f8c2cd1c00a96"
       ],
       "layout": "IPY_MODEL_47feba615782476a8cc694fdca4358fc"
      }
     },
     "f018dede280f4a3e84ec99f9d141eb41": {
      "model_module": "@jupyter-widgets/controls",
      "model_module_version": "1.2.0",
      "model_name": "LabelModel",
      "state": {
       "layout": "IPY_MODEL_6df388f01b8f403faf5c3ca93375bf28",
       "style": "IPY_MODEL_742e173f70d541c68484268edde376e5",
       "value": "Saved 23 hours ago"
      }
     },
     "f050bc8ba3854650a46cdb05e9b7199d": {
      "model_module": "@jupyter-widgets/controls",
      "model_module_version": "1.2.0",
      "model_name": "DescriptionStyleModel",
      "state": {
       "description_width": ""
      }
     },
     "f0b95a767620456494d9901c86ebb255": {
      "model_module": "@jupyter-widgets/controls",
      "model_module_version": "1.2.0",
      "model_name": "TextModel",
      "state": {
       "layout": "IPY_MODEL_6279cb0796704549aaea5c735e9d0f4f",
       "style": "IPY_MODEL_f130e0248c254c30937df7caf4efe70d"
      }
     },
     "f0da276e0b184754bebe75822cb41ced": {
      "model_module": "@jupyter-widgets/controls",
      "model_module_version": "1.2.0",
      "model_name": "ButtonModel",
      "state": {
       "button_style": "primary",
       "description": "Download",
       "layout": "IPY_MODEL_17571ae416b14551ac78d5021c930fee",
       "style": "IPY_MODEL_d9942f1b0a464711b7db08ce8b839ea1"
      }
     },
     "f0f6259c48854e669a85400e7567eec2": {
      "model_module": "@jupyter-widgets/controls",
      "model_module_version": "1.2.0",
      "model_name": "ToggleButtonsModel",
      "state": {
       "_options_labels": [
        "Public",
        "Private"
       ],
       "button_style": "info",
       "icons": [],
       "index": 0,
       "layout": "IPY_MODEL_488b7927dd4948df8f8eaf8435a0f44e",
       "style": "IPY_MODEL_fe3655a46f7e4160aa711819c936e6ab",
       "tooltips": []
      }
     },
     "f0f6af96ceb048b8890a11696b07c6a4": {
      "model_module": "@jupyter-widgets/base",
      "model_module_version": "1.0.0",
      "model_name": "LayoutModel",
      "state": {
       "align_items": "center"
      }
     },
     "f130e0248c254c30937df7caf4efe70d": {
      "model_module": "@jupyter-widgets/controls",
      "model_module_version": "1.2.0",
      "model_name": "DescriptionStyleModel",
      "state": {
       "description_width": ""
      }
     },
     "f14846ea7fc247358f1067d1d432cf03": {
      "model_module": "@jupyter-widgets/controls",
      "model_module_version": "1.2.0",
      "model_name": "HBoxModel",
      "state": {
       "children": [
        "IPY_MODEL_2ee7ba7cbaee4f7f995490a4a59a55f6",
        "IPY_MODEL_aaf901588b364dbf8a8c86f943db78f9",
        "IPY_MODEL_556248d777824b7aaab29965ea57521c",
        "IPY_MODEL_438ea0013dd545d1a9d4e26a5a28f25d"
       ],
       "layout": "IPY_MODEL_0ce3c4c5cefb4147a4130968806b17b2"
      }
     },
     "f16789d720be4de891a657af18667f1b": {
      "model_module": "@jupyter-widgets/controls",
      "model_module_version": "1.2.0",
      "model_name": "HBoxModel",
      "state": {
       "children": [
        "IPY_MODEL_26481c544f1a470e952d5a7a52803455",
        "IPY_MODEL_ffed2d0369044ad895b2296241cfb1a8"
       ],
       "layout": "IPY_MODEL_ddad2c5af27a4f95915f87ce02db88d3"
      }
     },
     "f186016e76334721a2d776167a4e1190": {
      "model_module": "@jupyter-widgets/controls",
      "model_module_version": "1.2.0",
      "model_name": "DescriptionStyleModel",
      "state": {
       "description_width": ""
      }
     },
     "f2bb137957c34dd9a66db7342792ecf6": {
      "model_module": "@jupyter-widgets/base",
      "model_module_version": "1.0.0",
      "model_name": "LayoutModel",
      "state": {}
     },
     "f2c7bb41ab0e495b89210372023792f8": {
      "model_module": "@jupyter-widgets/controls",
      "model_module_version": "1.2.0",
      "model_name": "DescriptionStyleModel",
      "state": {
       "description_width": ""
      }
     },
     "f4a2e7be8d874215a1e7255ba45612d6": {
      "model_module": "@jupyter-widgets/controls",
      "model_module_version": "1.2.0",
      "model_name": "DescriptionStyleModel",
      "state": {
       "description_width": ""
      }
     },
     "f4c63550d97949a1906912375619bd95": {
      "model_module": "@jupyter-widgets/base",
      "model_module_version": "1.0.0",
      "model_name": "LayoutModel",
      "state": {}
     },
     "f521f3477292489496f9377205393ba8": {
      "model_module": "@jupyter-widgets/controls",
      "model_module_version": "1.2.0",
      "model_name": "TextModel",
      "state": {
       "layout": "IPY_MODEL_89bdbd9929cf43b5a4f2177ce3a58f28",
       "style": "IPY_MODEL_bb6899bdfec64750b9cf624bfe4d2079"
      }
     },
     "f59df6d4b6d948d5b274cf920e161ca3": {
      "model_module": "@jupyter-widgets/controls",
      "model_module_version": "1.2.0",
      "model_name": "HTMLModel",
      "state": {
       "layout": "IPY_MODEL_752e7aefebd0418583c43603d9ef902a",
       "style": "IPY_MODEL_01a3265233d64daf843c5ee950c698bf",
       "value": "<h3 style='padding:0;margin:0;'>&nbsp &nbsp &nbsp<a href='https://github.com/pupster90/pythonStrings.git'>pythonStrings</a></h3>"
      }
     },
     "f5b2d4dee14c4fec978f9fa46a3e8b88": {
      "model_module": "@jupyter-widgets/base",
      "model_module_version": "1.0.0",
      "model_name": "LayoutModel",
      "state": {}
     },
     "f6285127a0584bc099a57be582b58624": {
      "model_module": "@jupyter-widgets/base",
      "model_module_version": "1.0.0",
      "model_name": "LayoutModel",
      "state": {}
     },
     "f646d3d7183b425f97780a38032c4ee1": {
      "model_module": "@jupyter-widgets/controls",
      "model_module_version": "1.2.0",
      "model_name": "HTMLModel",
      "state": {
       "layout": "IPY_MODEL_5ff7aa15495b4a9bbd781c0757ed8bf1",
       "style": "IPY_MODEL_8dcb6165370c493d810183abb593d0a8",
       "value": "<h3 style='padding:0;margin:0;'>&nbsp &nbsp &nbsp<a href='https://github.com/pupster90/Public_Profile.git'>Public_Profile</a></h3>"
      }
     },
     "f68e20d6e00845a4bebcc1e2bbd61dd2": {
      "model_module": "@jupyter-widgets/controls",
      "model_module_version": "1.2.0",
      "model_name": "ButtonModel",
      "state": {
       "button_style": "primary",
       "description": "Download",
       "layout": "IPY_MODEL_048e13aee192475fa7c31904fa02dc93",
       "style": "IPY_MODEL_ce61b516b5954d269e5dba96003f053d"
      }
     },
     "f6b78c3be4954742a2513b1bae4a3e5a": {
      "model_module": "@jupyter-widgets/base",
      "model_module_version": "1.0.0",
      "model_name": "LayoutModel",
      "state": {
       "align_items": "center"
      }
     },
     "f6cf498cb4f348a8ae7b1fff4f7392e2": {
      "model_module": "@jupyter-widgets/base",
      "model_module_version": "1.0.0",
      "model_name": "LayoutModel",
      "state": {
       "width": "auto"
      }
     },
     "f7743d822e614ba2a75fd73bc4fa7df8": {
      "model_module": "@jupyter-widgets/controls",
      "model_module_version": "1.2.0",
      "model_name": "LabelModel",
      "state": {
       "layout": "IPY_MODEL_095d83e706d541ca9381bb2841a7f334",
       "style": "IPY_MODEL_cd4ce9c953d14ce895b7a8ffc50d29b3",
       "value": "Saved 24 hours ago"
      }
     },
     "f7b90322a0db40d586537387cdee47b8": {
      "model_module": "@jupyter-widgets/base",
      "model_module_version": "1.0.0",
      "model_name": "LayoutModel",
      "state": {}
     },
     "f800532f85bd4959b0706c22dee039e8": {
      "model_module": "@jupyter-widgets/base",
      "model_module_version": "1.0.0",
      "model_name": "LayoutModel",
      "state": {
       "justify_content": "center",
       "margin": "0 0 0 100px"
      }
     },
     "f82374ebd7574638ba96b3012c793b85": {
      "model_module": "@jupyter-widgets/controls",
      "model_module_version": "1.2.0",
      "model_name": "DescriptionStyleModel",
      "state": {
       "description_width": ""
      }
     },
     "f9a64fedf9d14742a73355a8ac2fc8dc": {
      "model_module": "@jupyter-widgets/base",
      "model_module_version": "1.0.0",
      "model_name": "LayoutModel",
      "state": {
       "align_items": "center",
       "display": "None"
      }
     },
     "f9f380a72c504816b1bf9981eacd621f": {
      "model_module": "@jupyter-widgets/base",
      "model_module_version": "1.0.0",
      "model_name": "LayoutModel",
      "state": {
       "display": "none"
      }
     },
     "f9fde05d3d3c428d8d1b8ba3da000891": {
      "model_module": "@jupyter-widgets/base",
      "model_module_version": "1.0.0",
      "model_name": "LayoutModel",
      "state": {}
     },
     "fa3e8c1428e24f128e60745cbdbf51c1": {
      "model_module": "@jupyter-widgets/controls",
      "model_module_version": "1.2.0",
      "model_name": "HTMLModel",
      "state": {
       "layout": "IPY_MODEL_8df7bc1540844a45940152d30698b4e3",
       "style": "IPY_MODEL_8f4a49cc20934a89b0332b67f523176a",
       "value": "<h3 style='padding:0;margin:0;'>&nbsp &nbsp<a href='https://github.com/pupster90/Ideker_Online'>Ideker_Online</a> &nbsp</h3>"
      }
     },
     "fafb22cf5cc642c3b4034313e9b4e29f": {
      "model_module": "@jupyter-widgets/controls",
      "model_module_version": "1.2.0",
      "model_name": "ButtonStyleModel",
      "state": {}
     },
     "fb12803aadb245869968c5b4d280d4eb": {
      "model_module": "@jupyter-widgets/base",
      "model_module_version": "1.0.0",
      "model_name": "LayoutModel",
      "state": {
       "width": "auto"
      }
     },
     "fb1e8a3c26404233a088d90783b0aa54": {
      "model_module": "@jupyter-widgets/controls",
      "model_module_version": "1.2.0",
      "model_name": "HBoxModel",
      "state": {
       "children": [
        "IPY_MODEL_4617f303d0c148418d2b48d9000f5091",
        "IPY_MODEL_14d303c1a43549058a26e603be53225c",
        "IPY_MODEL_ad639eae2293441dbe52d7cc518387f4",
        "IPY_MODEL_87180bc922924911b5c77bef7290c6a0"
       ],
       "layout": "IPY_MODEL_899af3ed733f4fc5afc00be8049d9412"
      }
     },
     "fba43f2921894723b45443dde5a0c908": {
      "model_module": "@jupyter-widgets/base",
      "model_module_version": "1.0.0",
      "model_name": "LayoutModel",
      "state": {}
     },
     "fbdf167191424fa0ba934f1c4eb34d79": {
      "model_module": "@jupyter-widgets/controls",
      "model_module_version": "1.2.0",
      "model_name": "TextModel",
      "state": {
       "layout": "IPY_MODEL_3577473f1d3b45c9b0330d6a6c80b397",
       "style": "IPY_MODEL_8d48cf1de9dd422697f3cdc15f8369a1"
      }
     },
     "fcdd8048198e41a59356b235d25aa422": {
      "model_module": "@jupyter-widgets/controls",
      "model_module_version": "1.2.0",
      "model_name": "DescriptionStyleModel",
      "state": {
       "description_width": ""
      }
     },
     "fd3df5ba9b6246c6badce90d6be47ba6": {
      "model_module": "@jupyter-widgets/controls",
      "model_module_version": "1.2.0",
      "model_name": "VBoxModel",
      "state": {
       "children": [
        "IPY_MODEL_b63fd6bfb4594fc0b86906a933b16a83",
        "IPY_MODEL_c2d7cabafb654e059edd54bdde1829bc"
       ],
       "layout": "IPY_MODEL_888292c981da4bd6bee74d2269bca8aa"
      }
     },
     "fd3f54db318c402fa849a2b7c86e6908": {
      "model_module": "@jupyter-widgets/controls",
      "model_module_version": "1.2.0",
      "model_name": "ButtonStyleModel",
      "state": {}
     },
     "fdbeb6f2e09a4ec9b838ae01c22ca27f": {
      "model_module": "@jupyter-widgets/controls",
      "model_module_version": "1.2.0",
      "model_name": "HTMLModel",
      "state": {
       "layout": "IPY_MODEL_feb3a505a4bb405d9a67441676e6fe42",
       "style": "IPY_MODEL_fcdd8048198e41a59356b235d25aa422",
       "value": "<h3 style='padding:0;margin:0;'>&nbsp &nbsp<a href='https://github.com/pupster90/io_Presentation'>io_Presentation</a> &nbsp</h3>"
      }
     },
     "fe28a982ab764ecb9ffb45ebc0c0b193": {
      "model_module": "@jupyter-widgets/base",
      "model_module_version": "1.0.0",
      "model_name": "LayoutModel",
      "state": {
       "visibility": "hidden"
      }
     },
     "fe3655a46f7e4160aa711819c936e6ab": {
      "model_module": "@jupyter-widgets/controls",
      "model_module_version": "1.2.0",
      "model_name": "ToggleButtonsStyleModel",
      "state": {
       "button_width": "",
       "description_width": ""
      }
     },
     "fe53c4d3271b496fb92c7702b05ae29f": {
      "model_module": "@jupyter-widgets/controls",
      "model_module_version": "1.2.0",
      "model_name": "HTMLModel",
      "state": {
       "layout": "IPY_MODEL_89e083c528064553b8d4b302ebc14dfb",
       "style": "IPY_MODEL_510781d60a234a1ca13448abf20201bb",
       "value": "<h3 style='padding:0;margin:0;'>&nbsp &nbsp<a href='https://github.com/pupster90/Public_Profile'>Public_Profile</a> &nbsp</h3>"
      }
     },
     "feb3a505a4bb405d9a67441676e6fe42": {
      "model_module": "@jupyter-widgets/base",
      "model_module_version": "1.0.0",
      "model_name": "LayoutModel",
      "state": {}
     },
     "fee7a77193f643b2a8d062e23dd18693": {
      "model_module": "@jupyter-widgets/controls",
      "model_module_version": "1.2.0",
      "model_name": "ButtonStyleModel",
      "state": {}
     },
     "fefa07cae8314928a49e0630342fd9eb": {
      "model_module": "@jupyter-widgets/base",
      "model_module_version": "1.0.0",
      "model_name": "LayoutModel",
      "state": {}
     },
     "ff2b96c235cd4aff82d2acba5449edbb": {
      "model_module": "@jupyter-widgets/base",
      "model_module_version": "1.0.0",
      "model_name": "LayoutModel",
      "state": {}
     },
     "ffd6eeab8a9248cda16a07165b0afd43": {
      "model_module": "@jupyter-widgets/controls",
      "model_module_version": "1.2.0",
      "model_name": "HBoxModel",
      "state": {
       "children": [
        "IPY_MODEL_28d5ef5478a2474e89012c2b79a9dc00",
        "IPY_MODEL_4a5eb6cfb0534078acb1d538661a9fa9"
       ],
       "layout": "IPY_MODEL_1432ae4b2daf4aadbeb90a9aae49051f"
      }
     },
     "ffed2d0369044ad895b2296241cfb1a8": {
      "model_module": "@jupyter-widgets/controls",
      "model_module_version": "1.2.0",
      "model_name": "HTMLModel",
      "state": {
       "layout": "IPY_MODEL_1bdb03274685492c87d1217cb1e9b47a",
       "style": "IPY_MODEL_d0007725a2074b4c8efb306ee1a49229",
       "value": "<h3 style='padding:0;margin:0;'>&nbsp &nbsp &nbsp<a href='https://github.com/pupster90/judoscape.git'>judoscape</a></h3>"
      }
     }
    },
    "version_major": 2,
    "version_minor": 0
   }
  }
 },
 "nbformat": 4,
 "nbformat_minor": 2
}
