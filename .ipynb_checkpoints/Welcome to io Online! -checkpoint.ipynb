{
 "cells": [
  {
   "cell_type": "code",
   "execution_count": null,
   "metadata": {},
   "outputs": [],
   "source": [
    "%run \"~/Apps/io_View/embed.ipynb\"\n",
    "%run \"Source Code.ipynb\""
   ]
  },
  {
   "cell_type": "markdown",
   "metadata": {},
   "source": [
    "<p> </p>\n",
    "\n",
    "**<font color=\"Gray\" size=11 face=\"georgia\">io </font>** *<font color=\"magenta\" size=8>Online</font>*\n",
    "\n",
    "<hr class=\"col-xs-3\">"
   ]
  },
  {
   "cell_type": "markdown",
   "metadata": {},
   "source": [
    "<font color=\"magenta\">io Online</font> connects your computer with everyone in the world! This is done using the [power of Github](https://github.com/). With <font color=\"magenta\">io Online</font> you can:\n",
    "\n",
    "* Save your work\n",
    "* Update applications\n",
    "* Share your idea with others"
   ]
  },
  {
   "cell_type": "markdown",
   "metadata": {},
   "source": [
    "# <font color=\"limeGreen\">Github Sign In</font>"
   ]
  },
  {
   "cell_type": "markdown",
   "metadata": {},
   "source": [
    "To use <font color=\"magenta\">io Online</font> you must have a github account which you can [create here](https://github.com/).\n",
    "\n",
    "<font color=\"limeGreen\">Github</font> is an incredible piece of technology that allows people to save/share code on the cloud. However, <font color=\"limeGreen\">Github</font> can be confusing to use... even for programmers! <font color=\"magenta\">io Online</font> makes using <font color=\"limeGreen\">Github</font> simple. In order to use <font color=\"magenta\">io Online</font> you need to sign in to <font color=\"limeGreen\">Github</font>:"
   ]
  },
  {
   "cell_type": "code",
   "execution_count": null,
   "metadata": {
    "cell_style": "split"
   },
   "outputs": [],
   "source": [
    "display(HTML(\"<hr style=margin:0>\"))\n",
    "Git.b.signIn"
   ]
  },
  {
   "cell_type": "markdown",
   "metadata": {},
   "source": [
    "# <font color=\"teal\">Manage Files</font>"
   ]
  },
  {
   "cell_type": "markdown",
   "metadata": {},
   "source": [
    "In this section you can <font color=\"orange\">Add</font> new folders to Github and  <font color=\"green\">Publish</font> your most recent changes. This is smart to do because :\n",
    "1. You <font color=\"blue\">back up</font> your files in the cloud\n",
    "2. Your work is now <font color=\"blue\">shared with everyone</font>\n",
    "\n",
    "**<font color=\"red\">Tip :</font>** When you <font color=\"green\">Publish</font> your recent changes to Github, you can write a short note about what you did. Use the text box to write a note before clicking <font color=\"green\">Publish</font>"
   ]
  },
  {
   "cell_type": "code",
   "execution_count": null,
   "metadata": {},
   "outputs": [],
   "source": [
    "Git.w.folder_type\n",
    "Git.wf.folderType(\"b\")"
   ]
  },
  {
   "cell_type": "markdown",
   "metadata": {},
   "source": [
    "# <font color=\"orange\">Update Apps</font>"
   ]
  },
  {
   "cell_type": "markdown",
   "metadata": {},
   "source": [
    "This is where you can **check new updates** for all of your <font color=\"orange\">Apps</font>. Only the <font color=\"orange\">Apps</font> that need updates are shown. After updating your <font color=\"orange\">Apps</font> click  <font color=\"blue\">Refresh</font> to confirm everythign is up to date."
   ]
  },
  {
   "cell_type": "code",
   "execution_count": null,
   "metadata": {},
   "outputs": [],
   "source": [
    "display( Git.b.update_refresh )\n",
    "Git.wf.showUpdates(\"b\")"
   ]
  },
  {
   "cell_type": "markdown",
   "metadata": {},
   "source": [
    "#  <font color=\"Orchid\">io News Room</font>"
   ]
  },
  {
   "cell_type": "markdown",
   "metadata": {},
   "source": [
    "You can use the <font color=\"Orchid\">io News Room</font> to check out what everyone else is doing. The news room displays a list of all of the most recent things that people have published.  <font color=\"teal\">Click Download</font>  to save something into your <font color=\"blue\">Downloads Folder.</font> \n",
    "\n",
    "**<font color=\"red\">Note:</font>** A lot of cool <font color=\"orchid\">news room</font> features are on the way, Keep an eye out for updates!"
   ]
  },
  {
   "cell_type": "code",
   "execution_count": null,
   "metadata": {},
   "outputs": [],
   "source": [
    "display( Git.b.news_refresh )\n",
    "Git.wf.showNews(\"b\")"
   ]
  },
  {
   "cell_type": "markdown",
   "metadata": {},
   "source": [
    "# <font color=\"SeaGreen\">Download from Github</font>"
   ]
  },
  {
   "cell_type": "markdown",
   "metadata": {},
   "source": [
    "Here you can download your online repos from the cloud <font color=\"limeGreen\">(Github)</font> to <font color=\"orange\">io</font>. \n",
    "\n",
    "* Click <font color=\"green\">Public</font> or <font color=\"red\">Private</font> to view all your <font color=\"green\">Public</font>/<font color=\"red\">Private</font> <font color=\"limeGreen\">Github</font> repos which are not yet on <font color=\"orange\">io</font>. \n",
    "* Then click <font color=\"blue\">Download</font> to move a repo to your <font color=\"green\">Public</font>/<font color=\"red\">Private</font> folder in <font color=\"orange\">io</font>."
   ]
  },
  {
   "cell_type": "code",
   "execution_count": null,
   "metadata": {},
   "outputs": [],
   "source": [
    "display( Git.w.github_download )\n",
    "Git.wf.githubDownload(\"b\")"
   ]
  },
  {
   "cell_type": "code",
   "execution_count": null,
   "metadata": {},
   "outputs": [],
   "source": []
  }
 ],
 "metadata": {
  "hide_input": false,
  "kernelspec": {
   "display_name": "Python 3",
   "language": "python",
   "name": "python3"
  },
  "language_info": {
   "codemirror_mode": {
    "name": "ipython",
    "version": 3
   },
   "file_extension": ".py",
   "mimetype": "text/x-python",
   "name": "python",
   "nbconvert_exporter": "python",
   "pygments_lexer": "ipython3",
   "version": "3.6.3"
  },
  "toc": {
   "base_numbering": 1,
   "nav_menu": {},
   "number_sections": true,
   "sideBar": true,
   "skip_h1_title": false,
   "title_cell": "Table of Contents",
   "title_sidebar": "Contents",
   "toc_cell": false,
   "toc_position": {},
   "toc_section_display": true,
   "toc_window_display": false
  },
  "varInspector": {
   "cols": {
    "lenName": 16,
    "lenType": 16,
    "lenVar": 40
   },
   "kernels_config": {
    "python": {
     "delete_cmd_postfix": "",
     "delete_cmd_prefix": "del ",
     "library": "var_list.py",
     "varRefreshCmd": "print(var_dic_list())"
    },
    "r": {
     "delete_cmd_postfix": ") ",
     "delete_cmd_prefix": "rm(",
     "library": "var_list.r",
     "varRefreshCmd": "cat(var_dic_list()) "
    }
   },
   "types_to_exclude": [
    "module",
    "function",
    "builtin_function_or_method",
    "instance",
    "_Feature"
   ],
   "window_display": false
  },
  "widgets": {
   "application/vnd.jupyter.widget-state+json": {
    "state": {
     "000192d738de4aaf89a3beb4d82e7d8b": {
      "model_module": "@jupyter-widgets/controls",
      "model_module_version": "1.2.0",
      "model_name": "ValidModel",
      "state": {
       "layout": "IPY_MODEL_c512bcbb27de4f26a86319e0af36e7ec",
       "style": "IPY_MODEL_9174ac6ede81459e9af41be16ba780f8"
      }
     },
     "000cbb783f854eb6b8ad5ca44de4bfd4": {
      "model_module": "@jupyter-widgets/controls",
      "model_module_version": "1.2.0",
      "model_name": "HTMLModel",
      "state": {
       "layout": "IPY_MODEL_5b59b9ac399b4413bcf81df13607a3e9",
       "style": "IPY_MODEL_d0290506b5614f65abbd55231227a15e",
       "value": "<h3 style='padding:0;margin:0;'>&nbsp &nbsp &nbsp<a href='https://github.com/pupster90/Mr_Smiley.git'>Mr_Smiley</a></h3>"
      }
     },
     "00a400f47bb6439a8eca72e851d0ed05": {
      "model_module": "@jupyter-widgets/controls",
      "model_module_version": "1.2.0",
      "model_name": "HBoxModel",
      "state": {
       "children": [
        "IPY_MODEL_3a7bf9fa94ea4bc9b85bd1baa921cdb3",
        "IPY_MODEL_e38912b90f424757b54f2a0f00770581"
       ],
       "layout": "IPY_MODEL_1c6ca171ff664eda9897fb66bd08de8b"
      }
     },
     "00a9691ab77a4ee9af87103bc49a2dbe": {
      "model_module": "@jupyter-widgets/controls",
      "model_module_version": "1.2.0",
      "model_name": "LabelModel",
      "state": {
       "layout": "IPY_MODEL_2601c7e44a984ac5a019a41097802798",
       "style": "IPY_MODEL_33b4d109f5ee4dfda14e7e5ae0bad2bc",
       "value": "1 Updates Behind"
      }
     },
     "0122171861864c4ebead823a1fc4c42e": {
      "model_module": "@jupyter-widgets/controls",
      "model_module_version": "1.2.0",
      "model_name": "DescriptionStyleModel",
      "state": {
       "description_width": ""
      }
     },
     "01a3265233d64daf843c5ee950c698bf": {
      "model_module": "@jupyter-widgets/controls",
      "model_module_version": "1.2.0",
      "model_name": "DescriptionStyleModel",
      "state": {
       "description_width": ""
      }
     },
     "02143fed73934f9bababab4ace1a259d": {
      "model_module": "@jupyter-widgets/base",
      "model_module_version": "1.0.0",
      "model_name": "LayoutModel",
      "state": {}
     },
     "025908272fc44d86bb2a81d386c49b15": {
      "model_module": "@jupyter-widgets/base",
      "model_module_version": "1.0.0",
      "model_name": "LayoutModel",
      "state": {}
     },
     "0286be2636f749098aa12e039fee8b8b": {
      "model_module": "@jupyter-widgets/controls",
      "model_module_version": "1.2.0",
      "model_name": "HTMLModel",
      "state": {
       "layout": "IPY_MODEL_aad4c0168ffc4c509f9c8dc282001de0",
       "style": "IPY_MODEL_a6598ac48ba940c6aa98f731c50ba432",
       "value": "<h3 style='padding:0;margin:0;'>&nbsp &nbsp<a href='https://github.com/pupster90/io_View'>io_View</a> &nbsp</h3>"
      }
     },
     "02bc7bb852824fd8830de085fb1e74ab": {
      "model_module": "@jupyter-widgets/controls",
      "model_module_version": "1.2.0",
      "model_name": "PasswordModel",
      "state": {
       "description": "Password",
       "layout": "IPY_MODEL_6a2da55b20104280a2580039c282b516",
       "style": "IPY_MODEL_6269d9cfd6f54cd28e6e8e8f03c832d6"
      }
     },
     "02e71621ce2e4c298d9dac4c9140e8f4": {
      "model_module": "@jupyter-widgets/base",
      "model_module_version": "1.0.0",
      "model_name": "LayoutModel",
      "state": {
       "width": "auto"
      }
     },
     "02f46dfc06f74bcc9814ce37e142f3c5": {
      "model_module": "@jupyter-widgets/base",
      "model_module_version": "1.0.0",
      "model_name": "LayoutModel",
      "state": {}
     },
     "031339e29116454798ccba4919a53d87": {
      "model_module": "@jupyter-widgets/base",
      "model_module_version": "1.0.0",
      "model_name": "LayoutModel",
      "state": {}
     },
     "03196ec8ca624bfd8a716180fcb9741e": {
      "model_module": "@jupyter-widgets/controls",
      "model_module_version": "1.2.0",
      "model_name": "HTMLModel",
      "state": {
       "layout": "IPY_MODEL_2a08848efe744fe298208db82f52e442",
       "style": "IPY_MODEL_6464c1a85f69417e89e564cefc7c82da",
       "value": "<font color='orange'> &nbsp Stars: 0</font>"
      }
     },
     "031e51c8a2f1465288fc2961d1015928": {
      "model_module": "@jupyter-widgets/controls",
      "model_module_version": "1.2.0",
      "model_name": "DescriptionStyleModel",
      "state": {
       "description_width": ""
      }
     },
     "03824a2f921a4ee1b23f79cbb5601b1d": {
      "model_module": "@jupyter-widgets/controls",
      "model_module_version": "1.2.0",
      "model_name": "DescriptionStyleModel",
      "state": {
       "description_width": ""
      }
     },
     "03af4f8d9bad41eb82141dea42cd02a3": {
      "model_module": "@jupyter-widgets/controls",
      "model_module_version": "1.2.0",
      "model_name": "HTMLModel",
      "state": {
       "layout": "IPY_MODEL_f6285127a0584bc099a57be582b58624",
       "style": "IPY_MODEL_768a58eac64e4f5197ebcfed7c7ebf50",
       "value": "<h3 style='padding:0;margin:0;'>&nbsp &nbsp<a href='https://github.com/pupster90/Cytoscape'>Cytoscape</a> &nbsp</h3>"
      }
     },
     "03d95b45ded94f82ad0c249d34e3145b": {
      "model_module": "@jupyter-widgets/controls",
      "model_module_version": "1.2.0",
      "model_name": "HTMLModel",
      "state": {
       "layout": "IPY_MODEL_bb167d56cdce43769283fd9d15eef47c",
       "style": "IPY_MODEL_4284515ff0ef4f5eaef87aa5137883dc",
       "value": "<h3 style='padding:0;margin:0;'>&nbsp &nbsp &nbsp<a href='https://github.com/pupster90/io_Presentation.git'>io_Presentation</a></h3>"
      }
     },
     "0412fde9a971433f9c72b63a53742e74": {
      "model_module": "@jupyter-widgets/controls",
      "model_module_version": "1.2.0",
      "model_name": "HTMLModel",
      "state": {
       "layout": "IPY_MODEL_ddf7b5161e3f42c69688cdb4339b632b",
       "style": "IPY_MODEL_22695005637447a383a97e31a872f3e8",
       "value": "<h3 style='padding:0;margin:0;'>&nbsp &nbsp &nbsp<a href='https://github.com/pupster90/io_Online.git'>io_Online</a></h3>"
      }
     },
     "04500a8ddebe47d5a156411e6314cf81": {
      "model_module": "@jupyter-widgets/controls",
      "model_module_version": "1.2.0",
      "model_name": "ButtonStyleModel",
      "state": {}
     },
     "04673cef389e40298ead5ee026be77e9": {
      "model_module": "@jupyter-widgets/base",
      "model_module_version": "1.0.0",
      "model_name": "LayoutModel",
      "state": {
       "width": "130px"
      }
     },
     "048e13aee192475fa7c31904fa02dc93": {
      "model_module": "@jupyter-widgets/base",
      "model_module_version": "1.0.0",
      "model_name": "LayoutModel",
      "state": {
       "width": "auto"
      }
     },
     "04a7c320dded4c71a2081d3282c3704a": {
      "model_module": "@jupyter-widgets/base",
      "model_module_version": "1.0.0",
      "model_name": "LayoutModel",
      "state": {}
     },
     "04a8dc5264f942ddb3c56bcb5f8f245a": {
      "model_module": "@jupyter-widgets/base",
      "model_module_version": "1.0.0",
      "model_name": "LayoutModel",
      "state": {}
     },
     "04c4269c2f584428b98f9d22a75801bb": {
      "model_module": "@jupyter-widgets/controls",
      "model_module_version": "1.2.0",
      "model_name": "DescriptionStyleModel",
      "state": {
       "description_width": ""
      }
     },
     "04d5f612d0204c2296ce5e07048cce5c": {
      "model_module": "@jupyter-widgets/controls",
      "model_module_version": "1.2.0",
      "model_name": "ButtonStyleModel",
      "state": {}
     },
     "05247cd9dbfd4d26afbf1e10b88e4965": {
      "model_module": "@jupyter-widgets/controls",
      "model_module_version": "1.2.0",
      "model_name": "HTMLModel",
      "state": {
       "layout": "IPY_MODEL_f848f442066e4a1188299fd43ed733aa",
       "style": "IPY_MODEL_16e50bacfdda457c883e6b8abf52cea7",
       "value": "<h4 style='padding:0;margin:0;'>&nbsp <a href='https://github.com/pupster90' style='color:gray'>pupster90</a> &nbsp</h4>"
      }
     },
     "052bdabb19dd4d039479f55841a2836b": {
      "model_module": "@jupyter-widgets/controls",
      "model_module_version": "1.2.0",
      "model_name": "DescriptionStyleModel",
      "state": {
       "description_width": ""
      }
     },
     "058e8a92fb954685ac05fc5d6b24af64": {
      "model_module": "@jupyter-widgets/controls",
      "model_module_version": "1.2.0",
      "model_name": "DescriptionStyleModel",
      "state": {
       "description_width": ""
      }
     },
     "06494ffbd4634f6aafff89312fc7cffb": {
      "model_module": "@jupyter-widgets/controls",
      "model_module_version": "1.2.0",
      "model_name": "ButtonStyleModel",
      "state": {}
     },
     "064e343ee4a84514b4539443bbc95c6b": {
      "model_module": "@jupyter-widgets/controls",
      "model_module_version": "1.2.0",
      "model_name": "ButtonStyleModel",
      "state": {}
     },
     "068ee5e4b654456aa907a277ed144e15": {
      "model_module": "@jupyter-widgets/controls",
      "model_module_version": "1.2.0",
      "model_name": "HBoxModel",
      "state": {
       "children": [
        "IPY_MODEL_4d454fc0621c469b89ce374b48215490",
        "IPY_MODEL_c994d28942ba4f6aa822decf954231e3"
       ],
       "layout": "IPY_MODEL_1fb4368e068f4225960d7f0f9f312717"
      }
     },
     "06907339ad6843059045fc8c5f61e2dd": {
      "model_module": "@jupyter-widgets/controls",
      "model_module_version": "1.2.0",
      "model_name": "HTMLModel",
      "state": {
       "layout": "IPY_MODEL_7dd054e84859411d9064cb54a25fdb6d",
       "style": "IPY_MODEL_e113ec909e2747fab04af708bd1ad05d",
       "value": "<font color='orange'> &nbsp Stars: 0</font>"
      }
     },
     "06bec45eac324136b648e8dbecbe9c8b": {
      "model_module": "@jupyter-widgets/base",
      "model_module_version": "1.0.0",
      "model_name": "LayoutModel",
      "state": {}
     },
     "06f61c12b706463a9242970e14607f79": {
      "model_module": "@jupyter-widgets/base",
      "model_module_version": "1.0.0",
      "model_name": "LayoutModel",
      "state": {}
     },
     "0729e89c5acf4af98fe5e723f7f991c9": {
      "model_module": "@jupyter-widgets/controls",
      "model_module_version": "1.2.0",
      "model_name": "ButtonModel",
      "state": {
       "button_style": "primary",
       "description": "Download",
       "layout": "IPY_MODEL_989bb19546a147a7b7eeee7f3dd0f341",
       "style": "IPY_MODEL_30a0b8cc65c94f1f91064181cdb5e2c6"
      }
     },
     "07684258aaa343ac930f30e748f3635c": {
      "model_module": "@jupyter-widgets/base",
      "model_module_version": "1.0.0",
      "model_name": "LayoutModel",
      "state": {}
     },
     "07879e77e4cc4405b6ba17a37643dc94": {
      "model_module": "@jupyter-widgets/base",
      "model_module_version": "1.0.0",
      "model_name": "LayoutModel",
      "state": {
       "align_items": "center"
      }
     },
     "078b5f8972184b55b0280572e6ba9ac9": {
      "model_module": "@jupyter-widgets/controls",
      "model_module_version": "1.2.0",
      "model_name": "HTMLModel",
      "state": {
       "layout": "IPY_MODEL_68f5258d400b407b823a1bba7f1fea69",
       "style": "IPY_MODEL_b04ba3fd77d843d5a94a2eee344a756b",
       "value": "<h4 style='padding:0;margin:0;'>&nbsp <a href='https://github.com/pupster90' style='color:gray'>pupster90</a> &nbsp</h4>"
      }
     },
     "07ef2c439f534bc5a675d3d7568c312e": {
      "model_module": "@jupyter-widgets/base",
      "model_module_version": "1.0.0",
      "model_name": "LayoutModel",
      "state": {}
     },
     "081543b88a8d4314842d408a4b98a698": {
      "model_module": "@jupyter-widgets/base",
      "model_module_version": "1.0.0",
      "model_name": "LayoutModel",
      "state": {
       "width": "auto"
      }
     },
     "08483044e8dd42409a04f6b1589c92b0": {
      "model_module": "@jupyter-widgets/controls",
      "model_module_version": "1.2.0",
      "model_name": "ButtonModel",
      "state": {
       "button_style": "primary",
       "description": "Download",
       "layout": "IPY_MODEL_5867eecd3efb4b94a3c475f6f042f01e",
       "style": "IPY_MODEL_647d60a1e808455d895f5307b408eae1"
      }
     },
     "08738d226fad406fb02273a6299103c8": {
      "model_module": "@jupyter-widgets/base",
      "model_module_version": "1.0.0",
      "model_name": "LayoutModel",
      "state": {}
     },
     "08a69bd4eab54e3a8b9378a4624aed19": {
      "model_module": "@jupyter-widgets/base",
      "model_module_version": "1.0.0",
      "model_name": "LayoutModel",
      "state": {
       "width": "auto"
      }
     },
     "08b0c7e3b6cb47ff9ca667f264f81074": {
      "model_module": "@jupyter-widgets/controls",
      "model_module_version": "1.2.0",
      "model_name": "ToggleButtonsStyleModel",
      "state": {
       "button_width": "",
       "description_width": ""
      }
     },
     "0915dfa36d174e56b1976640b4905c8d": {
      "model_module": "@jupyter-widgets/base",
      "model_module_version": "1.0.0",
      "model_name": "LayoutModel",
      "state": {}
     },
     "0945fe1aa17f4b859273e130dba785ab": {
      "model_module": "@jupyter-widgets/controls",
      "model_module_version": "1.2.0",
      "model_name": "ButtonStyleModel",
      "state": {}
     },
     "09586998a59e436e8d3d4131537cd287": {
      "model_module": "@jupyter-widgets/controls",
      "model_module_version": "1.2.0",
      "model_name": "DescriptionStyleModel",
      "state": {
       "description_width": ""
      }
     },
     "095d83e706d541ca9381bb2841a7f334": {
      "model_module": "@jupyter-widgets/base",
      "model_module_version": "1.0.0",
      "model_name": "LayoutModel",
      "state": {
       "width": "130px"
      }
     },
     "0969d5e9debe4b8a8507c1880d29d2d4": {
      "model_module": "@jupyter-widgets/base",
      "model_module_version": "1.0.0",
      "model_name": "LayoutModel",
      "state": {
       "width": "auto"
      }
     },
     "09b1bf7afaf943d798db5a49ac14a54b": {
      "model_module": "@jupyter-widgets/controls",
      "model_module_version": "1.2.0",
      "model_name": "ButtonStyleModel",
      "state": {}
     },
     "09bac9c251c44edfb97a3f51bd96da18": {
      "model_module": "@jupyter-widgets/controls",
      "model_module_version": "1.2.0",
      "model_name": "DescriptionStyleModel",
      "state": {
       "description_width": ""
      }
     },
     "09f5b69a41264a53bd08d32407aeb2c5": {
      "model_module": "@jupyter-widgets/controls",
      "model_module_version": "1.2.0",
      "model_name": "DescriptionStyleModel",
      "state": {
       "description_width": ""
      }
     },
     "0a066b20bb1540358eef87e78e3127af": {
      "model_module": "@jupyter-widgets/base",
      "model_module_version": "1.0.0",
      "model_name": "LayoutModel",
      "state": {}
     },
     "0a2a36d1e8d848f7b98ef9198b430104": {
      "model_module": "@jupyter-widgets/controls",
      "model_module_version": "1.2.0",
      "model_name": "DescriptionStyleModel",
      "state": {
       "description_width": ""
      }
     },
     "0a55c4f936de498aae27fae7a658a425": {
      "model_module": "@jupyter-widgets/controls",
      "model_module_version": "1.2.0",
      "model_name": "DescriptionStyleModel",
      "state": {
       "description_width": ""
      }
     },
     "0a7b65b5143541998023b6ac85f99dde": {
      "model_module": "@jupyter-widgets/base",
      "model_module_version": "1.0.0",
      "model_name": "LayoutModel",
      "state": {}
     },
     "0a97c323c92441e8825d22f9f3bfc354": {
      "model_module": "@jupyter-widgets/base",
      "model_module_version": "1.0.0",
      "model_name": "LayoutModel",
      "state": {
       "width": "auto"
      }
     },
     "0b0caf00d3a44ffaac02cfb9aa93814e": {
      "model_module": "@jupyter-widgets/controls",
      "model_module_version": "1.2.0",
      "model_name": "HBoxModel",
      "state": {
       "children": [
        "IPY_MODEL_e3caa6d726bd4aa9b4e0f8a50d6c6665",
        "IPY_MODEL_7879ad8c23494dcfac3e835e1eefbdf6"
       ],
       "layout": "IPY_MODEL_e8e6b49af0b84e44952e1ee4984dffbb"
      }
     },
     "0b2e765787d6496196beb49b3a6efaae": {
      "model_module": "@jupyter-widgets/controls",
      "model_module_version": "1.2.0",
      "model_name": "HTMLModel",
      "state": {
       "layout": "IPY_MODEL_73ad16baec024368be68cae41b3909cc",
       "style": "IPY_MODEL_b787ee30e3af4af799776baa47264669",
       "value": "<h3 style='padding:0;margin:0;'>&nbsp &nbsp &nbsp<a href='https://github.com/pupster90/Public_Profile.git'>Public_Profile</a></h3>"
      }
     },
     "0b43f7425fd14510b633faee1c2b95d5": {
      "model_module": "@jupyter-widgets/base",
      "model_module_version": "1.0.0",
      "model_name": "LayoutModel",
      "state": {
       "width": "130px"
      }
     },
     "0b4c4d6a154542b6b0a76cf58fc86b0e": {
      "model_module": "@jupyter-widgets/controls",
      "model_module_version": "1.2.0",
      "model_name": "HTMLModel",
      "state": {
       "layout": "IPY_MODEL_252306b95f734fbeb3f42c130bcefa6b",
       "style": "IPY_MODEL_bf8fc2aab21441c3b20f61acaa54ea49",
       "value": "<font color='green'> &nbsp Downloads: 0</font>"
      }
     },
     "0b6a8649760b4f10a40205389a1b0064": {
      "model_module": "@jupyter-widgets/controls",
      "model_module_version": "1.2.0",
      "model_name": "DescriptionStyleModel",
      "state": {
       "description_width": ""
      }
     },
     "0ba56a8a51f34a8a93097a8793b9921d": {
      "model_module": "@jupyter-widgets/controls",
      "model_module_version": "1.2.0",
      "model_name": "HTMLModel",
      "state": {
       "layout": "IPY_MODEL_95df8b68bbba438e8e500c8d7751a15a",
       "style": "IPY_MODEL_53d1bd54fc5b4eaba6a815d10edb5e61",
       "value": "<h3 style='padding:0;margin:0;'>&nbsp &nbsp &nbsp<a href='https://github.com/pupster90/io_Start_Screen.git'>io_Start_Screen</a></h3>"
      }
     },
     "0bafd4fb46e84727868d1e9f6e9f48ee": {
      "model_module": "@jupyter-widgets/base",
      "model_module_version": "1.0.0",
      "model_name": "LayoutModel",
      "state": {
       "width": "130px"
      }
     },
     "0bf7439f8a5942989c8e3a0dd34e54ce": {
      "model_module": "@jupyter-widgets/controls",
      "model_module_version": "1.2.0",
      "model_name": "DescriptionStyleModel",
      "state": {
       "description_width": ""
      }
     },
     "0c8caa5fb0a8448faccc4b4c1801e373": {
      "model_module": "@jupyter-widgets/controls",
      "model_module_version": "1.2.0",
      "model_name": "HTMLModel",
      "state": {
       "layout": "IPY_MODEL_2409e582350b431f8ca3b709b4528f9d",
       "style": "IPY_MODEL_d4bd21a082e340e8a7f9fe48d7787245",
       "value": "<h3 class='text-center'><font color='red'>Logout</font> of <a stc='https://github.com/'>Github </a> &nbsp&nbsp<h3>"
      }
     },
     "0cafd68c616e4f0d90ec00e826e2d29f": {
      "model_module": "@jupyter-widgets/controls",
      "model_module_version": "1.2.0",
      "model_name": "HBoxModel",
      "state": {
       "children": [
        "IPY_MODEL_e3ede841f59346818d960f86edab4315",
        "IPY_MODEL_f50df6eaeefa4ed1b7a76ae1b2d235ea"
       ],
       "layout": "IPY_MODEL_b1a48441779e48b4ac0b135840867a04"
      }
     },
     "0cc5c3cb0e6d4b1cafc4051caaaa8fe4": {
      "model_module": "@jupyter-widgets/controls",
      "model_module_version": "1.2.0",
      "model_name": "HTMLModel",
      "state": {
       "layout": "IPY_MODEL_fba43f2921894723b45443dde5a0c908",
       "style": "IPY_MODEL_572e0936e8254d40954efdb46f8ee2e4",
       "value": "<h3 style='padding:0;margin:0;'>&nbsp &nbsp &nbsp<a href='https://github.com/pupster90/repo_to_add.git'>repo_to_add</a></h3>"
      }
     },
     "0ce3c4c5cefb4147a4130968806b17b2": {
      "model_module": "@jupyter-widgets/base",
      "model_module_version": "1.0.0",
      "model_name": "LayoutModel",
      "state": {
       "align_items": "center"
      }
     },
     "0d824fdbca194b6180179c9f431a9e77": {
      "model_module": "@jupyter-widgets/controls",
      "model_module_version": "1.2.0",
      "model_name": "ButtonStyleModel",
      "state": {}
     },
     "0dac26ac5f4342ebb7b045fed44e2aee": {
      "model_module": "@jupyter-widgets/controls",
      "model_module_version": "1.2.0",
      "model_name": "ButtonStyleModel",
      "state": {}
     },
     "0dacc551b9dd4db5bc54f419fea53384": {
      "model_module": "@jupyter-widgets/base",
      "model_module_version": "1.0.0",
      "model_name": "LayoutModel",
      "state": {
       "width": "130px"
      }
     },
     "0db946af292e4a00a55123774695f3f3": {
      "model_module": "@jupyter-widgets/base",
      "model_module_version": "1.0.0",
      "model_name": "LayoutModel",
      "state": {
       "width": "auto"
      }
     },
     "0dc8b2f38ac8402294942ddd27ae316a": {
      "model_module": "@jupyter-widgets/base",
      "model_module_version": "1.0.0",
      "model_name": "LayoutModel",
      "state": {}
     },
     "0df3d805ea504c5caf0a3ea89c974dc1": {
      "model_module": "@jupyter-widgets/controls",
      "model_module_version": "1.2.0",
      "model_name": "ButtonStyleModel",
      "state": {}
     },
     "0e3a0f2050f549c580310610d2d141d9": {
      "model_module": "@jupyter-widgets/base",
      "model_module_version": "1.0.0",
      "model_name": "LayoutModel",
      "state": {}
     },
     "0ea9503d6c614461ae722655739889a4": {
      "model_module": "@jupyter-widgets/controls",
      "model_module_version": "1.2.0",
      "model_name": "ButtonStyleModel",
      "state": {}
     },
     "0efa1ed33e5b4906816f8d99df5bfb76": {
      "model_module": "@jupyter-widgets/base",
      "model_module_version": "1.0.0",
      "model_name": "LayoutModel",
      "state": {
       "width": "auto"
      }
     },
     "0f18a737a77e45ffa7ec6ba642650688": {
      "model_module": "@jupyter-widgets/controls",
      "model_module_version": "1.2.0",
      "model_name": "HTMLModel",
      "state": {
       "layout": "IPY_MODEL_a1deee27de0c499d8005067b6e022e77",
       "style": "IPY_MODEL_87e460ad93354e2daae2ba80b4ea3943",
       "value": "<h3 style='padding:0;margin:0;'>&nbsp &nbsp &nbsp<a href='https://github.com/pupster90/mind-reader.git'>mind-reader</a></h3>"
      }
     },
     "0f32a4ff64244b9aa137a36677dfe5bd": {
      "model_module": "@jupyter-widgets/controls",
      "model_module_version": "1.2.0",
      "model_name": "DescriptionStyleModel",
      "state": {
       "description_width": ""
      }
     },
     "0f3581e9002242308a73e5ac6bcf616c": {
      "model_module": "@jupyter-widgets/controls",
      "model_module_version": "1.2.0",
      "model_name": "DescriptionStyleModel",
      "state": {
       "description_width": ""
      }
     },
     "0f6a197a9ff247008a2683cbab4d3bee": {
      "model_module": "@jupyter-widgets/controls",
      "model_module_version": "1.2.0",
      "model_name": "ButtonStyleModel",
      "state": {}
     },
     "0fe624d6372c4758ba2a49cca9d6776d": {
      "model_module": "@jupyter-widgets/controls",
      "model_module_version": "1.2.0",
      "model_name": "DescriptionStyleModel",
      "state": {
       "description_width": ""
      }
     },
     "0fee025b55ab47a688c1a6104dc0b886": {
      "model_module": "@jupyter-widgets/controls",
      "model_module_version": "1.2.0",
      "model_name": "ButtonStyleModel",
      "state": {}
     },
     "1001c2537f4748dda1e3a58f2c3214cb": {
      "model_module": "@jupyter-widgets/controls",
      "model_module_version": "1.2.0",
      "model_name": "DescriptionStyleModel",
      "state": {
       "description_width": ""
      }
     },
     "1049f5db02d040128029a0ceffc2f933": {
      "model_module": "@jupyter-widgets/controls",
      "model_module_version": "1.2.0",
      "model_name": "ButtonModel",
      "state": {
       "button_style": "primary",
       "description": "Download",
       "layout": "IPY_MODEL_18eced88ef5a416e8490757a733e2b91",
       "style": "IPY_MODEL_14548bba7b794169aad77092d1c7c707"
      }
     },
     "104f748e088b4695a299997e4867005f": {
      "model_module": "@jupyter-widgets/controls",
      "model_module_version": "1.2.0",
      "model_name": "HTMLModel",
      "state": {
       "layout": "IPY_MODEL_07ef2c439f534bc5a675d3d7568c312e",
       "style": "IPY_MODEL_73535f42cbf34f68b1518ba36c8e19c7",
       "value": "<font color='green'> &nbsp Downloads: 0</font>"
      }
     },
     "105d18c9e88f495291d9930894851bf2": {
      "model_module": "@jupyter-widgets/base",
      "model_module_version": "1.0.0",
      "model_name": "LayoutModel",
      "state": {
       "align_items": "center"
      }
     },
     "1064feab587044f888f4d266ba4ef46b": {
      "model_module": "@jupyter-widgets/base",
      "model_module_version": "1.0.0",
      "model_name": "LayoutModel",
      "state": {}
     },
     "1084c973171b4ffd9902eaeaaf4b70bd": {
      "model_module": "@jupyter-widgets/base",
      "model_module_version": "1.0.0",
      "model_name": "LayoutModel",
      "state": {
       "width": "auto"
      }
     },
     "109a7861bdfc47d2bc5230f09c35f6cf": {
      "model_module": "@jupyter-widgets/controls",
      "model_module_version": "1.2.0",
      "model_name": "DescriptionStyleModel",
      "state": {
       "description_width": ""
      }
     },
     "11b5bd7fd3fe47b0a362e3ae1c62b458": {
      "model_module": "@jupyter-widgets/controls",
      "model_module_version": "1.2.0",
      "model_name": "HTMLModel",
      "state": {
       "layout": "IPY_MODEL_f2bb137957c34dd9a66db7342792ecf6",
       "style": "IPY_MODEL_8190cf8ceb01413b9fbdd8231430b39a",
       "value": "<h3 style='padding:0;margin:0;'>&nbsp &nbsp &nbsp<a href='https://github.com/pupster90/My_First_Research_Paper.git'>My_First_Research_Paper</a></h3>"
      }
     },
     "11c9b9eb0570481e87ba35d58f70e061": {
      "model_module": "@jupyter-widgets/controls",
      "model_module_version": "1.2.0",
      "model_name": "LabelModel",
      "state": {
       "layout": "IPY_MODEL_17b7489ea99a485988b6d5048461b8e3",
       "style": "IPY_MODEL_f4c54a8a3c2a46a3b42a36c02b4ebb0c",
       "value": "3 days ago"
      }
     },
     "11d17170f3d647a78c0fc673af931979": {
      "model_module": "@jupyter-widgets/base",
      "model_module_version": "1.0.0",
      "model_name": "LayoutModel",
      "state": {}
     },
     "11d252b533cb49ca8e80f1947838e036": {
      "model_module": "@jupyter-widgets/controls",
      "model_module_version": "1.2.0",
      "model_name": "HTMLModel",
      "state": {
       "layout": "IPY_MODEL_a67ad8188dfb4b26b6f8a724fcfebcc5",
       "style": "IPY_MODEL_92d58b0f448d497ca7b27eb8955ece03",
       "value": "<h3 style='padding:0;margin:0;'>&nbsp &nbsp &nbsp<a href='https://github.com/pupster90/notebook.git'>notebook</a></h3>"
      }
     },
     "11f1854774a54e598a5d9c43936e9b8f": {
      "model_module": "@jupyter-widgets/controls",
      "model_module_version": "1.2.0",
      "model_name": "DescriptionStyleModel",
      "state": {
       "description_width": ""
      }
     },
     "128c98cd81e44a178d359df9a8baff36": {
      "model_module": "@jupyter-widgets/base",
      "model_module_version": "1.0.0",
      "model_name": "LayoutModel",
      "state": {
       "width": "100px"
      }
     },
     "1292489b3b8c4570ba2654061801b717": {
      "model_module": "@jupyter-widgets/base",
      "model_module_version": "1.0.0",
      "model_name": "LayoutModel",
      "state": {}
     },
     "133b162334e045239b290b97bff49732": {
      "model_module": "@jupyter-widgets/controls",
      "model_module_version": "1.2.0",
      "model_name": "HTMLModel",
      "state": {
       "layout": "IPY_MODEL_3732d7c91b854927861985f6ddffe81e",
       "style": "IPY_MODEL_7db0eab9831043cbba7f0919d7ec71f8",
       "value": "<h3 style='padding:0;margin:0;'>&nbsp &nbsp<a href='https://github.com/pupster90/Welcome_to_io'>Welcome_to_io</a> &nbsp</h3>"
      }
     },
     "1349b568988b4d09a7e7c94ee67f7d43": {
      "model_module": "@jupyter-widgets/controls",
      "model_module_version": "1.2.0",
      "model_name": "ButtonStyleModel",
      "state": {}
     },
     "14162cfeaa354a23985f3c1848632cda": {
      "model_module": "@jupyter-widgets/base",
      "model_module_version": "1.0.0",
      "model_name": "LayoutModel",
      "state": {
       "width": "auto"
      }
     },
     "142e80c73a5d48a1937bf50a4e0539a7": {
      "model_module": "@jupyter-widgets/controls",
      "model_module_version": "1.2.0",
      "model_name": "ButtonStyleModel",
      "state": {}
     },
     "1432ae4b2daf4aadbeb90a9aae49051f": {
      "model_module": "@jupyter-widgets/base",
      "model_module_version": "1.0.0",
      "model_name": "LayoutModel",
      "state": {
       "align_items": "center"
      }
     },
     "14548bba7b794169aad77092d1c7c707": {
      "model_module": "@jupyter-widgets/controls",
      "model_module_version": "1.2.0",
      "model_name": "ButtonStyleModel",
      "state": {}
     },
     "1490dde268a44bd8b0d4fa8a80ca8d3f": {
      "model_module": "@jupyter-widgets/base",
      "model_module_version": "1.0.0",
      "model_name": "LayoutModel",
      "state": {
       "width": "auto"
      }
     },
     "14ae4e6fdecf4efb864ffc72d3a35574": {
      "model_module": "@jupyter-widgets/base",
      "model_module_version": "1.0.0",
      "model_name": "LayoutModel",
      "state": {}
     },
     "14d0ebea9a564e33a8fe2c527104b1e5": {
      "model_module": "@jupyter-widgets/controls",
      "model_module_version": "1.2.0",
      "model_name": "ButtonStyleModel",
      "state": {}
     },
     "14d303c1a43549058a26e603be53225c": {
      "model_module": "@jupyter-widgets/controls",
      "model_module_version": "1.2.0",
      "model_name": "TextModel",
      "state": {
       "layout": "IPY_MODEL_291e8e1afdda4838af690a1a3a30c82d",
       "style": "IPY_MODEL_8935875adb714a4c84a6d520ab0f2119",
       "value": "cleaned up"
      }
     },
     "1513093677294172932846979cc45f0a": {
      "model_module": "@jupyter-widgets/controls",
      "model_module_version": "1.2.0",
      "model_name": "HTMLModel",
      "state": {
       "layout": "IPY_MODEL_9497ef66dd1342348139fa92c0490e04",
       "style": "IPY_MODEL_d782a7b335d24dc2907c476f6ed5c3d2",
       "value": "<h3 style='padding:0;margin:0;'>&nbsp &nbsp &nbsp<a href='https://github.com/pupster90/repo_to_add.git'>repo_to_add</a></h3>"
      }
     },
     "156c617bc9b44f179b6f904790a57d22": {
      "model_module": "@jupyter-widgets/controls",
      "model_module_version": "1.2.0",
      "model_name": "HBoxModel",
      "state": {
       "children": [
        "IPY_MODEL_3a121276e6fe417298bf8b85b3c36f2c",
        "IPY_MODEL_33e9f56e1bf242d5b164f0e566f2a7fc"
       ],
       "layout": "IPY_MODEL_36ed9bcac89c483290de7153282a5c2a"
      }
     },
     "158d1bd3b6594448bd70adcb9e392bb8": {
      "model_module": "@jupyter-widgets/controls",
      "model_module_version": "1.2.0",
      "model_name": "ButtonStyleModel",
      "state": {}
     },
     "15ce0cc02e7e4aa6a640041c123c6679": {
      "model_module": "@jupyter-widgets/base",
      "model_module_version": "1.0.0",
      "model_name": "LayoutModel",
      "state": {
       "width": "auto"
      }
     },
     "15ce15b046eb408cbcf3285cefb2e262": {
      "model_module": "@jupyter-widgets/base",
      "model_module_version": "1.0.0",
      "model_name": "LayoutModel",
      "state": {}
     },
     "15f86594f4874ca3ba9b74330f4072d7": {
      "model_module": "@jupyter-widgets/controls",
      "model_module_version": "1.2.0",
      "model_name": "HBoxModel",
      "state": {
       "children": [
        "IPY_MODEL_78c0bec1283b4f7f9bd22e49b1f8ea21",
        "IPY_MODEL_8d0125293cc64b00863ef1c5d2c391a3",
        "IPY_MODEL_104f748e088b4695a299997e4867005f",
        "IPY_MODEL_f9a0645601164f88a273ba182d9849cf",
        "IPY_MODEL_64bb9ca6b5314d04a4eca0067477f168",
        "IPY_MODEL_3ba2ecc23c4d4e09a3ad46bf27127bc0"
       ],
       "layout": "IPY_MODEL_4910d3b6c8a04910a492431c1897a9c7"
      }
     },
     "16179defb7aa4298a329e379629df783": {
      "model_module": "@jupyter-widgets/controls",
      "model_module_version": "1.2.0",
      "model_name": "ButtonModel",
      "state": {
       "button_style": "primary",
       "description": "Download",
       "layout": "IPY_MODEL_0efa1ed33e5b4906816f8d99df5bfb76",
       "style": "IPY_MODEL_e531cc3d7f9d47e7b642c12ccd239d10"
      }
     },
     "161b8ce77da74af7b93339b1b234c184": {
      "model_module": "@jupyter-widgets/base",
      "model_module_version": "1.0.0",
      "model_name": "LayoutModel",
      "state": {}
     },
     "1694a596a84b4096b02650dc7e5e8f1d": {
      "model_module": "@jupyter-widgets/controls",
      "model_module_version": "1.2.0",
      "model_name": "DescriptionStyleModel",
      "state": {
       "description_width": ""
      }
     },
     "169fa4538dec4d3a80b1b804f1ff54e5": {
      "model_module": "@jupyter-widgets/controls",
      "model_module_version": "1.2.0",
      "model_name": "ButtonStyleModel",
      "state": {}
     },
     "16bef60242de4e4ba07ebecee18ea15b": {
      "model_module": "@jupyter-widgets/controls",
      "model_module_version": "1.2.0",
      "model_name": "DescriptionStyleModel",
      "state": {
       "description_width": ""
      }
     },
     "16e50bacfdda457c883e6b8abf52cea7": {
      "model_module": "@jupyter-widgets/controls",
      "model_module_version": "1.2.0",
      "model_name": "DescriptionStyleModel",
      "state": {
       "description_width": ""
      }
     },
     "1739d491157d4e02ab68ebf4b676f02c": {
      "model_module": "@jupyter-widgets/controls",
      "model_module_version": "1.2.0",
      "model_name": "ButtonModel",
      "state": {
       "button_style": "primary",
       "description": "Download",
       "layout": "IPY_MODEL_5ebbebbf08fb41cb956ae2892a10607c",
       "style": "IPY_MODEL_4b2d81016f864239aa142a1611ac3726"
      }
     },
     "17571ae416b14551ac78d5021c930fee": {
      "model_module": "@jupyter-widgets/base",
      "model_module_version": "1.0.0",
      "model_name": "LayoutModel",
      "state": {
       "width": "auto"
      }
     },
     "1790673bc5e64f80a731734ce3a5737f": {
      "model_module": "@jupyter-widgets/base",
      "model_module_version": "1.0.0",
      "model_name": "LayoutModel",
      "state": {
       "align_items": "center"
      }
     },
     "17b4140a0f3d4196873eff4487ee67e4": {
      "model_module": "@jupyter-widgets/controls",
      "model_module_version": "1.2.0",
      "model_name": "DescriptionStyleModel",
      "state": {
       "description_width": ""
      }
     },
     "17b7489ea99a485988b6d5048461b8e3": {
      "model_module": "@jupyter-widgets/base",
      "model_module_version": "1.0.0",
      "model_name": "LayoutModel",
      "state": {
       "width": "100px"
      }
     },
     "17c49326ece94f3fa7ede369804e874c": {
      "model_module": "@jupyter-widgets/base",
      "model_module_version": "1.0.0",
      "model_name": "LayoutModel",
      "state": {
       "align_items": "center"
      }
     },
     "18327a1de4e14b388aa7fb482c30c192": {
      "model_module": "@jupyter-widgets/controls",
      "model_module_version": "1.2.0",
      "model_name": "HTMLModel",
      "state": {
       "layout": "IPY_MODEL_96d411acd4f14e05ac85eca449bf7d9d",
       "style": "IPY_MODEL_670f3301918f458a8fc195d8497f0327",
       "value": "<h3 style='padding:0;margin:0;'>&nbsp &nbsp &nbsp<a href='https://github.com/pupster90/jupyter-wysiwyg.git'>jupyter-wysiwyg</a></h3>"
      }
     },
     "18487c6bd90b4ab689a0294d514b327f": {
      "model_module": "@jupyter-widgets/base",
      "model_module_version": "1.0.0",
      "model_name": "LayoutModel",
      "state": {}
     },
     "18567ed4ba5f49b98903baec71a72f30": {
      "model_module": "@jupyter-widgets/controls",
      "model_module_version": "1.2.0",
      "model_name": "ButtonModel",
      "state": {
       "button_style": "info",
       "description": "Download",
       "layout": "IPY_MODEL_fde0cb0f941b4f5bb7bae3e23d5c2134",
       "style": "IPY_MODEL_95cfbbfecbd34c60951eb95a5813ab13"
      }
     },
     "1878226d912c47ca8782845bbaa766bf": {
      "model_module": "@jupyter-widgets/controls",
      "model_module_version": "1.2.0",
      "model_name": "DescriptionStyleModel",
      "state": {
       "description_width": ""
      }
     },
     "18eced88ef5a416e8490757a733e2b91": {
      "model_module": "@jupyter-widgets/base",
      "model_module_version": "1.0.0",
      "model_name": "LayoutModel",
      "state": {
       "width": "auto"
      }
     },
     "1909002de29c4627919b208e1ccc639d": {
      "model_module": "@jupyter-widgets/controls",
      "model_module_version": "1.2.0",
      "model_name": "DescriptionStyleModel",
      "state": {
       "description_width": ""
      }
     },
     "19881ce0456445819393321460943da7": {
      "model_module": "@jupyter-widgets/controls",
      "model_module_version": "1.2.0",
      "model_name": "ToggleButtonsModel",
      "state": {
       "_options_labels": [
        "Public",
        "Private"
       ],
       "button_style": "info",
       "icons": [],
       "index": 0,
       "layout": "IPY_MODEL_9e6b0cd0e96948e6bcb7246813084e83",
       "style": "IPY_MODEL_bd2255cca68f40e38a9df5032c5f2843",
       "tooltips": []
      }
     },
     "19b11320689648f5bab40e01f40d1185": {
      "model_module": "@jupyter-widgets/controls",
      "model_module_version": "1.2.0",
      "model_name": "HBoxModel",
      "state": {
       "children": [
        "IPY_MODEL_5b362580fbd8441b98865a8b5d59587b",
        "IPY_MODEL_2c9bca78977f45d0946c577e771c0cbc",
        "IPY_MODEL_0b4c4d6a154542b6b0a76cf58fc86b0e",
        "IPY_MODEL_9ed3a573e1c04dc48cfbd9e05f2c57fc",
        "IPY_MODEL_0286be2636f749098aa12e039fee8b8b",
        "IPY_MODEL_9de7909897124cd1ad0e34c6c685e51c"
       ],
       "layout": "IPY_MODEL_b389ecc0d5e74ca8b1e6ed9308543231"
      }
     },
     "19e58a73dbf0427cb73d9ad76312cbce": {
      "model_module": "@jupyter-widgets/base",
      "model_module_version": "1.0.0",
      "model_name": "LayoutModel",
      "state": {
       "width": "130px"
      }
     },
     "1a028e19bf8448d881a618925673507e": {
      "model_module": "@jupyter-widgets/controls",
      "model_module_version": "1.2.0",
      "model_name": "ButtonModel",
      "state": {
       "button_style": "primary",
       "description": "Download",
       "layout": "IPY_MODEL_7ae41504dad44edf93524cfdc379a384",
       "style": "IPY_MODEL_a95a1304581d41e3b75925fbaba2191e"
      }
     },
     "1a628cf47f80472380a189274dadc0e0": {
      "model_module": "@jupyter-widgets/controls",
      "model_module_version": "1.2.0",
      "model_name": "ButtonStyleModel",
      "state": {}
     },
     "1a6e0d20e2e341daba6507026d24ed98": {
      "model_module": "@jupyter-widgets/base",
      "model_module_version": "1.0.0",
      "model_name": "LayoutModel",
      "state": {
       "align_items": "center"
      }
     },
     "1a703f58e1d143c3b2006aaed592d481": {
      "model_module": "@jupyter-widgets/controls",
      "model_module_version": "1.2.0",
      "model_name": "ButtonModel",
      "state": {
       "button_style": "info",
       "description": "Download",
       "layout": "IPY_MODEL_8bb8182e0dde42a49f28c674a1f8a322",
       "style": "IPY_MODEL_3a17ab7ddbfa43ecba9a57b182a5003b"
      }
     },
     "1a89df0298524939b471cb26c991c7d2": {
      "model_module": "@jupyter-widgets/controls",
      "model_module_version": "1.2.0",
      "model_name": "HBoxModel",
      "state": {
       "children": [
        "IPY_MODEL_a4e7206e19754bc8a599b73f867184fe",
        "IPY_MODEL_18567ed4ba5f49b98903baec71a72f30",
        "IPY_MODEL_91984bc40b0c4841b177373267d1167d",
        "IPY_MODEL_e2d41bd5da7f49edbf5818f1800b5d03",
        "IPY_MODEL_e26fba5fec274684b113e8ab8df0ad79",
        "IPY_MODEL_89a0982c53ad4dfc97084f13b9a105e2"
       ],
       "layout": "IPY_MODEL_3989f8ee1c7a45dd83322fccb7cd8a7c"
      }
     },
     "1a972be299e54724a3560f74be330110": {
      "model_module": "@jupyter-widgets/controls",
      "model_module_version": "1.2.0",
      "model_name": "HTMLModel",
      "state": {
       "layout": "IPY_MODEL_28243b7eee824cf482b7364411d6bf7b",
       "style": "IPY_MODEL_8e57baaf278e457eaeb46858328b1ca5",
       "value": "<h3 style='padding:0;margin:0;'>&nbsp &nbsp &nbsp<a href='https://github.com/pupster90/My_First_Research_Paper.git'>My_First_Research_Paper</a></h3>"
      }
     },
     "1ab6d1db5a694bca957cfe00212b8da1": {
      "model_module": "@jupyter-widgets/base",
      "model_module_version": "1.0.0",
      "model_name": "LayoutModel",
      "state": {
       "width": "auto"
      }
     },
     "1abccab882ae4b7cbef7556e458860b4": {
      "model_module": "@jupyter-widgets/controls",
      "model_module_version": "1.2.0",
      "model_name": "DescriptionStyleModel",
      "state": {
       "description_width": ""
      }
     },
     "1aff5707f13644b1a3bed67479041f5c": {
      "model_module": "@jupyter-widgets/base",
      "model_module_version": "1.0.0",
      "model_name": "LayoutModel",
      "state": {
       "width": "auto"
      }
     },
     "1b5366be5939494789085b9dd74bed86": {
      "model_module": "@jupyter-widgets/base",
      "model_module_version": "1.0.0",
      "model_name": "LayoutModel",
      "state": {
       "align_items": "center"
      }
     },
     "1b576adbeb3a4117bd9723175ac1a3e5": {
      "model_module": "@jupyter-widgets/controls",
      "model_module_version": "1.2.0",
      "model_name": "DescriptionStyleModel",
      "state": {
       "description_width": ""
      }
     },
     "1b7a737aeb63448fb233679fe52cafef": {
      "model_module": "@jupyter-widgets/controls",
      "model_module_version": "1.2.0",
      "model_name": "DescriptionStyleModel",
      "state": {
       "description_width": ""
      }
     },
     "1bdb03274685492c87d1217cb1e9b47a": {
      "model_module": "@jupyter-widgets/base",
      "model_module_version": "1.0.0",
      "model_name": "LayoutModel",
      "state": {}
     },
     "1c2572f003da4591b3fc89784271a90d": {
      "model_module": "@jupyter-widgets/controls",
      "model_module_version": "1.2.0",
      "model_name": "ButtonStyleModel",
      "state": {}
     },
     "1c280c18e6eb4930a8eaa06be9489bf1": {
      "model_module": "@jupyter-widgets/controls",
      "model_module_version": "1.2.0",
      "model_name": "DescriptionStyleModel",
      "state": {
       "description_width": ""
      }
     },
     "1c289579967b4706813646862ac84c04": {
      "model_module": "@jupyter-widgets/base",
      "model_module_version": "1.0.0",
      "model_name": "LayoutModel",
      "state": {
       "width": "auto"
      }
     },
     "1c48a864f5304525ac0f2a43cff4efc1": {
      "model_module": "@jupyter-widgets/controls",
      "model_module_version": "1.2.0",
      "model_name": "ButtonStyleModel",
      "state": {}
     },
     "1c6aacc0f4c7476e901b35c44962eb87": {
      "model_module": "@jupyter-widgets/controls",
      "model_module_version": "1.2.0",
      "model_name": "ButtonModel",
      "state": {
       "button_style": "primary",
       "description": "Download",
       "layout": "IPY_MODEL_f867da79884c4809908575aad835d14a",
       "style": "IPY_MODEL_0945fe1aa17f4b859273e130dba785ab"
      }
     },
     "1c6ca171ff664eda9897fb66bd08de8b": {
      "model_module": "@jupyter-widgets/base",
      "model_module_version": "1.0.0",
      "model_name": "LayoutModel",
      "state": {
       "align_items": "center"
      }
     },
     "1c6e35fb95694877885e90fbb45be496": {
      "model_module": "@jupyter-widgets/controls",
      "model_module_version": "1.2.0",
      "model_name": "LabelModel",
      "state": {
       "layout": "IPY_MODEL_b0e0cbcfadd44be882147d54e8081a0b",
       "style": "IPY_MODEL_0b6a8649760b4f10a40205389a1b0064",
       "value": "11 minutes ago"
      }
     },
     "1ca94af99c5546dd91fc88b5dc452be0": {
      "model_module": "@jupyter-widgets/controls",
      "model_module_version": "1.2.0",
      "model_name": "ButtonModel",
      "state": {
       "button_style": "info",
       "description": "Download",
       "layout": "IPY_MODEL_de91d82c094e48e5adaf35698e92b1d8",
       "style": "IPY_MODEL_3bcfdfcf16f043559ae958d4b68461dd"
      }
     },
     "1cb0590bc3ba44bb9a106c75b5f20631": {
      "model_module": "@jupyter-widgets/base",
      "model_module_version": "1.0.0",
      "model_name": "LayoutModel",
      "state": {
       "width": "auto"
      }
     },
     "1ceeb95abd0e46c8ac625fe56ca24177": {
      "model_module": "@jupyter-widgets/base",
      "model_module_version": "1.0.0",
      "model_name": "LayoutModel",
      "state": {}
     },
     "1d20962f39a24e5ba29c020c2045af60": {
      "model_module": "@jupyter-widgets/controls",
      "model_module_version": "1.2.0",
      "model_name": "DescriptionStyleModel",
      "state": {
       "description_width": ""
      }
     },
     "1d2ae32eb576465bb5071ace8fc08cd0": {
      "model_module": "@jupyter-widgets/controls",
      "model_module_version": "1.2.0",
      "model_name": "DescriptionStyleModel",
      "state": {
       "description_width": ""
      }
     },
     "1d3ed4ae0c6a47478e6b34146efb2f41": {
      "model_module": "@jupyter-widgets/controls",
      "model_module_version": "1.2.0",
      "model_name": "TextModel",
      "state": {
       "layout": "IPY_MODEL_5708926beab34e61a019716849491fa5",
       "style": "IPY_MODEL_3e8f977ed86d4d1791faf078baf6b920"
      }
     },
     "1d4f6b8adc814d92bfc799cf79738a46": {
      "model_module": "@jupyter-widgets/controls",
      "model_module_version": "1.2.0",
      "model_name": "HBoxModel",
      "state": {
       "children": [
        "IPY_MODEL_d11e10036e0f451789e05ea1392b907f",
        "IPY_MODEL_fa03a58c692b45e7b2b312611b59bd7b"
       ],
       "layout": "IPY_MODEL_851e702942d54758b5e9931fcca7c540"
      }
     },
     "1d616fe11c18486a9cc428f17823e818": {
      "model_module": "@jupyter-widgets/controls",
      "model_module_version": "1.2.0",
      "model_name": "HTMLModel",
      "state": {
       "layout": "IPY_MODEL_2edc4d178b524043b3f0b45cbf919e45",
       "style": "IPY_MODEL_416bddc20e794938addcfd7fa4e39203",
       "value": "<h3 style='padding:0;margin:0;'>&nbsp &nbsp &nbsp<a href='https://github.com/pupster90/Ideker_Online.git'>Ideker_Online</a></h3>"
      }
     },
     "1d6b35ac8b26420086d0e0694712e1be": {
      "model_module": "@jupyter-widgets/base",
      "model_module_version": "1.0.0",
      "model_name": "LayoutModel",
      "state": {
       "align_items": "center"
      }
     },
     "1d73fc64e57347caa4a74bf468645ce9": {
      "model_module": "@jupyter-widgets/controls",
      "model_module_version": "1.2.0",
      "model_name": "ButtonStyleModel",
      "state": {}
     },
     "1e36adb404ce41699f81e9f0139d24e3": {
      "model_module": "@jupyter-widgets/base",
      "model_module_version": "1.0.0",
      "model_name": "LayoutModel",
      "state": {
       "width": "130px"
      }
     },
     "1e39ecc394e4469f9ff504ddeaac1ae0": {
      "model_module": "@jupyter-widgets/base",
      "model_module_version": "1.0.0",
      "model_name": "LayoutModel",
      "state": {}
     },
     "1e5708f704c747c58c8b633ae67c4188": {
      "model_module": "@jupyter-widgets/controls",
      "model_module_version": "1.2.0",
      "model_name": "ButtonStyleModel",
      "state": {}
     },
     "1e77564ed344415a9b868897b50add86": {
      "model_module": "@jupyter-widgets/controls",
      "model_module_version": "1.2.0",
      "model_name": "ButtonModel",
      "state": {
       "button_style": "primary",
       "description": "Download",
       "layout": "IPY_MODEL_871572e113f24d97a5cc588830360794",
       "style": "IPY_MODEL_2c0ae191a15d49eda00ab2f9e174ef31"
      }
     },
     "1eba2cd06e5a4df7ac869179b5cf5142": {
      "model_module": "@jupyter-widgets/controls",
      "model_module_version": "1.2.0",
      "model_name": "ButtonStyleModel",
      "state": {}
     },
     "1ec5f86d73db47f8967acbdd2931b0ec": {
      "model_module": "@jupyter-widgets/base",
      "model_module_version": "1.0.0",
      "model_name": "LayoutModel",
      "state": {
       "justify_content": "center",
       "padding": "20px 0 0 0"
      }
     },
     "1ecd331ec39a4f2187885ca071670fde": {
      "model_module": "@jupyter-widgets/controls",
      "model_module_version": "1.2.0",
      "model_name": "HBoxModel",
      "state": {
       "children": [
        "IPY_MODEL_984d8f2d5fcd47649843c4bcf4e437cc",
        "IPY_MODEL_0f18a737a77e45ffa7ec6ba642650688"
       ],
       "layout": "IPY_MODEL_2603611350714d0a86498728241573f9"
      }
     },
     "1f063716c2214295bcfed55c97235279": {
      "model_module": "@jupyter-widgets/controls",
      "model_module_version": "1.2.0",
      "model_name": "ButtonStyleModel",
      "state": {}
     },
     "1f4e7db29fce4a8dad51ba23a6c79338": {
      "model_module": "@jupyter-widgets/controls",
      "model_module_version": "1.2.0",
      "model_name": "DescriptionStyleModel",
      "state": {
       "description_width": ""
      }
     },
     "1f5b41fdae554e62998c5220206e77bb": {
      "model_module": "@jupyter-widgets/controls",
      "model_module_version": "1.2.0",
      "model_name": "DescriptionStyleModel",
      "state": {
       "description_width": ""
      }
     },
     "1f95c4bf70e04488a1e5d98d68054560": {
      "model_module": "@jupyter-widgets/controls",
      "model_module_version": "1.2.0",
      "model_name": "VBoxModel",
      "state": {
       "children": [
        "IPY_MODEL_f2fd4409e3544c33aa49c835d2a4ee2a",
        "IPY_MODEL_c664a7712bf64bb685171418d2ac6097",
        "IPY_MODEL_bb9836b0534649968efb827d7fe36967",
        "IPY_MODEL_23294cf0e05947eb97abbcfd322b7c33"
       ],
       "layout": "IPY_MODEL_5460ae62d0984e3f902b5fccd93a77f8"
      }
     },
     "1fae0979f262420eaabf1a94e5d750ce": {
      "model_module": "@jupyter-widgets/base",
      "model_module_version": "1.0.0",
      "model_name": "LayoutModel",
      "state": {}
     },
     "1fb4368e068f4225960d7f0f9f312717": {
      "model_module": "@jupyter-widgets/base",
      "model_module_version": "1.0.0",
      "model_name": "LayoutModel",
      "state": {
       "align_items": "center"
      }
     },
     "1fbcf7bec6bb4d4ebdae35b24261a82f": {
      "model_module": "@jupyter-widgets/controls",
      "model_module_version": "1.2.0",
      "model_name": "DescriptionStyleModel",
      "state": {
       "description_width": ""
      }
     },
     "1fc8146b64374801b875418eeb38ed8c": {
      "model_module": "@jupyter-widgets/base",
      "model_module_version": "1.0.0",
      "model_name": "LayoutModel",
      "state": {
       "width": "auto"
      }
     },
     "1fca05ae6c094d1489a2dd59cb4bca6d": {
      "model_module": "@jupyter-widgets/base",
      "model_module_version": "1.0.0",
      "model_name": "LayoutModel",
      "state": {
       "align_items": "center"
      }
     },
     "1fe3899f682b4be8ab35a2ea319ec177": {
      "model_module": "@jupyter-widgets/controls",
      "model_module_version": "1.2.0",
      "model_name": "LabelModel",
      "state": {
       "layout": "IPY_MODEL_62364e0ad56a4c3580b8876593dfd9db",
       "style": "IPY_MODEL_e8c89575542a4578ba0782caedad11b8",
       "value": "2 days ago"
      }
     },
     "205ed3d741634ac2b83bf3df0ea29c07": {
      "model_module": "@jupyter-widgets/base",
      "model_module_version": "1.0.0",
      "model_name": "LayoutModel",
      "state": {}
     },
     "20c28388aa9a4c00aa350b973e2691fd": {
      "model_module": "@jupyter-widgets/base",
      "model_module_version": "1.0.0",
      "model_name": "LayoutModel",
      "state": {}
     },
     "20d92bd41a4c4b90b8052fae476551ae": {
      "model_module": "@jupyter-widgets/controls",
      "model_module_version": "1.2.0",
      "model_name": "HTMLModel",
      "state": {
       "layout": "IPY_MODEL_287ead9808c3495c81f160955c5aeb33",
       "style": "IPY_MODEL_3a057e4a6a1c485f9d61bc3d5cc2a965",
       "value": "<h3 style='padding:0;margin:0;'>&nbsp &nbsp &nbsp<a href='https://github.com/pupster90/test-repo.git'>test-repo</a></h3>"
      }
     },
     "20eda1c9568548bfbdb3238a58701400": {
      "model_module": "@jupyter-widgets/controls",
      "model_module_version": "1.2.0",
      "model_name": "HTMLModel",
      "state": {
       "layout": "IPY_MODEL_5848078661f746cabf157b0c903f2405",
       "style": "IPY_MODEL_58f189e8324c47c58acee22fbaf85727",
       "value": "<h3 style='padding:0;margin:0;'>&nbsp &nbsp &nbsp<a href='https://github.com/pupster90/My_First_Research_Paper.git'>My_First_Research_Paper</a></h3>"
      }
     },
     "20f39cc85e5e4aaba26c2dc480ab7e0a": {
      "model_module": "@jupyter-widgets/controls",
      "model_module_version": "1.2.0",
      "model_name": "HBoxModel",
      "state": {
       "children": [
        "IPY_MODEL_315dc31cb3b348c29d83e14ad3d29b32",
        "IPY_MODEL_fbdf167191424fa0ba934f1c4eb34d79",
        "IPY_MODEL_81d58a3f23c94dd0b6343fc9684f12c1",
        "IPY_MODEL_5db93f9e3c2a4f12b7f5e1e8e377c6c1"
       ],
       "layout": "IPY_MODEL_e1923c50012e4a89bea3856ea204091b"
      }
     },
     "213792a46753461d809ed6a1291c1744": {
      "model_module": "@jupyter-widgets/controls",
      "model_module_version": "1.2.0",
      "model_name": "HTMLModel",
      "state": {
       "layout": "IPY_MODEL_2497b0d89e714e298191978e4f10dab8",
       "style": "IPY_MODEL_473614ed565745568baf727c1b9b5387",
       "value": "<h4 style='padding:0;margin:0;'>&nbsp <a href='https://github.com/pupster900' style='color:gray'>pupster900</a> &nbsp</h4>"
      }
     },
     "214c3e8d910e4fef829a3940f3db15d5": {
      "model_module": "@jupyter-widgets/controls",
      "model_module_version": "1.2.0",
      "model_name": "HTMLModel",
      "state": {
       "layout": "IPY_MODEL_c9a404da740e443d918bf7d0e7210b6e",
       "style": "IPY_MODEL_de5f594fcae94b59a1a56f4ecfda594b",
       "value": "<h3 style='padding:0;margin:0;'>&nbsp &nbsp &nbsp<a href='https://github.com/pupster90/Cytoscape.git'>Cytoscape</a></h3>"
      }
     },
     "21ab044caee54da9aa18658ac919cbbd": {
      "model_module": "@jupyter-widgets/controls",
      "model_module_version": "1.2.0",
      "model_name": "ButtonModel",
      "state": {
       "button_style": "primary",
       "description": " Refresh",
       "icon": "refresh",
       "layout": "IPY_MODEL_24bc035aaf3f45e58a3998d7ee8a7ef7",
       "style": "IPY_MODEL_3bee723f9ae84239bcf62715ad7ce7d5"
      }
     },
     "21ad320c29a24f33b3cdfd39104cf622": {
      "model_module": "@jupyter-widgets/controls",
      "model_module_version": "1.2.0",
      "model_name": "HBoxModel",
      "state": {
       "children": [
        "IPY_MODEL_ca1243bdd79c4fbbaff15ab681176e8a",
        "IPY_MODEL_e435d08d330a490aae3fea839665422a"
       ],
       "layout": "IPY_MODEL_434b44bf87564111a78e96d1841f84ef"
      }
     },
     "21ecf5c08c3f46e982459fa9abf3e5e6": {
      "model_module": "@jupyter-widgets/controls",
      "model_module_version": "1.2.0",
      "model_name": "ButtonModel",
      "state": {
       "button_style": "info",
       "description": "Download",
       "layout": "IPY_MODEL_e363f35fd81e4bd0842c326c7e2c5a29",
       "style": "IPY_MODEL_1e5708f704c747c58c8b633ae67c4188"
      }
     },
     "22695005637447a383a97e31a872f3e8": {
      "model_module": "@jupyter-widgets/controls",
      "model_module_version": "1.2.0",
      "model_name": "DescriptionStyleModel",
      "state": {
       "description_width": ""
      }
     },
     "226b8e31dad74dad8b8793a6c9134b6d": {
      "model_module": "@jupyter-widgets/base",
      "model_module_version": "1.0.0",
      "model_name": "LayoutModel",
      "state": {}
     },
     "228e8806ecee471b98ff3907fc1ad6a2": {
      "model_module": "@jupyter-widgets/base",
      "model_module_version": "1.0.0",
      "model_name": "LayoutModel",
      "state": {
       "align_items": "center"
      }
     },
     "2293ab42852849debb0ec068474efbf5": {
      "model_module": "@jupyter-widgets/controls",
      "model_module_version": "1.2.0",
      "model_name": "ButtonStyleModel",
      "state": {}
     },
     "22aabd6a8db84a119140844c70444b9d": {
      "model_module": "@jupyter-widgets/controls",
      "model_module_version": "1.2.0",
      "model_name": "DescriptionStyleModel",
      "state": {
       "description_width": ""
      }
     },
     "22c54c9378d64f959425a7429fc21630": {
      "model_module": "@jupyter-widgets/base",
      "model_module_version": "1.0.0",
      "model_name": "LayoutModel",
      "state": {
       "width": "auto"
      }
     },
     "23294cf0e05947eb97abbcfd322b7c33": {
      "model_module": "@jupyter-widgets/controls",
      "model_module_version": "1.2.0",
      "model_name": "HBoxModel",
      "state": {
       "children": [
        "IPY_MODEL_9b528b334a73464aa89c00b194693064",
        "IPY_MODEL_8cf596dc2a6b4fd2a37d421c67ddc22c"
       ],
       "layout": "IPY_MODEL_a9dcc8329bad423887dd4ef7fd1ecc8e"
      }
     },
     "23d66a5d65a449499e2dc0bf893835bb": {
      "model_module": "@jupyter-widgets/base",
      "model_module_version": "1.0.0",
      "model_name": "LayoutModel",
      "state": {
       "width": "130px"
      }
     },
     "23db2a3bc3484809abc59dd4e310ec98": {
      "model_module": "@jupyter-widgets/base",
      "model_module_version": "1.0.0",
      "model_name": "LayoutModel",
      "state": {}
     },
     "2401564bd0924340bb6bf9d80f9bae19": {
      "model_module": "@jupyter-widgets/controls",
      "model_module_version": "1.2.0",
      "model_name": "ButtonModel",
      "state": {
       "button_style": "primary",
       "description": "Download",
       "layout": "IPY_MODEL_d03d4d7722b943e5a1fffa395d00c3c6",
       "style": "IPY_MODEL_874d494341c74abb915a9b040e3f3cd0"
      }
     },
     "240431b46800409590c13b33d3c9703c": {
      "model_module": "@jupyter-widgets/controls",
      "model_module_version": "1.2.0",
      "model_name": "HBoxModel",
      "state": {
       "children": [
        "IPY_MODEL_285adf94842f42eead0a165353566aae",
        "IPY_MODEL_b611226a00f8463c8705cbec524f4ee4"
       ],
       "layout": "IPY_MODEL_f58c8e34c5654e429eb12ffcbadc494c"
      }
     },
     "2409e582350b431f8ca3b709b4528f9d": {
      "model_module": "@jupyter-widgets/base",
      "model_module_version": "1.0.0",
      "model_name": "LayoutModel",
      "state": {}
     },
     "242ce48ec43e45e294224087833da5a8": {
      "model_module": "@jupyter-widgets/controls",
      "model_module_version": "1.2.0",
      "model_name": "DescriptionStyleModel",
      "state": {
       "description_width": ""
      }
     },
     "246ebe9ad0fb473d9738e75c89109651": {
      "model_module": "@jupyter-widgets/base",
      "model_module_version": "1.0.0",
      "model_name": "LayoutModel",
      "state": {
       "width": "auto"
      }
     },
     "2486270524714d57a890278c4aa58ec6": {
      "model_module": "@jupyter-widgets/controls",
      "model_module_version": "1.2.0",
      "model_name": "DescriptionStyleModel",
      "state": {
       "description_width": ""
      }
     },
     "2495f8ba18b84021af2efc3441149b57": {
      "model_module": "@jupyter-widgets/controls",
      "model_module_version": "1.2.0",
      "model_name": "HBoxModel",
      "state": {
       "children": [
        "IPY_MODEL_1a028e19bf8448d881a618925673507e",
        "IPY_MODEL_724cab5c7ed5420cbbea873723e46cab"
       ],
       "layout": "IPY_MODEL_ac98769cb8a9494597b800a3494ce060"
      }
     },
     "2497b0d89e714e298191978e4f10dab8": {
      "model_module": "@jupyter-widgets/base",
      "model_module_version": "1.0.0",
      "model_name": "LayoutModel",
      "state": {}
     },
     "24bc035aaf3f45e58a3998d7ee8a7ef7": {
      "model_module": "@jupyter-widgets/base",
      "model_module_version": "1.0.0",
      "model_name": "LayoutModel",
      "state": {}
     },
     "24bcce732fae41b489d05027fd658165": {
      "model_module": "@jupyter-widgets/controls",
      "model_module_version": "1.2.0",
      "model_name": "HBoxModel",
      "state": {
       "children": [
        "IPY_MODEL_47cb4c9d18094dae845c2680153ea932",
        "IPY_MODEL_5846151ee48b481197f0390ff0dcdbf3",
        "IPY_MODEL_4088615c95244e7d89bf8c40fce02e99",
        "IPY_MODEL_47d09c4df4d646df9e46890a5eaa797d",
        "IPY_MODEL_83ee1a2174cd4aba9dbac500b83a4495",
        "IPY_MODEL_b32295e931db42d7b0d7dddda23cfd53"
       ],
       "layout": "IPY_MODEL_98115e5a0d9a42b488c167a1ca647b26"
      }
     },
     "24d4f6e68651442e9c1febabb19b4cbd": {
      "model_module": "@jupyter-widgets/controls",
      "model_module_version": "1.2.0",
      "model_name": "ButtonStyleModel",
      "state": {}
     },
     "24f00bd6b8e14d5db3ef84147723f102": {
      "model_module": "@jupyter-widgets/controls",
      "model_module_version": "1.2.0",
      "model_name": "DescriptionStyleModel",
      "state": {
       "description_width": ""
      }
     },
     "252306b95f734fbeb3f42c130bcefa6b": {
      "model_module": "@jupyter-widgets/base",
      "model_module_version": "1.0.0",
      "model_name": "LayoutModel",
      "state": {}
     },
     "252917f78be44d36b6ab309eee5e5b55": {
      "model_module": "@jupyter-widgets/controls",
      "model_module_version": "1.2.0",
      "model_name": "ButtonModel",
      "state": {
       "button_style": "danger",
       "description": "Logout",
       "layout": "IPY_MODEL_587459d5acf5470fb9ddbe8961d77eb7",
       "style": "IPY_MODEL_442fa1fca35146cfb110338b671d9c3d"
      }
     },
     "256123b6ca514b65ad6b3caac9927811": {
      "model_module": "@jupyter-widgets/controls",
      "model_module_version": "1.2.0",
      "model_name": "ButtonStyleModel",
      "state": {}
     },
     "25715c9fa2c245f5998dda8e5987d9fd": {
      "model_module": "@jupyter-widgets/controls",
      "model_module_version": "1.2.0",
      "model_name": "DescriptionStyleModel",
      "state": {
       "description_width": ""
      }
     },
     "25d3e493a17a4031adaaf80c5bf0ce9e": {
      "model_module": "@jupyter-widgets/base",
      "model_module_version": "1.0.0",
      "model_name": "LayoutModel",
      "state": {
       "width": "auto"
      }
     },
     "25d87fc048e540b6a537ad9a13635439": {
      "model_module": "@jupyter-widgets/controls",
      "model_module_version": "1.2.0",
      "model_name": "ButtonModel",
      "state": {
       "button_style": "primary",
       "description": " Refresh",
       "icon": "refresh",
       "layout": "IPY_MODEL_ef323d60d3744c44b55b91db8e490b25",
       "style": "IPY_MODEL_56d08a5dfc7f4e40b4e04b573edacc4f"
      }
     },
     "2601c7e44a984ac5a019a41097802798": {
      "model_module": "@jupyter-widgets/base",
      "model_module_version": "1.0.0",
      "model_name": "LayoutModel",
      "state": {}
     },
     "2603611350714d0a86498728241573f9": {
      "model_module": "@jupyter-widgets/base",
      "model_module_version": "1.0.0",
      "model_name": "LayoutModel",
      "state": {
       "align_items": "center"
      }
     },
     "261edfff324d4e2abbda3299b21ff636": {
      "model_module": "@jupyter-widgets/base",
      "model_module_version": "1.0.0",
      "model_name": "LayoutModel",
      "state": {
       "width": "100px"
      }
     },
     "26258539ca81484880887f70d59d46e9": {
      "model_module": "@jupyter-widgets/base",
      "model_module_version": "1.0.0",
      "model_name": "LayoutModel",
      "state": {
       "width": "100px"
      }
     },
     "262af83516e241ea801298e046b91d0b": {
      "model_module": "@jupyter-widgets/controls",
      "model_module_version": "1.2.0",
      "model_name": "DescriptionStyleModel",
      "state": {
       "description_width": ""
      }
     },
     "26481c544f1a470e952d5a7a52803455": {
      "model_module": "@jupyter-widgets/controls",
      "model_module_version": "1.2.0",
      "model_name": "ButtonModel",
      "state": {
       "button_style": "primary",
       "description": "Download",
       "layout": "IPY_MODEL_6f010ffa19fb4514b6808bdf7cfa0ab7",
       "style": "IPY_MODEL_595639d1584f41409f981959902f1789"
      }
     },
     "26628f45c89b4f34acad201551d74bca": {
      "model_module": "@jupyter-widgets/controls",
      "model_module_version": "1.2.0",
      "model_name": "HTMLModel",
      "state": {
       "layout": "IPY_MODEL_96964004aaf04362b3cf49133d387e80",
       "style": "IPY_MODEL_109a7861bdfc47d2bc5230f09c35f6cf",
       "value": "<h3 style='padding:0;margin:0;'>&nbsp &nbsp &nbsp<a href='https://github.com/pupster90/Cytoscape.git'>Cytoscape</a></h3>"
      }
     },
     "266f74f6a1854d31971ce903034461c7": {
      "model_module": "@jupyter-widgets/controls",
      "model_module_version": "1.2.0",
      "model_name": "HTMLModel",
      "state": {
       "layout": "IPY_MODEL_8f337c71e8e7406f9e286bbc75fa98c7",
       "style": "IPY_MODEL_f1105c7c5e67477b9e0e72daa93654fa",
       "value": "<h3 style='padding:0;margin:0;'>&nbsp &nbsp &nbsp<a href='https://github.com/pupster90/indra-scraper.git'>indra-scraper</a></h3>"
      }
     },
     "27207de9dc134242be0ff2eaff9ad18a": {
      "model_module": "@jupyter-widgets/base",
      "model_module_version": "1.0.0",
      "model_name": "LayoutModel",
      "state": {}
     },
     "27392886e9664b8f85a946fd82e47236": {
      "model_module": "@jupyter-widgets/controls",
      "model_module_version": "1.2.0",
      "model_name": "HBoxModel",
      "state": {
       "children": [
        "IPY_MODEL_ec7fd3b8edc440e1863b4b7d93b4b507",
        "IPY_MODEL_1a703f58e1d143c3b2006aaed592d481",
        "IPY_MODEL_e8af32cb9a3448a19da045cec043e510",
        "IPY_MODEL_765364a13a884836b45db9ebac336fe7",
        "IPY_MODEL_c46cfd0ef6c944d586bb677a164ca14e",
        "IPY_MODEL_9dd1a1642dc241e8944d8778f6a169a2"
       ],
       "layout": "IPY_MODEL_d465d146d050428c83344e13fc8fa003"
      }
     },
     "276766ac1b304ea7b4d388f0b8fba199": {
      "model_module": "@jupyter-widgets/base",
      "model_module_version": "1.0.0",
      "model_name": "LayoutModel",
      "state": {}
     },
     "27694f57f2c74c62aa7ed7240208cd04": {
      "model_module": "@jupyter-widgets/controls",
      "model_module_version": "1.2.0",
      "model_name": "ButtonModel",
      "state": {
       "button_style": "info",
       "description": "Download",
       "layout": "IPY_MODEL_897bdcd5e7a04af2ac8a94f3e8db3e3e",
       "style": "IPY_MODEL_9b000cdb6b0f4e7d94532ac72354965e"
      }
     },
     "2789d2fceb3b4197b7d3c263ba9bcb1c": {
      "model_module": "@jupyter-widgets/base",
      "model_module_version": "1.0.0",
      "model_name": "LayoutModel",
      "state": {
       "width": "auto"
      }
     },
     "279c2ac3b41f425792adbdc79cc01613": {
      "model_module": "@jupyter-widgets/controls",
      "model_module_version": "1.2.0",
      "model_name": "DescriptionStyleModel",
      "state": {
       "description_width": ""
      }
     },
     "27a42257166341b995bbac30018fdd50": {
      "model_module": "@jupyter-widgets/base",
      "model_module_version": "1.0.0",
      "model_name": "LayoutModel",
      "state": {
       "align_items": "center"
      }
     },
     "27a7500a29e545c29422a747aee24c3d": {
      "model_module": "@jupyter-widgets/base",
      "model_module_version": "1.0.0",
      "model_name": "LayoutModel",
      "state": {
       "align_items": "center"
      }
     },
     "27b603fece534497850caf58781fcffc": {
      "model_module": "@jupyter-widgets/controls",
      "model_module_version": "1.2.0",
      "model_name": "ButtonModel",
      "state": {
       "button_style": "primary",
       "description": "Download",
       "layout": "IPY_MODEL_22c54c9378d64f959425a7429fc21630",
       "style": "IPY_MODEL_46b9d4395ea149a38e7a31d7295d15b5"
      }
     },
     "27cd9f3fe8dc40f2ad067b889b269c17": {
      "model_module": "@jupyter-widgets/controls",
      "model_module_version": "1.2.0",
      "model_name": "HTMLModel",
      "state": {
       "layout": "IPY_MODEL_849b51966dae4d13ae4feff7bb38aedd",
       "style": "IPY_MODEL_1d2ae32eb576465bb5071ace8fc08cd0",
       "value": "<h3 style='padding:0;margin:0;'>&nbsp &nbsp &nbsp<a href='https://github.com/pupster90/Cytoscape.git'>Cytoscape</a></h3>"
      }
     },
     "28243b7eee824cf482b7364411d6bf7b": {
      "model_module": "@jupyter-widgets/base",
      "model_module_version": "1.0.0",
      "model_name": "LayoutModel",
      "state": {}
     },
     "285adf94842f42eead0a165353566aae": {
      "model_module": "@jupyter-widgets/controls",
      "model_module_version": "1.2.0",
      "model_name": "ButtonModel",
      "state": {
       "button_style": "primary",
       "description": "Download",
       "layout": "IPY_MODEL_dbc7220d3cd74f9491108fd04ff409bf",
       "style": "IPY_MODEL_3de42d92918945c8a96bf0dcb9ee62b1"
      }
     },
     "287ead9808c3495c81f160955c5aeb33": {
      "model_module": "@jupyter-widgets/base",
      "model_module_version": "1.0.0",
      "model_name": "LayoutModel",
      "state": {}
     },
     "2888d429c936457f866973d02442a63c": {
      "model_module": "@jupyter-widgets/controls",
      "model_module_version": "1.2.0",
      "model_name": "HTMLModel",
      "state": {
       "layout": "IPY_MODEL_c7799c12bd52468ca14ccaa40667e6f6",
       "style": "IPY_MODEL_31e6548d7a7841dfa067065a05f65240",
       "value": "<h3 style='padding:0;margin:0;'>&nbsp &nbsp &nbsp<a href='https://github.com/pupster90/xqueue-watcher.git'>xqueue-watcher</a></h3>"
      }
     },
     "2897a044d45b47218092b86d6f81b4a3": {
      "model_module": "@jupyter-widgets/controls",
      "model_module_version": "1.2.0",
      "model_name": "DescriptionStyleModel",
      "state": {
       "description_width": ""
      }
     },
     "28d5ef5478a2474e89012c2b79a9dc00": {
      "model_module": "@jupyter-widgets/controls",
      "model_module_version": "1.2.0",
      "model_name": "ButtonModel",
      "state": {
       "button_style": "primary",
       "description": "Download",
       "layout": "IPY_MODEL_2789d2fceb3b4197b7d3c263ba9bcb1c",
       "style": "IPY_MODEL_a7f900b748af4f91b5fe1c0c18e4aa3c"
      }
     },
     "28f7c987fd60421bbd5ea5894dbc3d2d": {
      "model_module": "@jupyter-widgets/controls",
      "model_module_version": "1.2.0",
      "model_name": "ButtonModel",
      "state": {
       "button_style": "primary",
       "description": "Download",
       "layout": "IPY_MODEL_8ad38a35939d425cb06e57147c3cafb1",
       "style": "IPY_MODEL_8b387535f7c64f5a8afc721c82dc4817"
      }
     },
     "29051095179347e18e135f17b7a42fe6": {
      "model_module": "@jupyter-widgets/base",
      "model_module_version": "1.0.0",
      "model_name": "LayoutModel",
      "state": {
       "justify_content": "center",
       "padding": "15px 0 0 0"
      }
     },
     "290bce8392954f98b331b4a9ad1577bf": {
      "model_module": "@jupyter-widgets/base",
      "model_module_version": "1.0.0",
      "model_name": "LayoutModel",
      "state": {
       "justify_content": "center",
       "padding": "20px 0 0 0"
      }
     },
     "291e8e1afdda4838af690a1a3a30c82d": {
      "model_module": "@jupyter-widgets/base",
      "model_module_version": "1.0.0",
      "model_name": "LayoutModel",
      "state": {}
     },
     "291f214f0e644865b4f8ca66dd8fb83a": {
      "model_module": "@jupyter-widgets/controls",
      "model_module_version": "1.2.0",
      "model_name": "TextModel",
      "state": {
       "layout": "IPY_MODEL_8edd15c9063c4f8a92dbc6f0b2b36b97",
       "style": "IPY_MODEL_7795ddd98f6943deacfb19ec62490bd8",
       "value": "cleaned up"
      }
     },
     "2992d2f3a08e4eb1b419d092425aecbf": {
      "model_module": "@jupyter-widgets/controls",
      "model_module_version": "1.2.0",
      "model_name": "DescriptionStyleModel",
      "state": {
       "description_width": ""
      }
     },
     "29b241c52d944a38961a06c498c927eb": {
      "model_module": "@jupyter-widgets/controls",
      "model_module_version": "1.2.0",
      "model_name": "HTMLModel",
      "state": {
       "layout": "IPY_MODEL_02143fed73934f9bababab4ace1a259d",
       "style": "IPY_MODEL_17b4140a0f3d4196873eff4487ee67e4",
       "value": "<font color='orange'> &nbsp Stars: 0</font>"
      }
     },
     "29ced4df0b2e4f90aa738f62a9553556": {
      "model_module": "@jupyter-widgets/base",
      "model_module_version": "1.0.0",
      "model_name": "LayoutModel",
      "state": {
       "align_items": "center"
      }
     },
     "29f1b6fa47104bdfbf9d10639a9f43e7": {
      "model_module": "@jupyter-widgets/controls",
      "model_module_version": "1.2.0",
      "model_name": "HTMLModel",
      "state": {
       "layout": "IPY_MODEL_58313d8e5d1b43389c0146ffe701d4ed",
       "style": "IPY_MODEL_92d4e5f7c6b1460988171fb8090b7add",
       "value": "<h3 style='padding:0;margin:0;'>&nbsp &nbsp &nbsp<a href='https://github.com/pupster90/Welcome_to_io-old.git'>Welcome_to_io-old</a></h3>"
      }
     },
     "2a0450adc13d4779bd3a1b8e1d541819": {
      "model_module": "@jupyter-widgets/base",
      "model_module_version": "1.0.0",
      "model_name": "LayoutModel",
      "state": {}
     },
     "2a08848efe744fe298208db82f52e442": {
      "model_module": "@jupyter-widgets/base",
      "model_module_version": "1.0.0",
      "model_name": "LayoutModel",
      "state": {}
     },
     "2a79a6c91ac34f35adca8d8db51e81e8": {
      "model_module": "@jupyter-widgets/controls",
      "model_module_version": "1.2.0",
      "model_name": "DescriptionStyleModel",
      "state": {
       "description_width": ""
      }
     },
     "2a8d6a10b3534fc08f9b3e33a37a1feb": {
      "model_module": "@jupyter-widgets/base",
      "model_module_version": "1.0.0",
      "model_name": "LayoutModel",
      "state": {
       "width": "auto"
      }
     },
     "2c0ae191a15d49eda00ab2f9e174ef31": {
      "model_module": "@jupyter-widgets/controls",
      "model_module_version": "1.2.0",
      "model_name": "ButtonStyleModel",
      "state": {}
     },
     "2c1d7c25f6ed4af8a4f9bf436958b765": {
      "model_module": "@jupyter-widgets/controls",
      "model_module_version": "1.2.0",
      "model_name": "DescriptionStyleModel",
      "state": {
       "description_width": ""
      }
     },
     "2c235e0fccab41178b037a9d90d46e3c": {
      "model_module": "@jupyter-widgets/controls",
      "model_module_version": "1.2.0",
      "model_name": "ButtonModel",
      "state": {
       "button_style": "info",
       "description": "Download",
       "layout": "IPY_MODEL_a05de72f16e349eb8239042a45d6446b",
       "style": "IPY_MODEL_169fa4538dec4d3a80b1b804f1ff54e5"
      }
     },
     "2c5269f9685347cf9932a51f7fce9fba": {
      "model_module": "@jupyter-widgets/controls",
      "model_module_version": "1.2.0",
      "model_name": "ButtonModel",
      "state": {
       "button_style": "info",
       "description": "Download",
       "layout": "IPY_MODEL_972f8d97348849379f0c93577ed4d5b2",
       "style": "IPY_MODEL_6aef0ad23f93440eaab08c3eb3f3622e"
      }
     },
     "2c9bca78977f45d0946c577e771c0cbc": {
      "model_module": "@jupyter-widgets/controls",
      "model_module_version": "1.2.0",
      "model_name": "ButtonModel",
      "state": {
       "button_style": "info",
       "description": "Download",
       "layout": "IPY_MODEL_3159629c6ee04e37819ad043e33cc58b",
       "style": "IPY_MODEL_b03efa9893644a47a5f9677f9429b8b5"
      }
     },
     "2cb013f8dd4c4498b9a3c65b8e03995e": {
      "model_module": "@jupyter-widgets/controls",
      "model_module_version": "1.2.0",
      "model_name": "DescriptionStyleModel",
      "state": {
       "description_width": ""
      }
     },
     "2d2b6b9874254e3f87b2f8a0e6d2e4c0": {
      "model_module": "@jupyter-widgets/controls",
      "model_module_version": "1.2.0",
      "model_name": "TextModel",
      "state": {
       "layout": "IPY_MODEL_23db2a3bc3484809abc59dd4e310ec98",
       "style": "IPY_MODEL_9229ca36cc2c4d0a972117fe9360a5e5"
      }
     },
     "2d38a96d1a984acfb249767577f4756d": {
      "model_module": "@jupyter-widgets/controls",
      "model_module_version": "1.2.0",
      "model_name": "DescriptionStyleModel",
      "state": {
       "description_width": ""
      }
     },
     "2d4b8bf5edb746659e042aad353e9cab": {
      "model_module": "@jupyter-widgets/controls",
      "model_module_version": "1.2.0",
      "model_name": "DescriptionStyleModel",
      "state": {
       "description_width": ""
      }
     },
     "2d7e8c81e0d4428d8479b1166e4a0279": {
      "model_module": "@jupyter-widgets/base",
      "model_module_version": "1.0.0",
      "model_name": "LayoutModel",
      "state": {
       "align_items": "center"
      }
     },
     "2da1402242d141c48bff12883459b965": {
      "model_module": "@jupyter-widgets/controls",
      "model_module_version": "1.2.0",
      "model_name": "DescriptionStyleModel",
      "state": {
       "description_width": ""
      }
     },
     "2dc39f6aea9b4a6d950f166e7c02275f": {
      "model_module": "@jupyter-widgets/controls",
      "model_module_version": "1.2.0",
      "model_name": "ButtonStyleModel",
      "state": {}
     },
     "2e9add6c340e4a7c8361b1f90bba7e1d": {
      "model_module": "@jupyter-widgets/controls",
      "model_module_version": "1.2.0",
      "model_name": "HTMLModel",
      "state": {
       "layout": "IPY_MODEL_357bac4d102a40029404e4538247c420",
       "style": "IPY_MODEL_b3784eeb923a4a1d9bdce00bfadddbc8",
       "value": "<font color='green'> &nbsp Downloads: 0</font>"
      }
     },
     "2e9b8181e7a44de4844c15baab3c9151": {
      "model_module": "@jupyter-widgets/controls",
      "model_module_version": "1.2.0",
      "model_name": "DescriptionStyleModel",
      "state": {
       "description_width": ""
      }
     },
     "2ed83a43ea10489b85e998d7a4fa0837": {
      "model_module": "@jupyter-widgets/controls",
      "model_module_version": "1.2.0",
      "model_name": "HTMLModel",
      "state": {
       "layout": "IPY_MODEL_942b1df0647943229756289fb451b7a3",
       "style": "IPY_MODEL_dce81cf27cc94942b1d1a98194dca607",
       "value": "<h3 style='padding:0;margin:0;'>&nbsp &nbsp &nbsp<a href='https://github.com/pupster90/io_View.git'>io_View</a></h3>"
      }
     },
     "2edc4d178b524043b3f0b45cbf919e45": {
      "model_module": "@jupyter-widgets/base",
      "model_module_version": "1.0.0",
      "model_name": "LayoutModel",
      "state": {}
     },
     "2ee7ba7cbaee4f7f995490a4a59a55f6": {
      "model_module": "@jupyter-widgets/controls",
      "model_module_version": "1.2.0",
      "model_name": "ButtonModel",
      "state": {
       "button_style": "success",
       "description": "Publish",
       "layout": "IPY_MODEL_4afe8d674b9e46d6a3e87938145c5dfa",
       "style": "IPY_MODEL_fee7a77193f643b2a8d062e23dd18693"
      }
     },
     "2ef07e1aef3040e2a40c08f3156e3bfb": {
      "model_module": "@jupyter-widgets/controls",
      "model_module_version": "1.2.0",
      "model_name": "DescriptionStyleModel",
      "state": {
       "description_width": ""
      }
     },
     "2ef6f6ff44be48ae8e29dac494d39cf6": {
      "model_module": "@jupyter-widgets/base",
      "model_module_version": "1.0.0",
      "model_name": "LayoutModel",
      "state": {}
     },
     "2f042a358de64e738498881331a79898": {
      "model_module": "@jupyter-widgets/controls",
      "model_module_version": "1.2.0",
      "model_name": "HBoxModel",
      "state": {
       "children": [
        "IPY_MODEL_cee399b027324df79bca31dd43ea2fcb",
        "IPY_MODEL_9b99cb733c6f44c984338549b6a6004d"
       ],
       "layout": "IPY_MODEL_7181c62918b34f608a495eac0b720220"
      }
     },
     "2f3073b5403f40038f14b8100578d18e": {
      "model_module": "@jupyter-widgets/base",
      "model_module_version": "1.0.0",
      "model_name": "LayoutModel",
      "state": {
       "align_items": "center"
      }
     },
     "2f9d401698a144f2be6bc2fce3dd4fcf": {
      "model_module": "@jupyter-widgets/controls",
      "model_module_version": "1.2.0",
      "model_name": "TextModel",
      "state": {
       "layout": "IPY_MODEL_a3b6abbb755342d38862e7d9144ec972",
       "style": "IPY_MODEL_5011b2d4a09e4e2cbef0009ea395fd10"
      }
     },
     "2fa2cbf101d94ad08059a9cd7fa0bc43": {
      "model_module": "@jupyter-widgets/base",
      "model_module_version": "1.0.0",
      "model_name": "LayoutModel",
      "state": {}
     },
     "2fff6f6c188f4dd5ae9d7b811658fd54": {
      "model_module": "@jupyter-widgets/controls",
      "model_module_version": "1.2.0",
      "model_name": "HBoxModel",
      "state": {
       "children": [
        "IPY_MODEL_3ab29a99087d4e74802cf917493a195b",
        "IPY_MODEL_000192d738de4aaf89a3beb4d82e7d8b"
       ],
       "layout": "IPY_MODEL_3755a3b4817241ed8d254cad5985ac66"
      }
     },
     "303f4009737143ef948636df4a3ad81f": {
      "model_module": "@jupyter-widgets/controls",
      "model_module_version": "1.2.0",
      "model_name": "ButtonStyleModel",
      "state": {}
     },
     "305fafd3de394dec8da75298a5c5db3a": {
      "model_module": "@jupyter-widgets/controls",
      "model_module_version": "1.2.0",
      "model_name": "HBoxModel",
      "state": {
       "children": [
        "IPY_MODEL_3aafe91143a74861895acdffeb36e902",
        "IPY_MODEL_e0e1098b654a41d082d7e7b7d68c924f"
       ],
       "layout": "IPY_MODEL_07879e77e4cc4405b6ba17a37643dc94"
      }
     },
     "307a45e8586b4fe0a974ece376b9ce35": {
      "model_module": "@jupyter-widgets/controls",
      "model_module_version": "1.2.0",
      "model_name": "ButtonModel",
      "state": {
       "button_style": "info",
       "description": "Download",
       "layout": "IPY_MODEL_8c12e8ea7bc54828b2ca711f9b5a55b4",
       "style": "IPY_MODEL_50f4e1decd0543c089fffcc174e7cced"
      }
     },
     "30a0b8cc65c94f1f91064181cdb5e2c6": {
      "model_module": "@jupyter-widgets/controls",
      "model_module_version": "1.2.0",
      "model_name": "ButtonStyleModel",
      "state": {}
     },
     "30c15b4c814a44e0bbdc8d0efc1591f6": {
      "model_module": "@jupyter-widgets/controls",
      "model_module_version": "1.2.0",
      "model_name": "HTMLModel",
      "state": {
       "layout": "IPY_MODEL_cd25e9c8e53a430f832ec382330dca91",
       "style": "IPY_MODEL_e451131b9c094d85acc1317b6c225168",
       "value": "<h3 style='padding:0;margin:0;'>&nbsp &nbsp &nbsp<a href='https://github.com/pupster90/indra.git'>indra</a></h3>"
      }
     },
     "30c744b039f64207bee3181ece62577b": {
      "model_module": "@jupyter-widgets/controls",
      "model_module_version": "1.2.0",
      "model_name": "ButtonStyleModel",
      "state": {}
     },
     "30d1195b4b7746c89c7f4e2d4107c253": {
      "model_module": "@jupyter-widgets/controls",
      "model_module_version": "1.2.0",
      "model_name": "ButtonModel",
      "state": {
       "button_style": "warning",
       "description": "Update",
       "layout": "IPY_MODEL_1c289579967b4706813646862ac84c04",
       "style": "IPY_MODEL_2293ab42852849debb0ec068474efbf5"
      }
     },
     "30dd279b69b4471d9c964031bec054a3": {
      "model_module": "@jupyter-widgets/base",
      "model_module_version": "1.0.0",
      "model_name": "LayoutModel",
      "state": {}
     },
     "30febb5521a542b794bf6473f12cddf7": {
      "model_module": "@jupyter-widgets/base",
      "model_module_version": "1.0.0",
      "model_name": "LayoutModel",
      "state": {}
     },
     "31501b7364794c819dceb04f482ab81c": {
      "model_module": "@jupyter-widgets/controls",
      "model_module_version": "1.2.0",
      "model_name": "HTMLModel",
      "state": {
       "layout": "IPY_MODEL_d34b2d35cd334838a314ab40f4ed9485",
       "style": "IPY_MODEL_0122171861864c4ebead823a1fc4c42e",
       "value": "<h3 style='padding:0;margin:0;'>&nbsp &nbsp &nbsp<a href='https://github.com/pupster90/Public_Profile.git'>Public_Profile</a></h3>"
      }
     },
     "3159629c6ee04e37819ad043e33cc58b": {
      "model_module": "@jupyter-widgets/base",
      "model_module_version": "1.0.0",
      "model_name": "LayoutModel",
      "state": {
       "width": "auto"
      }
     },
     "315dc31cb3b348c29d83e14ad3d29b32": {
      "model_module": "@jupyter-widgets/controls",
      "model_module_version": "1.2.0",
      "model_name": "ButtonModel",
      "state": {
       "button_style": "success",
       "description": "Publish",
       "layout": "IPY_MODEL_973a0875ffdf41f483cf93f3b9cec6be",
       "style": "IPY_MODEL_dec49c0e99824b28b82c578b57e44a79"
      }
     },
     "31cb066ce72c4e62894823d7e50150a3": {
      "model_module": "@jupyter-widgets/base",
      "model_module_version": "1.0.0",
      "model_name": "LayoutModel",
      "state": {}
     },
     "31e6548d7a7841dfa067065a05f65240": {
      "model_module": "@jupyter-widgets/controls",
      "model_module_version": "1.2.0",
      "model_name": "DescriptionStyleModel",
      "state": {
       "description_width": ""
      }
     },
     "31ff01a9800c4c1daaf65c788bf4d541": {
      "model_module": "@jupyter-widgets/controls",
      "model_module_version": "1.2.0",
      "model_name": "DescriptionStyleModel",
      "state": {
       "description_width": ""
      }
     },
     "3269f87882f04c6f944359e72dcfe180": {
      "model_module": "@jupyter-widgets/controls",
      "model_module_version": "1.2.0",
      "model_name": "ToggleButtonsModel",
      "state": {
       "_options_labels": [
        "Public",
        "Private"
       ],
       "button_style": "info",
       "icons": [],
       "index": 0,
       "layout": "IPY_MODEL_43d9401c05dd4aee95f1d5a510269c18",
       "style": "IPY_MODEL_08b0c7e3b6cb47ff9ca667f264f81074",
       "tooltips": []
      }
     },
     "33150d8899de4a96be477159b627fd8f": {
      "model_module": "@jupyter-widgets/base",
      "model_module_version": "1.0.0",
      "model_name": "LayoutModel",
      "state": {}
     },
     "3326555a127d4491a81d023f92406e81": {
      "model_module": "@jupyter-widgets/controls",
      "model_module_version": "1.2.0",
      "model_name": "HTMLModel",
      "state": {
       "layout": "IPY_MODEL_3abe742548494e75a24e0357a8c5c9a1",
       "style": "IPY_MODEL_eb963048ad7c4c76a08691d62109297d",
       "value": "<font color='green'> &nbsp Downloads: 0</font>"
      }
     },
     "33b4d109f5ee4dfda14e7e5ae0bad2bc": {
      "model_module": "@jupyter-widgets/controls",
      "model_module_version": "1.2.0",
      "model_name": "DescriptionStyleModel",
      "state": {
       "description_width": ""
      }
     },
     "33e9f56e1bf242d5b164f0e566f2a7fc": {
      "model_module": "@jupyter-widgets/controls",
      "model_module_version": "1.2.0",
      "model_name": "HTMLModel",
      "state": {
       "layout": "IPY_MODEL_06f61c12b706463a9242970e14607f79",
       "style": "IPY_MODEL_5a608e34b6394419b3428188ff89c4c7",
       "value": "<h3 style='padding:0;margin:0;'>&nbsp &nbsp &nbsp<a href='https://github.com/pupster90/notebook.git'>notebook</a></h3>"
      }
     },
     "33f2c0f2092f4c92b9275bc4d8461255": {
      "model_module": "@jupyter-widgets/controls",
      "model_module_version": "1.2.0",
      "model_name": "DescriptionStyleModel",
      "state": {
       "description_width": ""
      }
     },
     "34044fdee15c4bce977cab60895281ec": {
      "model_module": "@jupyter-widgets/controls",
      "model_module_version": "1.2.0",
      "model_name": "DescriptionStyleModel",
      "state": {
       "description_width": ""
      }
     },
     "341c976bc6694dc18ca825a92691174e": {
      "model_module": "@jupyter-widgets/base",
      "model_module_version": "1.0.0",
      "model_name": "LayoutModel",
      "state": {
       "width": "auto"
      }
     },
     "342181f8640847a6ae4d4d7419d54304": {
      "model_module": "@jupyter-widgets/controls",
      "model_module_version": "1.2.0",
      "model_name": "DescriptionStyleModel",
      "state": {
       "description_width": ""
      }
     },
     "3450fcd001d44e32a25db27fea1f5b2f": {
      "model_module": "@jupyter-widgets/base",
      "model_module_version": "1.0.0",
      "model_name": "LayoutModel",
      "state": {
       "width": "auto"
      }
     },
     "34611c612c3644f590de72969d80eeaa": {
      "model_module": "@jupyter-widgets/controls",
      "model_module_version": "1.2.0",
      "model_name": "ButtonModel",
      "state": {
       "button_style": "info",
       "description": "Download",
       "layout": "IPY_MODEL_e217593730404ebcb8b3043b5b45df39",
       "style": "IPY_MODEL_bcdb0b315ede4d3ebacdcc38fce42aab"
      }
     },
     "34b75bbb12344377861efc48a665d27b": {
      "model_module": "@jupyter-widgets/controls",
      "model_module_version": "1.2.0",
      "model_name": "ButtonModel",
      "state": {
       "button_style": "primary",
       "description": "Download",
       "layout": "IPY_MODEL_c442a449ca354810a1a08f26ce01ac76",
       "style": "IPY_MODEL_706a591c38484c0783ded650f92f8ebf"
      }
     },
     "3577473f1d3b45c9b0330d6a6c80b397": {
      "model_module": "@jupyter-widgets/base",
      "model_module_version": "1.0.0",
      "model_name": "LayoutModel",
      "state": {}
     },
     "357bac4d102a40029404e4538247c420": {
      "model_module": "@jupyter-widgets/base",
      "model_module_version": "1.0.0",
      "model_name": "LayoutModel",
      "state": {}
     },
     "357dbeb21a69412a83254fa336723ebd": {
      "model_module": "@jupyter-widgets/base",
      "model_module_version": "1.0.0",
      "model_name": "LayoutModel",
      "state": {
       "width": "auto"
      }
     },
     "35803230b99a485b849b1a9d6a4459ed": {
      "model_module": "@jupyter-widgets/base",
      "model_module_version": "1.0.0",
      "model_name": "LayoutModel",
      "state": {
       "width": "auto"
      }
     },
     "3594f443fc9643648063ebd1bfd825eb": {
      "model_module": "@jupyter-widgets/base",
      "model_module_version": "1.0.0",
      "model_name": "LayoutModel",
      "state": {}
     },
     "3606f417fbf7484e91b8af4f1fd9feb2": {
      "model_module": "@jupyter-widgets/base",
      "model_module_version": "1.0.0",
      "model_name": "LayoutModel",
      "state": {
       "width": "auto"
      }
     },
     "3621f3bf421c4b039b5b9990c2d29316": {
      "model_module": "@jupyter-widgets/base",
      "model_module_version": "1.0.0",
      "model_name": "LayoutModel",
      "state": {
       "align_items": "center"
      }
     },
     "364533d0ac164ff89873585450a5bdc8": {
      "model_module": "@jupyter-widgets/controls",
      "model_module_version": "1.2.0",
      "model_name": "ButtonModel",
      "state": {
       "button_style": "primary",
       "description": "Download",
       "layout": "IPY_MODEL_8963e0752888474c95dcf1d43d247212",
       "style": "IPY_MODEL_5626ce9911d340ada7bebc83b470859c"
      }
     },
     "364956cb55314f5880359bd6eb83b743": {
      "model_module": "@jupyter-widgets/base",
      "model_module_version": "1.0.0",
      "model_name": "LayoutModel",
      "state": {
       "width": "100px"
      }
     },
     "36ed9bcac89c483290de7153282a5c2a": {
      "model_module": "@jupyter-widgets/base",
      "model_module_version": "1.0.0",
      "model_name": "LayoutModel",
      "state": {
       "align_items": "center"
      }
     },
     "37263bee46924924b7bd005b9b215a4f": {
      "model_module": "@jupyter-widgets/base",
      "model_module_version": "1.0.0",
      "model_name": "LayoutModel",
      "state": {}
     },
     "3732d7c91b854927861985f6ddffe81e": {
      "model_module": "@jupyter-widgets/base",
      "model_module_version": "1.0.0",
      "model_name": "LayoutModel",
      "state": {}
     },
     "373b20930faa4942b17b4426bdbbd0db": {
      "model_module": "@jupyter-widgets/base",
      "model_module_version": "1.0.0",
      "model_name": "LayoutModel",
      "state": {}
     },
     "3755a3b4817241ed8d254cad5985ac66": {
      "model_module": "@jupyter-widgets/base",
      "model_module_version": "1.0.0",
      "model_name": "LayoutModel",
      "state": {
       "justify_content": "center",
       "margin": "0 0 0 100px"
      }
     },
     "375d27b9d0f84c49aa987ac3914365c4": {
      "model_module": "@jupyter-widgets/controls",
      "model_module_version": "1.2.0",
      "model_name": "ButtonStyleModel",
      "state": {}
     },
     "375d681e30304daab3597fd0cef27b0e": {
      "model_module": "@jupyter-widgets/controls",
      "model_module_version": "1.2.0",
      "model_name": "VBoxModel",
      "state": {
       "children": [
        "IPY_MODEL_c436c0697dcd409283709bb268db7422",
        "IPY_MODEL_252917f78be44d36b6ab309eee5e5b55"
       ],
       "layout": "IPY_MODEL_80b2e72ca97b416bb4157012f59e1450"
      }
     },
     "37a355e3cd7a40f285aca218f1ef348a": {
      "model_module": "@jupyter-widgets/base",
      "model_module_version": "1.0.0",
      "model_name": "LayoutModel",
      "state": {}
     },
     "37fdf217dea34b9a9771e5ae52638020": {
      "model_module": "@jupyter-widgets/controls",
      "model_module_version": "1.2.0",
      "model_name": "ButtonStyleModel",
      "state": {}
     },
     "3806381596014e8aa7d036df534131f9": {
      "model_module": "@jupyter-widgets/controls",
      "model_module_version": "1.2.0",
      "model_name": "ButtonStyleModel",
      "state": {}
     },
     "382903a03c034ebdac380853bff82f9a": {
      "model_module": "@jupyter-widgets/base",
      "model_module_version": "1.0.0",
      "model_name": "LayoutModel",
      "state": {}
     },
     "385780e81b564d3dbb02b632f2f0dfcb": {
      "model_module": "@jupyter-widgets/controls",
      "model_module_version": "1.2.0",
      "model_name": "DescriptionStyleModel",
      "state": {
       "description_width": ""
      }
     },
     "3857e87444134cfa8e286e7c58fdea54": {
      "model_module": "@jupyter-widgets/controls",
      "model_module_version": "1.2.0",
      "model_name": "ButtonModel",
      "state": {
       "button_style": "info",
       "description": "Download",
       "layout": "IPY_MODEL_7b4a4152b37c4234a1e6e66434da9025",
       "style": "IPY_MODEL_e3b9d236a7c943af8674b3e607c058a4"
      }
     },
     "387edb86d1bc407daf9b64a1b6d2819f": {
      "model_module": "@jupyter-widgets/base",
      "model_module_version": "1.0.0",
      "model_name": "LayoutModel",
      "state": {}
     },
     "389aa5d7e7874b5792c42fe961e9d4f3": {
      "model_module": "@jupyter-widgets/base",
      "model_module_version": "1.0.0",
      "model_name": "LayoutModel",
      "state": {
       "width": "auto"
      }
     },
     "38ba7dfa43314359bde7324edcb48932": {
      "model_module": "@jupyter-widgets/controls",
      "model_module_version": "1.2.0",
      "model_name": "LabelModel",
      "state": {
       "layout": "IPY_MODEL_60a541b52232480abc6f6e3f7a3a9ef5",
       "style": "IPY_MODEL_3a29f65fc3e04f1e94764dee7d2a5a97",
       "value": "Saved 22 hours ago"
      }
     },
     "38d792b7c0434a08b368953b94fa6f4f": {
      "model_module": "@jupyter-widgets/base",
      "model_module_version": "1.0.0",
      "model_name": "LayoutModel",
      "state": {}
     },
     "38ff606c0f7146e1b744fdd79afa7897": {
      "model_module": "@jupyter-widgets/controls",
      "model_module_version": "1.2.0",
      "model_name": "HBoxModel",
      "state": {
       "children": [
        "IPY_MODEL_be9c0509ce7e48a586230794416d78f7",
        "IPY_MODEL_1d3ed4ae0c6a47478e6b34146efb2f41",
        "IPY_MODEL_8d0c245ab39d4d5e934228475c24f432",
        "IPY_MODEL_e25617dc06c541d9a804681019268eb6"
       ],
       "layout": "IPY_MODEL_898a119fa20b43a2a932bd404cc8437e"
      }
     },
     "392d2da0c9a74e49bcfd913f00201487": {
      "model_module": "@jupyter-widgets/base",
      "model_module_version": "1.0.0",
      "model_name": "LayoutModel",
      "state": {
       "width": "100px"
      }
     },
     "393acbabae794181a2813f8373eacfcf": {
      "model_module": "@jupyter-widgets/base",
      "model_module_version": "1.0.0",
      "model_name": "LayoutModel",
      "state": {
       "align_items": "center"
      }
     },
     "394d9663503d4b09be5846cf581fb798": {
      "model_module": "@jupyter-widgets/base",
      "model_module_version": "1.0.0",
      "model_name": "LayoutModel",
      "state": {}
     },
     "3989f8ee1c7a45dd83322fccb7cd8a7c": {
      "model_module": "@jupyter-widgets/base",
      "model_module_version": "1.0.0",
      "model_name": "LayoutModel",
      "state": {}
     },
     "399b01f8354e46c188beea1da02abaac": {
      "model_module": "@jupyter-widgets/controls",
      "model_module_version": "1.2.0",
      "model_name": "HTMLModel",
      "state": {
       "layout": "IPY_MODEL_a9256ef7843f4979922f23a1ce4ecef9",
       "style": "IPY_MODEL_78ecf9a7aa3044b18229a678f5af9d26",
       "value": "<h3 style='padding:0;margin:0;'>&nbsp &nbsp &nbsp<a href='https://github.com/pupster90/My_First_Research_Paper.git'>My_First_Research_Paper</a></h3>"
      }
     },
     "39baf4a23f8043e4beebb034880886d7": {
      "model_module": "@jupyter-widgets/controls",
      "model_module_version": "1.2.0",
      "model_name": "HTMLModel",
      "state": {
       "layout": "IPY_MODEL_a889268b2bf946f281fe32b5717daaa7",
       "style": "IPY_MODEL_e6bb39497a554ccb9a47e271a7af83f4",
       "value": "<font color='green'> &nbsp Downloads: 0</font>"
      }
     },
     "3a057e4a6a1c485f9d61bc3d5cc2a965": {
      "model_module": "@jupyter-widgets/controls",
      "model_module_version": "1.2.0",
      "model_name": "DescriptionStyleModel",
      "state": {
       "description_width": ""
      }
     },
     "3a121276e6fe417298bf8b85b3c36f2c": {
      "model_module": "@jupyter-widgets/controls",
      "model_module_version": "1.2.0",
      "model_name": "ButtonModel",
      "state": {
       "button_style": "primary",
       "description": "Download",
       "layout": "IPY_MODEL_0969d5e9debe4b8a8507c1880d29d2d4",
       "style": "IPY_MODEL_04500a8ddebe47d5a156411e6314cf81"
      }
     },
     "3a17ab7ddbfa43ecba9a57b182a5003b": {
      "model_module": "@jupyter-widgets/controls",
      "model_module_version": "1.2.0",
      "model_name": "ButtonStyleModel",
      "state": {}
     },
     "3a212671e7e848cbbdfde3c9cabca506": {
      "model_module": "@jupyter-widgets/base",
      "model_module_version": "1.0.0",
      "model_name": "LayoutModel",
      "state": {
       "align_items": "center"
      }
     },
     "3a29f65fc3e04f1e94764dee7d2a5a97": {
      "model_module": "@jupyter-widgets/controls",
      "model_module_version": "1.2.0",
      "model_name": "DescriptionStyleModel",
      "state": {
       "description_width": ""
      }
     },
     "3a50f7b6767a455c88ed3a27e301d9df": {
      "model_module": "@jupyter-widgets/controls",
      "model_module_version": "1.2.0",
      "model_name": "TextModel",
      "state": {
       "layout": "IPY_MODEL_226b8e31dad74dad8b8793a6c9134b6d",
       "style": "IPY_MODEL_e69110295f38464eae93b7e696328352"
      }
     },
     "3a7bf9fa94ea4bc9b85bd1baa921cdb3": {
      "model_module": "@jupyter-widgets/controls",
      "model_module_version": "1.2.0",
      "model_name": "ButtonModel",
      "state": {
       "button_style": "primary",
       "description": "Download",
       "layout": "IPY_MODEL_9727f3a48953482dbc43894986c06e7a",
       "style": "IPY_MODEL_a0f7e91e712c4093849938a0c7551c20"
      }
     },
     "3a962d963c894d2c94b390f5554a3af9": {
      "model_module": "@jupyter-widgets/base",
      "model_module_version": "1.0.0",
      "model_name": "LayoutModel",
      "state": {
       "align_items": "center"
      }
     },
     "3aaf490a64ed45bebd65ed2deac7741e": {
      "model_module": "@jupyter-widgets/controls",
      "model_module_version": "1.2.0",
      "model_name": "HTMLModel",
      "state": {
       "layout": "IPY_MODEL_e36191da4c3547afb01f83ebc1b7f361",
       "style": "IPY_MODEL_aad156fb2b274d04b911b9020e6122d5",
       "value": "<h3 style='padding:0;margin:0;'>&nbsp &nbsp &nbsp<a href='https://github.com/pupster90/xqueue-watcher.git'>xqueue-watcher</a></h3>"
      }
     },
     "3aafe91143a74861895acdffeb36e902": {
      "model_module": "@jupyter-widgets/controls",
      "model_module_version": "1.2.0",
      "model_name": "ButtonModel",
      "state": {
       "button_style": "primary",
       "description": "Download",
       "layout": "IPY_MODEL_d4d93b880aa4466ea081ef2b51f9557a",
       "style": "IPY_MODEL_fd3f54db318c402fa849a2b7c86e6908"
      }
     },
     "3ab29a99087d4e74802cf917493a195b": {
      "model_module": "@jupyter-widgets/controls",
      "model_module_version": "1.2.0",
      "model_name": "ButtonModel",
      "state": {
       "button_style": "success",
       "description": "Login",
       "layout": "IPY_MODEL_d90d337deac24269ac86716d6b30f316",
       "style": "IPY_MODEL_5c339c92b58644789c6f75518c5738b9"
      }
     },
     "3ab95f5f6ee7487c8cf1dfd50a87581e": {
      "model_module": "@jupyter-widgets/controls",
      "model_module_version": "1.2.0",
      "model_name": "DescriptionStyleModel",
      "state": {
       "description_width": ""
      }
     },
     "3abe742548494e75a24e0357a8c5c9a1": {
      "model_module": "@jupyter-widgets/base",
      "model_module_version": "1.0.0",
      "model_name": "LayoutModel",
      "state": {}
     },
     "3ac17a02fa744db4b78f3283464cc2ac": {
      "model_module": "@jupyter-widgets/controls",
      "model_module_version": "1.2.0",
      "model_name": "ButtonStyleModel",
      "state": {}
     },
     "3ac6b74d9d614b25a488f19e5923e716": {
      "model_module": "@jupyter-widgets/base",
      "model_module_version": "1.0.0",
      "model_name": "LayoutModel",
      "state": {
       "width": "auto"
      }
     },
     "3b400431ff6546f99fc982e2856637e7": {
      "model_module": "@jupyter-widgets/base",
      "model_module_version": "1.0.0",
      "model_name": "LayoutModel",
      "state": {}
     },
     "3b4b1f4015f8494cb4b300f46f601250": {
      "model_module": "@jupyter-widgets/base",
      "model_module_version": "1.0.0",
      "model_name": "LayoutModel",
      "state": {
       "width": "100px"
      }
     },
     "3ba2ecc23c4d4e09a3ad46bf27127bc0": {
      "model_module": "@jupyter-widgets/controls",
      "model_module_version": "1.2.0",
      "model_name": "HTMLModel",
      "state": {
       "layout": "IPY_MODEL_f818090a94604a1a9666f3bb4f7ee1ea",
       "style": "IPY_MODEL_8b95abef1e43404e9401e27d6761a915",
       "value": "<h4 style='padding:0;margin:0;'>&nbsp <a href='https://github.com/pupster90' style='color:gray'>pupster90</a> &nbsp</h4>"
      }
     },
     "3bc32c1c86774be4a685dff8887b58e0": {
      "model_module": "@jupyter-widgets/base",
      "model_module_version": "1.0.0",
      "model_name": "LayoutModel",
      "state": {}
     },
     "3bc771ece6ed4ec79b3a18d8cf8f8dbc": {
      "model_module": "@jupyter-widgets/base",
      "model_module_version": "1.0.0",
      "model_name": "LayoutModel",
      "state": {
       "width": "auto"
      }
     },
     "3bcfdfcf16f043559ae958d4b68461dd": {
      "model_module": "@jupyter-widgets/controls",
      "model_module_version": "1.2.0",
      "model_name": "ButtonStyleModel",
      "state": {}
     },
     "3bd5708f5a7c4c44b69dc72b80c4a4b3": {
      "model_module": "@jupyter-widgets/controls",
      "model_module_version": "1.2.0",
      "model_name": "ButtonStyleModel",
      "state": {}
     },
     "3bee723f9ae84239bcf62715ad7ce7d5": {
      "model_module": "@jupyter-widgets/controls",
      "model_module_version": "1.2.0",
      "model_name": "ButtonStyleModel",
      "state": {}
     },
     "3c1ed91ef5a94bd5831f15926e2df316": {
      "model_module": "@jupyter-widgets/controls",
      "model_module_version": "1.2.0",
      "model_name": "DescriptionStyleModel",
      "state": {
       "description_width": ""
      }
     },
     "3c25165ce5ad431d963e6ed2fa120096": {
      "model_module": "@jupyter-widgets/base",
      "model_module_version": "1.0.0",
      "model_name": "LayoutModel",
      "state": {
       "width": "auto"
      }
     },
     "3c4e38a6abac422994ce3ea463bb8e26": {
      "model_module": "@jupyter-widgets/controls",
      "model_module_version": "1.2.0",
      "model_name": "ButtonStyleModel",
      "state": {}
     },
     "3cdf3841371543a5bf1891ab104c8f31": {
      "model_module": "@jupyter-widgets/base",
      "model_module_version": "1.0.0",
      "model_name": "LayoutModel",
      "state": {
       "width": "100px"
      }
     },
     "3ce50e4d54e5448c8d697ecd046b7817": {
      "model_module": "@jupyter-widgets/controls",
      "model_module_version": "1.2.0",
      "model_name": "HTMLModel",
      "state": {
       "layout": "IPY_MODEL_a22d6d610187493fa84a75179fb5b2f6",
       "style": "IPY_MODEL_9a891afc140f4c459fbcc7b3a9178e1c",
       "value": "<h4 style='padding:0;margin:0;'>&nbsp <a href='https://github.com/pupster90' style='color:gray'>pupster90</a> &nbsp</h4>"
      }
     },
     "3d5dab69de1b4732b7257d7ab70ba1b5": {
      "model_module": "@jupyter-widgets/base",
      "model_module_version": "1.0.0",
      "model_name": "LayoutModel",
      "state": {}
     },
     "3db2c46c8b384ad0ac5eeeaebd7779d0": {
      "model_module": "@jupyter-widgets/controls",
      "model_module_version": "1.2.0",
      "model_name": "LabelModel",
      "state": {
       "layout": "IPY_MODEL_d2720757d6634e93be05c258a63bb55a",
       "style": "IPY_MODEL_b3bc7a80dd3c412e85f1f6f68fb14d34",
       "value": "22 hours ago"
      }
     },
     "3de42d92918945c8a96bf0dcb9ee62b1": {
      "model_module": "@jupyter-widgets/controls",
      "model_module_version": "1.2.0",
      "model_name": "ButtonStyleModel",
      "state": {}
     },
     "3df2d79a73104bd2b57803034898d04c": {
      "model_module": "@jupyter-widgets/controls",
      "model_module_version": "1.2.0",
      "model_name": "ButtonStyleModel",
      "state": {}
     },
     "3e8f977ed86d4d1791faf078baf6b920": {
      "model_module": "@jupyter-widgets/controls",
      "model_module_version": "1.2.0",
      "model_name": "DescriptionStyleModel",
      "state": {
       "description_width": ""
      }
     },
     "3e994916b0354b5696e3c4661f5973e7": {
      "model_module": "@jupyter-widgets/controls",
      "model_module_version": "1.2.0",
      "model_name": "DescriptionStyleModel",
      "state": {
       "description_width": ""
      }
     },
     "3e99900bed094b3491d8a48d5083d9a6": {
      "model_module": "@jupyter-widgets/controls",
      "model_module_version": "1.2.0",
      "model_name": "HTMLModel",
      "state": {
       "layout": "IPY_MODEL_ff1bedbeef144ba6a397bde93d566610",
       "style": "IPY_MODEL_de00b562b8824be9b5be11ea10d56ec2",
       "value": "<h3 style='padding:0;margin:0;'>&nbsp &nbsp &nbsp<a href='https://github.com/pupster90/io_Presentation.git'>io_Presentation</a></h3>"
      }
     },
     "3eb78d01e52c46c4be4cfac8dd5c0d58": {
      "model_module": "@jupyter-widgets/controls",
      "model_module_version": "1.2.0",
      "model_name": "DescriptionStyleModel",
      "state": {
       "description_width": ""
      }
     },
     "3eb9564af96c4e37823f5ce52fe2ed40": {
      "model_module": "@jupyter-widgets/controls",
      "model_module_version": "1.2.0",
      "model_name": "DescriptionStyleModel",
      "state": {
       "description_width": ""
      }
     },
     "3ed910908d4349ceb3b913dfd8648c38": {
      "model_module": "@jupyter-widgets/controls",
      "model_module_version": "1.2.0",
      "model_name": "DescriptionStyleModel",
      "state": {
       "description_width": ""
      }
     },
     "3ef393e576224bd6b66858cc091d3458": {
      "model_module": "@jupyter-widgets/base",
      "model_module_version": "1.0.0",
      "model_name": "LayoutModel",
      "state": {
       "align_items": "center"
      }
     },
     "3f006c6b8c5e4cda90a7adb03c55d09a": {
      "model_module": "@jupyter-widgets/base",
      "model_module_version": "1.0.0",
      "model_name": "LayoutModel",
      "state": {}
     },
     "3f4735dce5084ddd910cda4720f55e5a": {
      "model_module": "@jupyter-widgets/controls",
      "model_module_version": "1.2.0",
      "model_name": "HBoxModel",
      "state": {
       "children": [
        "IPY_MODEL_8250c6b272914fbba2f20d6a5ca7b410"
       ],
       "layout": "IPY_MODEL_29051095179347e18e135f17b7a42fe6"
      }
     },
     "3f56e85ae07c4a1a8155f0a7e4357268": {
      "model_module": "@jupyter-widgets/base",
      "model_module_version": "1.0.0",
      "model_name": "LayoutModel",
      "state": {}
     },
     "3f76de30724d49de9082efb3b549422b": {
      "model_module": "@jupyter-widgets/controls",
      "model_module_version": "1.2.0",
      "model_name": "ButtonStyleModel",
      "state": {}
     },
     "3f9c49ce550d40449ae913c49c4df7df": {
      "model_module": "@jupyter-widgets/controls",
      "model_module_version": "1.2.0",
      "model_name": "DescriptionStyleModel",
      "state": {
       "description_width": ""
      }
     },
     "401a84ee958e49fc839e69b111cfe09e": {
      "model_module": "@jupyter-widgets/controls",
      "model_module_version": "1.2.0",
      "model_name": "ButtonModel",
      "state": {
       "button_style": "primary",
       "description": "Download",
       "layout": "IPY_MODEL_5adabc413dca424b828e11d02ecd1058",
       "style": "IPY_MODEL_a4653397d1bb4645a4cdeb6b97a6a299"
      }
     },
     "4088615c95244e7d89bf8c40fce02e99": {
      "model_module": "@jupyter-widgets/controls",
      "model_module_version": "1.2.0",
      "model_name": "HTMLModel",
      "state": {
       "layout": "IPY_MODEL_fa5ae27e957a4f7aba3da0c3d7d0c0bf",
       "style": "IPY_MODEL_bbeb00ff14814139a22f8723417b5189",
       "value": "<font color='green'> &nbsp Downloads: 0</font>"
      }
     },
     "40c422bed42b489d8ae041aadb26c30a": {
      "model_module": "@jupyter-widgets/base",
      "model_module_version": "1.0.0",
      "model_name": "LayoutModel",
      "state": {}
     },
     "40c5f957e7b646ab89447f3c592ded82": {
      "model_module": "@jupyter-widgets/controls",
      "model_module_version": "1.2.0",
      "model_name": "ButtonModel",
      "state": {
       "button_style": "primary",
       "description": "Download",
       "layout": "IPY_MODEL_3bc771ece6ed4ec79b3a18d8cf8f8dbc",
       "style": "IPY_MODEL_0ea9503d6c614461ae722655739889a4"
      }
     },
     "40caad58d5414c4c96c07891e04f9e8b": {
      "model_module": "@jupyter-widgets/controls",
      "model_module_version": "1.2.0",
      "model_name": "ButtonModel",
      "state": {
       "button_style": "info",
       "description": "Download",
       "layout": "IPY_MODEL_565c0b3cf9e14121839df042e9af922b",
       "style": "IPY_MODEL_73e8e9b6f85b4df3b2df50275e426046"
      }
     },
     "40d7e3385c2342ee8184c10e73c74f59": {
      "model_module": "@jupyter-widgets/controls",
      "model_module_version": "1.2.0",
      "model_name": "HBoxModel",
      "state": {
       "children": [
        "IPY_MODEL_8138fcd3e666433d8666e4ee22c527b1",
        "IPY_MODEL_ed931835427e47e4b85e719e5bb6281c"
       ],
       "layout": "IPY_MODEL_1fca05ae6c094d1489a2dd59cb4bca6d"
      }
     },
     "40e71ff13e0b48f9961fad6f55cbc039": {
      "model_module": "@jupyter-widgets/controls",
      "model_module_version": "1.2.0",
      "model_name": "ButtonStyleModel",
      "state": {}
     },
     "410a429385e34f46afaf66bed7fa4945": {
      "model_module": "@jupyter-widgets/controls",
      "model_module_version": "1.2.0",
      "model_name": "HBoxModel",
      "state": {
       "children": [
        "IPY_MODEL_f8845d3669aa432b879179f6cadda3cf",
        "IPY_MODEL_4a2f7841c1b24beab1f6dee787c982ec"
       ],
       "layout": "IPY_MODEL_7ea9b25597d84a73a7f93d722c95d5af"
      }
     },
     "410b28447b8a4af9938e19d4ef397d69": {
      "model_module": "@jupyter-widgets/base",
      "model_module_version": "1.0.0",
      "model_name": "LayoutModel",
      "state": {
       "width": "auto"
      }
     },
     "4158c032ce6c4dd7877ea45944a3f65b": {
      "model_module": "@jupyter-widgets/base",
      "model_module_version": "1.0.0",
      "model_name": "LayoutModel",
      "state": {
       "justify_content": "center",
       "padding": "15px 0 0 0"
      }
     },
     "416bddc20e794938addcfd7fa4e39203": {
      "model_module": "@jupyter-widgets/controls",
      "model_module_version": "1.2.0",
      "model_name": "DescriptionStyleModel",
      "state": {
       "description_width": ""
      }
     },
     "41cdb103e9e34877bdc9762f27f4ba15": {
      "model_module": "@jupyter-widgets/base",
      "model_module_version": "1.0.0",
      "model_name": "LayoutModel",
      "state": {}
     },
     "41e92ba079ea45b0bfba656767219444": {
      "model_module": "@jupyter-widgets/controls",
      "model_module_version": "1.2.0",
      "model_name": "DescriptionStyleModel",
      "state": {
       "description_width": ""
      }
     },
     "4225af97c0c949219927335181cd0bb7": {
      "model_module": "@jupyter-widgets/base",
      "model_module_version": "1.0.0",
      "model_name": "LayoutModel",
      "state": {
       "width": "auto"
      }
     },
     "4227c852a958453fbc29e33ad1ec52a3": {
      "model_module": "@jupyter-widgets/controls",
      "model_module_version": "1.2.0",
      "model_name": "DescriptionStyleModel",
      "state": {
       "description_width": ""
      }
     },
     "425b265eb32f4496ae2bc782c41c97b3": {
      "model_module": "@jupyter-widgets/controls",
      "model_module_version": "1.2.0",
      "model_name": "DescriptionStyleModel",
      "state": {
       "description_width": ""
      }
     },
     "428287297b0d4ff981e945bd274147e7": {
      "model_module": "@jupyter-widgets/controls",
      "model_module_version": "1.2.0",
      "model_name": "TextModel",
      "state": {
       "layout": "IPY_MODEL_cc4ff00f108f43f29cf7f3e481ab60a2",
       "style": "IPY_MODEL_b8fa66d77d424a2e9976e0379c9c328c"
      }
     },
     "4284515ff0ef4f5eaef87aa5137883dc": {
      "model_module": "@jupyter-widgets/controls",
      "model_module_version": "1.2.0",
      "model_name": "DescriptionStyleModel",
      "state": {
       "description_width": ""
      }
     },
     "428a7da6a22c4f509abb5d4576605a59": {
      "model_module": "@jupyter-widgets/controls",
      "model_module_version": "1.2.0",
      "model_name": "ButtonModel",
      "state": {
       "button_style": "success",
       "description": "Publish",
       "layout": "IPY_MODEL_6b60d1f62893423f8ae2f15f8eabc132",
       "style": "IPY_MODEL_0df3d805ea504c5caf0a3ea89c974dc1"
      }
     },
     "4309d029f62e4b949f536c55291ff635": {
      "model_module": "@jupyter-widgets/base",
      "model_module_version": "1.0.0",
      "model_name": "LayoutModel",
      "state": {
       "width": "auto"
      }
     },
     "431aff3ab2cd4da3bbb346403340bcf3": {
      "model_module": "@jupyter-widgets/base",
      "model_module_version": "1.0.0",
      "model_name": "LayoutModel",
      "state": {}
     },
     "432e30c570244f9a8cb52e625bd8f6a7": {
      "model_module": "@jupyter-widgets/controls",
      "model_module_version": "1.2.0",
      "model_name": "DescriptionStyleModel",
      "state": {
       "description_width": ""
      }
     },
     "43318ca81f744a49a74d68f7bf66ef97": {
      "model_module": "@jupyter-widgets/base",
      "model_module_version": "1.0.0",
      "model_name": "LayoutModel",
      "state": {}
     },
     "434b44bf87564111a78e96d1841f84ef": {
      "model_module": "@jupyter-widgets/base",
      "model_module_version": "1.0.0",
      "model_name": "LayoutModel",
      "state": {
       "align_items": "center"
      }
     },
     "4373c50fea7847f5a85da14568805c20": {
      "model_module": "@jupyter-widgets/base",
      "model_module_version": "1.0.0",
      "model_name": "LayoutModel",
      "state": {}
     },
     "437ab0d4ce0740d882e61703261c8040": {
      "model_module": "@jupyter-widgets/base",
      "model_module_version": "1.0.0",
      "model_name": "LayoutModel",
      "state": {
       "width": "auto"
      }
     },
     "437b1173551f45b192658aab899fa379": {
      "model_module": "@jupyter-widgets/controls",
      "model_module_version": "1.2.0",
      "model_name": "HTMLModel",
      "state": {
       "layout": "IPY_MODEL_373b20930faa4942b17b4426bdbbd0db",
       "style": "IPY_MODEL_d51f38fc8b044a91b4bdbbf3b4078fb9",
       "value": "<h3 style='padding:0;margin:0;'>&nbsp &nbsp &nbsp<a href='https://github.com/pupster90/prosettapal.git'>prosettapal</a></h3>"
      }
     },
     "438ea0013dd545d1a9d4e26a5a28f25d": {
      "model_module": "@jupyter-widgets/controls",
      "model_module_version": "1.2.0",
      "model_name": "HTMLModel",
      "state": {
       "layout": "IPY_MODEL_c8b8fed60b8a41888c11c72cc7adddd2",
       "style": "IPY_MODEL_8914d66d045f4600a70ab11380dfe67d",
       "value": "<h3 style='padding:0;margin:0;'>&nbsp &nbsp &nbsp<a href='https://github.com/pupster90/Ideker_Online.git'>Ideker_Online</a></h3>"
      }
     },
     "43a3b0863c6e482da052151785e44c53": {
      "model_module": "@jupyter-widgets/controls",
      "model_module_version": "1.2.0",
      "model_name": "ButtonStyleModel",
      "state": {}
     },
     "43d9401c05dd4aee95f1d5a510269c18": {
      "model_module": "@jupyter-widgets/base",
      "model_module_version": "1.0.0",
      "model_name": "LayoutModel",
      "state": {
       "justify_content": "center",
       "padding": "20px 0 0 0"
      }
     },
     "43e66dcd4e234528bdea46f5b4499a6d": {
      "model_module": "@jupyter-widgets/base",
      "model_module_version": "1.0.0",
      "model_name": "LayoutModel",
      "state": {
       "align_items": "center"
      }
     },
     "43e83191513c4ed6b68274490896117c": {
      "model_module": "@jupyter-widgets/controls",
      "model_module_version": "1.2.0",
      "model_name": "HTMLModel",
      "state": {
       "layout": "IPY_MODEL_66dc6c904eea4afca7f171b96bb183f0",
       "style": "IPY_MODEL_f422c58a057e4756972ca4a0f841cbee",
       "value": "<h4 style='padding:0;margin:0;'>&nbsp <a href='https://github.com/pupster90' style='color:gray'>pupster90</a> &nbsp</h4>"
      }
     },
     "44040a7940404a47a033b3ba32dfa190": {
      "model_module": "@jupyter-widgets/base",
      "model_module_version": "1.0.0",
      "model_name": "LayoutModel",
      "state": {
       "align_items": "center"
      }
     },
     "440978869a9e4df0bb51cffbaee3c774": {
      "model_module": "@jupyter-widgets/base",
      "model_module_version": "1.0.0",
      "model_name": "LayoutModel",
      "state": {}
     },
     "442fa1fca35146cfb110338b671d9c3d": {
      "model_module": "@jupyter-widgets/controls",
      "model_module_version": "1.2.0",
      "model_name": "ButtonStyleModel",
      "state": {}
     },
     "443a780c43bd435cadaadaafd96f8f11": {
      "model_module": "@jupyter-widgets/controls",
      "model_module_version": "1.2.0",
      "model_name": "ButtonStyleModel",
      "state": {}
     },
     "444e7b47442341599907012ae991a68b": {
      "model_module": "@jupyter-widgets/controls",
      "model_module_version": "1.2.0",
      "model_name": "DescriptionStyleModel",
      "state": {
       "description_width": ""
      }
     },
     "444f7eb302154aa3b689a634821e3d9c": {
      "model_module": "@jupyter-widgets/controls",
      "model_module_version": "1.2.0",
      "model_name": "ButtonStyleModel",
      "state": {}
     },
     "4497caae6aac4bf694473cd55ed92485": {
      "model_module": "@jupyter-widgets/controls",
      "model_module_version": "1.2.0",
      "model_name": "ButtonStyleModel",
      "state": {}
     },
     "44a38740a9d04a4ea981dff0b331ebf0": {
      "model_module": "@jupyter-widgets/controls",
      "model_module_version": "1.2.0",
      "model_name": "ToggleButtonsModel",
      "state": {
       "_options_labels": [
        "Public",
        "Private"
       ],
       "button_style": "info",
       "icons": [],
       "index": 0,
       "layout": "IPY_MODEL_290bce8392954f98b331b4a9ad1577bf",
       "style": "IPY_MODEL_bb6324e7df2846438761ff1b807e2426",
       "tooltips": []
      }
     },
     "4540985f63444b86aba87fb70810ee07": {
      "model_module": "@jupyter-widgets/controls",
      "model_module_version": "1.2.0",
      "model_name": "DescriptionStyleModel",
      "state": {
       "description_width": ""
      }
     },
     "45f1970a5ba54c84afa02082c76f62cf": {
      "model_module": "@jupyter-widgets/base",
      "model_module_version": "1.0.0",
      "model_name": "LayoutModel",
      "state": {}
     },
     "4607ec5268ce46a8a12d5960afe3d8bc": {
      "model_module": "@jupyter-widgets/base",
      "model_module_version": "1.0.0",
      "model_name": "LayoutModel",
      "state": {
       "width": "auto"
      }
     },
     "4617f303d0c148418d2b48d9000f5091": {
      "model_module": "@jupyter-widgets/controls",
      "model_module_version": "1.2.0",
      "model_name": "ButtonModel",
      "state": {
       "button_style": "success",
       "description": "Publish",
       "layout": "IPY_MODEL_1490dde268a44bd8b0d4fa8a80ca8d3f",
       "style": "IPY_MODEL_58968686fba04e8db08f0c7569681a3e"
      }
     },
     "4619dfbb8ab1440d85bc899926330a92": {
      "model_module": "@jupyter-widgets/controls",
      "model_module_version": "1.2.0",
      "model_name": "HTMLModel",
      "state": {
       "layout": "IPY_MODEL_caa64dc2655a45a7b9da964d21261dc6",
       "style": "IPY_MODEL_c6db0dc4f1684613b7363ab13c971cba",
       "value": "<font color='orange'> &nbsp Stars: 0</font>"
      }
     },
     "46337eaa7aa448aba559edb63b4c5f80": {
      "model_module": "@jupyter-widgets/controls",
      "model_module_version": "1.2.0",
      "model_name": "HBoxModel",
      "state": {
       "children": [
        "IPY_MODEL_364533d0ac164ff89873585450a5bdc8",
        "IPY_MODEL_31501b7364794c819dceb04f482ab81c"
       ],
       "layout": "IPY_MODEL_ff8de4d6f4af4ea4b56301b1a2d2a459"
      }
     },
     "46b16d89a105436584b98c054e8dca7f": {
      "model_module": "@jupyter-widgets/controls",
      "model_module_version": "1.2.0",
      "model_name": "HTMLModel",
      "state": {
       "layout": "IPY_MODEL_ef4d9a84c31f4fffb87ee9778419bf05",
       "style": "IPY_MODEL_1b576adbeb3a4117bd9723175ac1a3e5",
       "value": "<h3 style='padding:0;margin:0;'>&nbsp &nbsp &nbsp<a href='https://github.com/pupster90/Kubernetes-on-google-cloud.git'>Kubernetes-on-google-cloud</a></h3>"
      }
     },
     "46b9d4395ea149a38e7a31d7295d15b5": {
      "model_module": "@jupyter-widgets/controls",
      "model_module_version": "1.2.0",
      "model_name": "ButtonStyleModel",
      "state": {}
     },
     "4702a6997e2e4c4b9ab7e53680a9efcb": {
      "model_module": "@jupyter-widgets/base",
      "model_module_version": "1.0.0",
      "model_name": "LayoutModel",
      "state": {}
     },
     "473614ed565745568baf727c1b9b5387": {
      "model_module": "@jupyter-widgets/controls",
      "model_module_version": "1.2.0",
      "model_name": "DescriptionStyleModel",
      "state": {
       "description_width": ""
      }
     },
     "47cb4c9d18094dae845c2680153ea932": {
      "model_module": "@jupyter-widgets/controls",
      "model_module_version": "1.2.0",
      "model_name": "LabelModel",
      "state": {
       "layout": "IPY_MODEL_b4fe0987aba6435ea496434a085ee353",
       "style": "IPY_MODEL_a4dcfdffeedd4ebebe0cfdc7a0616193",
       "value": "34 minutes ago"
      }
     },
     "47d09c4df4d646df9e46890a5eaa797d": {
      "model_module": "@jupyter-widgets/controls",
      "model_module_version": "1.2.0",
      "model_name": "HTMLModel",
      "state": {
       "layout": "IPY_MODEL_5797cdb623004ea1823c18de122daff6",
       "style": "IPY_MODEL_db2908b4444b47e3b12c623f314a2f38",
       "value": "<font color='orange'> &nbsp Stars: 0</font>"
      }
     },
     "47f9b8dca5664b5dbf3f11d2f9fadc52": {
      "model_module": "@jupyter-widgets/base",
      "model_module_version": "1.0.0",
      "model_name": "LayoutModel",
      "state": {}
     },
     "47feba615782476a8cc694fdca4358fc": {
      "model_module": "@jupyter-widgets/base",
      "model_module_version": "1.0.0",
      "model_name": "LayoutModel",
      "state": {
       "align_items": "center"
      }
     },
     "48019d71bf2046689bafc538ff035083": {
      "model_module": "@jupyter-widgets/controls",
      "model_module_version": "1.2.0",
      "model_name": "HTMLModel",
      "state": {
       "layout": "IPY_MODEL_72433a723f7847ec956658a609c4c1e6",
       "style": "IPY_MODEL_242ce48ec43e45e294224087833da5a8",
       "value": "<font color='green'> &nbsp Downloads: 0</font>"
      }
     },
     "485dd4e98e5442e7bb51d88485fbc8b4": {
      "model_module": "@jupyter-widgets/base",
      "model_module_version": "1.0.0",
      "model_name": "LayoutModel",
      "state": {}
     },
     "48670337ebfc42ffabda81639830b9db": {
      "model_module": "@jupyter-widgets/base",
      "model_module_version": "1.0.0",
      "model_name": "LayoutModel",
      "state": {}
     },
     "488b7927dd4948df8f8eaf8435a0f44e": {
      "model_module": "@jupyter-widgets/base",
      "model_module_version": "1.0.0",
      "model_name": "LayoutModel",
      "state": {
       "justify_content": "center",
       "padding": "20px 0 0 0"
      }
     },
     "48ac5e5498c341bb8165cc7a4c795e4c": {
      "model_module": "@jupyter-widgets/controls",
      "model_module_version": "1.2.0",
      "model_name": "DescriptionStyleModel",
      "state": {
       "description_width": ""
      }
     },
     "48be1b24e81e494f9a154055e636865d": {
      "model_module": "@jupyter-widgets/controls",
      "model_module_version": "1.2.0",
      "model_name": "ButtonStyleModel",
      "state": {}
     },
     "48ca6632cac44b17b8ac2e648a54ed48": {
      "model_module": "@jupyter-widgets/controls",
      "model_module_version": "1.2.0",
      "model_name": "HBoxModel",
      "state": {
       "children": [
        "IPY_MODEL_906b186399514fdebfb3d4d4dc1ed206",
        "IPY_MODEL_c8d424e35b7940ac89c43202564fa36a"
       ],
       "layout": "IPY_MODEL_27a7500a29e545c29422a747aee24c3d"
      }
     },
     "48ef7e2fb1654a1b835523e0eb8d7803": {
      "model_module": "@jupyter-widgets/base",
      "model_module_version": "1.0.0",
      "model_name": "LayoutModel",
      "state": {}
     },
     "48fee1f1883b404dbb08297dd143fcad": {
      "model_module": "@jupyter-widgets/controls",
      "model_module_version": "1.2.0",
      "model_name": "HBoxModel",
      "state": {
       "children": [
        "IPY_MODEL_d1895668026c4192a2178c1cad614a3e",
        "IPY_MODEL_c460779b51f7424383dd3645f15265f9"
       ],
       "layout": "IPY_MODEL_c33d1fe668714d12b6586feab3c280bc"
      }
     },
     "491064a9643a4e36a57c0ee884320bca": {
      "model_module": "@jupyter-widgets/base",
      "model_module_version": "1.0.0",
      "model_name": "LayoutModel",
      "state": {}
     },
     "4910d3b6c8a04910a492431c1897a9c7": {
      "model_module": "@jupyter-widgets/base",
      "model_module_version": "1.0.0",
      "model_name": "LayoutModel",
      "state": {}
     },
     "49230dfb0912459ca6bb74695b587972": {
      "model_module": "@jupyter-widgets/controls",
      "model_module_version": "1.2.0",
      "model_name": "DescriptionStyleModel",
      "state": {
       "description_width": ""
      }
     },
     "497f761eec65408497fdfc2928d536e8": {
      "model_module": "@jupyter-widgets/base",
      "model_module_version": "1.0.0",
      "model_name": "LayoutModel",
      "state": {
       "width": "auto"
      }
     },
     "49dca4a289784733b510f8db4e584eda": {
      "model_module": "@jupyter-widgets/base",
      "model_module_version": "1.0.0",
      "model_name": "LayoutModel",
      "state": {}
     },
     "4a2860faf141426195a7aecd307932c2": {
      "model_module": "@jupyter-widgets/controls",
      "model_module_version": "1.2.0",
      "model_name": "ButtonStyleModel",
      "state": {}
     },
     "4a2f7841c1b24beab1f6dee787c982ec": {
      "model_module": "@jupyter-widgets/controls",
      "model_module_version": "1.2.0",
      "model_name": "HTMLModel",
      "state": {
       "layout": "IPY_MODEL_08738d226fad406fb02273a6299103c8",
       "style": "IPY_MODEL_052bdabb19dd4d039479f55841a2836b",
       "value": "<h3 style='padding:0;margin:0;'>&nbsp &nbsp &nbsp<a href='https://github.com/pupster90/io_Blog.git'>io_Blog</a></h3>"
      }
     },
     "4a377246f027496c97b737cda73872cd": {
      "model_module": "@jupyter-widgets/controls",
      "model_module_version": "1.2.0",
      "model_name": "HBoxModel",
      "state": {
       "children": [
        "IPY_MODEL_d20c3cd1d80f468997b8bd9471f5081c",
        "IPY_MODEL_20d92bd41a4c4b90b8052fae476551ae"
       ],
       "layout": "IPY_MODEL_66a958915bcd4a008f573cb81fee4076"
      }
     },
     "4a46a8cb59994ba8b1b9e1bb4f97eff0": {
      "model_module": "@jupyter-widgets/base",
      "model_module_version": "1.0.0",
      "model_name": "LayoutModel",
      "state": {
       "width": "auto"
      }
     },
     "4a4f57199b2048238db38e493bbb1f66": {
      "model_module": "@jupyter-widgets/base",
      "model_module_version": "1.0.0",
      "model_name": "LayoutModel",
      "state": {}
     },
     "4a57047441e44ac897ae7bd78a35f662": {
      "model_module": "@jupyter-widgets/base",
      "model_module_version": "1.0.0",
      "model_name": "LayoutModel",
      "state": {
       "width": "auto"
      }
     },
     "4a5eb6cfb0534078acb1d538661a9fa9": {
      "model_module": "@jupyter-widgets/controls",
      "model_module_version": "1.2.0",
      "model_name": "HTMLModel",
      "state": {
       "layout": "IPY_MODEL_589fecc9e29e471dbfdfc3c43f575e5e",
       "style": "IPY_MODEL_a5b7baaa752b4ffea555269d33501be5",
       "value": "<h3 style='padding:0;margin:0;'>&nbsp &nbsp &nbsp<a href='https://github.com/pupster90/Cytoscape.git'>Cytoscape</a></h3>"
      }
     },
     "4aaa56b7642947b08f4ca459d42fb59b": {
      "model_module": "@jupyter-widgets/controls",
      "model_module_version": "1.2.0",
      "model_name": "DescriptionStyleModel",
      "state": {
       "description_width": ""
      }
     },
     "4abecd6dbb004dd9b16c765f1e675044": {
      "model_module": "@jupyter-widgets/controls",
      "model_module_version": "1.2.0",
      "model_name": "DescriptionStyleModel",
      "state": {
       "description_width": ""
      }
     },
     "4ae58100cf0046b1809e0d4bd03bd45b": {
      "model_module": "@jupyter-widgets/controls",
      "model_module_version": "1.2.0",
      "model_name": "HBoxModel",
      "state": {
       "children": [
        "IPY_MODEL_e75e8735508842359799076f0fb1ba2e",
        "IPY_MODEL_2c235e0fccab41178b037a9d90d46e3c",
        "IPY_MODEL_6063c31b6ff341b1a8d6aa606e6cfdfa",
        "IPY_MODEL_06907339ad6843059045fc8c5f61e2dd",
        "IPY_MODEL_4f1becc8b6744523933be1a98c642e2e",
        "IPY_MODEL_078b5f8972184b55b0280572e6ba9ac9"
       ],
       "layout": "IPY_MODEL_04a8dc5264f942ddb3c56bcb5f8f245a"
      }
     },
     "4afe8d674b9e46d6a3e87938145c5dfa": {
      "model_module": "@jupyter-widgets/base",
      "model_module_version": "1.0.0",
      "model_name": "LayoutModel",
      "state": {
       "width": "auto"
      }
     },
     "4b2d81016f864239aa142a1611ac3726": {
      "model_module": "@jupyter-widgets/controls",
      "model_module_version": "1.2.0",
      "model_name": "ButtonStyleModel",
      "state": {}
     },
     "4b37836c09614cf49c9a67aa00160c48": {
      "model_module": "@jupyter-widgets/controls",
      "model_module_version": "1.2.0",
      "model_name": "ButtonStyleModel",
      "state": {}
     },
     "4b5e9fc267d04e588849c54d1f389ea8": {
      "model_module": "@jupyter-widgets/controls",
      "model_module_version": "1.2.0",
      "model_name": "HTMLModel",
      "state": {
       "layout": "IPY_MODEL_37263bee46924924b7bd005b9b215a4f",
       "style": "IPY_MODEL_09586998a59e436e8d3d4131537cd287",
       "value": "<h3 style='padding:0;margin:0;'>&nbsp &nbsp &nbsp<a href='https://github.com/pupster90/pythonStrings.git'>pythonStrings</a></h3>"
      }
     },
     "4bc8e02687f444869802e312d458a465": {
      "model_module": "@jupyter-widgets/base",
      "model_module_version": "1.0.0",
      "model_name": "LayoutModel",
      "state": {}
     },
     "4bdcbe01b7f245dfb6416820b1778889": {
      "model_module": "@jupyter-widgets/controls",
      "model_module_version": "1.2.0",
      "model_name": "HTMLModel",
      "state": {
       "layout": "IPY_MODEL_6ff7ebcbedeb4b55bca984aa41a93406",
       "style": "IPY_MODEL_53317855ac0345c99e6878bd146d3f13",
       "value": "<h3 style='padding:0;margin:0;'>&nbsp &nbsp &nbsp<a href='https://github.com/pupster90/io_Presentation.git'>io_Presentation</a></h3>"
      }
     },
     "4c00f55ba73147aba6f1acefa47a4d5e": {
      "model_module": "@jupyter-widgets/base",
      "model_module_version": "1.0.0",
      "model_name": "LayoutModel",
      "state": {
       "align_items": "center"
      }
     },
     "4c4981d3892b4492b7ddb6ec03e7c8c5": {
      "model_module": "@jupyter-widgets/controls",
      "model_module_version": "1.2.0",
      "model_name": "DescriptionStyleModel",
      "state": {
       "description_width": ""
      }
     },
     "4d454fc0621c469b89ce374b48215490": {
      "model_module": "@jupyter-widgets/controls",
      "model_module_version": "1.2.0",
      "model_name": "ButtonModel",
      "state": {
       "button_style": "primary",
       "description": "Download",
       "layout": "IPY_MODEL_7c7415707edc438698916d4c441abbc3",
       "style": "IPY_MODEL_b7f1cf50facb49f7bd8f226387d799e0"
      }
     },
     "4dcfa83cfaab45aea7326ed27fb069b9": {
      "model_module": "@jupyter-widgets/controls",
      "model_module_version": "1.2.0",
      "model_name": "HTMLModel",
      "state": {
       "layout": "IPY_MODEL_931c332458bc4b349217b40c893cd565",
       "style": "IPY_MODEL_589bbca9c677494fb6b1394744265454",
       "value": "<h3 style='padding:0;margin:0;'>&nbsp &nbsp<a href='https://github.com/pupster90/io_Online'>io_Online</a> &nbsp</h3>"
      }
     },
     "4e021c96af744fe5b64ed1d49c9609f2": {
      "model_module": "@jupyter-widgets/base",
      "model_module_version": "1.0.0",
      "model_name": "LayoutModel",
      "state": {}
     },
     "4e25ca3b77914c4abd9979dc353d4086": {
      "model_module": "@jupyter-widgets/base",
      "model_module_version": "1.0.0",
      "model_name": "LayoutModel",
      "state": {
       "width": "auto"
      }
     },
     "4e27316443364e74a26e36777da76c7a": {
      "model_module": "@jupyter-widgets/base",
      "model_module_version": "1.0.0",
      "model_name": "LayoutModel",
      "state": {
       "width": "auto"
      }
     },
     "4e52102970bd4888b39e8c9938ebd25a": {
      "model_module": "@jupyter-widgets/controls",
      "model_module_version": "1.2.0",
      "model_name": "DescriptionStyleModel",
      "state": {
       "description_width": ""
      }
     },
     "4ed49b9282c0426781b3d7fe8c31cdfe": {
      "model_module": "@jupyter-widgets/controls",
      "model_module_version": "1.2.0",
      "model_name": "HBoxModel",
      "state": {
       "children": [
        "IPY_MODEL_21ab044caee54da9aa18658ac919cbbd"
       ],
       "layout": "IPY_MODEL_5f169be54fb34662a760d17b75ca75dc"
      }
     },
     "4ed6b36d755d49a89c92d618ea1ceb59": {
      "model_module": "@jupyter-widgets/base",
      "model_module_version": "1.0.0",
      "model_name": "LayoutModel",
      "state": {}
     },
     "4eda78616b304075a944ad4a289851fc": {
      "model_module": "@jupyter-widgets/base",
      "model_module_version": "1.0.0",
      "model_name": "LayoutModel",
      "state": {}
     },
     "4f033d1d16fb4b77b28ac83e2120a9ca": {
      "model_module": "@jupyter-widgets/base",
      "model_module_version": "1.0.0",
      "model_name": "LayoutModel",
      "state": {}
     },
     "4f1becc8b6744523933be1a98c642e2e": {
      "model_module": "@jupyter-widgets/controls",
      "model_module_version": "1.2.0",
      "model_name": "HTMLModel",
      "state": {
       "layout": "IPY_MODEL_48670337ebfc42ffabda81639830b9db",
       "style": "IPY_MODEL_8bea2886d9a84a9aa568f87bb917f87b",
       "value": "<h3 style='padding:0;margin:0;'>&nbsp &nbsp<a href='https://github.com/pupster90/My_First_Research_Paper'>My_First_Research_Paper</a> &nbsp</h3>"
      }
     },
     "4f1f3875e5614bfcb6a5d76a480f0a55": {
      "model_module": "@jupyter-widgets/base",
      "model_module_version": "1.0.0",
      "model_name": "LayoutModel",
      "state": {
       "align_items": "center"
      }
     },
     "4fad26c4de8d4f73aed52d2264b17cba": {
      "model_module": "@jupyter-widgets/base",
      "model_module_version": "1.0.0",
      "model_name": "LayoutModel",
      "state": {}
     },
     "4fdf5a11a2c541ea80091ea6226f7a64": {
      "model_module": "@jupyter-widgets/controls",
      "model_module_version": "1.2.0",
      "model_name": "VBoxModel",
      "state": {
       "children": [
        "IPY_MODEL_1f95c4bf70e04488a1e5d98d68054560",
        "IPY_MODEL_c1a7c2ac012d4565abd1fadc82ac631b"
       ],
       "layout": "IPY_MODEL_738519092f2d472eb13bfc8322a9fd32"
      }
     },
     "4fea4af09731485b83172d3c8b66b262": {
      "model_module": "@jupyter-widgets/controls",
      "model_module_version": "1.2.0",
      "model_name": "HBoxModel",
      "state": {
       "children": [
        "IPY_MODEL_bdad9f7354744a55a2dda997f728f07f",
        "IPY_MODEL_6b2b0121555a48829e580731cdd0aca5"
       ],
       "layout": "IPY_MODEL_bd2b86752e474d3fb42a3220f95bd9e7"
      }
     },
     "5011b2d4a09e4e2cbef0009ea395fd10": {
      "model_module": "@jupyter-widgets/controls",
      "model_module_version": "1.2.0",
      "model_name": "DescriptionStyleModel",
      "state": {
       "description_width": ""
      }
     },
     "5025a0b2e73c4c348e13e10ef9dd009d": {
      "model_module": "@jupyter-widgets/base",
      "model_module_version": "1.0.0",
      "model_name": "LayoutModel",
      "state": {}
     },
     "50480b36d47c40ceb4dea3d3730b066d": {
      "model_module": "@jupyter-widgets/controls",
      "model_module_version": "1.2.0",
      "model_name": "ButtonStyleModel",
      "state": {}
     },
     "509bf7ba2f7e425fa31e554aac1123c8": {
      "model_module": "@jupyter-widgets/base",
      "model_module_version": "1.0.0",
      "model_name": "LayoutModel",
      "state": {}
     },
     "50c204da3fdf4697ac8b37e18e22562c": {
      "model_module": "@jupyter-widgets/controls",
      "model_module_version": "1.2.0",
      "model_name": "HTMLModel",
      "state": {
       "layout": "IPY_MODEL_2fa2cbf101d94ad08059a9cd7fa0bc43",
       "style": "IPY_MODEL_33f2c0f2092f4c92b9275bc4d8461255",
       "value": "<h3 style='padding:0;margin:0;'>&nbsp &nbsp &nbsp<a href='https://github.com/pupster90/Mr_Smiley.git'>Mr_Smiley</a></h3>"
      }
     },
     "50f4e1decd0543c089fffcc174e7cced": {
      "model_module": "@jupyter-widgets/controls",
      "model_module_version": "1.2.0",
      "model_name": "ButtonStyleModel",
      "state": {}
     },
     "510781d60a234a1ca13448abf20201bb": {
      "model_module": "@jupyter-widgets/controls",
      "model_module_version": "1.2.0",
      "model_name": "DescriptionStyleModel",
      "state": {
       "description_width": ""
      }
     },
     "5115bdc6a7dc47118040656842eaf1d5": {
      "model_module": "@jupyter-widgets/base",
      "model_module_version": "1.0.0",
      "model_name": "LayoutModel",
      "state": {
       "align_items": "center"
      }
     },
     "514d17fffadc48ddb131f203b22f33f1": {
      "model_module": "@jupyter-widgets/base",
      "model_module_version": "1.0.0",
      "model_name": "LayoutModel",
      "state": {
       "width": "auto"
      }
     },
     "515057886c5d402e8cce249d861655a4": {
      "model_module": "@jupyter-widgets/controls",
      "model_module_version": "1.2.0",
      "model_name": "HTMLModel",
      "state": {
       "layout": "IPY_MODEL_1fae0979f262420eaabf1a94e5d750ce",
       "style": "IPY_MODEL_60b816f7b99c4897965d55f1eb938d84",
       "value": "<h3 style='padding:0;margin:0;'>&nbsp &nbsp &nbsp<a href='https://github.com/pupster90/ndex-viewer.git'>ndex-viewer</a></h3>"
      }
     },
     "51651ad1fcad44c7ab0f93d2e25441f8": {
      "model_module": "@jupyter-widgets/controls",
      "model_module_version": "1.2.0",
      "model_name": "HBoxModel",
      "state": {
       "children": [
        "IPY_MODEL_d6aeccb5f4d44d0da104aef93dd1817f",
        "IPY_MODEL_3857e87444134cfa8e286e7c58fdea54",
        "IPY_MODEL_6d36cd4fa2e547c4ad257b1b36ca10d0",
        "IPY_MODEL_98c145a255af48d2b8132a29f4945ec0",
        "IPY_MODEL_8e50c0f8f8914a088a10873eb33690e5",
        "IPY_MODEL_3ce50e4d54e5448c8d697ecd046b7817"
       ],
       "layout": "IPY_MODEL_c7f916f4246c4bd1bf678a568a6f3dea"
      }
     },
     "516599e006654a7488f6d45b01196731": {
      "model_module": "@jupyter-widgets/controls",
      "model_module_version": "1.2.0",
      "model_name": "DescriptionStyleModel",
      "state": {
       "description_width": ""
      }
     },
     "5172512d0b15466093dd0f6fd86fccc3": {
      "model_module": "@jupyter-widgets/controls",
      "model_module_version": "1.2.0",
      "model_name": "HBoxModel",
      "state": {
       "children": [
        "IPY_MODEL_11c9b9eb0570481e87ba35d58f70e061",
        "IPY_MODEL_99e95101f9fb471aa9650b8d011c1461",
        "IPY_MODEL_ee9726d7e8de4018858c9cd7fb580143",
        "IPY_MODEL_c158675e27024a0e9130a2f5074ab137",
        "IPY_MODEL_e628d7c80b31494091d9867b116cc2d8",
        "IPY_MODEL_67e896273dcb42d9ba0b5504b46be897"
       ],
       "layout": "IPY_MODEL_de14322dbcd5420a97bc7c20e0c36ca4"
      }
     },
     "518d68b901834846a73cbfb9522d42bf": {
      "model_module": "@jupyter-widgets/base",
      "model_module_version": "1.0.0",
      "model_name": "LayoutModel",
      "state": {
       "align_items": "center"
      }
     },
     "51b8ebfa45b64db1b8d14be0dd4e7ac2": {
      "model_module": "@jupyter-widgets/base",
      "model_module_version": "1.0.0",
      "model_name": "LayoutModel",
      "state": {}
     },
     "520b2538edc0461c9443f7f383034cfd": {
      "model_module": "@jupyter-widgets/controls",
      "model_module_version": "1.2.0",
      "model_name": "ButtonModel",
      "state": {
       "button_style": "primary",
       "description": "Download",
       "layout": "IPY_MODEL_df745f29cdcf49bca952d96333db3d76",
       "style": "IPY_MODEL_1eba2cd06e5a4df7ac869179b5cf5142"
      }
     },
     "520dc414c0ff414e9a81d585c08dabc7": {
      "model_module": "@jupyter-widgets/controls",
      "model_module_version": "1.2.0",
      "model_name": "HTMLModel",
      "state": {
       "layout": "IPY_MODEL_e57336b05fbe40a18e59b00f65ac494f",
       "style": "IPY_MODEL_b3e4b95255dd4700903ec54593f3f54d",
       "value": "<h3 style='padding:0;margin:0;'>&nbsp &nbsp<a href='https://github.com/pupster90/Public_Profile'>Public_Profile</a> &nbsp</h3>"
      }
     },
     "523c1cf02f6442ebbfe5e2a94676415c": {
      "model_module": "@jupyter-widgets/base",
      "model_module_version": "1.0.0",
      "model_name": "LayoutModel",
      "state": {
       "width": "auto"
      }
     },
     "52577c1ece65420d813861284696558c": {
      "model_module": "@jupyter-widgets/controls",
      "model_module_version": "1.2.0",
      "model_name": "DescriptionStyleModel",
      "state": {
       "description_width": ""
      }
     },
     "52b3b1d5b79a470895683d2868d6c677": {
      "model_module": "@jupyter-widgets/controls",
      "model_module_version": "1.2.0",
      "model_name": "DescriptionStyleModel",
      "state": {
       "description_width": ""
      }
     },
     "53120d86e06b4dcfa2d023603df96d39": {
      "model_module": "@jupyter-widgets/controls",
      "model_module_version": "1.2.0",
      "model_name": "ButtonModel",
      "state": {
       "button_style": "success",
       "description": "Publish",
       "layout": "IPY_MODEL_59b1995dcfe54b29b730327ce346ef4c",
       "style": "IPY_MODEL_5535e881f7e74ff89a32e78380a13c20"
      }
     },
     "532e7941403147b489a0e5def2787adb": {
      "model_module": "@jupyter-widgets/base",
      "model_module_version": "1.0.0",
      "model_name": "LayoutModel",
      "state": {}
     },
     "53317855ac0345c99e6878bd146d3f13": {
      "model_module": "@jupyter-widgets/controls",
      "model_module_version": "1.2.0",
      "model_name": "DescriptionStyleModel",
      "state": {
       "description_width": ""
      }
     },
     "534bbd3a68a3444c8a6299bc0c114741": {
      "model_module": "@jupyter-widgets/controls",
      "model_module_version": "1.2.0",
      "model_name": "DescriptionStyleModel",
      "state": {
       "description_width": ""
      }
     },
     "536db62880f2420cb6438b58cdf80637": {
      "model_module": "@jupyter-widgets/base",
      "model_module_version": "1.0.0",
      "model_name": "LayoutModel",
      "state": {
       "width": "auto"
      }
     },
     "537e430ffe99483da93e3ff23822317f": {
      "model_module": "@jupyter-widgets/base",
      "model_module_version": "1.0.0",
      "model_name": "LayoutModel",
      "state": {
       "width": "auto"
      }
     },
     "53d0c910357d47b584897fa0424b74dc": {
      "model_module": "@jupyter-widgets/controls",
      "model_module_version": "1.2.0",
      "model_name": "ButtonModel",
      "state": {
       "button_style": "primary",
       "description": "Download",
       "layout": "IPY_MODEL_497f761eec65408497fdfc2928d536e8",
       "style": "IPY_MODEL_5a271ded5b6048d592e2506938c67098"
      }
     },
     "53d1bd54fc5b4eaba6a815d10edb5e61": {
      "model_module": "@jupyter-widgets/controls",
      "model_module_version": "1.2.0",
      "model_name": "DescriptionStyleModel",
      "state": {
       "description_width": ""
      }
     },
     "53e1b07e5f124da0974b5f6e295d4a6c": {
      "model_module": "@jupyter-widgets/controls",
      "model_module_version": "1.2.0",
      "model_name": "HTMLModel",
      "state": {
       "layout": "IPY_MODEL_a5d4402efebc4ad192c01151ac90f644",
       "style": "IPY_MODEL_e7d0e6137bfd4856acb0a5502c144941",
       "value": "<h3 style='padding:0;margin:0;'>&nbsp &nbsp &nbsp<a href='https://github.com/pupster90/io_Presentation.git'>io_Presentation</a></h3>"
      }
     },
     "54164b82c85c408ba468c972d313b35c": {
      "model_module": "@jupyter-widgets/controls",
      "model_module_version": "1.2.0",
      "model_name": "DescriptionStyleModel",
      "state": {
       "description_width": ""
      }
     },
     "54497274da5c4b6eaae74ca333319c49": {
      "model_module": "@jupyter-widgets/base",
      "model_module_version": "1.0.0",
      "model_name": "LayoutModel",
      "state": {
       "width": "auto"
      }
     },
     "546014620ba34115b59c9c401b5a35d3": {
      "model_module": "@jupyter-widgets/controls",
      "model_module_version": "1.2.0",
      "model_name": "HTMLModel",
      "state": {
       "layout": "IPY_MODEL_9df34c3fa9fc4641bfcc6af97f001882",
       "style": "IPY_MODEL_1f4e7db29fce4a8dad51ba23a6c79338",
       "value": "<font color='orange'> &nbsp Stars: 0</font>"
      }
     },
     "5460ae62d0984e3f902b5fccd93a77f8": {
      "model_module": "@jupyter-widgets/base",
      "model_module_version": "1.0.0",
      "model_name": "LayoutModel",
      "state": {
       "display": "none"
      }
     },
     "54ef6f81d0694e8f9d7fcff5ee8d2634": {
      "model_module": "@jupyter-widgets/controls",
      "model_module_version": "1.2.0",
      "model_name": "HTMLModel",
      "state": {
       "layout": "IPY_MODEL_7fa581e309694a4db15e9f84a3992878",
       "style": "IPY_MODEL_2d4b8bf5edb746659e042aad353e9cab",
       "value": "<h3 style='padding:0;margin:0;'>&nbsp &nbsp &nbsp<a href='https://github.com/pupster90/Ideker_Online.git'>Ideker_Online</a></h3>"
      }
     },
     "5535e881f7e74ff89a32e78380a13c20": {
      "model_module": "@jupyter-widgets/controls",
      "model_module_version": "1.2.0",
      "model_name": "ButtonStyleModel",
      "state": {}
     },
     "556248d777824b7aaab29965ea57521c": {
      "model_module": "@jupyter-widgets/controls",
      "model_module_version": "1.2.0",
      "model_name": "LabelModel",
      "state": {
       "layout": "IPY_MODEL_0b43f7425fd14510b633faee1c2b95d5",
       "style": "IPY_MODEL_efae7e84423c4d9499597b7e28369ef5",
       "value": "Saved 23 hours ago"
      }
     },
     "5626baa747b64af7b8e8b558558702a6": {
      "model_module": "@jupyter-widgets/controls",
      "model_module_version": "1.2.0",
      "model_name": "DescriptionStyleModel",
      "state": {
       "description_width": ""
      }
     },
     "5626ce9911d340ada7bebc83b470859c": {
      "model_module": "@jupyter-widgets/controls",
      "model_module_version": "1.2.0",
      "model_name": "ButtonStyleModel",
      "state": {}
     },
     "5627beb0dbc1496b963b7b0ed8dc06f9": {
      "model_module": "@jupyter-widgets/base",
      "model_module_version": "1.0.0",
      "model_name": "LayoutModel",
      "state": {
       "align_items": "center"
      }
     },
     "562d025e22da44d0bdcaf67765522925": {
      "model_module": "@jupyter-widgets/controls",
      "model_module_version": "1.2.0",
      "model_name": "HTMLModel",
      "state": {
       "layout": "IPY_MODEL_20c28388aa9a4c00aa350b973e2691fd",
       "style": "IPY_MODEL_f186016e76334721a2d776167a4e1190",
       "value": "<h4 style='padding:0;margin:0;'>&nbsp <a href='https://github.com/pupster90' style='color:gray'>pupster90</a> &nbsp</h4>"
      }
     },
     "565c0b3cf9e14121839df042e9af922b": {
      "model_module": "@jupyter-widgets/base",
      "model_module_version": "1.0.0",
      "model_name": "LayoutModel",
      "state": {
       "width": "auto"
      }
     },
     "56d08a5dfc7f4e40b4e04b573edacc4f": {
      "model_module": "@jupyter-widgets/controls",
      "model_module_version": "1.2.0",
      "model_name": "ButtonStyleModel",
      "state": {}
     },
     "5708926beab34e61a019716849491fa5": {
      "model_module": "@jupyter-widgets/base",
      "model_module_version": "1.0.0",
      "model_name": "LayoutModel",
      "state": {}
     },
     "5721a8de669e49359343b327c26267d1": {
      "model_module": "@jupyter-widgets/controls",
      "model_module_version": "1.2.0",
      "model_name": "HBoxModel",
      "state": {
       "children": [
        "IPY_MODEL_ba625e97925945a4897c620b6083c544",
        "IPY_MODEL_93a8491edc7f4adaa5f3bcc57ed174a3",
        "IPY_MODEL_69ac1a7c48d34e689ec5e683fed599b8",
        "IPY_MODEL_546014620ba34115b59c9c401b5a35d3",
        "IPY_MODEL_4dcfa83cfaab45aea7326ed27fb069b9",
        "IPY_MODEL_ded308b7159e41d2ade0e6094a120e54"
       ],
       "layout": "IPY_MODEL_9a291a3b0a9d4798be38086b305abbd8"
      }
     },
     "572e0936e8254d40954efdb46f8ee2e4": {
      "model_module": "@jupyter-widgets/controls",
      "model_module_version": "1.2.0",
      "model_name": "DescriptionStyleModel",
      "state": {
       "description_width": ""
      }
     },
     "5797cdb623004ea1823c18de122daff6": {
      "model_module": "@jupyter-widgets/base",
      "model_module_version": "1.0.0",
      "model_name": "LayoutModel",
      "state": {}
     },
     "57edca0077944c389af64290a781e816": {
      "model_module": "@jupyter-widgets/controls",
      "model_module_version": "1.2.0",
      "model_name": "DescriptionStyleModel",
      "state": {
       "description_width": ""
      }
     },
     "581bb0a0b8614d7f80a7dc37a82f4d0f": {
      "model_module": "@jupyter-widgets/base",
      "model_module_version": "1.0.0",
      "model_name": "LayoutModel",
      "state": {
       "width": "auto"
      }
     },
     "582c6e00c89046faafe940b1bc7f3ad1": {
      "model_module": "@jupyter-widgets/controls",
      "model_module_version": "1.2.0",
      "model_name": "HBoxModel",
      "state": {
       "children": [
        "IPY_MODEL_8fd8d70400b54d7abd61d33104997f3f",
        "IPY_MODEL_f0b95a767620456494d9901c86ebb255",
        "IPY_MODEL_38ba7dfa43314359bde7324edcb48932",
        "IPY_MODEL_1d616fe11c18486a9cc428f17823e818"
       ],
       "layout": "IPY_MODEL_29ced4df0b2e4f90aa738f62a9553556"
      }
     },
     "58313d8e5d1b43389c0146ffe701d4ed": {
      "model_module": "@jupyter-widgets/base",
      "model_module_version": "1.0.0",
      "model_name": "LayoutModel",
      "state": {}
     },
     "58386f61bdb545e2bc7b8654d3b20036": {
      "model_module": "@jupyter-widgets/controls",
      "model_module_version": "1.2.0",
      "model_name": "DescriptionStyleModel",
      "state": {
       "description_width": ""
      }
     },
     "5846151ee48b481197f0390ff0dcdbf3": {
      "model_module": "@jupyter-widgets/controls",
      "model_module_version": "1.2.0",
      "model_name": "ButtonModel",
      "state": {
       "button_style": "info",
       "description": "Download",
       "layout": "IPY_MODEL_514d17fffadc48ddb131f203b22f33f1",
       "style": "IPY_MODEL_50480b36d47c40ceb4dea3d3730b066d"
      }
     },
     "5848078661f746cabf157b0c903f2405": {
      "model_module": "@jupyter-widgets/base",
      "model_module_version": "1.0.0",
      "model_name": "LayoutModel",
      "state": {}
     },
     "5856d3fc6bb84a7e8987e980d780c2fd": {
      "model_module": "@jupyter-widgets/base",
      "model_module_version": "1.0.0",
      "model_name": "LayoutModel",
      "state": {}
     },
     "58571e3522424d3b8eb7c94c722b14f3": {
      "model_module": "@jupyter-widgets/controls",
      "model_module_version": "1.2.0",
      "model_name": "ButtonStyleModel",
      "state": {}
     },
     "5867eecd3efb4b94a3c475f6f042f01e": {
      "model_module": "@jupyter-widgets/base",
      "model_module_version": "1.0.0",
      "model_name": "LayoutModel",
      "state": {
       "width": "auto"
      }
     },
     "58699db6080e4268986b62911ce06f4e": {
      "model_module": "@jupyter-widgets/base",
      "model_module_version": "1.0.0",
      "model_name": "LayoutModel",
      "state": {
       "width": "100px"
      }
     },
     "587459d5acf5470fb9ddbe8961d77eb7": {
      "model_module": "@jupyter-widgets/base",
      "model_module_version": "1.0.0",
      "model_name": "LayoutModel",
      "state": {
       "width": "auto"
      }
     },
     "58884cf9b8bc4bb5a4be277e1d3e5476": {
      "model_module": "@jupyter-widgets/base",
      "model_module_version": "1.0.0",
      "model_name": "LayoutModel",
      "state": {
       "width": "auto"
      }
     },
     "5890c53055c9481b867ee5d011b00d55": {
      "model_module": "@jupyter-widgets/controls",
      "model_module_version": "1.2.0",
      "model_name": "TextModel",
      "state": {
       "layout": "IPY_MODEL_bba378b110894e4eb04526560b328500",
       "style": "IPY_MODEL_3eb9564af96c4e37823f5ce52fe2ed40"
      }
     },
     "58968686fba04e8db08f0c7569681a3e": {
      "model_module": "@jupyter-widgets/controls",
      "model_module_version": "1.2.0",
      "model_name": "ButtonStyleModel",
      "state": {}
     },
     "589bbca9c677494fb6b1394744265454": {
      "model_module": "@jupyter-widgets/controls",
      "model_module_version": "1.2.0",
      "model_name": "DescriptionStyleModel",
      "state": {
       "description_width": ""
      }
     },
     "589fecc9e29e471dbfdfc3c43f575e5e": {
      "model_module": "@jupyter-widgets/base",
      "model_module_version": "1.0.0",
      "model_name": "LayoutModel",
      "state": {}
     },
     "58c04ef8c7694dd799522f249b06b9e6": {
      "model_module": "@jupyter-widgets/base",
      "model_module_version": "1.0.0",
      "model_name": "LayoutModel",
      "state": {
       "width": "auto"
      }
     },
     "58f189e8324c47c58acee22fbaf85727": {
      "model_module": "@jupyter-widgets/controls",
      "model_module_version": "1.2.0",
      "model_name": "DescriptionStyleModel",
      "state": {
       "description_width": ""
      }
     },
     "5947b4b1b584485fb1640d7895ab51e8": {
      "model_module": "@jupyter-widgets/base",
      "model_module_version": "1.0.0",
      "model_name": "LayoutModel",
      "state": {}
     },
     "59543fda4374485a91ff207ca181a9b1": {
      "model_module": "@jupyter-widgets/controls",
      "model_module_version": "1.2.0",
      "model_name": "ButtonModel",
      "state": {
       "button_style": "success",
       "description": "Publish",
       "layout": "IPY_MODEL_651cf5dfae254f499293e43a40586a9f",
       "style": "IPY_MODEL_b5fbb6994a0f419b820f1faed810c833"
      }
     },
     "595639d1584f41409f981959902f1789": {
      "model_module": "@jupyter-widgets/controls",
      "model_module_version": "1.2.0",
      "model_name": "ButtonStyleModel",
      "state": {}
     },
     "595c5aaac91c40e1ae428d15038e1050": {
      "model_module": "@jupyter-widgets/controls",
      "model_module_version": "1.2.0",
      "model_name": "LabelModel",
      "state": {
       "layout": "IPY_MODEL_5947b4b1b584485fb1640d7895ab51e8",
       "style": "IPY_MODEL_5b8377e1ee1a40f6aa7c7c37323a17dc",
       "value": "3 Updates Behind"
      }
     },
     "59b1995dcfe54b29b730327ce346ef4c": {
      "model_module": "@jupyter-widgets/base",
      "model_module_version": "1.0.0",
      "model_name": "LayoutModel",
      "state": {
       "width": "auto"
      }
     },
     "59e25e5c69bc4083b1e70f599830240d": {
      "model_module": "@jupyter-widgets/controls",
      "model_module_version": "1.2.0",
      "model_name": "DescriptionStyleModel",
      "state": {
       "description_width": ""
      }
     },
     "5a271ded5b6048d592e2506938c67098": {
      "model_module": "@jupyter-widgets/controls",
      "model_module_version": "1.2.0",
      "model_name": "ButtonStyleModel",
      "state": {}
     },
     "5a53e82921524b3284b53ac23edc82b4": {
      "model_module": "@jupyter-widgets/controls",
      "model_module_version": "1.2.0",
      "model_name": "HTMLModel",
      "state": {
       "layout": "IPY_MODEL_78c946d4e1e544608b7288f1fd8e5d08",
       "style": "IPY_MODEL_031e51c8a2f1465288fc2961d1015928",
       "value": "<h3 style='padding:0;margin:0;'>&nbsp &nbsp &nbsp<a href='https://github.com/pupster90/io_Presentation.git'>io_Presentation</a></h3>"
      }
     },
     "5a608e34b6394419b3428188ff89c4c7": {
      "model_module": "@jupyter-widgets/controls",
      "model_module_version": "1.2.0",
      "model_name": "DescriptionStyleModel",
      "state": {
       "description_width": ""
      }
     },
     "5ad0a8c0de3d4116a7e87739b00b8d07": {
      "model_module": "@jupyter-widgets/base",
      "model_module_version": "1.0.0",
      "model_name": "LayoutModel",
      "state": {}
     },
     "5adabc413dca424b828e11d02ecd1058": {
      "model_module": "@jupyter-widgets/base",
      "model_module_version": "1.0.0",
      "model_name": "LayoutModel",
      "state": {
       "width": "auto"
      }
     },
     "5b22a4d73e3640d5aeeaf44fa9e888b3": {
      "model_module": "@jupyter-widgets/controls",
      "model_module_version": "1.2.0",
      "model_name": "HTMLModel",
      "state": {
       "layout": "IPY_MODEL_15ce15b046eb408cbcf3285cefb2e262",
       "style": "IPY_MODEL_f2c7bb41ab0e495b89210372023792f8",
       "value": "<h3 style='padding:0;margin:0;'>&nbsp &nbsp &nbsp<a href='https://github.com/pupster90/Cytoscape.git'>Cytoscape</a></h3>"
      }
     },
     "5b362580fbd8441b98865a8b5d59587b": {
      "model_module": "@jupyter-widgets/controls",
      "model_module_version": "1.2.0",
      "model_name": "LabelModel",
      "state": {
       "layout": "IPY_MODEL_392d2da0c9a74e49bcfd913f00201487",
       "style": "IPY_MODEL_3ab95f5f6ee7487c8cf1dfd50a87581e",
       "value": "40 minutes ago"
      }
     },
     "5b59b9ac399b4413bcf81df13607a3e9": {
      "model_module": "@jupyter-widgets/base",
      "model_module_version": "1.0.0",
      "model_name": "LayoutModel",
      "state": {}
     },
     "5b772b0e07524e3a92acb5a2ef8753e4": {
      "model_module": "@jupyter-widgets/base",
      "model_module_version": "1.0.0",
      "model_name": "LayoutModel",
      "state": {
       "width": "auto"
      }
     },
     "5b8377e1ee1a40f6aa7c7c37323a17dc": {
      "model_module": "@jupyter-widgets/controls",
      "model_module_version": "1.2.0",
      "model_name": "DescriptionStyleModel",
      "state": {
       "description_width": ""
      }
     },
     "5bb030d018624f979a363f1fbd0f975c": {
      "model_module": "@jupyter-widgets/controls",
      "model_module_version": "1.2.0",
      "model_name": "DescriptionStyleModel",
      "state": {
       "description_width": ""
      }
     },
     "5bd2cb8b7bfe486fa8eb8ff110dc45f0": {
      "model_module": "@jupyter-widgets/base",
      "model_module_version": "1.0.0",
      "model_name": "LayoutModel",
      "state": {
       "align_items": "center"
      }
     },
     "5be5d9d186c04070b40a9ae9e005d7ee": {
      "model_module": "@jupyter-widgets/controls",
      "model_module_version": "1.2.0",
      "model_name": "DescriptionStyleModel",
      "state": {
       "description_width": ""
      }
     },
     "5bfdbd816571441d806c4a71118cefc1": {
      "model_module": "@jupyter-widgets/base",
      "model_module_version": "1.0.0",
      "model_name": "LayoutModel",
      "state": {
       "width": "auto"
      }
     },
     "5c08bb0974164f2ab78ebe0d436006d6": {
      "model_module": "@jupyter-widgets/base",
      "model_module_version": "1.0.0",
      "model_name": "LayoutModel",
      "state": {
       "align_items": "center"
      }
     },
     "5c19d58b246e4ddb82c971774a53b744": {
      "model_module": "@jupyter-widgets/base",
      "model_module_version": "1.0.0",
      "model_name": "LayoutModel",
      "state": {}
     },
     "5c339c92b58644789c6f75518c5738b9": {
      "model_module": "@jupyter-widgets/controls",
      "model_module_version": "1.2.0",
      "model_name": "ButtonStyleModel",
      "state": {}
     },
     "5c58f2967cbd47998e505760ace12ce1": {
      "model_module": "@jupyter-widgets/controls",
      "model_module_version": "1.2.0",
      "model_name": "DescriptionStyleModel",
      "state": {
       "description_width": ""
      }
     },
     "5c66042074c64828bb9d17254ee14cdf": {
      "model_module": "@jupyter-widgets/controls",
      "model_module_version": "1.2.0",
      "model_name": "HTMLModel",
      "state": {
       "layout": "IPY_MODEL_4a4f57199b2048238db38e493bbb1f66",
       "style": "IPY_MODEL_03824a2f921a4ee1b23f79cbb5601b1d",
       "value": "<h3 style='padding:0;margin:0;'>&nbsp &nbsp &nbsp<a href='https://github.com/pupster90/My_First_Research_Paper.git'>My_First_Research_Paper</a></h3>"
      }
     },
     "5c96ed5dfc174da1afaa4be4a032c3dc": {
      "model_module": "@jupyter-widgets/controls",
      "model_module_version": "1.2.0",
      "model_name": "ButtonModel",
      "state": {
       "button_style": "primary",
       "description": "Download",
       "layout": "IPY_MODEL_3ac6b74d9d614b25a488f19e5923e716",
       "style": "IPY_MODEL_db0bd5d1ccd64e3f8a626f4869ad38ac"
      }
     },
     "5caa322d07ed4c7d9f12b2a16a7d4e6b": {
      "model_module": "@jupyter-widgets/controls",
      "model_module_version": "1.2.0",
      "model_name": "DescriptionStyleModel",
      "state": {
       "description_width": ""
      }
     },
     "5ce13c25732c4533b9933c06f80c38dd": {
      "model_module": "@jupyter-widgets/base",
      "model_module_version": "1.0.0",
      "model_name": "LayoutModel",
      "state": {
       "width": "auto"
      }
     },
     "5d1d01ffc3ad4490a82c4a8ca022984a": {
      "model_module": "@jupyter-widgets/base",
      "model_module_version": "1.0.0",
      "model_name": "LayoutModel",
      "state": {
       "width": "auto"
      }
     },
     "5d21b104957a45ea8b66cd6664ec21d7": {
      "model_module": "@jupyter-widgets/base",
      "model_module_version": "1.0.0",
      "model_name": "LayoutModel",
      "state": {
       "width": "auto"
      }
     },
     "5d31d7f946354778914771dd8b3be8bd": {
      "model_module": "@jupyter-widgets/controls",
      "model_module_version": "1.2.0",
      "model_name": "ButtonStyleModel",
      "state": {}
     },
     "5d69f5f207b34436be365c1b235425b5": {
      "model_module": "@jupyter-widgets/base",
      "model_module_version": "1.0.0",
      "model_name": "LayoutModel",
      "state": {
       "align_items": "center"
      }
     },
     "5d7c96fcf9cd425c9d8ca4ee1cb42290": {
      "model_module": "@jupyter-widgets/controls",
      "model_module_version": "1.2.0",
      "model_name": "DescriptionStyleModel",
      "state": {
       "description_width": ""
      }
     },
     "5db93f9e3c2a4f12b7f5e1e8e377c6c1": {
      "model_module": "@jupyter-widgets/controls",
      "model_module_version": "1.2.0",
      "model_name": "HTMLModel",
      "state": {
       "layout": "IPY_MODEL_6f72395be13c47e7bea3416c0cda3f85",
       "style": "IPY_MODEL_ee89627aaa104d3987d45ba620c20a5b",
       "value": "<h3 style='padding:0;margin:0;'>&nbsp &nbsp &nbsp<a href='https://github.com/pupster90/Ideker_Online.git'>Ideker_Online</a></h3>"
      }
     },
     "5dc99198fb554b83a4b59f996278c15d": {
      "model_module": "@jupyter-widgets/controls",
      "model_module_version": "1.2.0",
      "model_name": "DescriptionStyleModel",
      "state": {
       "description_width": ""
      }
     },
     "5de6a75359ed4165ad004fdb33718858": {
      "model_module": "@jupyter-widgets/controls",
      "model_module_version": "1.2.0",
      "model_name": "DescriptionStyleModel",
      "state": {
       "description_width": ""
      }
     },
     "5dfdb42d75a740f1b0219272408cfd8b": {
      "model_module": "@jupyter-widgets/controls",
      "model_module_version": "1.2.0",
      "model_name": "VBoxModel",
      "state": {
       "children": [
        "IPY_MODEL_d2a7362ac8274b069bb8507dfadb8d65",
        "IPY_MODEL_63481e0474bd47989c2418b6c0e85203",
        "IPY_MODEL_dfdc50d6948446fcb7b8c4fe2478a069",
        "IPY_MODEL_2fff6f6c188f4dd5ae9d7b811658fd54"
       ],
       "layout": "IPY_MODEL_bacfd6c77b154efeb42ef866eff1b533"
      }
     },
     "5e590c6acab14f259e8747d3f3d772df": {
      "model_module": "@jupyter-widgets/controls",
      "model_module_version": "1.2.0",
      "model_name": "DescriptionStyleModel",
      "state": {
       "description_width": ""
      }
     },
     "5e951d71983e43f49bbb2d7705510e8e": {
      "model_module": "@jupyter-widgets/base",
      "model_module_version": "1.0.0",
      "model_name": "LayoutModel",
      "state": {
       "width": "auto"
      }
     },
     "5eb4ddf691d347c492d13154e8c42adb": {
      "model_module": "@jupyter-widgets/controls",
      "model_module_version": "1.2.0",
      "model_name": "HTMLModel",
      "state": {
       "layout": "IPY_MODEL_5f9d3dc0bcaf4bc583cb0b654f1ae306",
       "style": "IPY_MODEL_d5fdc8dc102943eaafb2f6ee0a471f61",
       "value": "<h3 style='padding:0;margin:0;'>&nbsp &nbsp &nbsp<a href='https://github.com/pupster90/My_First_Research_Paper.git'>My_First_Research_Paper</a></h3>"
      }
     },
     "5eb5596e31e64749b023951f7dc385bf": {
      "model_module": "@jupyter-widgets/base",
      "model_module_version": "1.0.0",
      "model_name": "LayoutModel",
      "state": {}
     },
     "5ebbebbf08fb41cb956ae2892a10607c": {
      "model_module": "@jupyter-widgets/base",
      "model_module_version": "1.0.0",
      "model_name": "LayoutModel",
      "state": {
       "width": "auto"
      }
     },
     "5ef7efada0774226b9eeced98f701c35": {
      "model_module": "@jupyter-widgets/controls",
      "model_module_version": "1.2.0",
      "model_name": "DescriptionStyleModel",
      "state": {
       "description_width": ""
      }
     },
     "5eff2fa1b0a64641a6dcf156df6b022c": {
      "model_module": "@jupyter-widgets/controls",
      "model_module_version": "1.2.0",
      "model_name": "HTMLModel",
      "state": {
       "layout": "IPY_MODEL_37a355e3cd7a40f285aca218f1ef348a",
       "style": "IPY_MODEL_5caa322d07ed4c7d9f12b2a16a7d4e6b",
       "value": "<font color='orange'> &nbsp Stars: 0</font>"
      }
     },
     "5f169be54fb34662a760d17b75ca75dc": {
      "model_module": "@jupyter-widgets/base",
      "model_module_version": "1.0.0",
      "model_name": "LayoutModel",
      "state": {
       "justify_content": "center",
       "padding": "15px 0 0 0"
      }
     },
     "5f2a72a60e194aacb6fadd9d234dfb79": {
      "model_module": "@jupyter-widgets/controls",
      "model_module_version": "1.2.0",
      "model_name": "DescriptionStyleModel",
      "state": {
       "description_width": ""
      }
     },
     "5f2b63eb79ef40b98e4898d6f32b5ac6": {
      "model_module": "@jupyter-widgets/controls",
      "model_module_version": "1.2.0",
      "model_name": "HTMLModel",
      "state": {
       "layout": "IPY_MODEL_532e7941403147b489a0e5def2787adb",
       "style": "IPY_MODEL_cd319393c55f481d84c34a90163a2e8b",
       "value": "<h3 style='padding:0;margin:0;'>&nbsp &nbsp &nbsp<a href='https://github.com/pupster90/ddot2.git'>ddot2</a></h3>"
      }
     },
     "5f61866b26a840ce9807140a071fc47e": {
      "model_module": "@jupyter-widgets/controls",
      "model_module_version": "1.2.0",
      "model_name": "DescriptionStyleModel",
      "state": {
       "description_width": ""
      }
     },
     "5f9d3dc0bcaf4bc583cb0b654f1ae306": {
      "model_module": "@jupyter-widgets/base",
      "model_module_version": "1.0.0",
      "model_name": "LayoutModel",
      "state": {}
     },
     "5faad1a2ef9e47de8f7acf8eaf5c8a3b": {
      "model_module": "@jupyter-widgets/controls",
      "model_module_version": "1.2.0",
      "model_name": "DescriptionStyleModel",
      "state": {
       "description_width": ""
      }
     },
     "5ff7aa15495b4a9bbd781c0757ed8bf1": {
      "model_module": "@jupyter-widgets/base",
      "model_module_version": "1.0.0",
      "model_name": "LayoutModel",
      "state": {}
     },
     "6001319ed7134cdeb2f1bc1f18425d16": {
      "model_module": "@jupyter-widgets/controls",
      "model_module_version": "1.2.0",
      "model_name": "DescriptionStyleModel",
      "state": {
       "description_width": ""
      }
     },
     "601c8f67e6f94b6fa10684b50d86dafd": {
      "model_module": "@jupyter-widgets/controls",
      "model_module_version": "1.2.0",
      "model_name": "HBoxModel",
      "state": {
       "children": [
        "IPY_MODEL_a1c1d82de10a448581428e0c27e3f642",
        "IPY_MODEL_50c204da3fdf4697ac8b37e18e22562c"
       ],
       "layout": "IPY_MODEL_3ef393e576224bd6b66858cc091d3458"
      }
     },
     "60250ead872041328fefb020d61f3820": {
      "model_module": "@jupyter-widgets/controls",
      "model_module_version": "1.2.0",
      "model_name": "LabelModel",
      "state": {
       "layout": "IPY_MODEL_1064feab587044f888f4d266ba4ef46b",
       "style": "IPY_MODEL_7db5339e394d47128fc75688d57bf575",
       "value": "1 Updates Behind"
      }
     },
     "6063c31b6ff341b1a8d6aa606e6cfdfa": {
      "model_module": "@jupyter-widgets/controls",
      "model_module_version": "1.2.0",
      "model_name": "HTMLModel",
      "state": {
       "layout": "IPY_MODEL_f3ccaf736aea4366af2c797188fee375",
       "style": "IPY_MODEL_78459100e8304e87987fef187f022ee9",
       "value": "<font color='green'> &nbsp Downloads: 0</font>"
      }
     },
     "60a541b52232480abc6f6e3f7a3a9ef5": {
      "model_module": "@jupyter-widgets/base",
      "model_module_version": "1.0.0",
      "model_name": "LayoutModel",
      "state": {
       "width": "130px"
      }
     },
     "60a586256ee34bfc9c121116b97eeb45": {
      "model_module": "@jupyter-widgets/controls",
      "model_module_version": "1.2.0",
      "model_name": "ButtonModel",
      "state": {
       "button_style": "info",
       "description": "Download",
       "layout": "IPY_MODEL_77722454928e4c9bbce482204f6a7716",
       "style": "IPY_MODEL_bec0646078b44a0ea22923199acae5df"
      }
     },
     "60ab29d6984c42b889cae59df4117efd": {
      "model_module": "@jupyter-widgets/base",
      "model_module_version": "1.0.0",
      "model_name": "LayoutModel",
      "state": {}
     },
     "60b816f7b99c4897965d55f1eb938d84": {
      "model_module": "@jupyter-widgets/controls",
      "model_module_version": "1.2.0",
      "model_name": "DescriptionStyleModel",
      "state": {
       "description_width": ""
      }
     },
     "60eeee58d102430287765aec340cc066": {
      "model_module": "@jupyter-widgets/controls",
      "model_module_version": "1.2.0",
      "model_name": "DescriptionStyleModel",
      "state": {
       "description_width": ""
      }
     },
     "6122e2d0800141dd9156d0525c0f0043": {
      "model_module": "@jupyter-widgets/base",
      "model_module_version": "1.0.0",
      "model_name": "LayoutModel",
      "state": {
       "width": "130px"
      }
     },
     "612cfef84b9c4a9d8682245d7b6e530c": {
      "model_module": "@jupyter-widgets/controls",
      "model_module_version": "1.2.0",
      "model_name": "HBoxModel",
      "state": {
       "children": [
        "IPY_MODEL_81aade97f8144593a029439e0da4821c",
        "IPY_MODEL_d43c37179dc040679020947a21b980bf"
       ],
       "layout": "IPY_MODEL_760c5a6061614c38a99e210edc21bfa7"
      }
     },
     "614f92d39bcc4ae48b6b9224bdb9a903": {
      "model_module": "@jupyter-widgets/controls",
      "model_module_version": "1.2.0",
      "model_name": "DescriptionStyleModel",
      "state": {
       "description_width": ""
      }
     },
     "61d04ec83f3d4c7287bd8c3e7c9c8490": {
      "model_module": "@jupyter-widgets/controls",
      "model_module_version": "1.2.0",
      "model_name": "HTMLModel",
      "state": {
       "layout": "IPY_MODEL_cfa2a213f4e341fa8fb6a17a52962454",
       "style": "IPY_MODEL_a06239e8ab6b4ac6b84688b0d8bd7d3f",
       "value": "<h3 class='text-center'><font color='red'>Logout</font> of <a stc='https://github.com/'>Github </a> &nbsp&nbsp<h3>"
      }
     },
     "61d4ba2e04bf4268937ffb76709cedc2": {
      "model_module": "@jupyter-widgets/controls",
      "model_module_version": "1.2.0",
      "model_name": "HTMLModel",
      "state": {
       "layout": "IPY_MODEL_de8ebeb035c34f7c8093e5e31c075772",
       "style": "IPY_MODEL_52577c1ece65420d813861284696558c",
       "value": "<h3 style='padding:0;margin:0;'>&nbsp &nbsp &nbsp<a href='https://github.com/pupster90/My_First_Research_Paper.git'>My_First_Research_Paper</a></h3>"
      }
     },
     "61fdacc2b505479dba8f508ce732358d": {
      "model_module": "@jupyter-widgets/controls",
      "model_module_version": "1.2.0",
      "model_name": "DescriptionStyleModel",
      "state": {
       "description_width": ""
      }
     },
     "62364e0ad56a4c3580b8876593dfd9db": {
      "model_module": "@jupyter-widgets/base",
      "model_module_version": "1.0.0",
      "model_name": "LayoutModel",
      "state": {
       "width": "100px"
      }
     },
     "62435ae9c4f64ad6a189125862a0bae6": {
      "model_module": "@jupyter-widgets/base",
      "model_module_version": "1.0.0",
      "model_name": "LayoutModel",
      "state": {
       "width": "100px"
      }
     },
     "624bb882a4ff444382ca55d73d240229": {
      "model_module": "@jupyter-widgets/base",
      "model_module_version": "1.0.0",
      "model_name": "LayoutModel",
      "state": {}
     },
     "6269d9cfd6f54cd28e6e8e8f03c832d6": {
      "model_module": "@jupyter-widgets/controls",
      "model_module_version": "1.2.0",
      "model_name": "DescriptionStyleModel",
      "state": {
       "description_width": ""
      }
     },
     "6279cb0796704549aaea5c735e9d0f4f": {
      "model_module": "@jupyter-widgets/base",
      "model_module_version": "1.0.0",
      "model_name": "LayoutModel",
      "state": {}
     },
     "62d4186e09504e028747b23101ddfa36": {
      "model_module": "@jupyter-widgets/base",
      "model_module_version": "1.0.0",
      "model_name": "LayoutModel",
      "state": {
       "align_items": "center"
      }
     },
     "62d80b306acf4fb3b067a3e90a26967c": {
      "model_module": "@jupyter-widgets/controls",
      "model_module_version": "1.2.0",
      "model_name": "ButtonModel",
      "state": {
       "button_style": "primary",
       "description": "Download",
       "layout": "IPY_MODEL_581bb0a0b8614d7f80a7dc37a82f4d0f",
       "style": "IPY_MODEL_48be1b24e81e494f9a154055e636865d"
      }
     },
     "634588b165f04374b9818a5a84fead65": {
      "model_module": "@jupyter-widgets/controls",
      "model_module_version": "1.2.0",
      "model_name": "ButtonModel",
      "state": {
       "button_style": "primary",
       "description": "Download",
       "layout": "IPY_MODEL_d9bd843cdf354bc4a624145762f8eb9f",
       "style": "IPY_MODEL_9affd24d54f74873bdd4f703ee4a1936"
      }
     },
     "63481e0474bd47989c2418b6c0e85203": {
      "model_module": "@jupyter-widgets/controls",
      "model_module_version": "1.2.0",
      "model_name": "TextModel",
      "state": {
       "description": "Username",
       "layout": "IPY_MODEL_d652b60abc274d9295b9d3ab0b8861fc",
       "style": "IPY_MODEL_6c1ea5e0a30d49b28f53c7c40defc108"
      }
     },
     "636ad953827245cbbdf4f29aa1557c91": {
      "model_module": "@jupyter-widgets/base",
      "model_module_version": "1.0.0",
      "model_name": "LayoutModel",
      "state": {}
     },
     "63b88f0bf30c4d08b45b559dcea787ad": {
      "model_module": "@jupyter-widgets/controls",
      "model_module_version": "1.2.0",
      "model_name": "ButtonModel",
      "state": {
       "button_style": "warning",
       "description": "add",
       "layout": "IPY_MODEL_986050370cf54a73a046f38f1bc568b6",
       "style": "IPY_MODEL_e7d6d44413284a5fb6ec27bfcf310e2a"
      }
     },
     "6464c1a85f69417e89e564cefc7c82da": {
      "model_module": "@jupyter-widgets/controls",
      "model_module_version": "1.2.0",
      "model_name": "DescriptionStyleModel",
      "state": {
       "description_width": ""
      }
     },
     "646a8bfd92134618a8fe675f795fc356": {
      "model_module": "@jupyter-widgets/controls",
      "model_module_version": "1.2.0",
      "model_name": "HTMLModel",
      "state": {
       "layout": "IPY_MODEL_c18fa111fd094fe29363eb9c4149be7f",
       "style": "IPY_MODEL_6001319ed7134cdeb2f1bc1f18425d16",
       "value": "<font color='orange'> &nbsp Stars: 0</font>"
      }
     },
     "647a2fbf7840437498394909aadc0adf": {
      "model_module": "@jupyter-widgets/controls",
      "model_module_version": "1.2.0",
      "model_name": "HBoxModel",
      "state": {
       "children": [
        "IPY_MODEL_8bb34c2dad5140918c834c5787710d8b",
        "IPY_MODEL_d0426ebde8854df6a2e527993da91aa3"
       ],
       "layout": "IPY_MODEL_6c859bca9da944388200d037051d2ae0"
      }
     },
     "647d60a1e808455d895f5307b408eae1": {
      "model_module": "@jupyter-widgets/controls",
      "model_module_version": "1.2.0",
      "model_name": "ButtonStyleModel",
      "state": {}
     },
     "649ede2a27d3441aa761059daa5e7d38": {
      "model_module": "@jupyter-widgets/controls",
      "model_module_version": "1.2.0",
      "model_name": "ButtonStyleModel",
      "state": {}
     },
     "64a73014837b43e7b50b1c2749f124cb": {
      "model_module": "@jupyter-widgets/controls",
      "model_module_version": "1.2.0",
      "model_name": "ButtonModel",
      "state": {
       "button_style": "info",
       "description": "Download",
       "layout": "IPY_MODEL_7350c8e9af754ce29834d568fc3dacd2",
       "style": "IPY_MODEL_c2c44c300cd644ecbd06d908bd7ba883"
      }
     },
     "64b5c5901c8745f1ae5db434e399464a": {
      "model_module": "@jupyter-widgets/base",
      "model_module_version": "1.0.0",
      "model_name": "LayoutModel",
      "state": {}
     },
     "64bb9ca6b5314d04a4eca0067477f168": {
      "model_module": "@jupyter-widgets/controls",
      "model_module_version": "1.2.0",
      "model_name": "HTMLModel",
      "state": {
       "layout": "IPY_MODEL_8ef35d85b84a4f9da181ab2ffb1492c0",
       "style": "IPY_MODEL_e3ea637288874db5b24f0b74d939230d",
       "value": "<h3 style='padding:0;margin:0;'>&nbsp &nbsp<a href='https://github.com/pupster90/io_Start_Screen'>io_Start_Screen</a> &nbsp</h3>"
      }
     },
     "64cc76fb742648fe88175a1e5c00e2bc": {
      "model_module": "@jupyter-widgets/controls",
      "model_module_version": "1.2.0",
      "model_name": "HTMLModel",
      "state": {
       "layout": "IPY_MODEL_1e39ecc394e4469f9ff504ddeaac1ae0",
       "style": "IPY_MODEL_e93f9e0f642141209cd3aed9acb51ab4",
       "value": "<h3 style='padding:0;margin:0;'>&nbsp &nbsp &nbsp<a href='https://github.com/pupster90/io_View.git'>io_View</a></h3>"
      }
     },
     "64d8ecc759e74160b0f70a24150a2150": {
      "model_module": "@jupyter-widgets/base",
      "model_module_version": "1.0.0",
      "model_name": "LayoutModel",
      "state": {}
     },
     "64ffb0d0171e45e395e305646f157f15": {
      "model_module": "@jupyter-widgets/controls",
      "model_module_version": "1.2.0",
      "model_name": "ButtonModel",
      "state": {
       "button_style": "info",
       "description": "Download",
       "layout": "IPY_MODEL_0db946af292e4a00a55123774695f3f3",
       "style": "IPY_MODEL_375d27b9d0f84c49aa987ac3914365c4"
      }
     },
     "651cf5dfae254f499293e43a40586a9f": {
      "model_module": "@jupyter-widgets/base",
      "model_module_version": "1.0.0",
      "model_name": "LayoutModel",
      "state": {
       "width": "auto"
      }
     },
     "65415428652c483a8067122cd3a7f15f": {
      "model_module": "@jupyter-widgets/controls",
      "model_module_version": "1.2.0",
      "model_name": "HTMLModel",
      "state": {
       "layout": "IPY_MODEL_3f006c6b8c5e4cda90a7adb03c55d09a",
       "style": "IPY_MODEL_0f32a4ff64244b9aa137a36677dfe5bd",
       "value": "<h3 style='padding:0;margin:0;'>&nbsp &nbsp<a href='https://github.com/pupster90/My_First_Research_Paper'>My_First_Research_Paper</a> &nbsp</h3>"
      }
     },
     "6577647f84a844958c32758b1d2c7a1e": {
      "model_module": "@jupyter-widgets/controls",
      "model_module_version": "1.2.0",
      "model_name": "DescriptionStyleModel",
      "state": {
       "description_width": ""
      }
     },
     "65d64ee4812b427c89cf4c28cd98b8c4": {
      "model_module": "@jupyter-widgets/controls",
      "model_module_version": "1.2.0",
      "model_name": "ButtonStyleModel",
      "state": {}
     },
     "65f310a159914049a68ec2d8c3922ecf": {
      "model_module": "@jupyter-widgets/base",
      "model_module_version": "1.0.0",
      "model_name": "LayoutModel",
      "state": {
       "align_items": "center"
      }
     },
     "6666ed5ed12e44d48ada6f67374221f0": {
      "model_module": "@jupyter-widgets/base",
      "model_module_version": "1.0.0",
      "model_name": "LayoutModel",
      "state": {
       "width": "auto"
      }
     },
     "66a958915bcd4a008f573cb81fee4076": {
      "model_module": "@jupyter-widgets/base",
      "model_module_version": "1.0.0",
      "model_name": "LayoutModel",
      "state": {
       "align_items": "center"
      }
     },
     "66d64fcf750341ebbc41f581d3314093": {
      "model_module": "@jupyter-widgets/base",
      "model_module_version": "1.0.0",
      "model_name": "LayoutModel",
      "state": {
       "align_items": "center"
      }
     },
     "66d6fdc849674a3d83ba1753ce526a78": {
      "model_module": "@jupyter-widgets/base",
      "model_module_version": "1.0.0",
      "model_name": "LayoutModel",
      "state": {
       "justify_content": "center",
       "padding": "20px 0 0 0"
      }
     },
     "66dc6c904eea4afca7f171b96bb183f0": {
      "model_module": "@jupyter-widgets/base",
      "model_module_version": "1.0.0",
      "model_name": "LayoutModel",
      "state": {}
     },
     "66fa1d95b19f4c07859722d655858f91": {
      "model_module": "@jupyter-widgets/controls",
      "model_module_version": "1.2.0",
      "model_name": "HBoxModel",
      "state": {
       "children": [
        "IPY_MODEL_d88b743113fd48b2a1b31b5946bab8a7",
        "IPY_MODEL_7cf6becdc8f540aca3ae5a0f21959b89"
       ],
       "layout": "IPY_MODEL_fb48f57709d84dceb89ea14518460269"
      }
     },
     "670f3301918f458a8fc195d8497f0327": {
      "model_module": "@jupyter-widgets/controls",
      "model_module_version": "1.2.0",
      "model_name": "DescriptionStyleModel",
      "state": {
       "description_width": ""
      }
     },
     "6730d0b473f64a259e3b323a68c17123": {
      "model_module": "@jupyter-widgets/base",
      "model_module_version": "1.0.0",
      "model_name": "LayoutModel",
      "state": {
       "align_items": "center"
      }
     },
     "67ddc215c897403ab75ef37698c23368": {
      "model_module": "@jupyter-widgets/base",
      "model_module_version": "1.0.0",
      "model_name": "LayoutModel",
      "state": {}
     },
     "67e896273dcb42d9ba0b5504b46be897": {
      "model_module": "@jupyter-widgets/controls",
      "model_module_version": "1.2.0",
      "model_name": "HTMLModel",
      "state": {
       "layout": "IPY_MODEL_8074615440f2414ea3f85761c7ce1b8d",
       "style": "IPY_MODEL_534bbd3a68a3444c8a6299bc0c114741",
       "value": "<h4 style='padding:0;margin:0;'>&nbsp <a href='https://github.com/pupster900' style='color:gray'>pupster900</a> &nbsp</h4>"
      }
     },
     "6801d4f97521477a9b67518662026151": {
      "model_module": "@jupyter-widgets/base",
      "model_module_version": "1.0.0",
      "model_name": "LayoutModel",
      "state": {}
     },
     "682e91a2e1aa4b1a9d2929bb498c6ca1": {
      "model_module": "@jupyter-widgets/controls",
      "model_module_version": "1.2.0",
      "model_name": "ButtonStyleModel",
      "state": {}
     },
     "6834560900dc4b1596ece19f3f1babd5": {
      "model_module": "@jupyter-widgets/controls",
      "model_module_version": "1.2.0",
      "model_name": "ButtonModel",
      "state": {
       "button_style": "info",
       "description": "Download",
       "layout": "IPY_MODEL_5d1d01ffc3ad4490a82c4a8ca022984a",
       "style": "IPY_MODEL_d9a52544a842498b9fc03c6b63538f2a"
      }
     },
     "683a3040ef934acfa5546a6da52a3a8d": {
      "model_module": "@jupyter-widgets/controls",
      "model_module_version": "1.2.0",
      "model_name": "ButtonStyleModel",
      "state": {}
     },
     "6864790872a447debc2c02161c03773e": {
      "model_module": "@jupyter-widgets/controls",
      "model_module_version": "1.2.0",
      "model_name": "HTMLModel",
      "state": {
       "layout": "IPY_MODEL_a6bceb9efd2c44a18ae0241ec5a619ef",
       "style": "IPY_MODEL_31ff01a9800c4c1daaf65c788bf4d541",
       "value": "<h3 style='padding:0;margin:0;'>&nbsp &nbsp &nbsp<a href='https://github.com/pupster90/indra.git'>indra</a></h3>"
      }
     },
     "688e4c0ca96f4f1ea1dbd6aebea7c440": {
      "model_module": "@jupyter-widgets/controls",
      "model_module_version": "1.2.0",
      "model_name": "DescriptionStyleModel",
      "state": {
       "description_width": ""
      }
     },
     "68a7103211b14faea558e793b8a2a670": {
      "model_module": "@jupyter-widgets/controls",
      "model_module_version": "1.2.0",
      "model_name": "DescriptionStyleModel",
      "state": {
       "description_width": ""
      }
     },
     "68efa9e70cc34d789a06162dc07922cf": {
      "model_module": "@jupyter-widgets/controls",
      "model_module_version": "1.2.0",
      "model_name": "HBoxModel",
      "state": {
       "children": [
        "IPY_MODEL_2401564bd0924340bb6bf9d80f9bae19",
        "IPY_MODEL_266f74f6a1854d31971ce903034461c7"
       ],
       "layout": "IPY_MODEL_8617a1d6897340e8a3cffa053839efb5"
      }
     },
     "68f5258d400b407b823a1bba7f1fea69": {
      "model_module": "@jupyter-widgets/base",
      "model_module_version": "1.0.0",
      "model_name": "LayoutModel",
      "state": {}
     },
     "6977525d2e624094898f8c2cd1c00a96": {
      "model_module": "@jupyter-widgets/controls",
      "model_module_version": "1.2.0",
      "model_name": "HTMLModel",
      "state": {
       "layout": "IPY_MODEL_4373c50fea7847f5a85da14568805c20",
       "style": "IPY_MODEL_279c2ac3b41f425792adbdc79cc01613",
       "value": "<h3 style='padding:0;margin:0;'>&nbsp &nbsp &nbsp<a href='https://github.com/pupster90/indra-scraper.git'>indra-scraper</a></h3>"
      }
     },
     "6998c7856f2a423a885205539c08a716": {
      "model_module": "@jupyter-widgets/controls",
      "model_module_version": "1.2.0",
      "model_name": "HBoxModel",
      "state": {
       "children": [
        "IPY_MODEL_28f7c987fd60421bbd5ea5894dbc3d2d",
        "IPY_MODEL_d2dc19fef480442bae30404df4ab881b"
       ],
       "layout": "IPY_MODEL_b6a897cadad3431ab26bec1b09b9832c"
      }
     },
     "69ac1a7c48d34e689ec5e683fed599b8": {
      "model_module": "@jupyter-widgets/controls",
      "model_module_version": "1.2.0",
      "model_name": "HTMLModel",
      "state": {
       "layout": "IPY_MODEL_9264f3ee8d43488098f20c1c761b371c",
       "style": "IPY_MODEL_2ef07e1aef3040e2a40c08f3156e3bfb",
       "value": "<font color='green'> &nbsp Downloads: 0</font>"
      }
     },
     "6a2da55b20104280a2580039c282b516": {
      "model_module": "@jupyter-widgets/base",
      "model_module_version": "1.0.0",
      "model_name": "LayoutModel",
      "state": {}
     },
     "6ab608b0444d44b7af8ca9a458923126": {
      "model_module": "@jupyter-widgets/controls",
      "model_module_version": "1.2.0",
      "model_name": "HBoxModel",
      "state": {
       "children": [
        "IPY_MODEL_f28d75d2b2a1422ebe35adbc98aba113",
        "IPY_MODEL_b9d58223199344c887a5fd863aee5b16"
       ],
       "layout": "IPY_MODEL_66d64fcf750341ebbc41f581d3314093"
      }
     },
     "6aef0ad23f93440eaab08c3eb3f3622e": {
      "model_module": "@jupyter-widgets/controls",
      "model_module_version": "1.2.0",
      "model_name": "ButtonStyleModel",
      "state": {}
     },
     "6b28947e501e4e239932b29f136eda4e": {
      "model_module": "@jupyter-widgets/controls",
      "model_module_version": "1.2.0",
      "model_name": "HTMLModel",
      "state": {
       "layout": "IPY_MODEL_836940cd8e5d4329871457fed84e6d06",
       "style": "IPY_MODEL_abd0028370814362bbde1dfe0f4ab809",
       "value": "<font color='green'> &nbsp Downloads: 0</font>"
      }
     },
     "6b28e3548658405cbc589b2e5666b42b": {
      "model_module": "@jupyter-widgets/controls",
      "model_module_version": "1.2.0",
      "model_name": "HBoxModel",
      "state": {
       "children": [
        "IPY_MODEL_829f6b3a1c284d80950b45483a5ff5f4",
        "IPY_MODEL_e50f0809490a478faf66cf91d7810eb3",
        "IPY_MODEL_b9150ffdd87a4785a3abbeffe5744aa2",
        "IPY_MODEL_86a6957b9c7f47bc8ac6e92a718a6953",
        "IPY_MODEL_6f8562d2982649e0aa55ad4c313c3ba7",
        "IPY_MODEL_213792a46753461d809ed6a1291c1744"
       ],
       "layout": "IPY_MODEL_9fe42663ce69442291adcfe284aaeb0e"
      }
     },
     "6b2b0121555a48829e580731cdd0aca5": {
      "model_module": "@jupyter-widgets/controls",
      "model_module_version": "1.2.0",
      "model_name": "HTMLModel",
      "state": {
       "layout": "IPY_MODEL_d393305b58ac4051be213d67c14aba34",
       "style": "IPY_MODEL_d2115b04eaa1402188265d8b2089fed8",
       "value": "<h3 style='padding:0;margin:0;'>&nbsp &nbsp &nbsp<a href='https://github.com/pupster90/indra_me.git'>indra_me</a></h3>"
      }
     },
     "6b60d1f62893423f8ae2f15f8eabc132": {
      "model_module": "@jupyter-widgets/base",
      "model_module_version": "1.0.0",
      "model_name": "LayoutModel",
      "state": {
       "width": "auto"
      }
     },
     "6b7291b1aa0f4b46b7ad0d4f7c5466a2": {
      "model_module": "@jupyter-widgets/base",
      "model_module_version": "1.0.0",
      "model_name": "LayoutModel",
      "state": {
       "width": "auto"
      }
     },
     "6bba3a58882246d3bd9867495c27494c": {
      "model_module": "@jupyter-widgets/controls",
      "model_module_version": "1.2.0",
      "model_name": "HTMLModel",
      "state": {
       "layout": "IPY_MODEL_e4762c2d5ece41bf946a1a50d24299e6",
       "style": "IPY_MODEL_2a79a6c91ac34f35adca8d8db51e81e8",
       "value": "<font color='green'> &nbsp Downloads: 0</font>"
      }
     },
     "6bca3fbbebf24748a266aba2c8295019": {
      "model_module": "@jupyter-widgets/controls",
      "model_module_version": "1.2.0",
      "model_name": "HTMLModel",
      "state": {
       "layout": "IPY_MODEL_38d792b7c0434a08b368953b94fa6f4f",
       "style": "IPY_MODEL_4227c852a958453fbc29e33ad1ec52a3",
       "value": "<h3 style='padding:0;margin:0;'>&nbsp &nbsp &nbsp<a href='https://github.com/pupster90/io_View.git'>io_View</a></h3>"
      }
     },
     "6bdffaa05b294903bd79505c40a64438": {
      "model_module": "@jupyter-widgets/base",
      "model_module_version": "1.0.0",
      "model_name": "LayoutModel",
      "state": {}
     },
     "6c1ea5e0a30d49b28f53c7c40defc108": {
      "model_module": "@jupyter-widgets/controls",
      "model_module_version": "1.2.0",
      "model_name": "DescriptionStyleModel",
      "state": {
       "description_width": ""
      }
     },
     "6c859bca9da944388200d037051d2ae0": {
      "model_module": "@jupyter-widgets/base",
      "model_module_version": "1.0.0",
      "model_name": "LayoutModel",
      "state": {
       "align_items": "center"
      }
     },
     "6cade911f3774cf7a3f7ad0eee6b7763": {
      "model_module": "@jupyter-widgets/base",
      "model_module_version": "1.0.0",
      "model_name": "LayoutModel",
      "state": {}
     },
     "6d36cd4fa2e547c4ad257b1b36ca10d0": {
      "model_module": "@jupyter-widgets/controls",
      "model_module_version": "1.2.0",
      "model_name": "HTMLModel",
      "state": {
       "layout": "IPY_MODEL_f27b57c39fdb48dcb13f82e0f67420c6",
       "style": "IPY_MODEL_1001c2537f4748dda1e3a58f2c3214cb",
       "value": "<font color='green'> &nbsp Downloads: 0</font>"
      }
     },
     "6d59d200971d4f7e974a96123ea5cff9": {
      "model_module": "@jupyter-widgets/base",
      "model_module_version": "1.0.0",
      "model_name": "LayoutModel",
      "state": {
       "width": "auto"
      }
     },
     "6db030166f2e4107aa266c7f9a013d60": {
      "model_module": "@jupyter-widgets/controls",
      "model_module_version": "1.2.0",
      "model_name": "ButtonStyleModel",
      "state": {}
     },
     "6dbad36678344eef8587963ea4a3bfd3": {
      "model_module": "@jupyter-widgets/controls",
      "model_module_version": "1.2.0",
      "model_name": "HTMLModel",
      "state": {
       "layout": "IPY_MODEL_8e0acc0efc42452bb380759657766642",
       "style": "IPY_MODEL_97df5bb538984b49a7028e9fa76afd82",
       "value": "<h3 style='padding:0;margin:0;'>&nbsp &nbsp &nbsp<a href='https://github.com/pupster90/Welcome_to_io.git'>Welcome_to_io</a></h3>"
      }
     },
     "6de001105ba247e8a042234686b136c1": {
      "model_module": "@jupyter-widgets/controls",
      "model_module_version": "1.2.0",
      "model_name": "LabelModel",
      "state": {
       "layout": "IPY_MODEL_a6f01cdf86474ec19984bf236dd2fb42",
       "style": "IPY_MODEL_6577647f84a844958c32758b1d2c7a1e",
       "value": "2 hours ago"
      }
     },
     "6deb17932eeb4dc18881811e0fa26ab9": {
      "model_module": "@jupyter-widgets/controls",
      "model_module_version": "1.2.0",
      "model_name": "TextModel",
      "state": {
       "layout": "IPY_MODEL_7cc92834e522485797f3d7022d2195df",
       "style": "IPY_MODEL_7169eebf0b0c4777837cb6596e4f5476"
      }
     },
     "6df388f01b8f403faf5c3ca93375bf28": {
      "model_module": "@jupyter-widgets/base",
      "model_module_version": "1.0.0",
      "model_name": "LayoutModel",
      "state": {
       "width": "130px"
      }
     },
     "6df55d7e060a4dd99a0f20fbae261893": {
      "model_module": "@jupyter-widgets/controls",
      "model_module_version": "1.2.0",
      "model_name": "HTMLModel",
      "state": {
       "layout": "IPY_MODEL_48ef7e2fb1654a1b835523e0eb8d7803",
       "style": "IPY_MODEL_1909002de29c4627919b208e1ccc639d",
       "value": "<h3 style='padding:0;margin:0;'>&nbsp &nbsp &nbsp<a href='https://github.com/pupster90/io_Presentation.git'>io_Presentation</a></h3>"
      }
     },
     "6dfde21d4e194302ad29239622e753b7": {
      "model_module": "@jupyter-widgets/controls",
      "model_module_version": "1.2.0",
      "model_name": "HTMLModel",
      "state": {
       "layout": "IPY_MODEL_95358274f1c341d595348736deec1111",
       "style": "IPY_MODEL_48ac5e5498c341bb8165cc7a4c795e4c",
       "value": "<font color='green'> &nbsp Downloads: 0</font>"
      }
     },
     "6e1708f246db4d08bad7106fccfe0562": {
      "model_module": "@jupyter-widgets/controls",
      "model_module_version": "1.2.0",
      "model_name": "HTMLModel",
      "state": {
       "layout": "IPY_MODEL_e39cc407e5034727be47df897b6b8956",
       "style": "IPY_MODEL_3f9c49ce550d40449ae913c49c4df7df",
       "value": "<h3 style='padding:0;margin:0;'>&nbsp &nbsp &nbsp<a href='https://github.com/pupster90/io_View.git'>io_View</a></h3>"
      }
     },
     "6e72a0dd9e1f46dc829e97c9a68d2982": {
      "model_module": "@jupyter-widgets/controls",
      "model_module_version": "1.2.0",
      "model_name": "HBoxModel",
      "state": {
       "children": [
        "IPY_MODEL_b6ea0a5c40ae4169a6bbae02f7c28122",
        "IPY_MODEL_2888d429c936457f866973d02442a63c"
       ],
       "layout": "IPY_MODEL_f516e4390af740fd8770f80a0fa3209d"
      }
     },
     "6f010ffa19fb4514b6808bdf7cfa0ab7": {
      "model_module": "@jupyter-widgets/base",
      "model_module_version": "1.0.0",
      "model_name": "LayoutModel",
      "state": {
       "width": "auto"
      }
     },
     "6f286fa6869a4844838200d4bc517b5a": {
      "model_module": "@jupyter-widgets/base",
      "model_module_version": "1.0.0",
      "model_name": "LayoutModel",
      "state": {}
     },
     "6f72395be13c47e7bea3416c0cda3f85": {
      "model_module": "@jupyter-widgets/base",
      "model_module_version": "1.0.0",
      "model_name": "LayoutModel",
      "state": {}
     },
     "6f8562d2982649e0aa55ad4c313c3ba7": {
      "model_module": "@jupyter-widgets/controls",
      "model_module_version": "1.2.0",
      "model_name": "HTMLModel",
      "state": {
       "layout": "IPY_MODEL_975300b05cd54a43be1affca62ec674b",
       "style": "IPY_MODEL_2d38a96d1a984acfb249767577f4756d",
       "value": "<h3 style='padding:0;margin:0;'>&nbsp &nbsp<a href='https://github.com/pupster900/Public_Profile'>Public_Profile</a> &nbsp</h3>"
      }
     },
     "6f9380806793447ba0db542990f0da50": {
      "model_module": "@jupyter-widgets/base",
      "model_module_version": "1.0.0",
      "model_name": "LayoutModel",
      "state": {}
     },
     "6f9451d7277848d3bcc32bf8942a1927": {
      "model_module": "@jupyter-widgets/controls",
      "model_module_version": "1.2.0",
      "model_name": "HBoxModel",
      "state": {
       "children": [
        "IPY_MODEL_d754cbcf7cc14fc095d0adbced6ce815",
        "IPY_MODEL_6864790872a447debc2c02161c03773e"
       ],
       "layout": "IPY_MODEL_a0c0faa95e304a1d9ab2bb5060afd522"
      }
     },
     "6fc76f2e8a3540b6aa0de94621dacfa2": {
      "model_module": "@jupyter-widgets/base",
      "model_module_version": "1.0.0",
      "model_name": "LayoutModel",
      "state": {
       "align_items": "center"
      }
     },
     "6fcf92ea8e1d417cafbc7beb85be2a9e": {
      "model_module": "@jupyter-widgets/controls",
      "model_module_version": "1.2.0",
      "model_name": "HBoxModel",
      "state": {
       "children": [
        "IPY_MODEL_df58821700764943950f737d56e97404",
        "IPY_MODEL_54ef6f81d0694e8f9d7fcff5ee8d2634"
       ],
       "layout": "IPY_MODEL_393acbabae794181a2813f8373eacfcf"
      }
     },
     "6ff6394b85db4e408175d438b8e45d04": {
      "model_module": "@jupyter-widgets/controls",
      "model_module_version": "1.2.0",
      "model_name": "DescriptionStyleModel",
      "state": {
       "description_width": ""
      }
     },
     "6ff7ebcbedeb4b55bca984aa41a93406": {
      "model_module": "@jupyter-widgets/base",
      "model_module_version": "1.0.0",
      "model_name": "LayoutModel",
      "state": {}
     },
     "706a591c38484c0783ded650f92f8ebf": {
      "model_module": "@jupyter-widgets/controls",
      "model_module_version": "1.2.0",
      "model_name": "ButtonStyleModel",
      "state": {}
     },
     "70abb7e907d1476e9e10cc0da9036598": {
      "model_module": "@jupyter-widgets/controls",
      "model_module_version": "1.2.0",
      "model_name": "DescriptionStyleModel",
      "state": {
       "description_width": ""
      }
     },
     "70b649c6cc20475eae7e6e476380d585": {
      "model_module": "@jupyter-widgets/controls",
      "model_module_version": "1.2.0",
      "model_name": "HBoxModel",
      "state": {
       "children": [
        "IPY_MODEL_ba7e3b81184b412ab27189591b12766b",
        "IPY_MODEL_764bb15a1b294966a6d876508ab4a8e1",
        "IPY_MODEL_e8d2be12e3334d88a24e420ac7c03abd",
        "IPY_MODEL_ee0c6791aa8d45148fc55462d1a45ea3",
        "IPY_MODEL_f677f654ffd34bd3949b85cdd152a81c",
        "IPY_MODEL_bcb70992c8f54c38a0e7f9ca11fec09b"
       ],
       "layout": "IPY_MODEL_06bec45eac324136b648e8dbecbe9c8b"
      }
     },
     "70d96fbb3a43487b9f3101ee48847a90": {
      "model_module": "@jupyter-widgets/controls",
      "model_module_version": "1.2.0",
      "model_name": "ButtonModel",
      "state": {
       "button_style": "danger",
       "description": "Logout",
       "layout": "IPY_MODEL_7d4510e85a134ee8bcdc8723634ade49",
       "style": "IPY_MODEL_c5049aa9d80d45758d21e7950c0d190d"
      }
     },
     "70f8518fd3c24b3b835f64b5ee617b15": {
      "model_module": "@jupyter-widgets/controls",
      "model_module_version": "1.2.0",
      "model_name": "LabelModel",
      "state": {
       "layout": "IPY_MODEL_0dacc551b9dd4db5bc54f419fea53384",
       "style": "IPY_MODEL_dd07c065587c42ffa2f3267d954034c0",
       "value": "Saved 4 days ago"
      }
     },
     "710d537819584bf89f19f2900a7ec724": {
      "model_module": "@jupyter-widgets/base",
      "model_module_version": "1.0.0",
      "model_name": "LayoutModel",
      "state": {}
     },
     "7155bed3f4804dd0bee9e4439adaeec5": {
      "model_module": "@jupyter-widgets/controls",
      "model_module_version": "1.2.0",
      "model_name": "HTMLModel",
      "state": {
       "layout": "IPY_MODEL_c5f2c5b9c9624f59a211475a47dc4b43",
       "style": "IPY_MODEL_b122c3ed1c8c44fba8d197d8bd9cc917",
       "value": "<h3 style='padding:0;margin:0;'>&nbsp &nbsp &nbsp<a href='https://github.com/pupster90/cse103_2017.git'>cse103_2017</a></h3>"
      }
     },
     "7169eebf0b0c4777837cb6596e4f5476": {
      "model_module": "@jupyter-widgets/controls",
      "model_module_version": "1.2.0",
      "model_name": "DescriptionStyleModel",
      "state": {
       "description_width": ""
      }
     },
     "7181c62918b34f608a495eac0b720220": {
      "model_module": "@jupyter-widgets/base",
      "model_module_version": "1.0.0",
      "model_name": "LayoutModel",
      "state": {
       "align_items": "center"
      }
     },
     "7215e9480d0042c7ae50758ba36ac90c": {
      "model_module": "@jupyter-widgets/controls",
      "model_module_version": "1.2.0",
      "model_name": "ButtonStyleModel",
      "state": {}
     },
     "721e4dd81b6b4ecebeb5a72687bbdcd7": {
      "model_module": "@jupyter-widgets/controls",
      "model_module_version": "1.2.0",
      "model_name": "ButtonStyleModel",
      "state": {}
     },
     "722a8e13c9334926abeb2607ff8f0c93": {
      "model_module": "@jupyter-widgets/controls",
      "model_module_version": "1.2.0",
      "model_name": "TextModel",
      "state": {
       "description": "Username",
       "layout": "IPY_MODEL_e94577bfcfc2444486ab79bb6aef3407",
       "style": "IPY_MODEL_8e4d60e39e01445a8b8e8fbe6ce97ab8"
      }
     },
     "72433a723f7847ec956658a609c4c1e6": {
      "model_module": "@jupyter-widgets/base",
      "model_module_version": "1.0.0",
      "model_name": "LayoutModel",
      "state": {}
     },
     "72453aca31104f1686ee1fd0df5e4396": {
      "model_module": "@jupyter-widgets/base",
      "model_module_version": "1.0.0",
      "model_name": "LayoutModel",
      "state": {}
     },
     "724cab5c7ed5420cbbea873723e46cab": {
      "model_module": "@jupyter-widgets/controls",
      "model_module_version": "1.2.0",
      "model_name": "HTMLModel",
      "state": {
       "layout": "IPY_MODEL_d8da52b03abf4c38a057fac9b6b0c672",
       "style": "IPY_MODEL_34044fdee15c4bce977cab60895281ec",
       "value": "<h3 style='padding:0;margin:0;'>&nbsp &nbsp &nbsp<a href='https://github.com/pupster90/ndex-viewer.git'>ndex-viewer</a></h3>"
      }
     },
     "725fb4c7a7404303a1c3db46ce0124a5": {
      "model_module": "@jupyter-widgets/controls",
      "model_module_version": "1.2.0",
      "model_name": "HBoxModel",
      "state": {
       "children": [
        "IPY_MODEL_ef65b4b3e5bb4ad4a95439d3b0e36e2b",
        "IPY_MODEL_30c15b4c814a44e0bbdc8d0efc1591f6"
       ],
       "layout": "IPY_MODEL_4c00f55ba73147aba6f1acefa47a4d5e"
      }
     },
     "72f0d7ebfb5f4c31a37ef9aa4842fb54": {
      "model_module": "@jupyter-widgets/controls",
      "model_module_version": "1.2.0",
      "model_name": "ButtonStyleModel",
      "state": {}
     },
     "73002b1703124cd7a19f809a237a63fc": {
      "model_module": "@jupyter-widgets/controls",
      "model_module_version": "1.2.0",
      "model_name": "HTMLModel",
      "state": {
       "layout": "IPY_MODEL_fefa07cae8314928a49e0630342fd9eb",
       "style": "IPY_MODEL_5d7c96fcf9cd425c9d8ca4ee1cb42290",
       "value": "<h3 style='padding:0;margin:0;'>&nbsp &nbsp &nbsp<a href='https://github.com/pupster90/Cytoscape.git'>Cytoscape</a></h3>"
      }
     },
     "7324f2ee463e4d0c945adac0f6465ad8": {
      "model_module": "@jupyter-widgets/controls",
      "model_module_version": "1.2.0",
      "model_name": "ButtonStyleModel",
      "state": {}
     },
     "7350c8e9af754ce29834d568fc3dacd2": {
      "model_module": "@jupyter-widgets/base",
      "model_module_version": "1.0.0",
      "model_name": "LayoutModel",
      "state": {
       "width": "auto"
      }
     },
     "73535f42cbf34f68b1518ba36c8e19c7": {
      "model_module": "@jupyter-widgets/controls",
      "model_module_version": "1.2.0",
      "model_name": "DescriptionStyleModel",
      "state": {
       "description_width": ""
      }
     },
     "738519092f2d472eb13bfc8322a9fd32": {
      "model_module": "@jupyter-widgets/base",
      "model_module_version": "1.0.0",
      "model_name": "LayoutModel",
      "state": {}
     },
     "73ad16baec024368be68cae41b3909cc": {
      "model_module": "@jupyter-widgets/base",
      "model_module_version": "1.0.0",
      "model_name": "LayoutModel",
      "state": {}
     },
     "73e8e9b6f85b4df3b2df50275e426046": {
      "model_module": "@jupyter-widgets/controls",
      "model_module_version": "1.2.0",
      "model_name": "ButtonStyleModel",
      "state": {}
     },
     "742e173f70d541c68484268edde376e5": {
      "model_module": "@jupyter-widgets/controls",
      "model_module_version": "1.2.0",
      "model_name": "DescriptionStyleModel",
      "state": {
       "description_width": ""
      }
     },
     "743fd61251dc4b1ebc403f1a9cb3037e": {
      "model_module": "@jupyter-widgets/controls",
      "model_module_version": "1.2.0",
      "model_name": "HTMLModel",
      "state": {
       "layout": "IPY_MODEL_ff2b96c235cd4aff82d2acba5449edbb",
       "style": "IPY_MODEL_cb8993a6443c41ba803563285cc8cd34",
       "value": "<font color='green'> &nbsp Downloads: 0</font>"
      }
     },
     "744db1db496e468aa98a316194683b66": {
      "model_module": "@jupyter-widgets/base",
      "model_module_version": "1.0.0",
      "model_name": "LayoutModel",
      "state": {
       "width": "auto"
      }
     },
     "746ec3a9a9cf4764a1424fe31809189a": {
      "model_module": "@jupyter-widgets/controls",
      "model_module_version": "1.2.0",
      "model_name": "DescriptionStyleModel",
      "state": {
       "description_width": ""
      }
     },
     "747a1673bb01495bba917adcf541fca9": {
      "model_module": "@jupyter-widgets/controls",
      "model_module_version": "1.2.0",
      "model_name": "ButtonStyleModel",
      "state": {}
     },
     "74c4e073d3844aba8bbef5079dbb045f": {
      "model_module": "@jupyter-widgets/base",
      "model_module_version": "1.0.0",
      "model_name": "LayoutModel",
      "state": {}
     },
     "74d0d30d1ac0474ea8681aacdbaf0994": {
      "model_module": "@jupyter-widgets/controls",
      "model_module_version": "1.2.0",
      "model_name": "ButtonStyleModel",
      "state": {}
     },
     "752a52a59af74a99b578f9bb6cc953a9": {
      "model_module": "@jupyter-widgets/controls",
      "model_module_version": "1.2.0",
      "model_name": "HBoxModel",
      "state": {
       "children": [
        "IPY_MODEL_e8520503b691427e9a9f3cde0b245987",
        "IPY_MODEL_dd44e0bad2d24cc3ad8fa35f5ede8db6",
        "IPY_MODEL_6b28947e501e4e239932b29f136eda4e",
        "IPY_MODEL_9c9743aed3544a79b97e3198a8e41d26",
        "IPY_MODEL_bcf0d8c99f154a239de413869bedede0",
        "IPY_MODEL_bc11578aad4e4f97902c7efa5217fc38"
       ],
       "layout": "IPY_MODEL_3f56e85ae07c4a1a8155f0a7e4357268"
      }
     },
     "752e7aefebd0418583c43603d9ef902a": {
      "model_module": "@jupyter-widgets/base",
      "model_module_version": "1.0.0",
      "model_name": "LayoutModel",
      "state": {}
     },
     "756789d0e1d0435bbb1d87844b8e7592": {
      "model_module": "@jupyter-widgets/base",
      "model_module_version": "1.0.0",
      "model_name": "LayoutModel",
      "state": {
       "align_items": "center"
      }
     },
     "75f41e7c8cb24dac8dedcba4396fefc0": {
      "model_module": "@jupyter-widgets/controls",
      "model_module_version": "1.2.0",
      "model_name": "DescriptionStyleModel",
      "state": {
       "description_width": ""
      }
     },
     "7608b8cb74ba4d31a9ce77d6d0569bd5": {
      "model_module": "@jupyter-widgets/controls",
      "model_module_version": "1.2.0",
      "model_name": "DescriptionStyleModel",
      "state": {
       "description_width": ""
      }
     },
     "760c5a6061614c38a99e210edc21bfa7": {
      "model_module": "@jupyter-widgets/base",
      "model_module_version": "1.0.0",
      "model_name": "LayoutModel",
      "state": {
       "align_items": "center"
      }
     },
     "764bb15a1b294966a6d876508ab4a8e1": {
      "model_module": "@jupyter-widgets/controls",
      "model_module_version": "1.2.0",
      "model_name": "ButtonModel",
      "state": {
       "button_style": "info",
       "description": "Download",
       "layout": "IPY_MODEL_744db1db496e468aa98a316194683b66",
       "style": "IPY_MODEL_a0a0acbf08784494b205935ac85f4748"
      }
     },
     "764e086efc6048ae980c40c7bfaf74fd": {
      "model_module": "@jupyter-widgets/controls",
      "model_module_version": "1.2.0",
      "model_name": "ButtonModel",
      "state": {
       "button_style": "primary",
       "description": "Download",
       "layout": "IPY_MODEL_5d21b104957a45ea8b66cd6664ec21d7",
       "style": "IPY_MODEL_c914f65a7a98410d86c5ae224cd862c9"
      }
     },
     "765364a13a884836b45db9ebac336fe7": {
      "model_module": "@jupyter-widgets/controls",
      "model_module_version": "1.2.0",
      "model_name": "HTMLModel",
      "state": {
       "layout": "IPY_MODEL_cebd1ac53ce34d70b40fdbe230f67ef3",
       "style": "IPY_MODEL_a125cdafed624ca29b610eb5627bc32f",
       "value": "<font color='orange'> &nbsp Stars: 0</font>"
      }
     },
     "765afa6d1e8d4a9facf3f802c88ea33b": {
      "model_module": "@jupyter-widgets/controls",
      "model_module_version": "1.2.0",
      "model_name": "HBoxModel",
      "state": {
       "children": [
        "IPY_MODEL_30d1195b4b7746c89c7f4e2d4107c253",
        "IPY_MODEL_00a9691ab77a4ee9af87103bc49a2dbe",
        "IPY_MODEL_9530e45d922d4ad082eb21c473c078d0"
       ],
       "layout": "IPY_MODEL_de36964643cb4bdb9f7213957feba7df"
      }
     },
     "768a58eac64e4f5197ebcfed7c7ebf50": {
      "model_module": "@jupyter-widgets/controls",
      "model_module_version": "1.2.0",
      "model_name": "DescriptionStyleModel",
      "state": {
       "description_width": ""
      }
     },
     "76a33a6479e245f5918e38895d19a16b": {
      "model_module": "@jupyter-widgets/controls",
      "model_module_version": "1.2.0",
      "model_name": "ButtonStyleModel",
      "state": {}
     },
     "76dcbc75d7b040a2a054752311063d2a": {
      "model_module": "@jupyter-widgets/controls",
      "model_module_version": "1.2.0",
      "model_name": "ToggleButtonsStyleModel",
      "state": {
       "button_width": "",
       "description_width": ""
      }
     },
     "7713f8d9e2484f948e08a110f9346a22": {
      "model_module": "@jupyter-widgets/controls",
      "model_module_version": "1.2.0",
      "model_name": "HBoxModel",
      "state": {
       "children": [
        "IPY_MODEL_9ba66fc085224f61b1c0fb815b753431",
        "IPY_MODEL_bdf4422c1bdf4cd39ef5f6dc0709dbc5"
       ],
       "layout": "IPY_MODEL_8952b69045bc4016aeea78931b85ba58"
      }
     },
     "77722454928e4c9bbce482204f6a7716": {
      "model_module": "@jupyter-widgets/base",
      "model_module_version": "1.0.0",
      "model_name": "LayoutModel",
      "state": {
       "width": "auto"
      }
     },
     "778ce595dc5b44b69264dfdf60b2a56b": {
      "model_module": "@jupyter-widgets/base",
      "model_module_version": "1.0.0",
      "model_name": "LayoutModel",
      "state": {
       "align_items": "center"
      }
     },
     "7795ddd98f6943deacfb19ec62490bd8": {
      "model_module": "@jupyter-widgets/controls",
      "model_module_version": "1.2.0",
      "model_name": "DescriptionStyleModel",
      "state": {
       "description_width": ""
      }
     },
     "780ec020f6c04ec5b2eca9e7b34ab651": {
      "model_module": "@jupyter-widgets/base",
      "model_module_version": "1.0.0",
      "model_name": "LayoutModel",
      "state": {
       "width": "100px"
      }
     },
     "784131dbd71e4ec485e167edc8fa4bc2": {
      "model_module": "@jupyter-widgets/base",
      "model_module_version": "1.0.0",
      "model_name": "LayoutModel",
      "state": {}
     },
     "78459100e8304e87987fef187f022ee9": {
      "model_module": "@jupyter-widgets/controls",
      "model_module_version": "1.2.0",
      "model_name": "DescriptionStyleModel",
      "state": {
       "description_width": ""
      }
     },
     "7879ad8c23494dcfac3e835e1eefbdf6": {
      "model_module": "@jupyter-widgets/controls",
      "model_module_version": "1.2.0",
      "model_name": "HTMLModel",
      "state": {
       "layout": "IPY_MODEL_431aff3ab2cd4da3bbb346403340bcf3",
       "style": "IPY_MODEL_2c1d7c25f6ed4af8a4f9bf436958b765",
       "value": "<h3 style='padding:0;margin:0;'>&nbsp &nbsp &nbsp<a href='https://github.com/pupster90/welcome_to_io.git'>welcome_to_io</a></h3>"
      }
     },
     "78c0bec1283b4f7f9bd22e49b1f8ea21": {
      "model_module": "@jupyter-widgets/controls",
      "model_module_version": "1.2.0",
      "model_name": "LabelModel",
      "state": {
       "layout": "IPY_MODEL_91fb24596435465b9836de51caf828ed",
       "style": "IPY_MODEL_a76b9ad2e04b4b99bb70c896253123d9",
       "value": "1 hour ago"
      }
     },
     "78c946d4e1e544608b7288f1fd8e5d08": {
      "model_module": "@jupyter-widgets/base",
      "model_module_version": "1.0.0",
      "model_name": "LayoutModel",
      "state": {}
     },
     "78ecf9a7aa3044b18229a678f5af9d26": {
      "model_module": "@jupyter-widgets/controls",
      "model_module_version": "1.2.0",
      "model_name": "DescriptionStyleModel",
      "state": {
       "description_width": ""
      }
     },
     "79d2e6549f554e8d998b188573a80435": {
      "model_module": "@jupyter-widgets/base",
      "model_module_version": "1.0.0",
      "model_name": "LayoutModel",
      "state": {
       "width": "auto"
      }
     },
     "7a15c45a10a84ff38ca26e33f5a42ccb": {
      "model_module": "@jupyter-widgets/controls",
      "model_module_version": "1.2.0",
      "model_name": "HTMLModel",
      "state": {
       "layout": "IPY_MODEL_dc4d63c87f5845bf9edbc4d4efebed00",
       "style": "IPY_MODEL_444e7b47442341599907012ae991a68b",
       "value": "<h3 style='padding:0;margin:0;'>&nbsp &nbsp &nbsp<a href='https://github.com/pupster90/indra.git'>indra</a></h3>"
      }
     },
     "7a161eaeb3de4c58820744ce91a1a979": {
      "model_module": "@jupyter-widgets/base",
      "model_module_version": "1.0.0",
      "model_name": "LayoutModel",
      "state": {
       "align_items": "center"
      }
     },
     "7a5ed4fa2b91476bb7a0bfa1156354cd": {
      "model_module": "@jupyter-widgets/controls",
      "model_module_version": "1.2.0",
      "model_name": "ButtonStyleModel",
      "state": {}
     },
     "7a9532ff80ce4426ad7995e4983f33c5": {
      "model_module": "@jupyter-widgets/controls",
      "model_module_version": "1.2.0",
      "model_name": "HTMLModel",
      "state": {
       "layout": "IPY_MODEL_3594f443fc9643648063ebd1bfd825eb",
       "style": "IPY_MODEL_7ca1dd8fec4d4852bbc17d40b5011f90",
       "value": "<h4 style='padding:0;margin:0;'>&nbsp <a href='https://github.com/pupster90' style='color:gray'>pupster90</a> &nbsp</h4>"
      }
     },
     "7a9601e04b364ec1932dde676a9aee32": {
      "model_module": "@jupyter-widgets/base",
      "model_module_version": "1.0.0",
      "model_name": "LayoutModel",
      "state": {
       "align_items": "center"
      }
     },
     "7ab53291e5654b5789bf567550dfe58e": {
      "model_module": "@jupyter-widgets/controls",
      "model_module_version": "1.2.0",
      "model_name": "DescriptionStyleModel",
      "state": {
       "description_width": ""
      }
     },
     "7ae41504dad44edf93524cfdc379a384": {
      "model_module": "@jupyter-widgets/base",
      "model_module_version": "1.0.0",
      "model_name": "LayoutModel",
      "state": {
       "width": "auto"
      }
     },
     "7af1159787a34bee930a17e5ed883c6a": {
      "model_module": "@jupyter-widgets/controls",
      "model_module_version": "1.2.0",
      "model_name": "HTMLModel",
      "state": {
       "layout": "IPY_MODEL_2ef6f6ff44be48ae8e29dac494d39cf6",
       "style": "IPY_MODEL_e7d5ed4e341d4f1b8976d976b608e10f",
       "value": "<h3 style='padding:0;margin:0;'>&nbsp &nbsp &nbsp<a href='https://github.com/pupster90/repo_to_add.git'>repo_to_add</a></h3>"
      }
     },
     "7b12cdcf70574651b42ee6dd52713e32": {
      "model_module": "@jupyter-widgets/base",
      "model_module_version": "1.0.0",
      "model_name": "LayoutModel",
      "state": {}
     },
     "7b4a4152b37c4234a1e6e66434da9025": {
      "model_module": "@jupyter-widgets/base",
      "model_module_version": "1.0.0",
      "model_name": "LayoutModel",
      "state": {
       "width": "auto"
      }
     },
     "7b5f190f98fb44af98340855f6c98170": {
      "model_module": "@jupyter-widgets/controls",
      "model_module_version": "1.2.0",
      "model_name": "DescriptionStyleModel",
      "state": {
       "description_width": ""
      }
     },
     "7b7a3b0c226a4bd7a74cc86a8bcbe92d": {
      "model_module": "@jupyter-widgets/controls",
      "model_module_version": "1.2.0",
      "model_name": "HBoxModel",
      "state": {
       "children": [
        "IPY_MODEL_25d87fc048e540b6a537ad9a13635439"
       ],
       "layout": "IPY_MODEL_4158c032ce6c4dd7877ea45944a3f65b"
      }
     },
     "7bcddebb9f6f4b1896bc9ea8b1820c7e": {
      "model_module": "@jupyter-widgets/controls",
      "model_module_version": "1.2.0",
      "model_name": "ButtonModel",
      "state": {
       "button_style": "primary",
       "description": "Download",
       "layout": "IPY_MODEL_d07fea77d3c248fcaa4dd5eef0ceb0dd",
       "style": "IPY_MODEL_683a3040ef934acfa5546a6da52a3a8d"
      }
     },
     "7c0078c53064425c95c5a8a0c69bbf2f": {
      "model_module": "@jupyter-widgets/base",
      "model_module_version": "1.0.0",
      "model_name": "LayoutModel",
      "state": {}
     },
     "7c0e238144b34f1992ac46a5a50685de": {
      "model_module": "@jupyter-widgets/controls",
      "model_module_version": "1.2.0",
      "model_name": "HBoxModel",
      "state": {
       "children": [
        "IPY_MODEL_62d80b306acf4fb3b067a3e90a26967c",
        "IPY_MODEL_e7a9b4e2f83b4dfd97398ebe08dc89c6"
       ],
       "layout": "IPY_MODEL_7a9601e04b364ec1932dde676a9aee32"
      }
     },
     "7c2e206d07924d809a6848c8c9619e48": {
      "model_module": "@jupyter-widgets/controls",
      "model_module_version": "1.2.0",
      "model_name": "DescriptionStyleModel",
      "state": {
       "description_width": ""
      }
     },
     "7c491ac7ddb240eba3c508ffeb8e3b13": {
      "model_module": "@jupyter-widgets/base",
      "model_module_version": "1.0.0",
      "model_name": "LayoutModel",
      "state": {
       "width": "130px"
      }
     },
     "7c4ae5b446a94668b8e5074c3ddd9188": {
      "model_module": "@jupyter-widgets/base",
      "model_module_version": "1.0.0",
      "model_name": "LayoutModel",
      "state": {}
     },
     "7c7415707edc438698916d4c441abbc3": {
      "model_module": "@jupyter-widgets/base",
      "model_module_version": "1.0.0",
      "model_name": "LayoutModel",
      "state": {
       "width": "auto"
      }
     },
     "7c8c49d3c61c419f8e1846508ffced06": {
      "model_module": "@jupyter-widgets/controls",
      "model_module_version": "1.2.0",
      "model_name": "HBoxModel",
      "state": {
       "children": [
        "IPY_MODEL_d363b676d27740dd8934406ed84bfc8d",
        "IPY_MODEL_6834560900dc4b1596ece19f3f1babd5",
        "IPY_MODEL_743fd61251dc4b1ebc403f1a9cb3037e",
        "IPY_MODEL_29b241c52d944a38961a06c498c927eb",
        "IPY_MODEL_fdbeb6f2e09a4ec9b838ae01c22ca27f",
        "IPY_MODEL_946c1364e0d744ca848f9ce43d340d54"
       ],
       "layout": "IPY_MODEL_f5b2d4dee14c4fec978f9fa46a3e8b88"
      }
     },
     "7c9383f678f3493d9b0f83a3d0e1900f": {
      "model_module": "@jupyter-widgets/controls",
      "model_module_version": "1.2.0",
      "model_name": "HBoxModel",
      "state": {
       "children": [
        "IPY_MODEL_b6504b64816742c7b75cd8aaf51c99f5",
        "IPY_MODEL_515057886c5d402e8cce249d861655a4"
       ],
       "layout": "IPY_MODEL_5627beb0dbc1496b963b7b0ed8dc06f9"
      }
     },
     "7ca1dd8fec4d4852bbc17d40b5011f90": {
      "model_module": "@jupyter-widgets/controls",
      "model_module_version": "1.2.0",
      "model_name": "DescriptionStyleModel",
      "state": {
       "description_width": ""
      }
     },
     "7cc92834e522485797f3d7022d2195df": {
      "model_module": "@jupyter-widgets/base",
      "model_module_version": "1.0.0",
      "model_name": "LayoutModel",
      "state": {}
     },
     "7cdf473966474f5ea07783e02d2912a2": {
      "model_module": "@jupyter-widgets/controls",
      "model_module_version": "1.2.0",
      "model_name": "HTMLModel",
      "state": {
       "layout": "IPY_MODEL_d0e6e61dfdcc4b199707084d7afcac5e",
       "style": "IPY_MODEL_57edca0077944c389af64290a781e816",
       "value": "<h3 style='padding:0;margin:0;'>&nbsp &nbsp &nbsp<a href='https://github.com/pupster90/ddot2.git'>ddot2</a></h3>"
      }
     },
     "7cf6becdc8f540aca3ae5a0f21959b89": {
      "model_module": "@jupyter-widgets/controls",
      "model_module_version": "1.2.0",
      "model_name": "HTMLModel",
      "state": {
       "layout": "IPY_MODEL_b5dc9075eaef42ec950c66d5e7058f15",
       "style": "IPY_MODEL_d598c61cc8e542928be4e094828c66b8",
       "value": "<h3 style='padding:0;margin:0;'>&nbsp &nbsp &nbsp<a href='https://github.com/pupster90/judoscape.git'>judoscape</a></h3>"
      }
     },
     "7d03642ae3a447b3b4a86d01635156e2": {
      "model_module": "@jupyter-widgets/controls",
      "model_module_version": "1.2.0",
      "model_name": "DescriptionStyleModel",
      "state": {
       "description_width": ""
      }
     },
     "7d4510e85a134ee8bcdc8723634ade49": {
      "model_module": "@jupyter-widgets/base",
      "model_module_version": "1.0.0",
      "model_name": "LayoutModel",
      "state": {
       "width": "auto"
      }
     },
     "7d6c002ee8c746d2ae334cdc7a451a20": {
      "model_module": "@jupyter-widgets/controls",
      "model_module_version": "1.2.0",
      "model_name": "ButtonModel",
      "state": {
       "button_style": "success",
       "description": "Login",
       "layout": "IPY_MODEL_341c976bc6694dc18ca825a92691174e",
       "style": "IPY_MODEL_65d64ee4812b427c89cf4c28cd98b8c4"
      }
     },
     "7dab465ddb5d404fa61f614297610e46": {
      "model_module": "@jupyter-widgets/controls",
      "model_module_version": "1.2.0",
      "model_name": "ButtonModel",
      "state": {
       "button_style": "primary",
       "description": "Download",
       "layout": "IPY_MODEL_bc0d73f2bf6f435f83f5fce0b6fa6331",
       "style": "IPY_MODEL_3df2d79a73104bd2b57803034898d04c"
      }
     },
     "7db0eab9831043cbba7f0919d7ec71f8": {
      "model_module": "@jupyter-widgets/controls",
      "model_module_version": "1.2.0",
      "model_name": "DescriptionStyleModel",
      "state": {
       "description_width": ""
      }
     },
     "7db5339e394d47128fc75688d57bf575": {
      "model_module": "@jupyter-widgets/controls",
      "model_module_version": "1.2.0",
      "model_name": "DescriptionStyleModel",
      "state": {
       "description_width": ""
      }
     },
     "7dd054e84859411d9064cb54a25fdb6d": {
      "model_module": "@jupyter-widgets/base",
      "model_module_version": "1.0.0",
      "model_name": "LayoutModel",
      "state": {}
     },
     "7df092c783094d1fb1d708ec1471892b": {
      "model_module": "@jupyter-widgets/base",
      "model_module_version": "1.0.0",
      "model_name": "LayoutModel",
      "state": {}
     },
     "7e1c1584bfea40908512d39582755af0": {
      "model_module": "@jupyter-widgets/controls",
      "model_module_version": "1.2.0",
      "model_name": "DescriptionStyleModel",
      "state": {
       "description_width": ""
      }
     },
     "7ea9b25597d84a73a7f93d722c95d5af": {
      "model_module": "@jupyter-widgets/base",
      "model_module_version": "1.0.0",
      "model_name": "LayoutModel",
      "state": {
       "align_items": "center"
      }
     },
     "7ee16e6f5c964d138a8598ea01d39315": {
      "model_module": "@jupyter-widgets/controls",
      "model_module_version": "1.2.0",
      "model_name": "HBoxModel",
      "state": {
       "children": [
        "IPY_MODEL_1739d491157d4e02ab68ebf4b676f02c",
        "IPY_MODEL_be877f5b1bce4fd3919689c502cd863e"
       ],
       "layout": "IPY_MODEL_a83ec5a44c70431d8c2c001a2f9766ea"
      }
     },
     "7ef308750b6e40b18934ecf56b250590": {
      "model_module": "@jupyter-widgets/controls",
      "model_module_version": "1.2.0",
      "model_name": "HTMLModel",
      "state": {
       "layout": "IPY_MODEL_4fad26c4de8d4f73aed52d2264b17cba",
       "style": "IPY_MODEL_9464a541551f44c3ba63d3f947f4b713",
       "value": "<h4 style='padding:0;margin:0;'>&nbsp <a href='https://github.com/pupster90' style='color:gray'>pupster90</a> &nbsp</h4>"
      }
     },
     "7f7cf13bb7b04a3793978f6ddcc63a64": {
      "model_module": "@jupyter-widgets/base",
      "model_module_version": "1.0.0",
      "model_name": "LayoutModel",
      "state": {}
     },
     "7fa4928dee1b4dd497205b9eabc3cd49": {
      "model_module": "@jupyter-widgets/base",
      "model_module_version": "1.0.0",
      "model_name": "LayoutModel",
      "state": {}
     },
     "7fa581e309694a4db15e9f84a3992878": {
      "model_module": "@jupyter-widgets/base",
      "model_module_version": "1.0.0",
      "model_name": "LayoutModel",
      "state": {}
     },
     "80571143b91b440cb67d55791c4bdee0": {
      "model_module": "@jupyter-widgets/base",
      "model_module_version": "1.0.0",
      "model_name": "LayoutModel",
      "state": {}
     },
     "8074615440f2414ea3f85761c7ce1b8d": {
      "model_module": "@jupyter-widgets/base",
      "model_module_version": "1.0.0",
      "model_name": "LayoutModel",
      "state": {}
     },
     "809c34a94ca4485abaa3520c4bb857a6": {
      "model_module": "@jupyter-widgets/controls",
      "model_module_version": "1.2.0",
      "model_name": "LabelModel",
      "state": {
       "layout": "IPY_MODEL_7c491ac7ddb240eba3c508ffeb8e3b13",
       "style": "IPY_MODEL_c40982396e76467da46117d81df9de6f",
       "value": "Saved 3 hours ago"
      }
     },
     "80b2e72ca97b416bb4157012f59e1450": {
      "model_module": "@jupyter-widgets/base",
      "model_module_version": "1.0.0",
      "model_name": "LayoutModel",
      "state": {
       "align_items": "center"
      }
     },
     "80d0f93fedd74f079b6b75c5678a3046": {
      "model_module": "@jupyter-widgets/controls",
      "model_module_version": "1.2.0",
      "model_name": "HBoxModel",
      "state": {
       "children": [
        "IPY_MODEL_cb4d4d1bbebb4eb5bc2265c1967e495c",
        "IPY_MODEL_5890c53055c9481b867ee5d011b00d55",
        "IPY_MODEL_70f8518fd3c24b3b835f64b5ee617b15",
        "IPY_MODEL_fe6a4ea0084e49a7ac2281c7f142ccf6"
       ],
       "layout": "IPY_MODEL_bb34a735f0914aeca4cd87be0b602874"
      }
     },
     "80e660fda567482c86075fa6cc252ce1": {
      "model_module": "@jupyter-widgets/base",
      "model_module_version": "1.0.0",
      "model_name": "LayoutModel",
      "state": {}
     },
     "80f8c370a319414691bc9a16074171fd": {
      "model_module": "@jupyter-widgets/controls",
      "model_module_version": "1.2.0",
      "model_name": "HBoxModel",
      "state": {
       "children": [
        "IPY_MODEL_f68e20d6e00845a4bebcc1e2bbd61dd2",
        "IPY_MODEL_437b1173551f45b192658aab899fa379"
       ],
       "layout": "IPY_MODEL_1a6e0d20e2e341daba6507026d24ed98"
      }
     },
     "8138fcd3e666433d8666e4ee22c527b1": {
      "model_module": "@jupyter-widgets/controls",
      "model_module_version": "1.2.0",
      "model_name": "ButtonModel",
      "state": {
       "button_style": "primary",
       "description": "Download",
       "layout": "IPY_MODEL_f6cf498cb4f348a8ae7b1fff4f7392e2",
       "style": "IPY_MODEL_3bd5708f5a7c4c44b69dc72b80c4a4b3"
      }
     },
     "8148c1e6b1d241fab99d0544be6b748a": {
      "model_module": "@jupyter-widgets/base",
      "model_module_version": "1.0.0",
      "model_name": "LayoutModel",
      "state": {}
     },
     "8188601b44d846c8b58da8315b2c7c51": {
      "model_module": "@jupyter-widgets/controls",
      "model_module_version": "1.2.0",
      "model_name": "DescriptionStyleModel",
      "state": {
       "description_width": ""
      }
     },
     "8190cf8ceb01413b9fbdd8231430b39a": {
      "model_module": "@jupyter-widgets/controls",
      "model_module_version": "1.2.0",
      "model_name": "DescriptionStyleModel",
      "state": {
       "description_width": ""
      }
     },
     "81aade97f8144593a029439e0da4821c": {
      "model_module": "@jupyter-widgets/controls",
      "model_module_version": "1.2.0",
      "model_name": "ButtonModel",
      "state": {
       "button_style": "primary",
       "description": "Download",
       "layout": "IPY_MODEL_b2dca4c21fb14f80a024354163078e3c",
       "style": "IPY_MODEL_cb2fc1448ba04220bef232c4c49f1557"
      }
     },
     "81d31d2584944e09ac33bbbcfcba53e7": {
      "model_module": "@jupyter-widgets/base",
      "model_module_version": "1.0.0",
      "model_name": "LayoutModel",
      "state": {
       "width": "auto"
      }
     },
     "81d58a3f23c94dd0b6343fc9684f12c1": {
      "model_module": "@jupyter-widgets/controls",
      "model_module_version": "1.2.0",
      "model_name": "LabelModel",
      "state": {
       "layout": "IPY_MODEL_6122e2d0800141dd9156d0525c0f0043",
       "style": "IPY_MODEL_ee9aa728c06e447dad4adfe13cf3270b",
       "value": "Saved 22 hours ago"
      }
     },
     "820804cf189c47c19bab021e2c3a8084": {
      "model_module": "@jupyter-widgets/controls",
      "model_module_version": "1.2.0",
      "model_name": "HTMLModel",
      "state": {
       "layout": "IPY_MODEL_dc988571deb445bfb1cc39fc60dbfef3",
       "style": "IPY_MODEL_c282fbcdbf074e4bbd38241f5adfe8b0",
       "value": "<font color='green'> &nbsp Downloads: 0</font>"
      }
     },
     "8222fb1548474f519c4759811fef62eb": {
      "model_module": "@jupyter-widgets/controls",
      "model_module_version": "1.2.0",
      "model_name": "ToggleButtonsModel",
      "state": {
       "_options_labels": [
        "Public",
        "Private"
       ],
       "button_style": "info",
       "icons": [],
       "index": 0,
       "layout": "IPY_MODEL_1ec5f86d73db47f8967acbdd2931b0ec",
       "style": "IPY_MODEL_82cdaca82c634b50b6d1f282e557656d",
       "tooltips": []
      }
     },
     "8250c6b272914fbba2f20d6a5ca7b410": {
      "model_module": "@jupyter-widgets/controls",
      "model_module_version": "1.2.0",
      "model_name": "ButtonModel",
      "state": {
       "button_style": "primary",
       "description": " Refresh",
       "icon": "refresh",
       "layout": "IPY_MODEL_4702a6997e2e4c4b9ab7e53680a9efcb",
       "style": "IPY_MODEL_3c4e38a6abac422994ce3ea463bb8e26"
      }
     },
     "827464f3fa65458fb0c92ec371cca6a8": {
      "model_module": "@jupyter-widgets/controls",
      "model_module_version": "1.2.0",
      "model_name": "HBoxModel",
      "state": {
       "children": [
        "IPY_MODEL_b8bd8395aa274974905db20628e7c278",
        "IPY_MODEL_000cbb783f854eb6b8ad5ca44de4bfd4"
       ],
       "layout": "IPY_MODEL_c70ab817115b4308b47e027a9bbee9bc"
      }
     },
     "827770b7ff334c7bad6ee2035e76060b": {
      "model_module": "@jupyter-widgets/base",
      "model_module_version": "1.0.0",
      "model_name": "LayoutModel",
      "state": {}
     },
     "829f6b3a1c284d80950b45483a5ff5f4": {
      "model_module": "@jupyter-widgets/controls",
      "model_module_version": "1.2.0",
      "model_name": "LabelModel",
      "state": {
       "layout": "IPY_MODEL_780ec020f6c04ec5b2eca9e7b34ab651",
       "style": "IPY_MODEL_f7f8cebeeb3a4bd285683aeaee34336b",
       "value": "3 days ago"
      }
     },
     "82cdaca82c634b50b6d1f282e557656d": {
      "model_module": "@jupyter-widgets/controls",
      "model_module_version": "1.2.0",
      "model_name": "ToggleButtonsStyleModel",
      "state": {
       "button_width": "",
       "description_width": ""
      }
     },
     "82e0ca8d4b12493fab7003d0d18bbaa8": {
      "model_module": "@jupyter-widgets/base",
      "model_module_version": "1.0.0",
      "model_name": "LayoutModel",
      "state": {}
     },
     "834794ff66564277a764d47373b90d1b": {
      "model_module": "@jupyter-widgets/controls",
      "model_module_version": "1.2.0",
      "model_name": "ButtonStyleModel",
      "state": {}
     },
     "836940cd8e5d4329871457fed84e6d06": {
      "model_module": "@jupyter-widgets/base",
      "model_module_version": "1.0.0",
      "model_name": "LayoutModel",
      "state": {}
     },
     "836ed5ef66024c50a78e529b44dff568": {
      "model_module": "@jupyter-widgets/controls",
      "model_module_version": "1.2.0",
      "model_name": "ButtonStyleModel",
      "state": {}
     },
     "83828c35479a43739d2f84dd4df2301d": {
      "model_module": "@jupyter-widgets/base",
      "model_module_version": "1.0.0",
      "model_name": "LayoutModel",
      "state": {
       "align_items": "center",
       "display": "None"
      }
     },
     "83c72b84577e4bffa3b7d5d0851b5cdf": {
      "model_module": "@jupyter-widgets/controls",
      "model_module_version": "1.2.0",
      "model_name": "HTMLModel",
      "state": {
       "layout": "IPY_MODEL_c9c494503b3743eb9d0a125db698c96f",
       "style": "IPY_MODEL_cf4c1c2dba7643ce92f38dafb6f5432f",
       "value": "<h3 style='padding:0;margin:0;'>&nbsp &nbsp &nbsp<a href='https://github.com/pupster90/io_Online.git'>io_Online</a></h3>"
      }
     },
     "83ee1a2174cd4aba9dbac500b83a4495": {
      "model_module": "@jupyter-widgets/controls",
      "model_module_version": "1.2.0",
      "model_name": "HTMLModel",
      "state": {
       "layout": "IPY_MODEL_14ae4e6fdecf4efb864ffc72d3a35574",
       "style": "IPY_MODEL_b18f2cf38ddf453783203a1b5bfb00cb",
       "value": "<h3 style='padding:0;margin:0;'>&nbsp &nbsp<a href='https://github.com/pupster90/Cytoscape'>Cytoscape</a> &nbsp</h3>"
      }
     },
     "83fd7c8c4ac841d7b9c01706fa76bc30": {
      "model_module": "@jupyter-widgets/base",
      "model_module_version": "1.0.0",
      "model_name": "LayoutModel",
      "state": {}
     },
     "84173da655f9442181be5b2077f8ee94": {
      "model_module": "@jupyter-widgets/controls",
      "model_module_version": "1.2.0",
      "model_name": "DescriptionStyleModel",
      "state": {
       "description_width": ""
      }
     },
     "845c643df90240a482cefd1d51ccfe1c": {
      "model_module": "@jupyter-widgets/base",
      "model_module_version": "1.0.0",
      "model_name": "LayoutModel",
      "state": {
       "align_items": "center"
      }
     },
     "84931b8b7e52480b81ba6b1a26422240": {
      "model_module": "@jupyter-widgets/controls",
      "model_module_version": "1.2.0",
      "model_name": "DescriptionStyleModel",
      "state": {
       "description_width": ""
      }
     },
     "849b51966dae4d13ae4feff7bb38aedd": {
      "model_module": "@jupyter-widgets/base",
      "model_module_version": "1.0.0",
      "model_name": "LayoutModel",
      "state": {}
     },
     "84cd1cc485a94268bef2695b24d193c1": {
      "model_module": "@jupyter-widgets/controls",
      "model_module_version": "1.2.0",
      "model_name": "DescriptionStyleModel",
      "state": {
       "description_width": ""
      }
     },
     "850b23059b35405cac43fa926ddb2065": {
      "model_module": "@jupyter-widgets/base",
      "model_module_version": "1.0.0",
      "model_name": "LayoutModel",
      "state": {}
     },
     "851e702942d54758b5e9931fcca7c540": {
      "model_module": "@jupyter-widgets/base",
      "model_module_version": "1.0.0",
      "model_name": "LayoutModel",
      "state": {
       "align_items": "center"
      }
     },
     "8537d31971fb4d0882313bdde1417e0e": {
      "model_module": "@jupyter-widgets/controls",
      "model_module_version": "1.2.0",
      "model_name": "HTMLModel",
      "state": {
       "layout": "IPY_MODEL_0a7b65b5143541998023b6ac85f99dde",
       "style": "IPY_MODEL_3c1ed91ef5a94bd5831f15926e2df316",
       "value": "<h3 style='padding:0;margin:0;'>&nbsp &nbsp &nbsp<a href='https://github.com/pupster90/ddot2.git'>ddot2</a></h3>"
      }
     },
     "853f5e676e0947d2a708038c5b340a35": {
      "model_module": "@jupyter-widgets/controls",
      "model_module_version": "1.2.0",
      "model_name": "DescriptionStyleModel",
      "state": {
       "description_width": ""
      }
     },
     "855b2aab9185447dab2b0d6596976b7d": {
      "model_module": "@jupyter-widgets/controls",
      "model_module_version": "1.2.0",
      "model_name": "HBoxModel",
      "state": {
       "children": [
        "IPY_MODEL_9877213e7fc543b68cc585f30901eed3",
        "IPY_MODEL_ab42e70220bb4b858ea78078a9f06fd8",
        "IPY_MODEL_3326555a127d4491a81d023f92406e81",
        "IPY_MODEL_03196ec8ca624bfd8a716180fcb9741e",
        "IPY_MODEL_65415428652c483a8067122cd3a7f15f",
        "IPY_MODEL_914e3494e8fd4009a585816613c1846e"
       ],
       "layout": "IPY_MODEL_b0efb94c2996483cbc87735d8348dccc"
      }
     },
     "85ff428b5ebd47399bfa994cd14e8ef0": {
      "model_module": "@jupyter-widgets/controls",
      "model_module_version": "1.2.0",
      "model_name": "HBoxModel",
      "state": {
       "children": [
        "IPY_MODEL_d997760f46fb4939bd9ea252c1f5bea7",
        "IPY_MODEL_d80593d7b9ad4aba8be8dbde3260c281"
       ],
       "layout": "IPY_MODEL_6fc76f2e8a3540b6aa0de94621dacfa2"
      }
     },
     "8617a1d6897340e8a3cffa053839efb5": {
      "model_module": "@jupyter-widgets/base",
      "model_module_version": "1.0.0",
      "model_name": "LayoutModel",
      "state": {
       "align_items": "center"
      }
     },
     "8665680726fb4ae895045b0e2278c666": {
      "model_module": "@jupyter-widgets/base",
      "model_module_version": "1.0.0",
      "model_name": "LayoutModel",
      "state": {
       "width": "auto"
      }
     },
     "8685d7f0ec20467b90fc7085bd5ea05d": {
      "model_module": "@jupyter-widgets/controls",
      "model_module_version": "1.2.0",
      "model_name": "DescriptionStyleModel",
      "state": {
       "description_width": ""
      }
     },
     "86873681ee4d455b8c8138b169b79394": {
      "model_module": "@jupyter-widgets/controls",
      "model_module_version": "1.2.0",
      "model_name": "DescriptionStyleModel",
      "state": {
       "description_width": ""
      }
     },
     "86a6957b9c7f47bc8ac6e92a718a6953": {
      "model_module": "@jupyter-widgets/controls",
      "model_module_version": "1.2.0",
      "model_name": "HTMLModel",
      "state": {
       "layout": "IPY_MODEL_c22aa173e31341ce82ee2d04549597e9",
       "style": "IPY_MODEL_84cd1cc485a94268bef2695b24d193c1",
       "value": "<font color='orange'> &nbsp Stars: 0</font>"
      }
     },
     "86a717e14c0046a3b3f22f1f85d296e4": {
      "model_module": "@jupyter-widgets/controls",
      "model_module_version": "1.2.0",
      "model_name": "ButtonModel",
      "state": {
       "button_style": "warning",
       "description": "Update",
       "layout": "IPY_MODEL_de21c1aecc964a308e305d0665909617",
       "style": "IPY_MODEL_fafb22cf5cc642c3b4034313e9b4e29f"
      }
     },
     "86ec2ccc94664de098d390ae2255ffdb": {
      "model_module": "@jupyter-widgets/controls",
      "model_module_version": "1.2.0",
      "model_name": "DescriptionStyleModel",
      "state": {
       "description_width": ""
      }
     },
     "870819aa686d4cf588d699e0bb46e6df": {
      "model_module": "@jupyter-widgets/base",
      "model_module_version": "1.0.0",
      "model_name": "LayoutModel",
      "state": {
       "width": "100px"
      }
     },
     "871572e113f24d97a5cc588830360794": {
      "model_module": "@jupyter-widgets/base",
      "model_module_version": "1.0.0",
      "model_name": "LayoutModel",
      "state": {
       "width": "auto"
      }
     },
     "87180bc922924911b5c77bef7290c6a0": {
      "model_module": "@jupyter-widgets/controls",
      "model_module_version": "1.2.0",
      "model_name": "HTMLModel",
      "state": {
       "layout": "IPY_MODEL_710d537819584bf89f19f2900a7ec724",
       "style": "IPY_MODEL_c37044b4c39d493fba925c13e700e1d0",
       "value": "<h3 style='padding:0;margin:0;'>&nbsp &nbsp &nbsp<a href='https://github.com/pupster90/Setup_Notebook.git'>Setup_Notebook</a></h3>"
      }
     },
     "874d494341c74abb915a9b040e3f3cd0": {
      "model_module": "@jupyter-widgets/controls",
      "model_module_version": "1.2.0",
      "model_name": "ButtonStyleModel",
      "state": {}
     },
     "878efd197e36482c80b818bc05fdf8a3": {
      "model_module": "@jupyter-widgets/base",
      "model_module_version": "1.0.0",
      "model_name": "LayoutModel",
      "state": {}
     },
     "87e460ad93354e2daae2ba80b4ea3943": {
      "model_module": "@jupyter-widgets/controls",
      "model_module_version": "1.2.0",
      "model_name": "DescriptionStyleModel",
      "state": {
       "description_width": ""
      }
     },
     "87f228edc94b44fca663c599d6acd62e": {
      "model_module": "@jupyter-widgets/controls",
      "model_module_version": "1.2.0",
      "model_name": "ButtonStyleModel",
      "state": {}
     },
     "881cf68587ff49bba67d140f2df0ed57": {
      "model_module": "@jupyter-widgets/controls",
      "model_module_version": "1.2.0",
      "model_name": "DescriptionStyleModel",
      "state": {
       "description_width": ""
      }
     },
     "883471823b724b3cb734bd8ca575902a": {
      "model_module": "@jupyter-widgets/base",
      "model_module_version": "1.0.0",
      "model_name": "LayoutModel",
      "state": {
       "width": "auto"
      }
     },
     "8837415a07474ae9a9afc46b910c145a": {
      "model_module": "@jupyter-widgets/controls",
      "model_module_version": "1.2.0",
      "model_name": "HTMLModel",
      "state": {
       "layout": "IPY_MODEL_485dd4e98e5442e7bb51d88485fbc8b4",
       "style": "IPY_MODEL_e6be9f8deb9a49dd997dd95efe014d46",
       "value": "<h3 style='padding:0;margin:0;'>&nbsp &nbsp &nbsp<a href='https://github.com/pupster90/My_First_Research_Paper.git'>My_First_Research_Paper</a></h3>"
      }
     },
     "888292c981da4bd6bee74d2269bca8aa": {
      "model_module": "@jupyter-widgets/base",
      "model_module_version": "1.0.0",
      "model_name": "LayoutModel",
      "state": {}
     },
     "89029d2f0dcd436b964e5a9fc657dfce": {
      "model_module": "@jupyter-widgets/controls",
      "model_module_version": "1.2.0",
      "model_name": "ButtonModel",
      "state": {
       "button_style": "success",
       "description": "Publish",
       "layout": "IPY_MODEL_4225af97c0c949219927335181cd0bb7",
       "style": "IPY_MODEL_d2b0dee5f661459cb98bd5203132247f"
      }
     },
     "8914d66d045f4600a70ab11380dfe67d": {
      "model_module": "@jupyter-widgets/controls",
      "model_module_version": "1.2.0",
      "model_name": "DescriptionStyleModel",
      "state": {
       "description_width": ""
      }
     },
     "892727cb39ca45c0bf63ec6735006eb1": {
      "model_module": "@jupyter-widgets/controls",
      "model_module_version": "1.2.0",
      "model_name": "ButtonModel",
      "state": {
       "button_style": "danger",
       "description": "Logout",
       "layout": "IPY_MODEL_9de8d3fcf4b945cfa06acd4bf364b152",
       "style": "IPY_MODEL_40e71ff13e0b48f9961fad6f55cbc039"
      }
     },
     "892986e1e6d6473eaea4fbf616463c02": {
      "model_module": "@jupyter-widgets/base",
      "model_module_version": "1.0.0",
      "model_name": "LayoutModel",
      "state": {}
     },
     "892a701194964eeb9d92382dcf310216": {
      "model_module": "@jupyter-widgets/controls",
      "model_module_version": "1.2.0",
      "model_name": "DescriptionStyleModel",
      "state": {
       "description_width": ""
      }
     },
     "892fc0d5696d4bffa83ec6657c3b7ebc": {
      "model_module": "@jupyter-widgets/controls",
      "model_module_version": "1.2.0",
      "model_name": "HBoxModel",
      "state": {
       "children": [
        "IPY_MODEL_af14ae6e83c04cb791c5ee949f94fc4e",
        "IPY_MODEL_908079b0179e40c4959cc7b4dc443b70"
       ],
       "layout": "IPY_MODEL_1b5366be5939494789085b9dd74bed86"
      }
     },
     "8935875adb714a4c84a6d520ab0f2119": {
      "model_module": "@jupyter-widgets/controls",
      "model_module_version": "1.2.0",
      "model_name": "DescriptionStyleModel",
      "state": {
       "description_width": ""
      }
     },
     "8952b69045bc4016aeea78931b85ba58": {
      "model_module": "@jupyter-widgets/base",
      "model_module_version": "1.0.0",
      "model_name": "LayoutModel",
      "state": {
       "align_items": "center"
      }
     },
     "8963e0752888474c95dcf1d43d247212": {
      "model_module": "@jupyter-widgets/base",
      "model_module_version": "1.0.0",
      "model_name": "LayoutModel",
      "state": {
       "width": "auto"
      }
     },
     "897bdcd5e7a04af2ac8a94f3e8db3e3e": {
      "model_module": "@jupyter-widgets/base",
      "model_module_version": "1.0.0",
      "model_name": "LayoutModel",
      "state": {
       "width": "auto"
      }
     },
     "898a119fa20b43a2a932bd404cc8437e": {
      "model_module": "@jupyter-widgets/base",
      "model_module_version": "1.0.0",
      "model_name": "LayoutModel",
      "state": {
       "align_items": "center"
      }
     },
     "898b76b6b2964d6b8d565c50b703f97f": {
      "model_module": "@jupyter-widgets/controls",
      "model_module_version": "1.2.0",
      "model_name": "HBoxModel",
      "state": {
       "children": [
        "IPY_MODEL_1049f5db02d040128029a0ceffc2f933",
        "IPY_MODEL_f59df6d4b6d948d5b274cf920e161ca3"
       ],
       "layout": "IPY_MODEL_2d7e8c81e0d4428d8479b1166e4a0279"
      }
     },
     "899af3ed733f4fc5afc00be8049d9412": {
      "model_module": "@jupyter-widgets/base",
      "model_module_version": "1.0.0",
      "model_name": "LayoutModel",
      "state": {
       "align_items": "center",
       "display": "None"
      }
     },
     "89a0982c53ad4dfc97084f13b9a105e2": {
      "model_module": "@jupyter-widgets/controls",
      "model_module_version": "1.2.0",
      "model_name": "HTMLModel",
      "state": {
       "layout": "IPY_MODEL_4eda78616b304075a944ad4a289851fc",
       "style": "IPY_MODEL_b601fead3de146daa9b2328714cdd287",
       "value": "<h4 style='padding:0;margin:0;'>&nbsp <a href='https://github.com/pupster90' style='color:gray'>pupster90</a> &nbsp</h4>"
      }
     },
     "89bdbd9929cf43b5a4f2177ce3a58f28": {
      "model_module": "@jupyter-widgets/base",
      "model_module_version": "1.0.0",
      "model_name": "LayoutModel",
      "state": {}
     },
     "89c0b520ef9548fd88c52e98c74c3b8b": {
      "model_module": "@jupyter-widgets/controls",
      "model_module_version": "1.2.0",
      "model_name": "ButtonModel",
      "state": {
       "button_style": "success",
       "description": "Publish",
       "layout": "IPY_MODEL_1cb0590bc3ba44bb9a106c75b5f20631",
       "style": "IPY_MODEL_444f7eb302154aa3b689a634821e3d9c"
      }
     },
     "89e083c528064553b8d4b302ebc14dfb": {
      "model_module": "@jupyter-widgets/base",
      "model_module_version": "1.0.0",
      "model_name": "LayoutModel",
      "state": {}
     },
     "89e0be611069431f8c3f3e95ca68eab9": {
      "model_module": "@jupyter-widgets/controls",
      "model_module_version": "1.2.0",
      "model_name": "HTMLModel",
      "state": {
       "layout": "IPY_MODEL_9a06b27979d34c08869e7753d22ce8fb",
       "style": "IPY_MODEL_385780e81b564d3dbb02b632f2f0dfcb",
       "value": "<h3 style='padding:0;margin:0;'>&nbsp &nbsp &nbsp<a href='https://github.com/pupster90/mind-reader.git'>mind-reader</a></h3>"
      }
     },
     "89e9162224304eb284723e9a633a2408": {
      "model_module": "@jupyter-widgets/controls",
      "model_module_version": "1.2.0",
      "model_name": "HTMLModel",
      "state": {
       "layout": "IPY_MODEL_83fd7c8c4ac841d7b9c01706fa76bc30",
       "style": "IPY_MODEL_75f41e7c8cb24dac8dedcba4396fefc0",
       "value": "<h3 style='padding:0;margin:0;'>&nbsp &nbsp<a href='https://github.com/pupster90/My_First_Research_Paper'>My_First_Research_Paper</a> &nbsp</h3>"
      }
     },
     "8a16829faddc4e6cb98651ba49e4b306": {
      "model_module": "@jupyter-widgets/base",
      "model_module_version": "1.0.0",
      "model_name": "LayoutModel",
      "state": {
       "width": "auto"
      }
     },
     "8a425752418e43009ca8d2f05bf93903": {
      "model_module": "@jupyter-widgets/controls",
      "model_module_version": "1.2.0",
      "model_name": "HTMLModel",
      "state": {
       "layout": "IPY_MODEL_d86e70370d8742ba98010c292c81ac82",
       "style": "IPY_MODEL_892a701194964eeb9d92382dcf310216",
       "value": "<h3 style='padding:0;margin:0;'>&nbsp &nbsp &nbsp<a href='https://github.com/pupster90/io_Online.git'>io_Online</a></h3>"
      }
     },
     "8ad38a35939d425cb06e57147c3cafb1": {
      "model_module": "@jupyter-widgets/base",
      "model_module_version": "1.0.0",
      "model_name": "LayoutModel",
      "state": {
       "width": "auto"
      }
     },
     "8ae7323e5cba4a86a2061a35c3c0245d": {
      "model_module": "@jupyter-widgets/controls",
      "model_module_version": "1.2.0",
      "model_name": "HBoxModel",
      "state": {
       "children": [
        "IPY_MODEL_e6cabe55b6534dae9badbfe2a84b9ee6"
       ],
       "layout": "IPY_MODEL_d088331b58c144cea484b0c02f747c3a"
      }
     },
     "8b23e7f6bc0c43ca81e49d2a960ca128": {
      "model_module": "@jupyter-widgets/base",
      "model_module_version": "1.0.0",
      "model_name": "LayoutModel",
      "state": {
       "width": "auto"
      }
     },
     "8b30feb5c2c147e68bd401575226128a": {
      "model_module": "@jupyter-widgets/controls",
      "model_module_version": "1.2.0",
      "model_name": "HBoxModel",
      "state": {
       "children": [
        "IPY_MODEL_9500c9982eea49e89dab6119a100500f",
        "IPY_MODEL_f6b43eba9ed04e49a4c0c5d6f568101b"
       ],
       "layout": "IPY_MODEL_fc1f5c7d96824388b8d391be6fae5153"
      }
     },
     "8b387535f7c64f5a8afc721c82dc4817": {
      "model_module": "@jupyter-widgets/controls",
      "model_module_version": "1.2.0",
      "model_name": "ButtonStyleModel",
      "state": {}
     },
     "8b95abef1e43404e9401e27d6761a915": {
      "model_module": "@jupyter-widgets/controls",
      "model_module_version": "1.2.0",
      "model_name": "DescriptionStyleModel",
      "state": {
       "description_width": ""
      }
     },
     "8bb34c2dad5140918c834c5787710d8b": {
      "model_module": "@jupyter-widgets/controls",
      "model_module_version": "1.2.0",
      "model_name": "ButtonModel",
      "state": {
       "button_style": "primary",
       "description": "Download",
       "layout": "IPY_MODEL_5bfdbd816571441d806c4a71118cefc1",
       "style": "IPY_MODEL_256123b6ca514b65ad6b3caac9927811"
      }
     },
     "8bb8182e0dde42a49f28c674a1f8a322": {
      "model_module": "@jupyter-widgets/base",
      "model_module_version": "1.0.0",
      "model_name": "LayoutModel",
      "state": {
       "width": "auto"
      }
     },
     "8bdf9fb3aea4474abf26dd624662d423": {
      "model_module": "@jupyter-widgets/controls",
      "model_module_version": "1.2.0",
      "model_name": "ButtonModel",
      "state": {
       "button_style": "warning",
       "description": "add",
       "layout": "IPY_MODEL_08a69bd4eab54e3a8b9378a4624aed19",
       "style": "IPY_MODEL_3ac17a02fa744db4b78f3283464cc2ac"
      }
     },
     "8bea2886d9a84a9aa568f87bb917f87b": {
      "model_module": "@jupyter-widgets/controls",
      "model_module_version": "1.2.0",
      "model_name": "DescriptionStyleModel",
      "state": {
       "description_width": ""
      }
     },
     "8c0d635d565a45778a36cabb82ded4e8": {
      "model_module": "@jupyter-widgets/controls",
      "model_module_version": "1.2.0",
      "model_name": "HTMLModel",
      "state": {
       "layout": "IPY_MODEL_3bc32c1c86774be4a685dff8887b58e0",
       "style": "IPY_MODEL_9afc5507700d4ac7abbe607c04d0f217",
       "value": "<h3 style='padding:0;margin:0;'>&nbsp &nbsp &nbsp<a href='https://github.com/pupster90/Cytoscape.git'>Cytoscape</a></h3>"
      }
     },
     "8c12e8ea7bc54828b2ca711f9b5a55b4": {
      "model_module": "@jupyter-widgets/base",
      "model_module_version": "1.0.0",
      "model_name": "LayoutModel",
      "state": {
       "width": "auto"
      }
     },
     "8c25459b2007426fbbbf7d857484707f": {
      "model_module": "@jupyter-widgets/controls",
      "model_module_version": "1.2.0",
      "model_name": "HBoxModel",
      "state": {
       "children": [
        "IPY_MODEL_1fe3899f682b4be8ab35a2ea319ec177",
        "IPY_MODEL_307a45e8586b4fe0a974ece376b9ce35",
        "IPY_MODEL_820804cf189c47c19bab021e2c3a8084",
        "IPY_MODEL_92c5978fa18344f280e911081e3296f6",
        "IPY_MODEL_03af4f8d9bad41eb82141dea42cd02a3",
        "IPY_MODEL_ad87d45858c44497b1d7eeb52d23523b"
       ],
       "layout": "IPY_MODEL_82e0ca8d4b12493fab7003d0d18bbaa8"
      }
     },
     "8c43f26410684d4db7bd3a2d84d7c19c": {
      "model_module": "@jupyter-widgets/base",
      "model_module_version": "1.0.0",
      "model_name": "LayoutModel",
      "state": {}
     },
     "8c46e7c8dde445c79a0406d5456f75fc": {
      "model_module": "@jupyter-widgets/controls",
      "model_module_version": "1.2.0",
      "model_name": "ButtonModel",
      "state": {
       "button_style": "info",
       "description": "Download",
       "layout": "IPY_MODEL_ec0525af5a2d421a84b374af6bde649e",
       "style": "IPY_MODEL_834794ff66564277a764d47373b90d1b"
      }
     },
     "8c54215c33914315a913b6f4f7140dfa": {
      "model_module": "@jupyter-widgets/controls",
      "model_module_version": "1.2.0",
      "model_name": "ButtonModel",
      "state": {
       "button_style": "success",
       "description": "Publish",
       "layout": "IPY_MODEL_3c25165ce5ad431d963e6ed2fa120096",
       "style": "IPY_MODEL_7324f2ee463e4d0c945adac0f6465ad8"
      }
     },
     "8c9f56978f874d608cb3e62dd9a1c6a3": {
      "model_module": "@jupyter-widgets/base",
      "model_module_version": "1.0.0",
      "model_name": "LayoutModel",
      "state": {
       "width": "auto"
      }
     },
     "8cccf8a2df4c40d1b9f1e2df721d335b": {
      "model_module": "@jupyter-widgets/controls",
      "model_module_version": "1.2.0",
      "model_name": "HBoxModel",
      "state": {
       "children": [
        "IPY_MODEL_0729e89c5acf4af98fe5e723f7f991c9",
        "IPY_MODEL_9c3d783b55c14f288cdc51109cbc1f55"
       ],
       "layout": "IPY_MODEL_5d69f5f207b34436be365c1b235425b5"
      }
     },
     "8cf596dc2a6b4fd2a37d421c67ddc22c": {
      "model_module": "@jupyter-widgets/controls",
      "model_module_version": "1.2.0",
      "model_name": "ValidModel",
      "state": {
       "layout": "IPY_MODEL_b145df9eed0b4daa8d8ba32cbd9c9cd0",
       "style": "IPY_MODEL_60eeee58d102430287765aec340cc066"
      }
     },
     "8cfc818003624e7ca87b7ed474a90202": {
      "model_module": "@jupyter-widgets/controls",
      "model_module_version": "1.2.0",
      "model_name": "HBoxModel",
      "state": {
       "children": [
        "IPY_MODEL_9cd3b5f61c0e49f8ae0cdbc5653a3544",
        "IPY_MODEL_8837415a07474ae9a9afc46b910c145a"
       ],
       "layout": "IPY_MODEL_babca573a0ab40dea3c12c3dd8351f13"
      }
     },
     "8d0125293cc64b00863ef1c5d2c391a3": {
      "model_module": "@jupyter-widgets/controls",
      "model_module_version": "1.2.0",
      "model_name": "ButtonModel",
      "state": {
       "button_style": "info",
       "description": "Download",
       "layout": "IPY_MODEL_8665680726fb4ae895045b0e2278c666",
       "style": "IPY_MODEL_0f6a197a9ff247008a2683cbab4d3bee"
      }
     },
     "8d0c245ab39d4d5e934228475c24f432": {
      "model_module": "@jupyter-widgets/controls",
      "model_module_version": "1.2.0",
      "model_name": "LabelModel",
      "state": {
       "layout": "IPY_MODEL_04673cef389e40298ead5ee026be77e9",
       "style": "IPY_MODEL_24f00bd6b8e14d5db3ef84147723f102",
       "value": "Saved 24 hours ago"
      }
     },
     "8d14a94601f24d72be987331f3273400": {
      "model_module": "@jupyter-widgets/base",
      "model_module_version": "1.0.0",
      "model_name": "LayoutModel",
      "state": {
       "width": "100px"
      }
     },
     "8d48cf1de9dd422697f3cdc15f8369a1": {
      "model_module": "@jupyter-widgets/controls",
      "model_module_version": "1.2.0",
      "model_name": "DescriptionStyleModel",
      "state": {
       "description_width": ""
      }
     },
     "8d994f5838c74b47893673bb9737d614": {
      "model_module": "@jupyter-widgets/controls",
      "model_module_version": "1.2.0",
      "model_name": "ButtonModel",
      "state": {
       "button_style": "primary",
       "description": "Download",
       "layout": "IPY_MODEL_1fc8146b64374801b875418eeb38ed8c",
       "style": "IPY_MODEL_cc107f45edc54bc59ad6d7a226b6ee9f"
      }
     },
     "8dad61cdb0a5492ab869a6c102f75926": {
      "model_module": "@jupyter-widgets/controls",
      "model_module_version": "1.2.0",
      "model_name": "HTMLModel",
      "state": {
       "layout": "IPY_MODEL_f9fde05d3d3c428d8d1b8ba3da000891",
       "style": "IPY_MODEL_0bf7439f8a5942989c8e3a0dd34e54ce",
       "value": "<font color='green'> &nbsp Downloads: 0</font>"
      }
     },
     "8db84b6a0e564a59afaa12bd62d7707e": {
      "model_module": "@jupyter-widgets/base",
      "model_module_version": "1.0.0",
      "model_name": "LayoutModel",
      "state": {
       "align_items": "center"
      }
     },
     "8dcb6165370c493d810183abb593d0a8": {
      "model_module": "@jupyter-widgets/controls",
      "model_module_version": "1.2.0",
      "model_name": "DescriptionStyleModel",
      "state": {
       "description_width": ""
      }
     },
     "8df7bc1540844a45940152d30698b4e3": {
      "model_module": "@jupyter-widgets/base",
      "model_module_version": "1.0.0",
      "model_name": "LayoutModel",
      "state": {}
     },
     "8e0acc0efc42452bb380759657766642": {
      "model_module": "@jupyter-widgets/base",
      "model_module_version": "1.0.0",
      "model_name": "LayoutModel",
      "state": {}
     },
     "8e4d60e39e01445a8b8e8fbe6ce97ab8": {
      "model_module": "@jupyter-widgets/controls",
      "model_module_version": "1.2.0",
      "model_name": "DescriptionStyleModel",
      "state": {
       "description_width": ""
      }
     },
     "8e50c0f8f8914a088a10873eb33690e5": {
      "model_module": "@jupyter-widgets/controls",
      "model_module_version": "1.2.0",
      "model_name": "HTMLModel",
      "state": {
       "layout": "IPY_MODEL_df21b6db78d647339316e633315464a4",
       "style": "IPY_MODEL_bffd893332b54e10b9acf23878b129a5",
       "value": "<h3 style='padding:0;margin:0;'>&nbsp &nbsp<a href='https://github.com/pupster90/io_Online'>io_Online</a> &nbsp</h3>"
      }
     },
     "8e57baaf278e457eaeb46858328b1ca5": {
      "model_module": "@jupyter-widgets/controls",
      "model_module_version": "1.2.0",
      "model_name": "DescriptionStyleModel",
      "state": {
       "description_width": ""
      }
     },
     "8e8bef74c22b40a190fc086c9761c02b": {
      "model_module": "@jupyter-widgets/controls",
      "model_module_version": "1.2.0",
      "model_name": "HTMLModel",
      "state": {
       "layout": "IPY_MODEL_878efd197e36482c80b818bc05fdf8a3",
       "style": "IPY_MODEL_b208de1bc1de4e68a5a97f2c7e6aace6",
       "value": "<h3 style='padding:0;margin:0;'>&nbsp &nbsp &nbsp<a href='https://github.com/pupster90/prosettapal.git'>prosettapal</a></h3>"
      }
     },
     "8eba36d6ae9749a6ba8323c870ad2fab": {
      "model_module": "@jupyter-widgets/controls",
      "model_module_version": "1.2.0",
      "model_name": "DescriptionStyleModel",
      "state": {
       "description_width": ""
      }
     },
     "8edc65f3bec6440487215e593daf678f": {
      "model_module": "@jupyter-widgets/controls",
      "model_module_version": "1.2.0",
      "model_name": "DescriptionStyleModel",
      "state": {
       "description_width": ""
      }
     },
     "8edd15c9063c4f8a92dbc6f0b2b36b97": {
      "model_module": "@jupyter-widgets/base",
      "model_module_version": "1.0.0",
      "model_name": "LayoutModel",
      "state": {}
     },
     "8ef35d85b84a4f9da181ab2ffb1492c0": {
      "model_module": "@jupyter-widgets/base",
      "model_module_version": "1.0.0",
      "model_name": "LayoutModel",
      "state": {}
     },
     "8efd8561485841ef9657b4ca23d02a41": {
      "model_module": "@jupyter-widgets/controls",
      "model_module_version": "1.2.0",
      "model_name": "ButtonModel",
      "state": {
       "button_style": "primary",
       "description": "Download",
       "layout": "IPY_MODEL_b931e55c66024a5895f987a63e0854e7",
       "style": "IPY_MODEL_c9e83db0da354cd094d68dd82bec5ac9"
      }
     },
     "8f337c71e8e7406f9e286bbc75fa98c7": {
      "model_module": "@jupyter-widgets/base",
      "model_module_version": "1.0.0",
      "model_name": "LayoutModel",
      "state": {}
     },
     "8f4a49cc20934a89b0332b67f523176a": {
      "model_module": "@jupyter-widgets/controls",
      "model_module_version": "1.2.0",
      "model_name": "DescriptionStyleModel",
      "state": {
       "description_width": ""
      }
     },
     "8f4e0cb2b2674e43b52c872b155d0542": {
      "model_module": "@jupyter-widgets/base",
      "model_module_version": "1.0.0",
      "model_name": "LayoutModel",
      "state": {}
     },
     "8fa35d60fe0146be96d86b68bc090c41": {
      "model_module": "@jupyter-widgets/controls",
      "model_module_version": "1.2.0",
      "model_name": "HTMLModel",
      "state": {
       "layout": "IPY_MODEL_4e021c96af744fe5b64ed1d49c9609f2",
       "style": "IPY_MODEL_342181f8640847a6ae4d4d7419d54304",
       "value": "<font color='orange'> &nbsp Stars: 0</font>"
      }
     },
     "8fbc1a80d6684a738f9b473fbc959b52": {
      "model_module": "@jupyter-widgets/controls",
      "model_module_version": "1.2.0",
      "model_name": "HBoxModel",
      "state": {
       "children": [
        "IPY_MODEL_eb1c93c4007a4513916bad82901a1587",
        "IPY_MODEL_26628f45c89b4f34acad201551d74bca"
       ],
       "layout": "IPY_MODEL_3a212671e7e848cbbdfde3c9cabca506"
      }
     },
     "8fbcf99325614f0481e7988a914da0da": {
      "model_module": "@jupyter-widgets/controls",
      "model_module_version": "1.2.0",
      "model_name": "HBoxModel",
      "state": {
       "children": [
        "IPY_MODEL_634588b165f04374b9818a5a84fead65",
        "IPY_MODEL_1513093677294172932846979cc45f0a"
       ],
       "layout": "IPY_MODEL_2f3073b5403f40038f14b8100578d18e"
      }
     },
     "8fd8d70400b54d7abd61d33104997f3f": {
      "model_module": "@jupyter-widgets/controls",
      "model_module_version": "1.2.0",
      "model_name": "ButtonModel",
      "state": {
       "button_style": "success",
       "description": "Publish",
       "layout": "IPY_MODEL_8b23e7f6bc0c43ca81e49d2a960ca128",
       "style": "IPY_MODEL_d6049d6a66a740229aec9766533c579f"
      }
     },
     "906b186399514fdebfb3d4d4dc1ed206": {
      "model_module": "@jupyter-widgets/controls",
      "model_module_version": "1.2.0",
      "model_name": "ButtonModel",
      "state": {
       "button_style": "primary",
       "description": "Download",
       "layout": "IPY_MODEL_fb12803aadb245869968c5b4d280d4eb",
       "style": "IPY_MODEL_989d0567448540379a539ce2c9bfbe17"
      }
     },
     "908079b0179e40c4959cc7b4dc443b70": {
      "model_module": "@jupyter-widgets/controls",
      "model_module_version": "1.2.0",
      "model_name": "HTMLModel",
      "state": {
       "layout": "IPY_MODEL_8c43f26410684d4db7bd3a2d84d7c19c",
       "style": "IPY_MODEL_96c7c6084dff4ba0942b560112c234a3",
       "value": "<h3 style='padding:0;margin:0;'>&nbsp &nbsp &nbsp<a href='https://github.com/pupster90/Mr_Smiley.git'>Mr_Smiley</a></h3>"
      }
     },
     "90951e1149aa43db9da20c96887157e0": {
      "model_module": "@jupyter-widgets/base",
      "model_module_version": "1.0.0",
      "model_name": "LayoutModel",
      "state": {}
     },
     "90d4863139954aaeb033c3d5f542dbbd": {
      "model_module": "@jupyter-widgets/controls",
      "model_module_version": "1.2.0",
      "model_name": "DescriptionStyleModel",
      "state": {
       "description_width": ""
      }
     },
     "912aafe482b145d6aea709c910ca1889": {
      "model_module": "@jupyter-widgets/controls",
      "model_module_version": "1.2.0",
      "model_name": "HBoxModel",
      "state": {
       "children": [
        "IPY_MODEL_34b75bbb12344377861efc48a665d27b",
        "IPY_MODEL_29f1b6fa47104bdfbf9d10639a9f43e7"
       ],
       "layout": "IPY_MODEL_a7cf4aaa4f174448bd7b78ded0ccd52e"
      }
     },
     "914e3494e8fd4009a585816613c1846e": {
      "model_module": "@jupyter-widgets/controls",
      "model_module_version": "1.2.0",
      "model_name": "HTMLModel",
      "state": {
       "layout": "IPY_MODEL_f4c63550d97949a1906912375619bd95",
       "style": "IPY_MODEL_5e590c6acab14f259e8747d3f3d772df",
       "value": "<h4 style='padding:0;margin:0;'>&nbsp <a href='https://github.com/pupster90' style='color:gray'>pupster90</a> &nbsp</h4>"
      }
     },
     "9174ac6ede81459e9af41be16ba780f8": {
      "model_module": "@jupyter-widgets/controls",
      "model_module_version": "1.2.0",
      "model_name": "DescriptionStyleModel",
      "state": {
       "description_width": ""
      }
     },
     "9197fc8884174a699a0477f1932f93c6": {
      "model_module": "@jupyter-widgets/controls",
      "model_module_version": "1.2.0",
      "model_name": "TextModel",
      "state": {
       "layout": "IPY_MODEL_d9e68101343e46e89d3d6306c5636d11",
       "style": "IPY_MODEL_058e8a92fb954685ac05fc5d6b24af64"
      }
     },
     "91984bc40b0c4841b177373267d1167d": {
      "model_module": "@jupyter-widgets/controls",
      "model_module_version": "1.2.0",
      "model_name": "HTMLModel",
      "state": {
       "layout": "IPY_MODEL_f9cbbcf9a3f2434a80ab1b61a5461840",
       "style": "IPY_MODEL_e2ec1cba576a4ba4b82ccd1fe1187f83",
       "value": "<font color='green'> &nbsp Downloads: 0</font>"
      }
     },
     "91fb24596435465b9836de51caf828ed": {
      "model_module": "@jupyter-widgets/base",
      "model_module_version": "1.0.0",
      "model_name": "LayoutModel",
      "state": {
       "width": "100px"
      }
     },
     "9229ca36cc2c4d0a972117fe9360a5e5": {
      "model_module": "@jupyter-widgets/controls",
      "model_module_version": "1.2.0",
      "model_name": "DescriptionStyleModel",
      "state": {
       "description_width": ""
      }
     },
     "9264f3ee8d43488098f20c1c761b371c": {
      "model_module": "@jupyter-widgets/base",
      "model_module_version": "1.0.0",
      "model_name": "LayoutModel",
      "state": {}
     },
     "9281f1c100084781908a767fc666c950": {
      "model_module": "@jupyter-widgets/controls",
      "model_module_version": "1.2.0",
      "model_name": "HBoxModel",
      "state": {
       "children": [
        "IPY_MODEL_c386a2f88c7d46878e62ef6c66fd3342",
        "IPY_MODEL_aa8d701e7cd944bdbb555e81008ecb78"
       ],
       "layout": "IPY_MODEL_bf8fb025038a4ede84381bcf6ae498ea"
      }
     },
     "92c5978fa18344f280e911081e3296f6": {
      "model_module": "@jupyter-widgets/controls",
      "model_module_version": "1.2.0",
      "model_name": "HTMLModel",
      "state": {
       "layout": "IPY_MODEL_30febb5521a542b794bf6473f12cddf7",
       "style": "IPY_MODEL_b4efcd827b87414393c334d64610bf24",
       "value": "<font color='orange'> &nbsp Stars: 0</font>"
      }
     },
     "92d4e5f7c6b1460988171fb8090b7add": {
      "model_module": "@jupyter-widgets/controls",
      "model_module_version": "1.2.0",
      "model_name": "DescriptionStyleModel",
      "state": {
       "description_width": ""
      }
     },
     "92d58b0f448d497ca7b27eb8955ece03": {
      "model_module": "@jupyter-widgets/controls",
      "model_module_version": "1.2.0",
      "model_name": "DescriptionStyleModel",
      "state": {
       "description_width": ""
      }
     },
     "931c332458bc4b349217b40c893cd565": {
      "model_module": "@jupyter-widgets/base",
      "model_module_version": "1.0.0",
      "model_name": "LayoutModel",
      "state": {}
     },
     "93a8491edc7f4adaa5f3bcc57ed174a3": {
      "model_module": "@jupyter-widgets/controls",
      "model_module_version": "1.2.0",
      "model_name": "ButtonModel",
      "state": {
       "button_style": "info",
       "description": "Download",
       "layout": "IPY_MODEL_883471823b724b3cb734bd8ca575902a",
       "style": "IPY_MODEL_0dac26ac5f4342ebb7b045fed44e2aee"
      }
     },
     "941525d4ca9d4769a0408844b2f8343e": {
      "model_module": "@jupyter-widgets/controls",
      "model_module_version": "1.2.0",
      "model_name": "HBoxModel",
      "state": {
       "children": [
        "IPY_MODEL_df76e25af5644b00b57a4c3ebea1238c",
        "IPY_MODEL_89e0be611069431f8c3f3e95ca68eab9"
       ],
       "layout": "IPY_MODEL_27a42257166341b995bbac30018fdd50"
      }
     },
     "942b1df0647943229756289fb451b7a3": {
      "model_module": "@jupyter-widgets/base",
      "model_module_version": "1.0.0",
      "model_name": "LayoutModel",
      "state": {}
     },
     "9464a541551f44c3ba63d3f947f4b713": {
      "model_module": "@jupyter-widgets/controls",
      "model_module_version": "1.2.0",
      "model_name": "DescriptionStyleModel",
      "state": {
       "description_width": ""
      }
     },
     "946c1364e0d744ca848f9ce43d340d54": {
      "model_module": "@jupyter-widgets/controls",
      "model_module_version": "1.2.0",
      "model_name": "HTMLModel",
      "state": {
       "layout": "IPY_MODEL_7b12cdcf70574651b42ee6dd52713e32",
       "style": "IPY_MODEL_5626baa747b64af7b8e8b558558702a6",
       "value": "<h4 style='padding:0;margin:0;'>&nbsp <a href='https://github.com/pupster90' style='color:gray'>pupster90</a> &nbsp</h4>"
      }
     },
     "9497ef66dd1342348139fa92c0490e04": {
      "model_module": "@jupyter-widgets/base",
      "model_module_version": "1.0.0",
      "model_name": "LayoutModel",
      "state": {}
     },
     "949c8a2deea744ba8fb4711de111e73f": {
      "model_module": "@jupyter-widgets/controls",
      "model_module_version": "1.2.0",
      "model_name": "LabelModel",
      "state": {
       "layout": "IPY_MODEL_d8b36a7bf143480aa3cc9feccb3bb626",
       "style": "IPY_MODEL_2992d2f3a08e4eb1b419d092425aecbf",
       "value": "1 day ago"
      }
     },
     "94e1ac827dfa43869697353dc6f0333f": {
      "model_module": "@jupyter-widgets/controls",
      "model_module_version": "1.2.0",
      "model_name": "ButtonModel",
      "state": {
       "button_style": "warning",
       "description": "add",
       "layout": "IPY_MODEL_14162cfeaa354a23985f3c1848632cda",
       "style": "IPY_MODEL_a191817d076a46b286b47e1030bcd1d2"
      }
     },
     "9500c9982eea49e89dab6119a100500f": {
      "model_module": "@jupyter-widgets/controls",
      "model_module_version": "1.2.0",
      "model_name": "ButtonModel",
      "state": {
       "button_style": "primary",
       "description": "Download",
       "layout": "IPY_MODEL_4607ec5268ce46a8a12d5960afe3d8bc",
       "style": "IPY_MODEL_e345d899476247bda1ba8d0160992a65"
      }
     },
     "9530e45d922d4ad082eb21c473c078d0": {
      "model_module": "@jupyter-widgets/controls",
      "model_module_version": "1.2.0",
      "model_name": "HTMLModel",
      "state": {
       "layout": "IPY_MODEL_fdf056b6eb1a40aeb66013f7380a142f",
       "style": "IPY_MODEL_09f5b69a41264a53bd08d32407aeb2c5",
       "value": "<h3 style='padding:0;margin:0;'>&nbsp &nbsp &nbsp<a href='https://github.com/pupster90/io_Blog.git'>io_Blog</a></h3>"
      }
     },
     "95358274f1c341d595348736deec1111": {
      "model_module": "@jupyter-widgets/base",
      "model_module_version": "1.0.0",
      "model_name": "LayoutModel",
      "state": {}
     },
     "959e3a4f1ee74bbab1ddfcadb9c70497": {
      "model_module": "@jupyter-widgets/base",
      "model_module_version": "1.0.0",
      "model_name": "LayoutModel",
      "state": {}
     },
     "95cfbbfecbd34c60951eb95a5813ab13": {
      "model_module": "@jupyter-widgets/controls",
      "model_module_version": "1.2.0",
      "model_name": "ButtonStyleModel",
      "state": {}
     },
     "95df8b68bbba438e8e500c8d7751a15a": {
      "model_module": "@jupyter-widgets/base",
      "model_module_version": "1.0.0",
      "model_name": "LayoutModel",
      "state": {}
     },
     "960aac22b67c4acf9780ab632e623767": {
      "model_module": "@jupyter-widgets/controls",
      "model_module_version": "1.2.0",
      "model_name": "ButtonStyleModel",
      "state": {}
     },
     "96964004aaf04362b3cf49133d387e80": {
      "model_module": "@jupyter-widgets/base",
      "model_module_version": "1.0.0",
      "model_name": "LayoutModel",
      "state": {}
     },
     "96a0844361c540589e9428a8776206b1": {
      "model_module": "@jupyter-widgets/base",
      "model_module_version": "1.0.0",
      "model_name": "LayoutModel",
      "state": {}
     },
     "96c7c6084dff4ba0942b560112c234a3": {
      "model_module": "@jupyter-widgets/controls",
      "model_module_version": "1.2.0",
      "model_name": "DescriptionStyleModel",
      "state": {
       "description_width": ""
      }
     },
     "96d411acd4f14e05ac85eca449bf7d9d": {
      "model_module": "@jupyter-widgets/base",
      "model_module_version": "1.0.0",
      "model_name": "LayoutModel",
      "state": {}
     },
     "971ae27c11c5475bbb7c13d1adc514ac": {
      "model_module": "@jupyter-widgets/controls",
      "model_module_version": "1.2.0",
      "model_name": "ButtonModel",
      "state": {
       "button_style": "primary",
       "description": "Download",
       "layout": "IPY_MODEL_1ab6d1db5a694bca957cfe00212b8da1",
       "style": "IPY_MODEL_b21e6ba226f94792bb2c3a6cb3bb2ac9"
      }
     },
     "9727f3a48953482dbc43894986c06e7a": {
      "model_module": "@jupyter-widgets/base",
      "model_module_version": "1.0.0",
      "model_name": "LayoutModel",
      "state": {
       "width": "auto"
      }
     },
     "972f8d97348849379f0c93577ed4d5b2": {
      "model_module": "@jupyter-widgets/base",
      "model_module_version": "1.0.0",
      "model_name": "LayoutModel",
      "state": {
       "width": "auto"
      }
     },
     "973a0875ffdf41f483cf93f3b9cec6be": {
      "model_module": "@jupyter-widgets/base",
      "model_module_version": "1.0.0",
      "model_name": "LayoutModel",
      "state": {
       "width": "auto"
      }
     },
     "975300b05cd54a43be1affca62ec674b": {
      "model_module": "@jupyter-widgets/base",
      "model_module_version": "1.0.0",
      "model_name": "LayoutModel",
      "state": {}
     },
     "9798e9608d6d4a838666e55537451b32": {
      "model_module": "@jupyter-widgets/controls",
      "model_module_version": "1.2.0",
      "model_name": "DescriptionStyleModel",
      "state": {
       "description_width": ""
      }
     },
     "97df5bb538984b49a7028e9fa76afd82": {
      "model_module": "@jupyter-widgets/controls",
      "model_module_version": "1.2.0",
      "model_name": "DescriptionStyleModel",
      "state": {
       "description_width": ""
      }
     },
     "97fca12e33474bfa8f918c76fa4a0f2a": {
      "model_module": "@jupyter-widgets/controls",
      "model_module_version": "1.2.0",
      "model_name": "HBoxModel",
      "state": {
       "children": [
        "IPY_MODEL_9e68d4ef9f5f4aee8416a01c20a4cf60",
        "IPY_MODEL_aa8dd9beaa3b42a3a859ec0a947ffaaa"
       ],
       "layout": "IPY_MODEL_dcb5e3dae21148dd8e28253a6977e26d"
      }
     },
     "98115e5a0d9a42b488c167a1ca647b26": {
      "model_module": "@jupyter-widgets/base",
      "model_module_version": "1.0.0",
      "model_name": "LayoutModel",
      "state": {}
     },
     "984d8f2d5fcd47649843c4bcf4e437cc": {
      "model_module": "@jupyter-widgets/controls",
      "model_module_version": "1.2.0",
      "model_name": "ButtonModel",
      "state": {
       "button_style": "primary",
       "description": "Download",
       "layout": "IPY_MODEL_9aa2ea3a28674d168e574086a52e3f70",
       "style": "IPY_MODEL_30c744b039f64207bee3181ece62577b"
      }
     },
     "986050370cf54a73a046f38f1bc568b6": {
      "model_module": "@jupyter-widgets/base",
      "model_module_version": "1.0.0",
      "model_name": "LayoutModel",
      "state": {
       "width": "auto"
      }
     },
     "9869e6982e95451fb4e65f23f03426dd": {
      "model_module": "@jupyter-widgets/controls",
      "model_module_version": "1.2.0",
      "model_name": "HBoxModel",
      "state": {
       "children": [
        "IPY_MODEL_949c8a2deea744ba8fb4711de111e73f",
        "IPY_MODEL_40caad58d5414c4c96c07891e04f9e8b",
        "IPY_MODEL_8dad61cdb0a5492ab869a6c102f75926",
        "IPY_MODEL_dabda0402e714c6fab86a3448cc33585",
        "IPY_MODEL_ea157a5781a84fd08ecd9d0d6bb11548",
        "IPY_MODEL_7a9532ff80ce4426ad7995e4983f33c5"
       ],
       "layout": "IPY_MODEL_b65ba05ab1d2467c8da90da728d2f470"
      }
     },
     "986ecb1920294234a6252d6e5013607c": {
      "model_module": "@jupyter-widgets/controls",
      "model_module_version": "1.2.0",
      "model_name": "DescriptionStyleModel",
      "state": {
       "description_width": ""
      }
     },
     "9877213e7fc543b68cc585f30901eed3": {
      "model_module": "@jupyter-widgets/controls",
      "model_module_version": "1.2.0",
      "model_name": "LabelModel",
      "state": {
       "layout": "IPY_MODEL_364956cb55314f5880359bd6eb83b743",
       "style": "IPY_MODEL_2e9b8181e7a44de4844c15baab3c9151",
       "value": "2 hours ago"
      }
     },
     "989bb19546a147a7b7eeee7f3dd0f341": {
      "model_module": "@jupyter-widgets/base",
      "model_module_version": "1.0.0",
      "model_name": "LayoutModel",
      "state": {
       "width": "auto"
      }
     },
     "989d0567448540379a539ce2c9bfbe17": {
      "model_module": "@jupyter-widgets/controls",
      "model_module_version": "1.2.0",
      "model_name": "ButtonStyleModel",
      "state": {}
     },
     "98c145a255af48d2b8132a29f4945ec0": {
      "model_module": "@jupyter-widgets/controls",
      "model_module_version": "1.2.0",
      "model_name": "HTMLModel",
      "state": {
       "layout": "IPY_MODEL_b20e649e39054c1bb15633e4240272a9",
       "style": "IPY_MODEL_7ab53291e5654b5789bf567550dfe58e",
       "value": "<font color='orange'> &nbsp Stars: 0</font>"
      }
     },
     "99ba6dff3c6d4522baa14bdb916a58f2": {
      "model_module": "@jupyter-widgets/controls",
      "model_module_version": "1.2.0",
      "model_name": "HTMLModel",
      "state": {
       "layout": "IPY_MODEL_4ed6b36d755d49a89c92d618ea1ceb59",
       "style": "IPY_MODEL_1abccab882ae4b7cbef7556e458860b4",
       "value": "<font color='orange'> &nbsp Stars: 0</font>"
      }
     },
     "99e95101f9fb471aa9650b8d011c1461": {
      "model_module": "@jupyter-widgets/controls",
      "model_module_version": "1.2.0",
      "model_name": "ButtonModel",
      "state": {
       "button_style": "info",
       "description": "Download",
       "layout": "IPY_MODEL_437ab0d4ce0740d882e61703261c8040",
       "style": "IPY_MODEL_064e343ee4a84514b4539443bbc95c6b"
      }
     },
     "9a06b27979d34c08869e7753d22ce8fb": {
      "model_module": "@jupyter-widgets/base",
      "model_module_version": "1.0.0",
      "model_name": "LayoutModel",
      "state": {}
     },
     "9a21fa9061334d658b08a9f714d75101": {
      "model_module": "@jupyter-widgets/controls",
      "model_module_version": "1.2.0",
      "model_name": "HTMLModel",
      "state": {
       "layout": "IPY_MODEL_0dc8b2f38ac8402294942ddd27ae316a",
       "style": "IPY_MODEL_ab7e5be4fbf94fcd871562955e84771c",
       "value": "<h3 style='padding:0;margin:0;'>&nbsp &nbsp &nbsp<a href='https://github.com/pupster90/Public_Profile.git'>Public_Profile</a></h3>"
      }
     },
     "9a291a3b0a9d4798be38086b305abbd8": {
      "model_module": "@jupyter-widgets/base",
      "model_module_version": "1.0.0",
      "model_name": "LayoutModel",
      "state": {}
     },
     "9a891afc140f4c459fbcc7b3a9178e1c": {
      "model_module": "@jupyter-widgets/controls",
      "model_module_version": "1.2.0",
      "model_name": "DescriptionStyleModel",
      "state": {
       "description_width": ""
      }
     },
     "9a96f301dd044e9f93b84bb81353ec1b": {
      "model_module": "@jupyter-widgets/base",
      "model_module_version": "1.0.0",
      "model_name": "LayoutModel",
      "state": {
       "align_items": "center"
      }
     },
     "9aa2ea3a28674d168e574086a52e3f70": {
      "model_module": "@jupyter-widgets/base",
      "model_module_version": "1.0.0",
      "model_name": "LayoutModel",
      "state": {
       "width": "auto"
      }
     },
     "9afc5507700d4ac7abbe607c04d0f217": {
      "model_module": "@jupyter-widgets/controls",
      "model_module_version": "1.2.0",
      "model_name": "DescriptionStyleModel",
      "state": {
       "description_width": ""
      }
     },
     "9affd24d54f74873bdd4f703ee4a1936": {
      "model_module": "@jupyter-widgets/controls",
      "model_module_version": "1.2.0",
      "model_name": "ButtonStyleModel",
      "state": {}
     },
     "9b000cdb6b0f4e7d94532ac72354965e": {
      "model_module": "@jupyter-widgets/controls",
      "model_module_version": "1.2.0",
      "model_name": "ButtonStyleModel",
      "state": {}
     },
     "9b528b334a73464aa89c00b194693064": {
      "model_module": "@jupyter-widgets/controls",
      "model_module_version": "1.2.0",
      "model_name": "ButtonModel",
      "state": {
       "button_style": "success",
       "description": "Login",
       "layout": "IPY_MODEL_6b7291b1aa0f4b46b7ad0d4f7c5466a2",
       "style": "IPY_MODEL_3806381596014e8aa7d036df534131f9"
      }
     },
     "9b8e52ca18334401a53b894dd88f00d7": {
      "model_module": "@jupyter-widgets/controls",
      "model_module_version": "1.2.0",
      "model_name": "HTMLModel",
      "state": {
       "layout": "IPY_MODEL_7c4ae5b446a94668b8e5074c3ddd9188",
       "style": "IPY_MODEL_a94e006c679742008fc12d7420941956",
       "value": "<h4 style='padding:0;margin:0;'>&nbsp <a href='https://github.com/pupster90' style='color:gray'>pupster90</a> &nbsp</h4>"
      }
     },
     "9b99cb733c6f44c984338549b6a6004d": {
      "model_module": "@jupyter-widgets/controls",
      "model_module_version": "1.2.0",
      "model_name": "HTMLModel",
      "state": {
       "layout": "IPY_MODEL_f48a79d6110d44ad93926850181cecab",
       "style": "IPY_MODEL_b826907715304c9cb1ee004c372cd89f",
       "value": "<h3 style='padding:0;margin:0;'>&nbsp &nbsp &nbsp<a href='https://github.com/pupster90/indra-scraper.git'>indra-scraper</a></h3>"
      }
     },
     "9ba66fc085224f61b1c0fb815b753431": {
      "model_module": "@jupyter-widgets/controls",
      "model_module_version": "1.2.0",
      "model_name": "ButtonModel",
      "state": {
       "button_style": "primary",
       "description": "Download",
       "layout": "IPY_MODEL_e5fa64adab7f405ab7b589794701172e",
       "style": "IPY_MODEL_836ed5ef66024c50a78e529b44dff568"
      }
     },
     "9c0e87980b9446ecb2d532b2a3a5006a": {
      "model_module": "@jupyter-widgets/controls",
      "model_module_version": "1.2.0",
      "model_name": "HBoxModel",
      "state": {
       "children": [
        "IPY_MODEL_a133a84283f34373b86657ee8eb93bf7",
        "IPY_MODEL_7155bed3f4804dd0bee9e4439adaeec5"
       ],
       "layout": "IPY_MODEL_518d68b901834846a73cbfb9522d42bf"
      }
     },
     "9c3d783b55c14f288cdc51109cbc1f55": {
      "model_module": "@jupyter-widgets/controls",
      "model_module_version": "1.2.0",
      "model_name": "HTMLModel",
      "state": {
       "layout": "IPY_MODEL_4f033d1d16fb4b77b28ac83e2120a9ca",
       "style": "IPY_MODEL_d8bcf37a7eae405ba00f71996ebc7bdb",
       "value": "<h3 style='padding:0;margin:0;'>&nbsp &nbsp &nbsp<a href='https://github.com/pupster90/Welcome_to_io-old.git'>Welcome_to_io-old</a></h3>"
      }
     },
     "9c489884528141f6a701ab153a1383d3": {
      "model_module": "@jupyter-widgets/base",
      "model_module_version": "1.0.0",
      "model_name": "LayoutModel",
      "state": {}
     },
     "9c6c8c4fe95244029413a3ec0074a525": {
      "model_module": "@jupyter-widgets/controls",
      "model_module_version": "1.2.0",
      "model_name": "ButtonStyleModel",
      "state": {}
     },
     "9c9743aed3544a79b97e3198a8e41d26": {
      "model_module": "@jupyter-widgets/controls",
      "model_module_version": "1.2.0",
      "model_name": "HTMLModel",
      "state": {
       "layout": "IPY_MODEL_6f286fa6869a4844838200d4bc517b5a",
       "style": "IPY_MODEL_c1933bd1665a4a03b56ecdad04538f93",
       "value": "<font color='orange'> &nbsp Stars: 0</font>"
      }
     },
     "9cd3b5f61c0e49f8ae0cdbc5653a3544": {
      "model_module": "@jupyter-widgets/controls",
      "model_module_version": "1.2.0",
      "model_name": "ButtonModel",
      "state": {
       "button_style": "primary",
       "description": "Download",
       "layout": "IPY_MODEL_35803230b99a485b849b1a9d6a4459ed",
       "style": "IPY_MODEL_fae7a3bf0595460dbb63e2397a0fba05"
      }
     },
     "9dd1a1642dc241e8944d8778f6a169a2": {
      "model_module": "@jupyter-widgets/controls",
      "model_module_version": "1.2.0",
      "model_name": "HTMLModel",
      "state": {
       "layout": "IPY_MODEL_d28d968bdfb44e9b9096183c9a5a65c5",
       "style": "IPY_MODEL_e1ac15fc382d4f518921176242ae8a17",
       "value": "<h4 style='padding:0;margin:0;'>&nbsp <a href='https://github.com/pupster90' style='color:gray'>pupster90</a> &nbsp</h4>"
      }
     },
     "9ddd84e6cd074b2e8e017cf95eb6faea": {
      "model_module": "@jupyter-widgets/controls",
      "model_module_version": "1.2.0",
      "model_name": "DescriptionStyleModel",
      "state": {
       "description_width": ""
      }
     },
     "9de103be46764ba4badd7771c93ca85d": {
      "model_module": "@jupyter-widgets/controls",
      "model_module_version": "1.2.0",
      "model_name": "HTMLModel",
      "state": {
       "layout": "IPY_MODEL_f7b90322a0db40d586537387cdee47b8",
       "style": "IPY_MODEL_22aabd6a8db84a119140844c70444b9d",
       "value": "<h3 style='padding:0;margin:0;'>&nbsp &nbsp &nbsp<a href='https://github.com/pupster90/Public_Profile.git'>Public_Profile</a></h3>"
      }
     },
     "9de7909897124cd1ad0e34c6c685e51c": {
      "model_module": "@jupyter-widgets/controls",
      "model_module_version": "1.2.0",
      "model_name": "HTMLModel",
      "state": {
       "layout": "IPY_MODEL_ca092e8cb6bb48e1a7c4d641b73489d1",
       "style": "IPY_MODEL_1878226d912c47ca8782845bbaa766bf",
       "value": "<h4 style='padding:0;margin:0;'>&nbsp <a href='https://github.com/pupster90' style='color:gray'>pupster90</a> &nbsp</h4>"
      }
     },
     "9de8d3fcf4b945cfa06acd4bf364b152": {
      "model_module": "@jupyter-widgets/base",
      "model_module_version": "1.0.0",
      "model_name": "LayoutModel",
      "state": {
       "width": "auto"
      }
     },
     "9df34c3fa9fc4641bfcc6af97f001882": {
      "model_module": "@jupyter-widgets/base",
      "model_module_version": "1.0.0",
      "model_name": "LayoutModel",
      "state": {}
     },
     "9dfd34201a294f45b60564bf62553183": {
      "model_module": "@jupyter-widgets/controls",
      "model_module_version": "1.2.0",
      "model_name": "ButtonStyleModel",
      "state": {}
     },
     "9e0f49e9a3cc4cce9751ad51e09a3fb4": {
      "model_module": "@jupyter-widgets/controls",
      "model_module_version": "1.2.0",
      "model_name": "LabelModel",
      "state": {
       "layout": "IPY_MODEL_19e58a73dbf0427cb73d9ad76312cbce",
       "style": "IPY_MODEL_7e1c1584bfea40908512d39582755af0",
       "value": "Saved 2 hours ago"
      }
     },
     "9e44a728e3874a729d9897347e36d0fd": {
      "model_module": "@jupyter-widgets/controls",
      "model_module_version": "1.2.0",
      "model_name": "LabelModel",
      "state": {
       "layout": "IPY_MODEL_8d14a94601f24d72be987331f3273400",
       "style": "IPY_MODEL_09bac9c251c44edfb97a3f51bd96da18",
       "value": "19 minutes ago"
      }
     },
     "9e68d4ef9f5f4aee8416a01c20a4cf60": {
      "model_module": "@jupyter-widgets/controls",
      "model_module_version": "1.2.0",
      "model_name": "ButtonModel",
      "state": {
       "button_style": "primary",
       "description": "Download",
       "layout": "IPY_MODEL_79d2e6549f554e8d998b188573a80435",
       "style": "IPY_MODEL_e911839acd4c455e8391299864c26fa6"
      }
     },
     "9e6b0cd0e96948e6bcb7246813084e83": {
      "model_module": "@jupyter-widgets/base",
      "model_module_version": "1.0.0",
      "model_name": "LayoutModel",
      "state": {
       "justify_content": "center",
       "padding": "20px 0 0 0"
      }
     },
     "9e980d0133604f3984f0f76471a5c68a": {
      "model_module": "@jupyter-widgets/controls",
      "model_module_version": "1.2.0",
      "model_name": "HBoxModel",
      "state": {
       "children": [
        "IPY_MODEL_7bcddebb9f6f4b1896bc9ea8b1820c7e",
        "IPY_MODEL_e84a05b14d714d1486c9f7662ad5d938"
       ],
       "layout": "IPY_MODEL_5115bdc6a7dc47118040656842eaf1d5"
      }
     },
     "9ecab76471be4573865008708bfb7d58": {
      "model_module": "@jupyter-widgets/controls",
      "model_module_version": "1.2.0",
      "model_name": "LabelModel",
      "state": {
       "layout": "IPY_MODEL_3cdf3841371543a5bf1891ab104c8f31",
       "style": "IPY_MODEL_986ecb1920294234a6252d6e5013607c",
       "value": "14 minutes ago"
      }
     },
     "9ed3a573e1c04dc48cfbd9e05f2c57fc": {
      "model_module": "@jupyter-widgets/controls",
      "model_module_version": "1.2.0",
      "model_name": "HTMLModel",
      "state": {
       "layout": "IPY_MODEL_b4367580ff3445329b2365145df48d0f",
       "style": "IPY_MODEL_5c58f2967cbd47998e505760ace12ce1",
       "value": "<font color='orange'> &nbsp Stars: 0</font>"
      }
     },
     "9ef09954b7cb4f2e87182e7afa5666d7": {
      "model_module": "@jupyter-widgets/base",
      "model_module_version": "1.0.0",
      "model_name": "LayoutModel",
      "state": {}
     },
     "9f221a7681914b3e9599632838e3657c": {
      "model_module": "@jupyter-widgets/controls",
      "model_module_version": "1.2.0",
      "model_name": "HBoxModel",
      "state": {
       "children": [
        "IPY_MODEL_7d6c002ee8c746d2ae334cdc7a451a20",
        "IPY_MODEL_c646c8360f804217b3a7151b46531610"
       ],
       "layout": "IPY_MODEL_f800532f85bd4959b0706c22dee039e8"
      }
     },
     "9f87cb25b75347c4b0101e9ba48461a0": {
      "model_module": "@jupyter-widgets/controls",
      "model_module_version": "1.2.0",
      "model_name": "ButtonModel",
      "state": {
       "button_style": "success",
       "description": "Publish",
       "layout": "IPY_MODEL_bec645face8a4669901ed848dd38106f",
       "style": "IPY_MODEL_1f063716c2214295bcfed55c97235279"
      }
     },
     "9fd97067b9e04df4b8e9a4f0f6bdc23a": {
      "model_module": "@jupyter-widgets/controls",
      "model_module_version": "1.2.0",
      "model_name": "ButtonStyleModel",
      "state": {}
     },
     "9fe42663ce69442291adcfe284aaeb0e": {
      "model_module": "@jupyter-widgets/base",
      "model_module_version": "1.0.0",
      "model_name": "LayoutModel",
      "state": {}
     },
     "9fec7dc858764960bd3a515cfd5914ce": {
      "model_module": "@jupyter-widgets/controls",
      "model_module_version": "1.2.0",
      "model_name": "HTMLModel",
      "state": {
       "layout": "IPY_MODEL_cd405bc769b14a258ca369e87e779721",
       "style": "IPY_MODEL_41e92ba079ea45b0bfba656767219444",
       "value": "<h3 style='padding:0;margin:0;'>&nbsp &nbsp &nbsp<a href='https://github.com/pupster90/io_Blog.git'>io_Blog</a></h3>"
      }
     },
     "a05de72f16e349eb8239042a45d6446b": {
      "model_module": "@jupyter-widgets/base",
      "model_module_version": "1.0.0",
      "model_name": "LayoutModel",
      "state": {
       "width": "auto"
      }
     },
     "a06239e8ab6b4ac6b84688b0d8bd7d3f": {
      "model_module": "@jupyter-widgets/controls",
      "model_module_version": "1.2.0",
      "model_name": "DescriptionStyleModel",
      "state": {
       "description_width": ""
      }
     },
     "a0763d4b892342d4981877ca1c85bfca": {
      "model_module": "@jupyter-widgets/base",
      "model_module_version": "1.0.0",
      "model_name": "LayoutModel",
      "state": {
       "width": "auto"
      }
     },
     "a0a0acbf08784494b205935ac85f4748": {
      "model_module": "@jupyter-widgets/controls",
      "model_module_version": "1.2.0",
      "model_name": "ButtonStyleModel",
      "state": {}
     },
     "a0c0faa95e304a1d9ab2bb5060afd522": {
      "model_module": "@jupyter-widgets/base",
      "model_module_version": "1.0.0",
      "model_name": "LayoutModel",
      "state": {
       "align_items": "center"
      }
     },
     "a0e915dd63ac47d8ae7e93ea030062a7": {
      "model_module": "@jupyter-widgets/controls",
      "model_module_version": "1.2.0",
      "model_name": "ButtonModel",
      "state": {
       "button_style": "warning",
       "description": "Update",
       "layout": "IPY_MODEL_357dbeb21a69412a83254fa336723ebd",
       "style": "IPY_MODEL_43a3b0863c6e482da052151785e44c53"
      }
     },
     "a0f7e91e712c4093849938a0c7551c20": {
      "model_module": "@jupyter-widgets/controls",
      "model_module_version": "1.2.0",
      "model_name": "ButtonStyleModel",
      "state": {}
     },
     "a10b1b0f78f041ecb2955e109cfc7285": {
      "model_module": "@jupyter-widgets/controls",
      "model_module_version": "1.2.0",
      "model_name": "HTMLModel",
      "state": {
       "layout": "IPY_MODEL_c67e2019a26d4368890d304dd26302cd",
       "style": "IPY_MODEL_59e25e5c69bc4083b1e70f599830240d",
       "value": "<h3 style='padding:0;margin:0;'>&nbsp &nbsp &nbsp<a href='https://github.com/pupster90/Ideker_Online.git'>Ideker_Online</a></h3>"
      }
     },
     "a1111bb1b84d4fb0bcf5d06421615946": {
      "model_module": "@jupyter-widgets/controls",
      "model_module_version": "1.2.0",
      "model_name": "HTMLModel",
      "state": {
       "layout": "IPY_MODEL_a4d4226ad2704b3490eee6137030930f",
       "style": "IPY_MODEL_d3d4b756fbcd4f53abcaae218c25c440",
       "value": "<font color='green'> &nbsp Downloads: 0</font>"
      }
     },
     "a125cdafed624ca29b610eb5627bc32f": {
      "model_module": "@jupyter-widgets/controls",
      "model_module_version": "1.2.0",
      "model_name": "DescriptionStyleModel",
      "state": {
       "description_width": ""
      }
     },
     "a133a84283f34373b86657ee8eb93bf7": {
      "model_module": "@jupyter-widgets/controls",
      "model_module_version": "1.2.0",
      "model_name": "ButtonModel",
      "state": {
       "button_style": "primary",
       "description": "Download",
       "layout": "IPY_MODEL_389aa5d7e7874b5792c42fe961e9d4f3",
       "style": "IPY_MODEL_4497caae6aac4bf694473cd55ed92485"
      }
     },
     "a169742f6a7048ef98c7fd43e6563ad0": {
      "model_module": "@jupyter-widgets/base",
      "model_module_version": "1.0.0",
      "model_name": "LayoutModel",
      "state": {}
     },
     "a191817d076a46b286b47e1030bcd1d2": {
      "model_module": "@jupyter-widgets/controls",
      "model_module_version": "1.2.0",
      "model_name": "ButtonStyleModel",
      "state": {}
     },
     "a1c1d82de10a448581428e0c27e3f642": {
      "model_module": "@jupyter-widgets/controls",
      "model_module_version": "1.2.0",
      "model_name": "ButtonModel",
      "state": {
       "button_style": "primary",
       "description": "Download",
       "layout": "IPY_MODEL_3450fcd001d44e32a25db27fea1f5b2f",
       "style": "IPY_MODEL_dd441bf3e7334dcd9c47b8475caf80a2"
      }
     },
     "a1deee27de0c499d8005067b6e022e77": {
      "model_module": "@jupyter-widgets/base",
      "model_module_version": "1.0.0",
      "model_name": "LayoutModel",
      "state": {}
     },
     "a22d6d610187493fa84a75179fb5b2f6": {
      "model_module": "@jupyter-widgets/base",
      "model_module_version": "1.0.0",
      "model_name": "LayoutModel",
      "state": {}
     },
     "a22da6abfe6c4ea9832ac58532f87f29": {
      "model_module": "@jupyter-widgets/controls",
      "model_module_version": "1.2.0",
      "model_name": "DescriptionStyleModel",
      "state": {
       "description_width": ""
      }
     },
     "a258ed3d184846c195b476993c4769fb": {
      "model_module": "@jupyter-widgets/controls",
      "model_module_version": "1.2.0",
      "model_name": "HBoxModel",
      "state": {
       "children": [
        "IPY_MODEL_1e77564ed344415a9b868897b50add86",
        "IPY_MODEL_0cc5c3cb0e6d4b1cafc4051caaaa8fe4"
       ],
       "layout": "IPY_MODEL_845c643df90240a482cefd1d51ccfe1c"
      }
     },
     "a3139860e6ff40b4ab744d3c34c31166": {
      "model_module": "@jupyter-widgets/base",
      "model_module_version": "1.0.0",
      "model_name": "LayoutModel",
      "state": {
       "align_items": "center"
      }
     },
     "a326181136ce490cb1de3210fb03fc76": {
      "model_module": "@jupyter-widgets/controls",
      "model_module_version": "1.2.0",
      "model_name": "HTMLModel",
      "state": {
       "layout": "IPY_MODEL_3d5dab69de1b4732b7257d7ab70ba1b5",
       "style": "IPY_MODEL_be0d8e94f7a542dbb25dda75f9cfefc7",
       "value": "<h3 style='padding:0;margin:0;'>&nbsp &nbsp<a href='https://github.com/pupster90/io_Presentation'>io_Presentation</a> &nbsp</h3>"
      }
     },
     "a345ef1db4814bf0a153b92abbc8b1d4": {
      "model_module": "@jupyter-widgets/controls",
      "model_module_version": "1.2.0",
      "model_name": "HBoxModel",
      "state": {
       "children": [
        "IPY_MODEL_8efd8561485841ef9657b4ca23d02a41",
        "IPY_MODEL_18327a1de4e14b388aa7fb482c30c192"
       ],
       "layout": "IPY_MODEL_105d18c9e88f495291d9930894851bf2"
      }
     },
     "a3b6abbb755342d38862e7d9144ec972": {
      "model_module": "@jupyter-widgets/base",
      "model_module_version": "1.0.0",
      "model_name": "LayoutModel",
      "state": {}
     },
     "a3c0b105485f4108b4a23a9a81938d51": {
      "model_module": "@jupyter-widgets/controls",
      "model_module_version": "1.2.0",
      "model_name": "HTMLModel",
      "state": {
       "layout": "IPY_MODEL_47f9b8dca5664b5dbf3f11d2f9fadc52",
       "style": "IPY_MODEL_4540985f63444b86aba87fb70810ee07",
       "value": "<h3 style='padding:0;margin:0;'>&nbsp &nbsp &nbsp<a href='https://github.com/pupster90/Public_Profile.git'>Public_Profile</a></h3>"
      }
     },
     "a407752c17524f85a36e3fef206c825f": {
      "model_module": "@jupyter-widgets/controls",
      "model_module_version": "1.2.0",
      "model_name": "HTMLModel",
      "state": {
       "layout": "IPY_MODEL_ed29d9eaf2014b2e88778eebfb1dfbdf",
       "style": "IPY_MODEL_f25e965f04674979b02f3b47cc93b773",
       "value": "<h3 style='padding:0;margin:0;'>&nbsp &nbsp &nbsp<a href='https://github.com/pupster90/io_Blog.git'>io_Blog</a></h3>"
      }
     },
     "a4653397d1bb4645a4cdeb6b97a6a299": {
      "model_module": "@jupyter-widgets/controls",
      "model_module_version": "1.2.0",
      "model_name": "ButtonStyleModel",
      "state": {}
     },
     "a475ff13faad4b0195476b9f81c82b09": {
      "model_module": "@jupyter-widgets/base",
      "model_module_version": "1.0.0",
      "model_name": "LayoutModel",
      "state": {
       "width": "auto"
      }
     },
     "a4d4226ad2704b3490eee6137030930f": {
      "model_module": "@jupyter-widgets/base",
      "model_module_version": "1.0.0",
      "model_name": "LayoutModel",
      "state": {}
     },
     "a4dcfdffeedd4ebebe0cfdc7a0616193": {
      "model_module": "@jupyter-widgets/controls",
      "model_module_version": "1.2.0",
      "model_name": "DescriptionStyleModel",
      "state": {
       "description_width": ""
      }
     },
     "a4e7206e19754bc8a599b73f867184fe": {
      "model_module": "@jupyter-widgets/controls",
      "model_module_version": "1.2.0",
      "model_name": "LabelModel",
      "state": {
       "layout": "IPY_MODEL_dbf975db88fa4529a99e5ddc5faa3008",
       "style": "IPY_MODEL_4e52102970bd4888b39e8c9938ebd25a",
       "value": "7 minutes ago"
      }
     },
     "a571339548fc4417a86feec58daee1c6": {
      "model_module": "@jupyter-widgets/base",
      "model_module_version": "1.0.0",
      "model_name": "LayoutModel",
      "state": {}
     },
     "a5b7baaa752b4ffea555269d33501be5": {
      "model_module": "@jupyter-widgets/controls",
      "model_module_version": "1.2.0",
      "model_name": "DescriptionStyleModel",
      "state": {
       "description_width": ""
      }
     },
     "a5d4402efebc4ad192c01151ac90f644": {
      "model_module": "@jupyter-widgets/base",
      "model_module_version": "1.0.0",
      "model_name": "LayoutModel",
      "state": {}
     },
     "a6598ac48ba940c6aa98f731c50ba432": {
      "model_module": "@jupyter-widgets/controls",
      "model_module_version": "1.2.0",
      "model_name": "DescriptionStyleModel",
      "state": {
       "description_width": ""
      }
     },
     "a67ad8188dfb4b26b6f8a724fcfebcc5": {
      "model_module": "@jupyter-widgets/base",
      "model_module_version": "1.0.0",
      "model_name": "LayoutModel",
      "state": {}
     },
     "a6af5b41c3e94a6a8d7b2c777525930f": {
      "model_module": "@jupyter-widgets/base",
      "model_module_version": "1.0.0",
      "model_name": "LayoutModel",
      "state": {}
     },
     "a6bceb9efd2c44a18ae0241ec5a619ef": {
      "model_module": "@jupyter-widgets/base",
      "model_module_version": "1.0.0",
      "model_name": "LayoutModel",
      "state": {}
     },
     "a6e95deaefe54b23a1c37321904f89da": {
      "model_module": "@jupyter-widgets/controls",
      "model_module_version": "1.2.0",
      "model_name": "ButtonModel",
      "state": {
       "button_style": "info",
       "description": "Download",
       "layout": "IPY_MODEL_a475ff13faad4b0195476b9f81c82b09",
       "style": "IPY_MODEL_d3de1ce77550478e89dc1c0bd57d4375"
      }
     },
     "a6f01cdf86474ec19984bf236dd2fb42": {
      "model_module": "@jupyter-widgets/base",
      "model_module_version": "1.0.0",
      "model_name": "LayoutModel",
      "state": {
       "width": "100px"
      }
     },
     "a713d21d78764fcc979a8f405773d3d3": {
      "model_module": "@jupyter-widgets/controls",
      "model_module_version": "1.2.0",
      "model_name": "ButtonStyleModel",
      "state": {}
     },
     "a727287de33740caa59b349687e7a588": {
      "model_module": "@jupyter-widgets/base",
      "model_module_version": "1.0.0",
      "model_name": "LayoutModel",
      "state": {
       "align_items": "center"
      }
     },
     "a7295fbd4b4440328f90436b10029535": {
      "model_module": "@jupyter-widgets/controls",
      "model_module_version": "1.2.0",
      "model_name": "LabelModel",
      "state": {
       "layout": "IPY_MODEL_870819aa686d4cf588d699e0bb46e6df",
       "style": "IPY_MODEL_8eba36d6ae9749a6ba8323c870ad2fab",
       "value": "36 minutes ago"
      }
     },
     "a73062af5f344246bcf7e51f6edcbe1b": {
      "model_module": "@jupyter-widgets/controls",
      "model_module_version": "1.2.0",
      "model_name": "ButtonModel",
      "state": {
       "button_style": "primary",
       "description": " Refresh",
       "icon": "refresh",
       "layout": "IPY_MODEL_51b8ebfa45b64db1b8d14be0dd4e7ac2",
       "style": "IPY_MODEL_7215e9480d0042c7ae50758ba36ac90c"
      }
     },
     "a76b9ad2e04b4b99bb70c896253123d9": {
      "model_module": "@jupyter-widgets/controls",
      "model_module_version": "1.2.0",
      "model_name": "DescriptionStyleModel",
      "state": {
       "description_width": ""
      }
     },
     "a7c2e4f5ecd6410498f789decda8e6dd": {
      "model_module": "@jupyter-widgets/base",
      "model_module_version": "1.0.0",
      "model_name": "LayoutModel",
      "state": {
       "align_items": "center"
      }
     },
     "a7cf4aaa4f174448bd7b78ded0ccd52e": {
      "model_module": "@jupyter-widgets/base",
      "model_module_version": "1.0.0",
      "model_name": "LayoutModel",
      "state": {
       "align_items": "center"
      }
     },
     "a7f900b748af4f91b5fe1c0c18e4aa3c": {
      "model_module": "@jupyter-widgets/controls",
      "model_module_version": "1.2.0",
      "model_name": "ButtonStyleModel",
      "state": {}
     },
     "a83ec5a44c70431d8c2c001a2f9766ea": {
      "model_module": "@jupyter-widgets/base",
      "model_module_version": "1.0.0",
      "model_name": "LayoutModel",
      "state": {
       "align_items": "center"
      }
     },
     "a889268b2bf946f281fe32b5717daaa7": {
      "model_module": "@jupyter-widgets/base",
      "model_module_version": "1.0.0",
      "model_name": "LayoutModel",
      "state": {}
     },
     "a8eeed54c0ee404090cb746840b4c0c5": {
      "model_module": "@jupyter-widgets/controls",
      "model_module_version": "1.2.0",
      "model_name": "LabelModel",
      "state": {
       "layout": "IPY_MODEL_26258539ca81484880887f70d59d46e9",
       "style": "IPY_MODEL_52b3b1d5b79a470895683d2868d6c677",
       "value": "1 hour ago"
      }
     },
     "a9256ef7843f4979922f23a1ce4ecef9": {
      "model_module": "@jupyter-widgets/base",
      "model_module_version": "1.0.0",
      "model_name": "LayoutModel",
      "state": {}
     },
     "a94e006c679742008fc12d7420941956": {
      "model_module": "@jupyter-widgets/controls",
      "model_module_version": "1.2.0",
      "model_name": "DescriptionStyleModel",
      "state": {
       "description_width": ""
      }
     },
     "a95a1304581d41e3b75925fbaba2191e": {
      "model_module": "@jupyter-widgets/controls",
      "model_module_version": "1.2.0",
      "model_name": "ButtonStyleModel",
      "state": {}
     },
     "a9d7d1e6e608418587d34e7f714e642d": {
      "model_module": "@jupyter-widgets/controls",
      "model_module_version": "1.2.0",
      "model_name": "HTMLModel",
      "state": {
       "layout": "IPY_MODEL_e7c9df4352cd4fdaa10786394c5a7687",
       "style": "IPY_MODEL_f94439cf853245ceb3c860d318c96701",
       "value": "<h4 style='padding:0;margin:0;'>&nbsp <a href='https://github.com/pupster90' style='color:gray'>pupster90</a> &nbsp</h4>"
      }
     },
     "a9dcc8329bad423887dd4ef7fd1ecc8e": {
      "model_module": "@jupyter-widgets/base",
      "model_module_version": "1.0.0",
      "model_name": "LayoutModel",
      "state": {
       "justify_content": "center",
       "margin": "0 0 0 100px"
      }
     },
     "a9de806b2db34a209ca1b06918a1f6c0": {
      "model_module": "@jupyter-widgets/base",
      "model_module_version": "1.0.0",
      "model_name": "LayoutModel",
      "state": {
       "width": "auto"
      }
     },
     "aa02599f13b7442c90c7c4782aa2d467": {
      "model_module": "@jupyter-widgets/base",
      "model_module_version": "1.0.0",
      "model_name": "LayoutModel",
      "state": {}
     },
     "aa250af875ba4b20a97ddf84268878ee": {
      "model_module": "@jupyter-widgets/controls",
      "model_module_version": "1.2.0",
      "model_name": "LabelModel",
      "state": {
       "layout": "IPY_MODEL_23d66a5d65a449499e2dc0bf893835bb",
       "style": "IPY_MODEL_a22da6abfe6c4ea9832ac58532f87f29",
       "value": "Saved 3 days ago"
      }
     },
     "aa31e356f6f74349a52ea7cefa76b792": {
      "model_module": "@jupyter-widgets/controls",
      "model_module_version": "1.2.0",
      "model_name": "DescriptionStyleModel",
      "state": {
       "description_width": ""
      }
     },
     "aa8d701e7cd944bdbb555e81008ecb78": {
      "model_module": "@jupyter-widgets/controls",
      "model_module_version": "1.2.0",
      "model_name": "HTMLModel",
      "state": {
       "layout": "IPY_MODEL_cddfd1c17efc47aa8184ca749e73ae5f",
       "style": "IPY_MODEL_49230dfb0912459ca6bb74695b587972",
       "value": "<h3 style='padding:0;margin:0;'>&nbsp &nbsp &nbsp<a href='https://github.com/pupster90/cse103_2017.git'>cse103_2017</a></h3>"
      }
     },
     "aa8dd9beaa3b42a3a859ec0a947ffaaa": {
      "model_module": "@jupyter-widgets/controls",
      "model_module_version": "1.2.0",
      "model_name": "HTMLModel",
      "state": {
       "layout": "IPY_MODEL_30dd279b69b4471d9c964031bec054a3",
       "style": "IPY_MODEL_614f92d39bcc4ae48b6b9224bdb9a903",
       "value": "<h3 style='padding:0;margin:0;'>&nbsp &nbsp &nbsp<a href='https://github.com/pupster90/mind-reader.git'>mind-reader</a></h3>"
      }
     },
     "aad156fb2b274d04b911b9020e6122d5": {
      "model_module": "@jupyter-widgets/controls",
      "model_module_version": "1.2.0",
      "model_name": "DescriptionStyleModel",
      "state": {
       "description_width": ""
      }
     },
     "aad4c0168ffc4c509f9c8dc282001de0": {
      "model_module": "@jupyter-widgets/base",
      "model_module_version": "1.0.0",
      "model_name": "LayoutModel",
      "state": {}
     },
     "aad6320150a04531b766c160bb80a770": {
      "model_module": "@jupyter-widgets/controls",
      "model_module_version": "1.2.0",
      "model_name": "ButtonModel",
      "state": {
       "button_style": "primary",
       "description": "Download",
       "layout": "IPY_MODEL_fc89907d3c4546189ced7fd152b5301b",
       "style": "IPY_MODEL_4b37836c09614cf49c9a67aa00160c48"
      }
     },
     "aae91da5bd334b2f9012a8b0d884a148": {
      "model_module": "@jupyter-widgets/controls",
      "model_module_version": "1.2.0",
      "model_name": "HBoxModel",
      "state": {
       "children": [
        "IPY_MODEL_53d0c910357d47b584897fa0424b74dc",
        "IPY_MODEL_3e99900bed094b3491d8a48d5083d9a6"
       ],
       "layout": "IPY_MODEL_c0b67d7a1c8a4574807caf59e452cbfd"
      }
     },
     "aaf901588b364dbf8a8c86f943db78f9": {
      "model_module": "@jupyter-widgets/controls",
      "model_module_version": "1.2.0",
      "model_name": "TextModel",
      "state": {
       "layout": "IPY_MODEL_a6af5b41c3e94a6a8d7b2c777525930f",
       "style": "IPY_MODEL_5f61866b26a840ce9807140a071fc47e"
      }
     },
     "ab0ce69f2aa244d3991f8091d4369cf1": {
      "model_module": "@jupyter-widgets/controls",
      "model_module_version": "1.2.0",
      "model_name": "ButtonStyleModel",
      "state": {}
     },
     "ab42e70220bb4b858ea78078a9f06fd8": {
      "model_module": "@jupyter-widgets/controls",
      "model_module_version": "1.2.0",
      "model_name": "ButtonModel",
      "state": {
       "button_style": "info",
       "description": "Download",
       "layout": "IPY_MODEL_5ce13c25732c4533b9933c06f80c38dd",
       "style": "IPY_MODEL_9dfd34201a294f45b60564bf62553183"
      }
     },
     "ab7e5be4fbf94fcd871562955e84771c": {
      "model_module": "@jupyter-widgets/controls",
      "model_module_version": "1.2.0",
      "model_name": "DescriptionStyleModel",
      "state": {
       "description_width": ""
      }
     },
     "abd0028370814362bbde1dfe0f4ab809": {
      "model_module": "@jupyter-widgets/controls",
      "model_module_version": "1.2.0",
      "model_name": "DescriptionStyleModel",
      "state": {
       "description_width": ""
      }
     },
     "ac095b242d6d4941850f78e7ab7e5382": {
      "model_module": "@jupyter-widgets/controls",
      "model_module_version": "1.2.0",
      "model_name": "HTMLModel",
      "state": {
       "layout": "IPY_MODEL_f9d3d5b69e914c43afc052c2c2013965",
       "style": "IPY_MODEL_d0b5a2d38bab476daf77786b8741fd52",
       "value": "<h4 style='padding:0;margin:0;'>&nbsp <a href='https://github.com/pupster90' style='color:gray'>pupster90</a> &nbsp</h4>"
      }
     },
     "ac22596d64014fc2ba836d8217e6a370": {
      "model_module": "@jupyter-widgets/base",
      "model_module_version": "1.0.0",
      "model_name": "LayoutModel",
      "state": {}
     },
     "ac98769cb8a9494597b800a3494ce060": {
      "model_module": "@jupyter-widgets/base",
      "model_module_version": "1.0.0",
      "model_name": "LayoutModel",
      "state": {
       "align_items": "center"
      }
     },
     "acb9f3571c8a4de38b63e504c4a17f5a": {
      "model_module": "@jupyter-widgets/controls",
      "model_module_version": "1.2.0",
      "model_name": "HBoxModel",
      "state": {
       "children": [
        "IPY_MODEL_520b2538edc0461c9443f7f383034cfd",
        "IPY_MODEL_46b16d89a105436584b98c054e8dca7f"
       ],
       "layout": "IPY_MODEL_1d6b35ac8b26420086d0e0694712e1be"
      }
     },
     "ad0f127ffd1a425e93d5973a92eb1788": {
      "model_module": "@jupyter-widgets/controls",
      "model_module_version": "1.2.0",
      "model_name": "HBoxModel",
      "state": {
       "children": [
        "IPY_MODEL_eb94f353fa30428ea476313990044d94",
        "IPY_MODEL_5c66042074c64828bb9d17254ee14cdf"
       ],
       "layout": "IPY_MODEL_3a962d963c894d2c94b390f5554a3af9"
      }
     },
     "ad1fbea9658248baa4eeb2e8b56ad301": {
      "model_module": "@jupyter-widgets/controls",
      "model_module_version": "1.2.0",
      "model_name": "HTMLModel",
      "state": {
       "layout": "IPY_MODEL_45f1970a5ba54c84afa02082c76f62cf",
       "style": "IPY_MODEL_1d20962f39a24e5ba29c020c2045af60",
       "value": "<h3 style='padding:0;margin:0;'>&nbsp &nbsp &nbsp<a href='https://github.com/pupster90/pythonStrings.git'>pythonStrings</a></h3>"
      }
     },
     "ad4d2100a04f4978a929afa61f530fac": {
      "model_module": "@jupyter-widgets/base",
      "model_module_version": "1.0.0",
      "model_name": "LayoutModel",
      "state": {
       "width": "auto"
      }
     },
     "ad639eae2293441dbe52d7cc518387f4": {
      "model_module": "@jupyter-widgets/controls",
      "model_module_version": "1.2.0",
      "model_name": "LabelModel",
      "state": {
       "layout": "IPY_MODEL_1e36adb404ce41699f81e9f0139d24e3",
       "style": "IPY_MODEL_7b5f190f98fb44af98340855f6c98170",
       "value": "Saved 25 hours ago"
      }
     },
     "ad87d45858c44497b1d7eeb52d23523b": {
      "model_module": "@jupyter-widgets/controls",
      "model_module_version": "1.2.0",
      "model_name": "HTMLModel",
      "state": {
       "layout": "IPY_MODEL_33150d8899de4a96be477159b627fd8f",
       "style": "IPY_MODEL_84931b8b7e52480b81ba6b1a26422240",
       "value": "<h4 style='padding:0;margin:0;'>&nbsp <a href='https://github.com/pupster90' style='color:gray'>pupster90</a> &nbsp</h4>"
      }
     },
     "ae2c735167cc4748b4d89812f1b8d631": {
      "model_module": "@jupyter-widgets/controls",
      "model_module_version": "1.2.0",
      "model_name": "ButtonStyleModel",
      "state": {}
     },
     "af14ae6e83c04cb791c5ee949f94fc4e": {
      "model_module": "@jupyter-widgets/controls",
      "model_module_version": "1.2.0",
      "model_name": "ButtonModel",
      "state": {
       "button_style": "primary",
       "description": "Download",
       "layout": "IPY_MODEL_4e27316443364e74a26e36777da76c7a",
       "style": "IPY_MODEL_7a5ed4fa2b91476bb7a0bfa1156354cd"
      }
     },
     "af8f511752814b1fbd2fb4b00431425c": {
      "model_module": "@jupyter-widgets/controls",
      "model_module_version": "1.2.0",
      "model_name": "DescriptionStyleModel",
      "state": {
       "description_width": ""
      }
     },
     "b00a73057dfb4cb0a111f3cc652e6490": {
      "model_module": "@jupyter-widgets/controls",
      "model_module_version": "1.2.0",
      "model_name": "HBoxModel",
      "state": {
       "children": [
        "IPY_MODEL_59543fda4374485a91ff207ca181a9b1",
        "IPY_MODEL_6deb17932eeb4dc18881811e0fa26ab9",
        "IPY_MODEL_aa250af875ba4b20a97ddf84268878ee",
        "IPY_MODEL_73002b1703124cd7a19f809a237a63fc"
       ],
       "layout": "IPY_MODEL_cb40926c5c49422ca0b3427155a95daf"
      }
     },
     "b03bab1afa55433a881a212087f9733d": {
      "model_module": "@jupyter-widgets/controls",
      "model_module_version": "1.2.0",
      "model_name": "LabelModel",
      "state": {
       "layout": "IPY_MODEL_cbc3ba20b72d496c9cc27de45fd133ea",
       "style": "IPY_MODEL_f82374ebd7574638ba96b3012c793b85",
       "value": "Saved 2 hours ago"
      }
     },
     "b03efa9893644a47a5f9677f9429b8b5": {
      "model_module": "@jupyter-widgets/controls",
      "model_module_version": "1.2.0",
      "model_name": "ButtonStyleModel",
      "state": {}
     },
     "b04ba3fd77d843d5a94a2eee344a756b": {
      "model_module": "@jupyter-widgets/controls",
      "model_module_version": "1.2.0",
      "model_name": "DescriptionStyleModel",
      "state": {
       "description_width": ""
      }
     },
     "b0e0cbcfadd44be882147d54e8081a0b": {
      "model_module": "@jupyter-widgets/base",
      "model_module_version": "1.0.0",
      "model_name": "LayoutModel",
      "state": {
       "width": "100px"
      }
     },
     "b0efb94c2996483cbc87735d8348dccc": {
      "model_module": "@jupyter-widgets/base",
      "model_module_version": "1.0.0",
      "model_name": "LayoutModel",
      "state": {}
     },
     "b122c3ed1c8c44fba8d197d8bd9cc917": {
      "model_module": "@jupyter-widgets/controls",
      "model_module_version": "1.2.0",
      "model_name": "DescriptionStyleModel",
      "state": {
       "description_width": ""
      }
     },
     "b145df9eed0b4daa8d8ba32cbd9c9cd0": {
      "model_module": "@jupyter-widgets/base",
      "model_module_version": "1.0.0",
      "model_name": "LayoutModel",
      "state": {
       "visibility": "hidden"
      }
     },
     "b18f2cf38ddf453783203a1b5bfb00cb": {
      "model_module": "@jupyter-widgets/controls",
      "model_module_version": "1.2.0",
      "model_name": "DescriptionStyleModel",
      "state": {
       "description_width": ""
      }
     },
     "b1983cef2c9d49a894b5ebd99bfbe8e7": {
      "model_module": "@jupyter-widgets/controls",
      "model_module_version": "1.2.0",
      "model_name": "HTMLModel",
      "state": {
       "layout": "IPY_MODEL_7c0078c53064425c95c5a8a0c69bbf2f",
       "style": "IPY_MODEL_1c280c18e6eb4930a8eaa06be9489bf1",
       "value": "<h3 style='padding:0;margin:0;'>&nbsp &nbsp<a href='https://github.com/pupster90/io_Blog'>io_Blog</a> &nbsp</h3>"
      }
     },
     "b1a48441779e48b4ac0b135840867a04": {
      "model_module": "@jupyter-widgets/base",
      "model_module_version": "1.0.0",
      "model_name": "LayoutModel",
      "state": {
       "align_items": "center"
      }
     },
     "b1c0b6910ddf466e8ed7891228702868": {
      "model_module": "@jupyter-widgets/controls",
      "model_module_version": "1.2.0",
      "model_name": "DescriptionStyleModel",
      "state": {
       "description_width": ""
      }
     },
     "b208de1bc1de4e68a5a97f2c7e6aace6": {
      "model_module": "@jupyter-widgets/controls",
      "model_module_version": "1.2.0",
      "model_name": "DescriptionStyleModel",
      "state": {
       "description_width": ""
      }
     },
     "b20e649e39054c1bb15633e4240272a9": {
      "model_module": "@jupyter-widgets/base",
      "model_module_version": "1.0.0",
      "model_name": "LayoutModel",
      "state": {}
     },
     "b21e6ba226f94792bb2c3a6cb3bb2ac9": {
      "model_module": "@jupyter-widgets/controls",
      "model_module_version": "1.2.0",
      "model_name": "ButtonStyleModel",
      "state": {}
     },
     "b2b8ef1df4f246758bd82a4d64b6ca16": {
      "model_module": "@jupyter-widgets/controls",
      "model_module_version": "1.2.0",
      "model_name": "HTMLModel",
      "state": {
       "layout": "IPY_MODEL_cfd0fd4026a84202b2b0c1d3a9d2158a",
       "style": "IPY_MODEL_70abb7e907d1476e9e10cc0da9036598",
       "value": "<h3 style='padding:0;margin:0;'>&nbsp &nbsp &nbsp<a href='https://github.com/pupster90/Setup_Notebook.git'>Setup_Notebook</a></h3>"
      }
     },
     "b2dca4c21fb14f80a024354163078e3c": {
      "model_module": "@jupyter-widgets/base",
      "model_module_version": "1.0.0",
      "model_name": "LayoutModel",
      "state": {
       "width": "auto"
      }
     },
     "b32295e931db42d7b0d7dddda23cfd53": {
      "model_module": "@jupyter-widgets/controls",
      "model_module_version": "1.2.0",
      "model_name": "HTMLModel",
      "state": {
       "layout": "IPY_MODEL_5c19d58b246e4ddb82c971774a53b744",
       "style": "IPY_MODEL_58386f61bdb545e2bc7b8654d3b20036",
       "value": "<h4 style='padding:0;margin:0;'>&nbsp <a href='https://github.com/pupster90' style='color:gray'>pupster90</a> &nbsp</h4>"
      }
     },
     "b33689291eef46acaa91cd78aa1c0ad5": {
      "model_module": "@jupyter-widgets/controls",
      "model_module_version": "1.2.0",
      "model_name": "HBoxModel",
      "state": {
       "children": [
        "IPY_MODEL_16179defb7aa4298a329e379629df783",
        "IPY_MODEL_8a425752418e43009ca8d2f05bf93903"
       ],
       "layout": "IPY_MODEL_62d4186e09504e028747b23101ddfa36"
      }
     },
     "b357687e849742f49b5fad52f72a1ce9": {
      "model_module": "@jupyter-widgets/controls",
      "model_module_version": "1.2.0",
      "model_name": "DescriptionStyleModel",
      "state": {
       "description_width": ""
      }
     },
     "b3784eeb923a4a1d9bdce00bfadddbc8": {
      "model_module": "@jupyter-widgets/controls",
      "model_module_version": "1.2.0",
      "model_name": "DescriptionStyleModel",
      "state": {
       "description_width": ""
      }
     },
     "b389ecc0d5e74ca8b1e6ed9308543231": {
      "model_module": "@jupyter-widgets/base",
      "model_module_version": "1.0.0",
      "model_name": "LayoutModel",
      "state": {}
     },
     "b392c1d6e947407792ac7b8d87636068": {
      "model_module": "@jupyter-widgets/controls",
      "model_module_version": "1.2.0",
      "model_name": "DescriptionStyleModel",
      "state": {
       "description_width": ""
      }
     },
     "b3bc7a80dd3c412e85f1f6f68fb14d34": {
      "model_module": "@jupyter-widgets/controls",
      "model_module_version": "1.2.0",
      "model_name": "DescriptionStyleModel",
      "state": {
       "description_width": ""
      }
     },
     "b3e4b95255dd4700903ec54593f3f54d": {
      "model_module": "@jupyter-widgets/controls",
      "model_module_version": "1.2.0",
      "model_name": "DescriptionStyleModel",
      "state": {
       "description_width": ""
      }
     },
     "b4367580ff3445329b2365145df48d0f": {
      "model_module": "@jupyter-widgets/base",
      "model_module_version": "1.0.0",
      "model_name": "LayoutModel",
      "state": {}
     },
     "b4a3a6b351934b54add73a038db2b27b": {
      "model_module": "@jupyter-widgets/controls",
      "model_module_version": "1.2.0",
      "model_name": "ButtonModel",
      "state": {
       "button_style": "primary",
       "description": "Download",
       "layout": "IPY_MODEL_4e25ca3b77914c4abd9979dc353d4086",
       "style": "IPY_MODEL_158d1bd3b6594448bd70adcb9e392bb8"
      }
     },
     "b4efcd827b87414393c334d64610bf24": {
      "model_module": "@jupyter-widgets/controls",
      "model_module_version": "1.2.0",
      "model_name": "DescriptionStyleModel",
      "state": {
       "description_width": ""
      }
     },
     "b4fe0987aba6435ea496434a085ee353": {
      "model_module": "@jupyter-widgets/base",
      "model_module_version": "1.0.0",
      "model_name": "LayoutModel",
      "state": {
       "width": "100px"
      }
     },
     "b56329e8b11c470d801b5ea528f7757f": {
      "model_module": "@jupyter-widgets/controls",
      "model_module_version": "1.2.0",
      "model_name": "HBoxModel",
      "state": {
       "children": [
        "IPY_MODEL_f7faa453f0f340f9a646c5b2d55b0f1f",
        "IPY_MODEL_d06b4d6161a848a6aa25622ec9df2640"
       ],
       "layout": "IPY_MODEL_65f310a159914049a68ec2d8c3922ecf"
      }
     },
     "b58ab21ef1c5408fa03767f02d73f302": {
      "model_module": "@jupyter-widgets/controls",
      "model_module_version": "1.2.0",
      "model_name": "DescriptionStyleModel",
      "state": {
       "description_width": ""
      }
     },
     "b5c0b21058bd4a749fd0be9485e40f56": {
      "model_module": "@jupyter-widgets/controls",
      "model_module_version": "1.2.0",
      "model_name": "ButtonModel",
      "state": {
       "button_style": "success",
       "description": "Publish",
       "layout": "IPY_MODEL_0a97c323c92441e8825d22f9f3bfc354",
       "style": "IPY_MODEL_ccbc57323db348e581b7500cedcf7b04"
      }
     },
     "b5dc9075eaef42ec950c66d5e7058f15": {
      "model_module": "@jupyter-widgets/base",
      "model_module_version": "1.0.0",
      "model_name": "LayoutModel",
      "state": {}
     },
     "b5edff1be4be402dad06b00d37d22a28": {
      "model_module": "@jupyter-widgets/base",
      "model_module_version": "1.0.0",
      "model_name": "LayoutModel",
      "state": {}
     },
     "b5fbb6994a0f419b820f1faed810c833": {
      "model_module": "@jupyter-widgets/controls",
      "model_module_version": "1.2.0",
      "model_name": "ButtonStyleModel",
      "state": {}
     },
     "b601fead3de146daa9b2328714cdd287": {
      "model_module": "@jupyter-widgets/controls",
      "model_module_version": "1.2.0",
      "model_name": "DescriptionStyleModel",
      "state": {
       "description_width": ""
      }
     },
     "b611226a00f8463c8705cbec524f4ee4": {
      "model_module": "@jupyter-widgets/controls",
      "model_module_version": "1.2.0",
      "model_name": "HTMLModel",
      "state": {
       "layout": "IPY_MODEL_b8701a83961048c1b2e8a41e7346f7af",
       "style": "IPY_MODEL_9ddd84e6cd074b2e8e017cf95eb6faea",
       "value": "<h3 style='padding:0;margin:0;'>&nbsp &nbsp &nbsp<a href='https://github.com/pupster90/notebook.git'>notebook</a></h3>"
      }
     },
     "b61aca38e5c342819ca8e6232bb41d3c": {
      "model_module": "@jupyter-widgets/controls",
      "model_module_version": "1.2.0",
      "model_name": "HBoxModel",
      "state": {
       "children": [
        "IPY_MODEL_86a717e14c0046a3b3f22f1f85d296e4",
        "IPY_MODEL_595c5aaac91c40e1ae428d15038e1050",
        "IPY_MODEL_cdb38c75b58b4499a5206b52ff6e5de3"
       ],
       "layout": "IPY_MODEL_67ddc215c897403ab75ef37698c23368"
      }
     },
     "b63fd6bfb4594fc0b86906a933b16a83": {
      "model_module": "@jupyter-widgets/controls",
      "model_module_version": "1.2.0",
      "model_name": "VBoxModel",
      "state": {
       "children": [
        "IPY_MODEL_dd0821851cd647d5be0bb896d408a54e",
        "IPY_MODEL_722a8e13c9334926abeb2607ff8f0c93",
        "IPY_MODEL_02bc7bb852824fd8830de085fb1e74ab",
        "IPY_MODEL_9f221a7681914b3e9599632838e3657c"
       ],
       "layout": "IPY_MODEL_f9f380a72c504816b1bf9981eacd621f"
      }
     },
     "b6504b64816742c7b75cd8aaf51c99f5": {
      "model_module": "@jupyter-widgets/controls",
      "model_module_version": "1.2.0",
      "model_name": "ButtonModel",
      "state": {
       "button_style": "primary",
       "description": "Download",
       "layout": "IPY_MODEL_537e430ffe99483da93e3ff23822317f",
       "style": "IPY_MODEL_a713d21d78764fcc979a8f405773d3d3"
      }
     },
     "b65ba05ab1d2467c8da90da728d2f470": {
      "model_module": "@jupyter-widgets/base",
      "model_module_version": "1.0.0",
      "model_name": "LayoutModel",
      "state": {}
     },
     "b6a897cadad3431ab26bec1b09b9832c": {
      "model_module": "@jupyter-widgets/base",
      "model_module_version": "1.0.0",
      "model_name": "LayoutModel",
      "state": {
       "align_items": "center"
      }
     },
     "b6e1931982754c87b4c7207bc4a7d915": {
      "model_module": "@jupyter-widgets/controls",
      "model_module_version": "1.2.0",
      "model_name": "HBoxModel",
      "state": {
       "children": [
        "IPY_MODEL_428a7da6a22c4f509abb5d4576605a59",
        "IPY_MODEL_428287297b0d4ff981e945bd274147e7",
        "IPY_MODEL_b03bab1afa55433a881a212087f9733d",
        "IPY_MODEL_c3d57bc13b754ea9b2e2f3a97ae36c29"
       ],
       "layout": "IPY_MODEL_f0f6af96ceb048b8890a11696b07c6a4"
      }
     },
     "b6e97f2ff8d94715bf66d08d90ed1a71": {
      "model_module": "@jupyter-widgets/controls",
      "model_module_version": "1.2.0",
      "model_name": "DescriptionStyleModel",
      "state": {
       "description_width": ""
      }
     },
     "b6ea0a5c40ae4169a6bbae02f7c28122": {
      "model_module": "@jupyter-widgets/controls",
      "model_module_version": "1.2.0",
      "model_name": "ButtonModel",
      "state": {
       "button_style": "primary",
       "description": "Download",
       "layout": "IPY_MODEL_6666ed5ed12e44d48ada6f67374221f0",
       "style": "IPY_MODEL_72f0d7ebfb5f4c31a37ef9aa4842fb54"
      }
     },
     "b787ee30e3af4af799776baa47264669": {
      "model_module": "@jupyter-widgets/controls",
      "model_module_version": "1.2.0",
      "model_name": "DescriptionStyleModel",
      "state": {
       "description_width": ""
      }
     },
     "b7a01b06428348619e25481b94cea03d": {
      "model_module": "@jupyter-widgets/controls",
      "model_module_version": "1.2.0",
      "model_name": "LabelModel",
      "state": {
       "layout": "IPY_MODEL_bad0a8a666f8492d84f2762875b535bb",
       "style": "IPY_MODEL_4c4981d3892b4492b7ddb6ec03e7c8c5",
       "value": "Saved 3 days ago"
      }
     },
     "b7b115748efa408590563ba671321b00": {
      "model_module": "@jupyter-widgets/controls",
      "model_module_version": "1.2.0",
      "model_name": "HBoxModel",
      "state": {
       "children": [
        "IPY_MODEL_5c96ed5dfc174da1afaa4be4a032c3dc",
        "IPY_MODEL_bd080e601b334b4c8b6343c679ad8d13"
       ],
       "layout": "IPY_MODEL_7a161eaeb3de4c58820744ce91a1a979"
      }
     },
     "b7ee4ceaa94a4c38a3e3b2f10dc50e77": {
      "model_module": "@jupyter-widgets/base",
      "model_module_version": "1.0.0",
      "model_name": "LayoutModel",
      "state": {
       "align_items": "center"
      }
     },
     "b7f1cf50facb49f7bd8f226387d799e0": {
      "model_module": "@jupyter-widgets/controls",
      "model_module_version": "1.2.0",
      "model_name": "ButtonStyleModel",
      "state": {}
     },
     "b826907715304c9cb1ee004c372cd89f": {
      "model_module": "@jupyter-widgets/controls",
      "model_module_version": "1.2.0",
      "model_name": "DescriptionStyleModel",
      "state": {
       "description_width": ""
      }
     },
     "b8701a83961048c1b2e8a41e7346f7af": {
      "model_module": "@jupyter-widgets/base",
      "model_module_version": "1.0.0",
      "model_name": "LayoutModel",
      "state": {}
     },
     "b898f61ba3fd4524ba93244f85c67595": {
      "model_module": "@jupyter-widgets/base",
      "model_module_version": "1.0.0",
      "model_name": "LayoutModel",
      "state": {
       "align_items": "center"
      }
     },
     "b8bd8395aa274974905db20628e7c278": {
      "model_module": "@jupyter-widgets/controls",
      "model_module_version": "1.2.0",
      "model_name": "ButtonModel",
      "state": {
       "button_style": "primary",
       "description": "Download",
       "layout": "IPY_MODEL_4a46a8cb59994ba8b1b9e1bb4f97eff0",
       "style": "IPY_MODEL_1a628cf47f80472380a189274dadc0e0"
      }
     },
     "b8fa66d77d424a2e9976e0379c9c328c": {
      "model_module": "@jupyter-widgets/controls",
      "model_module_version": "1.2.0",
      "model_name": "DescriptionStyleModel",
      "state": {
       "description_width": ""
      }
     },
     "b9150ffdd87a4785a3abbeffe5744aa2": {
      "model_module": "@jupyter-widgets/controls",
      "model_module_version": "1.2.0",
      "model_name": "HTMLModel",
      "state": {
       "layout": "IPY_MODEL_96a0844361c540589e9428a8776206b1",
       "style": "IPY_MODEL_04c4269c2f584428b98f9d22a75801bb",
       "value": "<font color='green'> &nbsp Downloads: 0</font>"
      }
     },
     "b931e55c66024a5895f987a63e0854e7": {
      "model_module": "@jupyter-widgets/base",
      "model_module_version": "1.0.0",
      "model_name": "LayoutModel",
      "state": {
       "width": "auto"
      }
     },
     "b98a1dc3d5aa4de1a300ac3e2348bf92": {
      "model_module": "@jupyter-widgets/controls",
      "model_module_version": "1.2.0",
      "model_name": "HBoxModel",
      "state": {
       "children": [
        "IPY_MODEL_89c0b520ef9548fd88c52e98c74c3b8b",
        "IPY_MODEL_3a50f7b6767a455c88ed3a27e301d9df",
        "IPY_MODEL_9e0f49e9a3cc4cce9751ad51e09a3fb4",
        "IPY_MODEL_f646d3d7183b425f97780a38032c4ee1"
       ],
       "layout": "IPY_MODEL_f6b78c3be4954742a2513b1bae4a3e5a"
      }
     },
     "b9d58223199344c887a5fd863aee5b16": {
      "model_module": "@jupyter-widgets/controls",
      "model_module_version": "1.2.0",
      "model_name": "HTMLModel",
      "state": {
       "layout": "IPY_MODEL_64d8ecc759e74160b0f70a24150a2150",
       "style": "IPY_MODEL_fa0781b4ddec403eaefb35e7db262f23",
       "value": "<h3 style='padding:0;margin:0;'>&nbsp &nbsp &nbsp<a href='https://github.com/pupster90/indra_me.git'>indra_me</a></h3>"
      }
     },
     "b9f0508e7ce345f8b5a5f96e0f5e6399": {
      "model_module": "@jupyter-widgets/controls",
      "model_module_version": "1.2.0",
      "model_name": "ButtonModel",
      "state": {
       "button_style": "success",
       "description": "Publish",
       "layout": "IPY_MODEL_15ce0cc02e7e4aa6a640041c123c6679",
       "style": "IPY_MODEL_9c6c8c4fe95244029413a3ec0074a525"
      }
     },
     "b9f632344d984712ae04872acf13103e": {
      "model_module": "@jupyter-widgets/controls",
      "model_module_version": "1.2.0",
      "model_name": "HBoxModel",
      "state": {
       "children": [
        "IPY_MODEL_9e44a728e3874a729d9897347e36d0fd",
        "IPY_MODEL_60a586256ee34bfc9c121116b97eeb45",
        "IPY_MODEL_2e9add6c340e4a7c8361b1f90bba7e1d",
        "IPY_MODEL_d0a7c0f03851408691f6434d5c66d7f4",
        "IPY_MODEL_b1983cef2c9d49a894b5ebd99bfbe8e7",
        "IPY_MODEL_a9d7d1e6e608418587d34e7f714e642d"
       ],
       "layout": "IPY_MODEL_f12d353544d945acbd26a31cae64d53c"
      }
     },
     "ba18f177cb0c45c99ea1a91dec19605c": {
      "model_module": "@jupyter-widgets/base",
      "model_module_version": "1.0.0",
      "model_name": "LayoutModel",
      "state": {}
     },
     "ba625e97925945a4897c620b6083c544": {
      "model_module": "@jupyter-widgets/controls",
      "model_module_version": "1.2.0",
      "model_name": "LabelModel",
      "state": {
       "layout": "IPY_MODEL_3b4b1f4015f8494cb4b300f46f601250",
       "style": "IPY_MODEL_1f5b41fdae554e62998c5220206e77bb",
       "value": "3 days ago"
      }
     },
     "ba7e3b81184b412ab27189591b12766b": {
      "model_module": "@jupyter-widgets/controls",
      "model_module_version": "1.2.0",
      "model_name": "LabelModel",
      "state": {
       "layout": "IPY_MODEL_261edfff324d4e2abbda3299b21ff636",
       "style": "IPY_MODEL_c79e31ca550441f39e88fa90e5526780",
       "value": "1 hour ago"
      }
     },
     "babca573a0ab40dea3c12c3dd8351f13": {
      "model_module": "@jupyter-widgets/base",
      "model_module_version": "1.0.0",
      "model_name": "LayoutModel",
      "state": {
       "align_items": "center"
      }
     },
     "bac7e467493946af8a964f3cb39a07e1": {
      "model_module": "@jupyter-widgets/controls",
      "model_module_version": "1.2.0",
      "model_name": "HTMLModel",
      "state": {
       "layout": "IPY_MODEL_31cb066ce72c4e62894823d7e50150a3",
       "style": "IPY_MODEL_0fe624d6372c4758ba2a49cca9d6776d",
       "value": "<h4 style='padding:0;margin:0;'>&nbsp <a href='https://github.com/pupster90' style='color:gray'>pupster90</a> &nbsp</h4>"
      }
     },
     "bacfd6c77b154efeb42ef866eff1b533": {
      "model_module": "@jupyter-widgets/base",
      "model_module_version": "1.0.0",
      "model_name": "LayoutModel",
      "state": {
       "display": "none"
      }
     },
     "bad0a8a666f8492d84f2762875b535bb": {
      "model_module": "@jupyter-widgets/base",
      "model_module_version": "1.0.0",
      "model_name": "LayoutModel",
      "state": {
       "width": "130px"
      }
     },
     "bb167d56cdce43769283fd9d15eef47c": {
      "model_module": "@jupyter-widgets/base",
      "model_module_version": "1.0.0",
      "model_name": "LayoutModel",
      "state": {}
     },
     "bb34a735f0914aeca4cd87be0b602874": {
      "model_module": "@jupyter-widgets/base",
      "model_module_version": "1.0.0",
      "model_name": "LayoutModel",
      "state": {
       "align_items": "center"
      }
     },
     "bb5be746e5734513bf3aa68e01f7743c": {
      "model_module": "@jupyter-widgets/controls",
      "model_module_version": "1.2.0",
      "model_name": "DescriptionStyleModel",
      "state": {
       "description_width": ""
      }
     },
     "bb6324e7df2846438761ff1b807e2426": {
      "model_module": "@jupyter-widgets/controls",
      "model_module_version": "1.2.0",
      "model_name": "ToggleButtonsStyleModel",
      "state": {
       "button_width": "",
       "description_width": ""
      }
     },
     "bb6899bdfec64750b9cf624bfe4d2079": {
      "model_module": "@jupyter-widgets/controls",
      "model_module_version": "1.2.0",
      "model_name": "DescriptionStyleModel",
      "state": {
       "description_width": ""
      }
     },
     "bb792a6b3dbd44858c569b726ada593b": {
      "model_module": "@jupyter-widgets/controls",
      "model_module_version": "1.2.0",
      "model_name": "ButtonStyleModel",
      "state": {}
     },
     "bb9836b0534649968efb827d7fe36967": {
      "model_module": "@jupyter-widgets/controls",
      "model_module_version": "1.2.0",
      "model_name": "PasswordModel",
      "state": {
       "description": "Password",
       "layout": "IPY_MODEL_c29bb1f8288b4967b46d1aa1d6b556e1",
       "style": "IPY_MODEL_ee5c83632c544ed8b04a95cd6f765a6d"
      }
     },
     "bba26dacbd0e47e7bf2bab734b074404": {
      "model_module": "@jupyter-widgets/controls",
      "model_module_version": "1.2.0",
      "model_name": "ButtonStyleModel",
      "state": {}
     },
     "bba378b110894e4eb04526560b328500": {
      "model_module": "@jupyter-widgets/base",
      "model_module_version": "1.0.0",
      "model_name": "LayoutModel",
      "state": {}
     },
     "bbb48c7c007d4c0081e1bb593b0fb913": {
      "model_module": "@jupyter-widgets/base",
      "model_module_version": "1.0.0",
      "model_name": "LayoutModel",
      "state": {
       "width": "auto"
      }
     },
     "bbc79678ce754097baccd09e8407131f": {
      "model_module": "@jupyter-widgets/base",
      "model_module_version": "1.0.0",
      "model_name": "LayoutModel",
      "state": {
       "width": "100px"
      }
     },
     "bbe76b8c384e4b2bb7790f98193d7754": {
      "model_module": "@jupyter-widgets/controls",
      "model_module_version": "1.2.0",
      "model_name": "LabelModel",
      "state": {
       "layout": "IPY_MODEL_d88b068614c848f998defd607a5c6da5",
       "style": "IPY_MODEL_0a55c4f936de498aae27fae7a658a425",
       "value": "10 minutes ago"
      }
     },
     "bbeb00ff14814139a22f8723417b5189": {
      "model_module": "@jupyter-widgets/controls",
      "model_module_version": "1.2.0",
      "model_name": "DescriptionStyleModel",
      "state": {
       "description_width": ""
      }
     },
     "bc0480194fde4edfa3038f7bcb682785": {
      "model_module": "@jupyter-widgets/controls",
      "model_module_version": "1.2.0",
      "model_name": "HTMLModel",
      "state": {
       "layout": "IPY_MODEL_e0feb51f73f74c888de61bcf2133f2eb",
       "style": "IPY_MODEL_8edc65f3bec6440487215e593daf678f",
       "value": "<font color='orange'> &nbsp Stars: 0</font>"
      }
     },
     "bc0d73f2bf6f435f83f5fce0b6fa6331": {
      "model_module": "@jupyter-widgets/base",
      "model_module_version": "1.0.0",
      "model_name": "LayoutModel",
      "state": {
       "width": "auto"
      }
     },
     "bc11578aad4e4f97902c7efa5217fc38": {
      "model_module": "@jupyter-widgets/controls",
      "model_module_version": "1.2.0",
      "model_name": "HTMLModel",
      "state": {
       "layout": "IPY_MODEL_636ad953827245cbbdf4f29aa1557c91",
       "style": "IPY_MODEL_8188601b44d846c8b58da8315b2c7c51",
       "value": "<h4 style='padding:0;margin:0;'>&nbsp <a href='https://github.com/pupster90' style='color:gray'>pupster90</a> &nbsp</h4>"
      }
     },
     "bc5adaf523c849a395d093125fcff2ba": {
      "model_module": "@jupyter-widgets/controls",
      "model_module_version": "1.2.0",
      "model_name": "DescriptionStyleModel",
      "state": {
       "description_width": ""
      }
     },
     "bc6e7b4859f84003be3275f95e1a098d": {
      "model_module": "@jupyter-widgets/controls",
      "model_module_version": "1.2.0",
      "model_name": "HTMLModel",
      "state": {
       "layout": "IPY_MODEL_959e3a4f1ee74bbab1ddfcadb9c70497",
       "style": "IPY_MODEL_61fdacc2b505479dba8f508ce732358d",
       "value": "<h3 style='padding:0;margin:0;'>&nbsp &nbsp &nbsp<a href='https://github.com/pupster90/Kubernetes-on-google-cloud.git'>Kubernetes-on-google-cloud</a></h3>"
      }
     },
     "bc70332b18de4f8aad208de19df917e3": {
      "model_module": "@jupyter-widgets/controls",
      "model_module_version": "1.2.0",
      "model_name": "HTMLModel",
      "state": {
       "layout": "IPY_MODEL_d104333f38d6426fb9ff4d7cd3a68097",
       "style": "IPY_MODEL_ce1957edb0a34f679d31465a486713b2",
       "value": "<font color='green'> &nbsp Downloads: 0</font>"
      }
     },
     "bcb70992c8f54c38a0e7f9ca11fec09b": {
      "model_module": "@jupyter-widgets/controls",
      "model_module_version": "1.2.0",
      "model_name": "HTMLModel",
      "state": {
       "layout": "IPY_MODEL_04a7c320dded4c71a2081d3282c3704a",
       "style": "IPY_MODEL_5f2a72a60e194aacb6fadd9d234dfb79",
       "value": "<h4 style='padding:0;margin:0;'>&nbsp <a href='https://github.com/pupster90' style='color:gray'>pupster90</a> &nbsp</h4>"
      }
     },
     "bcdb0b315ede4d3ebacdcc38fce42aab": {
      "model_module": "@jupyter-widgets/controls",
      "model_module_version": "1.2.0",
      "model_name": "ButtonStyleModel",
      "state": {}
     },
     "bcf0d8c99f154a239de413869bedede0": {
      "model_module": "@jupyter-widgets/controls",
      "model_module_version": "1.2.0",
      "model_name": "HTMLModel",
      "state": {
       "layout": "IPY_MODEL_c73ef91587504e08be31d2f4eed75bf0",
       "style": "IPY_MODEL_6ff6394b85db4e408175d438b8e45d04",
       "value": "<h3 style='padding:0;margin:0;'>&nbsp &nbsp<a href='https://github.com/pupster90/io_Blog'>io_Blog</a> &nbsp</h3>"
      }
     },
     "bd080e601b334b4c8b6343c679ad8d13": {
      "model_module": "@jupyter-widgets/controls",
      "model_module_version": "1.2.0",
      "model_name": "HTMLModel",
      "state": {
       "layout": "IPY_MODEL_025908272fc44d86bb2a81d386c49b15",
       "style": "IPY_MODEL_5faad1a2ef9e47de8f7acf8eaf5c8a3b",
       "value": "<h3 style='padding:0;margin:0;'>&nbsp &nbsp &nbsp<a href='https://github.com/pupster90/judoscape.git'>judoscape</a></h3>"
      }
     },
     "bd17a9e5f4d44de2b4b4a6575dc9ef72": {
      "model_module": "@jupyter-widgets/base",
      "model_module_version": "1.0.0",
      "model_name": "LayoutModel",
      "state": {}
     },
     "bd2255cca68f40e38a9df5032c5f2843": {
      "model_module": "@jupyter-widgets/controls",
      "model_module_version": "1.2.0",
      "model_name": "ToggleButtonsStyleModel",
      "state": {
       "button_width": "",
       "description_width": ""
      }
     },
     "bd2b86752e474d3fb42a3220f95bd9e7": {
      "model_module": "@jupyter-widgets/base",
      "model_module_version": "1.0.0",
      "model_name": "LayoutModel",
      "state": {
       "align_items": "center"
      }
     },
     "bd34728cca034ba7a229e2ef53be0832": {
      "model_module": "@jupyter-widgets/controls",
      "model_module_version": "1.2.0",
      "model_name": "HBoxModel",
      "state": {
       "children": [
        "IPY_MODEL_3db2c46c8b384ad0ac5eeeaebd7779d0",
        "IPY_MODEL_2c5269f9685347cf9932a51f7fce9fba",
        "IPY_MODEL_6bba3a58882246d3bd9867495c27494c",
        "IPY_MODEL_99ba6dff3c6d4522baa14bdb916a58f2",
        "IPY_MODEL_fa3e8c1428e24f128e60745cbdbf51c1",
        "IPY_MODEL_9b8e52ca18334401a53b894dd88f00d7"
       ],
       "layout": "IPY_MODEL_0e3a0f2050f549c580310610d2d141d9"
      }
     },
     "bd390e538816456abaa821ba803c55ef": {
      "model_module": "@jupyter-widgets/controls",
      "model_module_version": "1.2.0",
      "model_name": "HBoxModel",
      "state": {
       "children": [
        "IPY_MODEL_e8e43f9106ba4118a202a9b3a40e8792",
        "IPY_MODEL_64cc76fb742648fe88175a1e5c00e2bc"
       ],
       "layout": "IPY_MODEL_778ce595dc5b44b69264dfdf60b2a56b"
      }
     },
     "bdad9f7354744a55a2dda997f728f07f": {
      "model_module": "@jupyter-widgets/controls",
      "model_module_version": "1.2.0",
      "model_name": "ButtonModel",
      "state": {
       "button_style": "primary",
       "description": "Download",
       "layout": "IPY_MODEL_8c9f56978f874d608cb3e62dd9a1c6a3",
       "style": "IPY_MODEL_303f4009737143ef948636df4a3ad81f"
      }
     },
     "bdf4422c1bdf4cd39ef5f6dc0709dbc5": {
      "model_module": "@jupyter-widgets/controls",
      "model_module_version": "1.2.0",
      "model_name": "HTMLModel",
      "state": {
       "layout": "IPY_MODEL_11d17170f3d647a78c0fc673af931979",
       "style": "IPY_MODEL_84173da655f9442181be5b2077f8ee94",
       "value": "<h3 style='padding:0;margin:0;'>&nbsp &nbsp &nbsp<a href='https://github.com/pupster90/io_Start_Screen.git'>io_Start_Screen</a></h3>"
      }
     },
     "be05a25db88345f4babe16d7760ed1e4": {
      "model_module": "@jupyter-widgets/controls",
      "model_module_version": "1.2.0",
      "model_name": "ButtonModel",
      "state": {
       "button_style": "primary",
       "description": "Download",
       "layout": "IPY_MODEL_da11d634020d4686867ef13c8570a94c",
       "style": "IPY_MODEL_1c48a864f5304525ac0f2a43cff4efc1"
      }
     },
     "be0d8e94f7a542dbb25dda75f9cfefc7": {
      "model_module": "@jupyter-widgets/controls",
      "model_module_version": "1.2.0",
      "model_name": "DescriptionStyleModel",
      "state": {
       "description_width": ""
      }
     },
     "be37238c4aff4023b870f02f32e867d2": {
      "model_module": "@jupyter-widgets/controls",
      "model_module_version": "1.2.0",
      "model_name": "HTMLModel",
      "state": {
       "layout": "IPY_MODEL_ba18f177cb0c45c99ea1a91dec19605c",
       "style": "IPY_MODEL_dd5caf7027ba48a8a76c1e4fb745cdcf",
       "value": "<h3 style='padding:0;margin:0;'>&nbsp &nbsp &nbsp<a href='https://github.com/pupster90/jupyter-wysiwyg.git'>jupyter-wysiwyg</a></h3>"
      }
     },
     "be57976139914a98a038d624e29b309c": {
      "model_module": "@jupyter-widgets/controls",
      "model_module_version": "1.2.0",
      "model_name": "HTMLModel",
      "state": {
       "layout": "IPY_MODEL_cc99c38025f14d30bc1c2525adf803a7",
       "style": "IPY_MODEL_516599e006654a7488f6d45b01196731",
       "value": "<font color='green'> &nbsp Downloads: 0</font>"
      }
     },
     "be877f5b1bce4fd3919689c502cd863e": {
      "model_module": "@jupyter-widgets/controls",
      "model_module_version": "1.2.0",
      "model_name": "HTMLModel",
      "state": {
       "layout": "IPY_MODEL_4bc8e02687f444869802e312d458a465",
       "style": "IPY_MODEL_f0ba80e8161148e0befb6074c500f27f",
       "value": "<h3 style='padding:0;margin:0;'>&nbsp &nbsp &nbsp<a href='https://github.com/pupster90/cse103_2017.git'>cse103_2017</a></h3>"
      }
     },
     "be9c0509ce7e48a586230794416d78f7": {
      "model_module": "@jupyter-widgets/controls",
      "model_module_version": "1.2.0",
      "model_name": "ButtonModel",
      "state": {
       "button_style": "success",
       "description": "Publish",
       "layout": "IPY_MODEL_8a16829faddc4e6cb98651ba49e4b306",
       "style": "IPY_MODEL_24d4f6e68651442e9c1febabb19b4cbd"
      }
     },
     "bec0646078b44a0ea22923199acae5df": {
      "model_module": "@jupyter-widgets/controls",
      "model_module_version": "1.2.0",
      "model_name": "ButtonStyleModel",
      "state": {}
     },
     "bec645face8a4669901ed848dd38106f": {
      "model_module": "@jupyter-widgets/base",
      "model_module_version": "1.0.0",
      "model_name": "LayoutModel",
      "state": {
       "width": "auto"
      }
     },
     "bf636c360c7e43fd99fc9498a2c550bb": {
      "model_module": "@jupyter-widgets/base",
      "model_module_version": "1.0.0",
      "model_name": "LayoutModel",
      "state": {}
     },
     "bf8fb025038a4ede84381bcf6ae498ea": {
      "model_module": "@jupyter-widgets/base",
      "model_module_version": "1.0.0",
      "model_name": "LayoutModel",
      "state": {
       "align_items": "center"
      }
     },
     "bf8fc2aab21441c3b20f61acaa54ea49": {
      "model_module": "@jupyter-widgets/controls",
      "model_module_version": "1.2.0",
      "model_name": "DescriptionStyleModel",
      "state": {
       "description_width": ""
      }
     },
     "bfa08de7099045749058e784bb844cfa": {
      "model_module": "@jupyter-widgets/controls",
      "model_module_version": "1.2.0",
      "model_name": "HTMLModel",
      "state": {
       "layout": "IPY_MODEL_827770b7ff334c7bad6ee2035e76060b",
       "style": "IPY_MODEL_54164b82c85c408ba468c972d313b35c",
       "value": "<font color='orange'> &nbsp Stars: 0</font>"
      }
     },
     "bfe0edecff2c42aaaaded640b4c679df": {
      "model_module": "@jupyter-widgets/base",
      "model_module_version": "1.0.0",
      "model_name": "LayoutModel",
      "state": {}
     },
     "bfef2e605a264eedb7b517e497628de4": {
      "model_module": "@jupyter-widgets/base",
      "model_module_version": "1.0.0",
      "model_name": "LayoutModel",
      "state": {
       "width": "auto"
      }
     },
     "bffd893332b54e10b9acf23878b129a5": {
      "model_module": "@jupyter-widgets/controls",
      "model_module_version": "1.2.0",
      "model_name": "DescriptionStyleModel",
      "state": {
       "description_width": ""
      }
     },
     "c0227b116a1c4e4995ee23528214f839": {
      "model_module": "@jupyter-widgets/controls",
      "model_module_version": "1.2.0",
      "model_name": "HTMLModel",
      "state": {
       "layout": "IPY_MODEL_440978869a9e4df0bb51cffbaee3c774",
       "style": "IPY_MODEL_b58ab21ef1c5408fa03767f02d73f302",
       "value": "<font color='orange'> &nbsp Stars: 0</font>"
      }
     },
     "c05f71e5f8a44ca2a0eb9967f89bf9a4": {
      "model_module": "@jupyter-widgets/controls",
      "model_module_version": "1.2.0",
      "model_name": "DescriptionStyleModel",
      "state": {
       "description_width": ""
      }
     },
     "c0b67d7a1c8a4574807caf59e452cbfd": {
      "model_module": "@jupyter-widgets/base",
      "model_module_version": "1.0.0",
      "model_name": "LayoutModel",
      "state": {
       "align_items": "center"
      }
     },
     "c12ca6936fdf4f56a5a85ca198f7ca80": {
      "model_module": "@jupyter-widgets/controls",
      "model_module_version": "1.2.0",
      "model_name": "HTMLModel",
      "state": {
       "layout": "IPY_MODEL_27207de9dc134242be0ff2eaff9ad18a",
       "style": "IPY_MODEL_ce3d3d9267df4dc68ea5996ad3cbfe38",
       "value": "<h3 style='padding:0;margin:0;'>&nbsp &nbsp &nbsp<a href='https://github.com/pupster90/io_Presentation.git'>io_Presentation</a></h3>"
      }
     },
     "c158675e27024a0e9130a2f5074ab137": {
      "model_module": "@jupyter-widgets/controls",
      "model_module_version": "1.2.0",
      "model_name": "HTMLModel",
      "state": {
       "layout": "IPY_MODEL_161b8ce77da74af7b93339b1b234c184",
       "style": "IPY_MODEL_688e4c0ca96f4f1ea1dbd6aebea7c440",
       "value": "<font color='orange'> &nbsp Stars: 0</font>"
      }
     },
     "c18fa111fd094fe29363eb9c4149be7f": {
      "model_module": "@jupyter-widgets/base",
      "model_module_version": "1.0.0",
      "model_name": "LayoutModel",
      "state": {}
     },
     "c1933bd1665a4a03b56ecdad04538f93": {
      "model_module": "@jupyter-widgets/controls",
      "model_module_version": "1.2.0",
      "model_name": "DescriptionStyleModel",
      "state": {
       "description_width": ""
      }
     },
     "c1a7c2ac012d4565abd1fadc82ac631b": {
      "model_module": "@jupyter-widgets/controls",
      "model_module_version": "1.2.0",
      "model_name": "VBoxModel",
      "state": {
       "children": [
        "IPY_MODEL_61d04ec83f3d4c7287bd8c3e7c9c8490",
        "IPY_MODEL_892727cb39ca45c0bf63ec6735006eb1"
       ],
       "layout": "IPY_MODEL_5bd2cb8b7bfe486fa8eb8ff110dc45f0"
      }
     },
     "c22aa173e31341ce82ee2d04549597e9": {
      "model_module": "@jupyter-widgets/base",
      "model_module_version": "1.0.0",
      "model_name": "LayoutModel",
      "state": {}
     },
     "c26641927c4b4de190f486d93a37c3fd": {
      "model_module": "@jupyter-widgets/controls",
      "model_module_version": "1.2.0",
      "model_name": "ButtonModel",
      "state": {
       "button_style": "primary",
       "description": "Download",
       "layout": "IPY_MODEL_ddc21d77e4ba43d785a3a41f12349328",
       "style": "IPY_MODEL_09b1bf7afaf943d798db5a49ac14a54b"
      }
     },
     "c282fbcdbf074e4bbd38241f5adfe8b0": {
      "model_module": "@jupyter-widgets/controls",
      "model_module_version": "1.2.0",
      "model_name": "DescriptionStyleModel",
      "state": {
       "description_width": ""
      }
     },
     "c29bb1f8288b4967b46d1aa1d6b556e1": {
      "model_module": "@jupyter-widgets/base",
      "model_module_version": "1.0.0",
      "model_name": "LayoutModel",
      "state": {}
     },
     "c2c44c300cd644ecbd06d908bd7ba883": {
      "model_module": "@jupyter-widgets/controls",
      "model_module_version": "1.2.0",
      "model_name": "ButtonStyleModel",
      "state": {}
     },
     "c2d7cabafb654e059edd54bdde1829bc": {
      "model_module": "@jupyter-widgets/controls",
      "model_module_version": "1.2.0",
      "model_name": "VBoxModel",
      "state": {
       "children": [
        "IPY_MODEL_0c8caa5fb0a8448faccc4b4c1801e373",
        "IPY_MODEL_70d96fbb3a43487b9f3101ee48847a90"
       ],
       "layout": "IPY_MODEL_4f1f3875e5614bfcb6a5d76a480f0a55"
      }
     },
     "c2f670ad0452489e8054b6db1c500cf5": {
      "model_module": "@jupyter-widgets/controls",
      "model_module_version": "1.2.0",
      "model_name": "DescriptionStyleModel",
      "state": {
       "description_width": ""
      }
     },
     "c3037008c93f47b2bdd4931088493e14": {
      "model_module": "@jupyter-widgets/controls",
      "model_module_version": "1.2.0",
      "model_name": "HTMLModel",
      "state": {
       "layout": "IPY_MODEL_0915dfa36d174e56b1976640b4905c8d",
       "style": "IPY_MODEL_d1f22c1bce0c43668b5bf5ec79f4710d",
       "value": "<h3 style='padding:0;margin:0;'>&nbsp &nbsp<a href='https://github.com/pupster90/io_View'>io_View</a> &nbsp</h3>"
      }
     },
     "c33d1fe668714d12b6586feab3c280bc": {
      "model_module": "@jupyter-widgets/base",
      "model_module_version": "1.0.0",
      "model_name": "LayoutModel",
      "state": {
       "align_items": "center"
      }
     },
     "c37044b4c39d493fba925c13e700e1d0": {
      "model_module": "@jupyter-widgets/controls",
      "model_module_version": "1.2.0",
      "model_name": "DescriptionStyleModel",
      "state": {
       "description_width": ""
      }
     },
     "c386a2f88c7d46878e62ef6c66fd3342": {
      "model_module": "@jupyter-widgets/controls",
      "model_module_version": "1.2.0",
      "model_name": "ButtonModel",
      "state": {
       "button_style": "primary",
       "description": "Download",
       "layout": "IPY_MODEL_1aff5707f13644b1a3bed67479041f5c",
       "style": "IPY_MODEL_58571e3522424d3b8eb7c94c722b14f3"
      }
     },
     "c3d57bc13b754ea9b2e2f3a97ae36c29": {
      "model_module": "@jupyter-widgets/controls",
      "model_module_version": "1.2.0",
      "model_name": "HTMLModel",
      "state": {
       "layout": "IPY_MODEL_7f7cf13bb7b04a3793978f6ddcc63a64",
       "style": "IPY_MODEL_425b265eb32f4496ae2bc782c41c97b3",
       "value": "<h3 style='padding:0;margin:0;'>&nbsp &nbsp &nbsp<a href='https://github.com/pupster90/Public_Profile.git'>Public_Profile</a></h3>"
      }
     },
     "c40982396e76467da46117d81df9de6f": {
      "model_module": "@jupyter-widgets/controls",
      "model_module_version": "1.2.0",
      "model_name": "DescriptionStyleModel",
      "state": {
       "description_width": ""
      }
     },
     "c436c0697dcd409283709bb268db7422": {
      "model_module": "@jupyter-widgets/controls",
      "model_module_version": "1.2.0",
      "model_name": "HTMLModel",
      "state": {
       "layout": "IPY_MODEL_387edb86d1bc407daf9b64a1b6d2819f",
       "style": "IPY_MODEL_16bef60242de4e4ba07ebecee18ea15b",
       "value": "<h3 class='text-center'><font color='red'>Logout</font> of <a stc='https://github.com/'>Github </a> &nbsp&nbsp<h3>"
      }
     },
     "c43d7085ff7a400199bed77163c1fcac": {
      "model_module": "@jupyter-widgets/controls",
      "model_module_version": "1.2.0",
      "model_name": "HTMLModel",
      "state": {
       "layout": "IPY_MODEL_509bf7ba2f7e425fa31e554aac1123c8",
       "style": "IPY_MODEL_bb5be746e5734513bf3aa68e01f7743c",
       "value": "<font color='green'> &nbsp Downloads: 0</font>"
      }
     },
     "c442a449ca354810a1a08f26ce01ac76": {
      "model_module": "@jupyter-widgets/base",
      "model_module_version": "1.0.0",
      "model_name": "LayoutModel",
      "state": {
       "width": "auto"
      }
     },
     "c460779b51f7424383dd3645f15265f9": {
      "model_module": "@jupyter-widgets/controls",
      "model_module_version": "1.2.0",
      "model_name": "HTMLModel",
      "state": {
       "layout": "IPY_MODEL_bf636c360c7e43fd99fc9498a2c550bb",
       "style": "IPY_MODEL_2da1402242d141c48bff12883459b965",
       "value": "<h3 style='padding:0;margin:0;'>&nbsp &nbsp &nbsp<a href='https://github.com/pupster90/xqueue-watcher.git'>xqueue-watcher</a></h3>"
      }
     },
     "c46cfd0ef6c944d586bb677a164ca14e": {
      "model_module": "@jupyter-widgets/controls",
      "model_module_version": "1.2.0",
      "model_name": "HTMLModel",
      "state": {
       "layout": "IPY_MODEL_0a066b20bb1540358eef87e78e3127af",
       "style": "IPY_MODEL_b1c0b6910ddf466e8ed7891228702868",
       "value": "<h3 style='padding:0;margin:0;'>&nbsp &nbsp<a href='https://github.com/pupster90/Cytoscape'>Cytoscape</a> &nbsp</h3>"
      }
     },
     "c475431a087e40fdb4271bcd52f299f8": {
      "model_module": "@jupyter-widgets/controls",
      "model_module_version": "1.2.0",
      "model_name": "HTMLModel",
      "state": {
       "layout": "IPY_MODEL_6bdffaa05b294903bd79505c40a64438",
       "style": "IPY_MODEL_2897a044d45b47218092b86d6f81b4a3",
       "value": "<h3 style='padding:0;margin:0;'>&nbsp &nbsp &nbsp<a href='https://github.com/pupster90/Setup_Notebook.git'>Setup_Notebook</a></h3>"
      }
     },
     "c5002a8b827c415fb222bad8a96e6613": {
      "model_module": "@jupyter-widgets/controls",
      "model_module_version": "1.2.0",
      "model_name": "HTMLModel",
      "state": {
       "layout": "IPY_MODEL_5025a0b2e73c4c348e13e10ef9dd009d",
       "style": "IPY_MODEL_881cf68587ff49bba67d140f2df0ed57",
       "value": "<h3 style='padding:0;margin:0;'>&nbsp &nbsp &nbsp<a href='https://github.com/pupster90/io_Presentation.git'>io_Presentation</a></h3>"
      }
     },
     "c5049aa9d80d45758d21e7950c0d190d": {
      "model_module": "@jupyter-widgets/controls",
      "model_module_version": "1.2.0",
      "model_name": "ButtonStyleModel",
      "state": {}
     },
     "c512bcbb27de4f26a86319e0af36e7ec": {
      "model_module": "@jupyter-widgets/base",
      "model_module_version": "1.0.0",
      "model_name": "LayoutModel",
      "state": {
       "visibility": "hidden"
      }
     },
     "c5f2c5b9c9624f59a211475a47dc4b43": {
      "model_module": "@jupyter-widgets/base",
      "model_module_version": "1.0.0",
      "model_name": "LayoutModel",
      "state": {}
     },
     "c646c8360f804217b3a7151b46531610": {
      "model_module": "@jupyter-widgets/controls",
      "model_module_version": "1.2.0",
      "model_name": "ValidModel",
      "state": {
       "layout": "IPY_MODEL_fe28a982ab764ecb9ffb45ebc0c0b193",
       "style": "IPY_MODEL_dfbc1521bb534fcb8c5b3ed0c94fa1a8"
      }
     },
     "c664a7712bf64bb685171418d2ac6097": {
      "model_module": "@jupyter-widgets/controls",
      "model_module_version": "1.2.0",
      "model_name": "TextModel",
      "state": {
       "description": "Username",
       "layout": "IPY_MODEL_02f46dfc06f74bcc9814ce37e142f3c5",
       "style": "IPY_MODEL_d048ee0518c9447e85e5f7dabc5f81cc"
      }
     },
     "c67e2019a26d4368890d304dd26302cd": {
      "model_module": "@jupyter-widgets/base",
      "model_module_version": "1.0.0",
      "model_name": "LayoutModel",
      "state": {}
     },
     "c6db0dc4f1684613b7363ab13c971cba": {
      "model_module": "@jupyter-widgets/controls",
      "model_module_version": "1.2.0",
      "model_name": "DescriptionStyleModel",
      "state": {
       "description_width": ""
      }
     },
     "c70ab817115b4308b47e027a9bbee9bc": {
      "model_module": "@jupyter-widgets/base",
      "model_module_version": "1.0.0",
      "model_name": "LayoutModel",
      "state": {
       "align_items": "center"
      }
     },
     "c73ef91587504e08be31d2f4eed75bf0": {
      "model_module": "@jupyter-widgets/base",
      "model_module_version": "1.0.0",
      "model_name": "LayoutModel",
      "state": {}
     },
     "c7799c12bd52468ca14ccaa40667e6f6": {
      "model_module": "@jupyter-widgets/base",
      "model_module_version": "1.0.0",
      "model_name": "LayoutModel",
      "state": {}
     },
     "c79e31ca550441f39e88fa90e5526780": {
      "model_module": "@jupyter-widgets/controls",
      "model_module_version": "1.2.0",
      "model_name": "DescriptionStyleModel",
      "state": {
       "description_width": ""
      }
     },
     "c7b6b17ab9734373860211d161d427e2": {
      "model_module": "@jupyter-widgets/base",
      "model_module_version": "1.0.0",
      "model_name": "LayoutModel",
      "state": {
       "width": "100px"
      }
     },
     "c7f916f4246c4bd1bf678a568a6f3dea": {
      "model_module": "@jupyter-widgets/base",
      "model_module_version": "1.0.0",
      "model_name": "LayoutModel",
      "state": {}
     },
     "c8397a57017c4f2ea18cadaca7f00403": {
      "model_module": "@jupyter-widgets/controls",
      "model_module_version": "1.2.0",
      "model_name": "HBoxModel",
      "state": {
       "children": [
        "IPY_MODEL_764e086efc6048ae980c40c7bfaf74fd",
        "IPY_MODEL_3aaf490a64ed45bebd65ed2deac7741e"
       ],
       "layout": "IPY_MODEL_a7c2e4f5ecd6410498f789decda8e6dd"
      }
     },
     "c85c2de090d24e239b69e220cab754e0": {
      "model_module": "@jupyter-widgets/controls",
      "model_module_version": "1.2.0",
      "model_name": "HTMLModel",
      "state": {
       "layout": "IPY_MODEL_6cade911f3774cf7a3f7ad0eee6b7763",
       "style": "IPY_MODEL_3eb78d01e52c46c4be4cfac8dd5c0d58",
       "value": "<h4 style='padding:0;margin:0;'>&nbsp <a href='https://github.com/pupster90' style='color:gray'>pupster90</a> &nbsp</h4>"
      }
     },
     "c85ebee44b7b4d6baad08a47f4c3beed": {
      "model_module": "@jupyter-widgets/controls",
      "model_module_version": "1.2.0",
      "model_name": "HBoxModel",
      "state": {
       "children": [
        "IPY_MODEL_be05a25db88345f4babe16d7760ed1e4",
        "IPY_MODEL_ad1fbea9658248baa4eeb2e8b56ad301"
       ],
       "layout": "IPY_MODEL_5c08bb0974164f2ab78ebe0d436006d6"
      }
     },
     "c8a710cce02b4460b54f4d189a607fa1": {
      "model_module": "@jupyter-widgets/controls",
      "model_module_version": "1.2.0",
      "model_name": "HBoxModel",
      "state": {
       "children": [
        "IPY_MODEL_a73062af5f344246bcf7e51f6edcbe1b"
       ],
       "layout": "IPY_MODEL_daf4818c11444d1db4a1a919098c0696"
      }
     },
     "c8b8fed60b8a41888c11c72cc7adddd2": {
      "model_module": "@jupyter-widgets/base",
      "model_module_version": "1.0.0",
      "model_name": "LayoutModel",
      "state": {}
     },
     "c8d424e35b7940ac89c43202564fa36a": {
      "model_module": "@jupyter-widgets/controls",
      "model_module_version": "1.2.0",
      "model_name": "HTMLModel",
      "state": {
       "layout": "IPY_MODEL_41cdb103e9e34877bdc9762f27f4ba15",
       "style": "IPY_MODEL_3ed910908d4349ceb3b913dfd8648c38",
       "value": "<h3 style='padding:0;margin:0;'>&nbsp &nbsp &nbsp<a href='https://github.com/pupster90/io_docker_setup.git'>io_docker_setup</a></h3>"
      }
     },
     "c8fb312ba75d48eab4b1c49b7a3baf69": {
      "model_module": "@jupyter-widgets/controls",
      "model_module_version": "1.2.0",
      "model_name": "ButtonModel",
      "state": {
       "button_style": "success",
       "description": "Publish",
       "layout": "IPY_MODEL_fcbcc94ebc4248ba9e59ed3348b8a61c",
       "style": "IPY_MODEL_f0d2b1b5dbc648279a81ac1bc76e2073"
      }
     },
     "c914f65a7a98410d86c5ae224cd862c9": {
      "model_module": "@jupyter-widgets/controls",
      "model_module_version": "1.2.0",
      "model_name": "ButtonStyleModel",
      "state": {}
     },
     "c94970aa406d406f96c0ab76718e5662": {
      "model_module": "@jupyter-widgets/base",
      "model_module_version": "1.0.0",
      "model_name": "LayoutModel",
      "state": {
       "width": "auto"
      }
     },
     "c994d28942ba4f6aa822decf954231e3": {
      "model_module": "@jupyter-widgets/controls",
      "model_module_version": "1.2.0",
      "model_name": "HTMLModel",
      "state": {
       "layout": "IPY_MODEL_eaa8f54448df4296ad40d7bfec4b65a8",
       "style": "IPY_MODEL_853f5e676e0947d2a708038c5b340a35",
       "value": "<h3 style='padding:0;margin:0;'>&nbsp &nbsp &nbsp<a href='https://github.com/pupster90/indra_easy.git'>indra_easy</a></h3>"
      }
     },
     "c9a404da740e443d918bf7d0e7210b6e": {
      "model_module": "@jupyter-widgets/base",
      "model_module_version": "1.0.0",
      "model_name": "LayoutModel",
      "state": {}
     },
     "c9c494503b3743eb9d0a125db698c96f": {
      "model_module": "@jupyter-widgets/base",
      "model_module_version": "1.0.0",
      "model_name": "LayoutModel",
      "state": {}
     },
     "c9c729fdc8a745a0a0fb8413db10ae08": {
      "model_module": "@jupyter-widgets/base",
      "model_module_version": "1.0.0",
      "model_name": "LayoutModel",
      "state": {}
     },
     "c9e83db0da354cd094d68dd82bec5ac9": {
      "model_module": "@jupyter-widgets/controls",
      "model_module_version": "1.2.0",
      "model_name": "ButtonStyleModel",
      "state": {}
     },
     "ca092e8cb6bb48e1a7c4d641b73489d1": {
      "model_module": "@jupyter-widgets/base",
      "model_module_version": "1.0.0",
      "model_name": "LayoutModel",
      "state": {}
     },
     "ca1243bdd79c4fbbaff15ab681176e8a": {
      "model_module": "@jupyter-widgets/controls",
      "model_module_version": "1.2.0",
      "model_name": "ButtonModel",
      "state": {
       "button_style": "primary",
       "description": "Download",
       "layout": "IPY_MODEL_bbb48c7c007d4c0081e1bb593b0fb913",
       "style": "IPY_MODEL_721e4dd81b6b4ecebeb5a72687bbdcd7"
      }
     },
     "caa64dc2655a45a7b9da964d21261dc6": {
      "model_module": "@jupyter-widgets/base",
      "model_module_version": "1.0.0",
      "model_name": "LayoutModel",
      "state": {}
     },
     "cad9987b5f4a467a8b550a5cfd6bf9a5": {
      "model_module": "@jupyter-widgets/base",
      "model_module_version": "1.0.0",
      "model_name": "LayoutModel",
      "state": {
       "width": "100px"
      }
     },
     "cae65e78f28d42879c644a0a29ab422f": {
      "model_module": "@jupyter-widgets/controls",
      "model_module_version": "1.2.0",
      "model_name": "HTMLModel",
      "state": {
       "layout": "IPY_MODEL_49dca4a289784733b510f8db4e584eda",
       "style": "IPY_MODEL_c05f71e5f8a44ca2a0eb9967f89bf9a4",
       "value": "<h3 style='padding:0;margin:0;'>&nbsp &nbsp &nbsp<a href='https://github.com/pupster90/io_Blog.git'>io_Blog</a></h3>"
      }
     },
     "caf0003324584a4f992a6be636270f67": {
      "model_module": "@jupyter-widgets/base",
      "model_module_version": "1.0.0",
      "model_name": "LayoutModel",
      "state": {
       "width": "100px"
      }
     },
     "cb2503b3318e4ddc9fb501ce936b7ec2": {
      "model_module": "@jupyter-widgets/controls",
      "model_module_version": "1.2.0",
      "model_name": "HBoxModel",
      "state": {
       "children": [
        "IPY_MODEL_f5db987563e04884956de1bd0a20b76d",
        "IPY_MODEL_7cdf473966474f5ea07783e02d2912a2"
       ],
       "layout": "IPY_MODEL_e81e413cca4a486baa14d8fea0ea4ab4"
      }
     },
     "cb2fc1448ba04220bef232c4c49f1557": {
      "model_module": "@jupyter-widgets/controls",
      "model_module_version": "1.2.0",
      "model_name": "ButtonStyleModel",
      "state": {}
     },
     "cb40926c5c49422ca0b3427155a95daf": {
      "model_module": "@jupyter-widgets/base",
      "model_module_version": "1.0.0",
      "model_name": "LayoutModel",
      "state": {
       "align_items": "center"
      }
     },
     "cb4d4d1bbebb4eb5bc2265c1967e495c": {
      "model_module": "@jupyter-widgets/controls",
      "model_module_version": "1.2.0",
      "model_name": "ButtonModel",
      "state": {
       "button_style": "success",
       "description": "Publish",
       "layout": "IPY_MODEL_d245dd55dbb045aebb1c4c4d08a06ddd",
       "style": "IPY_MODEL_14d0ebea9a564e33a8fe2c527104b1e5"
      }
     },
     "cb8993a6443c41ba803563285cc8cd34": {
      "model_module": "@jupyter-widgets/controls",
      "model_module_version": "1.2.0",
      "model_name": "DescriptionStyleModel",
      "state": {
       "description_width": ""
      }
     },
     "cbc3ba20b72d496c9cc27de45fd133ea": {
      "model_module": "@jupyter-widgets/base",
      "model_module_version": "1.0.0",
      "model_name": "LayoutModel",
      "state": {
       "width": "130px"
      }
     },
     "cc098369f9b745d18a90192039e136ce": {
      "model_module": "@jupyter-widgets/controls",
      "model_module_version": "1.2.0",
      "model_name": "HBoxModel",
      "state": {
       "children": [
        "IPY_MODEL_a0e915dd63ac47d8ae7e93ea030062a7",
        "IPY_MODEL_60250ead872041328fefb020d61f3820",
        "IPY_MODEL_cae65e78f28d42879c644a0a29ab422f"
       ],
       "layout": "IPY_MODEL_18487c6bd90b4ab689a0294d514b327f"
      }
     },
     "cc107f45edc54bc59ad6d7a226b6ee9f": {
      "model_module": "@jupyter-widgets/controls",
      "model_module_version": "1.2.0",
      "model_name": "ButtonStyleModel",
      "state": {}
     },
     "cc4ff00f108f43f29cf7f3e481ab60a2": {
      "model_module": "@jupyter-widgets/base",
      "model_module_version": "1.0.0",
      "model_name": "LayoutModel",
      "state": {}
     },
     "cc99c38025f14d30bc1c2525adf803a7": {
      "model_module": "@jupyter-widgets/base",
      "model_module_version": "1.0.0",
      "model_name": "LayoutModel",
      "state": {}
     },
     "ccbc57323db348e581b7500cedcf7b04": {
      "model_module": "@jupyter-widgets/controls",
      "model_module_version": "1.2.0",
      "model_name": "ButtonStyleModel",
      "state": {}
     },
     "cccebc13d0544a4fbd711fdbec4fb8ef": {
      "model_module": "@jupyter-widgets/base",
      "model_module_version": "1.0.0",
      "model_name": "LayoutModel",
      "state": {}
     },
     "cd25e9c8e53a430f832ec382330dca91": {
      "model_module": "@jupyter-widgets/base",
      "model_module_version": "1.0.0",
      "model_name": "LayoutModel",
      "state": {}
     },
     "cd29168d84f14a7fbf86be2a761974ee": {
      "model_module": "@jupyter-widgets/controls",
      "model_module_version": "1.2.0",
      "model_name": "ButtonModel",
      "state": {
       "button_style": "success",
       "description": "Publish",
       "layout": "IPY_MODEL_58884cf9b8bc4bb5a4be277e1d3e5476",
       "style": "IPY_MODEL_1c2572f003da4591b3fc89784271a90d"
      }
     },
     "cd319393c55f481d84c34a90163a2e8b": {
      "model_module": "@jupyter-widgets/controls",
      "model_module_version": "1.2.0",
      "model_name": "DescriptionStyleModel",
      "state": {
       "description_width": ""
      }
     },
     "cd405bc769b14a258ca369e87e779721": {
      "model_module": "@jupyter-widgets/base",
      "model_module_version": "1.0.0",
      "model_name": "LayoutModel",
      "state": {}
     },
     "cd4ce9c953d14ce895b7a8ffc50d29b3": {
      "model_module": "@jupyter-widgets/controls",
      "model_module_version": "1.2.0",
      "model_name": "DescriptionStyleModel",
      "state": {
       "description_width": ""
      }
     },
     "cdb38c75b58b4499a5206b52ff6e5de3": {
      "model_module": "@jupyter-widgets/controls",
      "model_module_version": "1.2.0",
      "model_name": "HTMLModel",
      "state": {
       "layout": "IPY_MODEL_8f4e0cb2b2674e43b52c872b155d0542",
       "style": "IPY_MODEL_2486270524714d57a890278c4aa58ec6",
       "value": "<h3 style='padding:0;margin:0;'>&nbsp &nbsp &nbsp<a href='https://github.com/pupster90/Ideker_Online.git'>Ideker_Online</a></h3>"
      }
     },
     "cddfd1c17efc47aa8184ca749e73ae5f": {
      "model_module": "@jupyter-widgets/base",
      "model_module_version": "1.0.0",
      "model_name": "LayoutModel",
      "state": {}
     },
     "cdecfb701a9c46b0932d2eab78b8c6d3": {
      "model_module": "@jupyter-widgets/controls",
      "model_module_version": "1.2.0",
      "model_name": "ButtonStyleModel",
      "state": {}
     },
     "ce1957edb0a34f679d31465a486713b2": {
      "model_module": "@jupyter-widgets/controls",
      "model_module_version": "1.2.0",
      "model_name": "DescriptionStyleModel",
      "state": {
       "description_width": ""
      }
     },
     "ce3d3d9267df4dc68ea5996ad3cbfe38": {
      "model_module": "@jupyter-widgets/controls",
      "model_module_version": "1.2.0",
      "model_name": "DescriptionStyleModel",
      "state": {
       "description_width": ""
      }
     },
     "ce61b516b5954d269e5dba96003f053d": {
      "model_module": "@jupyter-widgets/controls",
      "model_module_version": "1.2.0",
      "model_name": "ButtonStyleModel",
      "state": {}
     },
     "cebd1ac53ce34d70b40fdbe230f67ef3": {
      "model_module": "@jupyter-widgets/base",
      "model_module_version": "1.0.0",
      "model_name": "LayoutModel",
      "state": {}
     },
     "cee1a3c0d5d94c3aa6e42220cd0c76e0": {
      "model_module": "@jupyter-widgets/base",
      "model_module_version": "1.0.0",
      "model_name": "LayoutModel",
      "state": {
       "align_items": "center"
      }
     },
     "cee399b027324df79bca31dd43ea2fcb": {
      "model_module": "@jupyter-widgets/controls",
      "model_module_version": "1.2.0",
      "model_name": "ButtonModel",
      "state": {
       "button_style": "primary",
       "description": "Download",
       "layout": "IPY_MODEL_6d59d200971d4f7e974a96123ea5cff9",
       "style": "IPY_MODEL_1349b568988b4d09a7e7c94ee67f7d43"
      }
     },
     "cf4c1c2dba7643ce92f38dafb6f5432f": {
      "model_module": "@jupyter-widgets/controls",
      "model_module_version": "1.2.0",
      "model_name": "DescriptionStyleModel",
      "state": {
       "description_width": ""
      }
     },
     "cf5ba6aeddb042acb37a55d068c13c1b": {
      "model_module": "@jupyter-widgets/controls",
      "model_module_version": "1.2.0",
      "model_name": "HTMLModel",
      "state": {
       "layout": "IPY_MODEL_bfe0edecff2c42aaaaded640b4c679df",
       "style": "IPY_MODEL_d10db9cb3a894c759530fc26f9e3b0af",
       "value": "<font color='orange'> &nbsp Stars: 0</font>"
      }
     },
     "cfa2a213f4e341fa8fb6a17a52962454": {
      "model_module": "@jupyter-widgets/base",
      "model_module_version": "1.0.0",
      "model_name": "LayoutModel",
      "state": {}
     },
     "cfd0fd4026a84202b2b0c1d3a9d2158a": {
      "model_module": "@jupyter-widgets/base",
      "model_module_version": "1.0.0",
      "model_name": "LayoutModel",
      "state": {}
     },
     "cfff6938b15142cba848d57e49941ebd": {
      "model_module": "@jupyter-widgets/controls",
      "model_module_version": "1.2.0",
      "model_name": "HBoxModel",
      "state": {
       "children": [
        "IPY_MODEL_1c6aacc0f4c7476e901b35c44962eb87",
        "IPY_MODEL_8e8bef74c22b40a190fc086c9761c02b"
       ],
       "layout": "IPY_MODEL_dd04b4f6b24447c48bb12f8ae8414022"
      }
     },
     "d0007725a2074b4c8efb306ee1a49229": {
      "model_module": "@jupyter-widgets/controls",
      "model_module_version": "1.2.0",
      "model_name": "DescriptionStyleModel",
      "state": {
       "description_width": ""
      }
     },
     "d01a91610eb14789a911cc7159446a9b": {
      "model_module": "@jupyter-widgets/controls",
      "model_module_version": "1.2.0",
      "model_name": "HBoxModel",
      "state": {
       "children": [
        "IPY_MODEL_08483044e8dd42409a04f6b1589c92b0",
        "IPY_MODEL_c12ca6936fdf4f56a5a85ca198f7ca80"
       ],
       "layout": "IPY_MODEL_cee1a3c0d5d94c3aa6e42220cd0c76e0"
      }
     },
     "d0290506b5614f65abbd55231227a15e": {
      "model_module": "@jupyter-widgets/controls",
      "model_module_version": "1.2.0",
      "model_name": "DescriptionStyleModel",
      "state": {
       "description_width": ""
      }
     },
     "d0308444b71a4397a210e759310ffbd6": {
      "model_module": "@jupyter-widgets/controls",
      "model_module_version": "1.2.0",
      "model_name": "HBoxModel",
      "state": {
       "children": [
        "IPY_MODEL_401a84ee958e49fc839e69b111cfe09e",
        "IPY_MODEL_5f2b63eb79ef40b98e4898d6f32b5ac6"
       ],
       "layout": "IPY_MODEL_228e8806ecee471b98ff3907fc1ad6a2"
      }
     },
     "d03d4d7722b943e5a1fffa395d00c3c6": {
      "model_module": "@jupyter-widgets/base",
      "model_module_version": "1.0.0",
      "model_name": "LayoutModel",
      "state": {
       "width": "auto"
      }
     },
     "d0426ebde8854df6a2e527993da91aa3": {
      "model_module": "@jupyter-widgets/controls",
      "model_module_version": "1.2.0",
      "model_name": "HTMLModel",
      "state": {
       "layout": "IPY_MODEL_a571339548fc4417a86feec58daee1c6",
       "style": "IPY_MODEL_25715c9fa2c245f5998dda8e5987d9fd",
       "value": "<h3 style='padding:0;margin:0;'>&nbsp &nbsp &nbsp<a href='https://github.com/pupster90/Setup_Notebook.git'>Setup_Notebook</a></h3>"
      }
     },
     "d048ee0518c9447e85e5f7dabc5f81cc": {
      "model_module": "@jupyter-widgets/controls",
      "model_module_version": "1.2.0",
      "model_name": "DescriptionStyleModel",
      "state": {
       "description_width": ""
      }
     },
     "d06b4d6161a848a6aa25622ec9df2640": {
      "model_module": "@jupyter-widgets/controls",
      "model_module_version": "1.2.0",
      "model_name": "HTMLModel",
      "state": {
       "layout": "IPY_MODEL_8148c1e6b1d241fab99d0544be6b748a",
       "style": "IPY_MODEL_f7c01c60b3a84dbc9c4945685e633bb6",
       "value": "<h3 style='padding:0;margin:0;'>&nbsp &nbsp &nbsp<a href='https://github.com/pupster90/io_Presentation.git'>io_Presentation</a></h3>"
      }
     },
     "d07fea77d3c248fcaa4dd5eef0ceb0dd": {
      "model_module": "@jupyter-widgets/base",
      "model_module_version": "1.0.0",
      "model_name": "LayoutModel",
      "state": {
       "width": "auto"
      }
     },
     "d088331b58c144cea484b0c02f747c3a": {
      "model_module": "@jupyter-widgets/base",
      "model_module_version": "1.0.0",
      "model_name": "LayoutModel",
      "state": {
       "justify_content": "center",
       "padding": "15px 0 0 0"
      }
     },
     "d0a7c0f03851408691f6434d5c66d7f4": {
      "model_module": "@jupyter-widgets/controls",
      "model_module_version": "1.2.0",
      "model_name": "HTMLModel",
      "state": {
       "layout": "IPY_MODEL_a169742f6a7048ef98c7fd43e6563ad0",
       "style": "IPY_MODEL_efd95932ab6f4742b803d516a68e0b10",
       "value": "<font color='orange'> &nbsp Stars: 0</font>"
      }
     },
     "d0b5a2d38bab476daf77786b8741fd52": {
      "model_module": "@jupyter-widgets/controls",
      "model_module_version": "1.2.0",
      "model_name": "DescriptionStyleModel",
      "state": {
       "description_width": ""
      }
     },
     "d0ced9e7fa8141d18719eb1ab349550d": {
      "model_module": "@jupyter-widgets/controls",
      "model_module_version": "1.2.0",
      "model_name": "ButtonModel",
      "state": {
       "button_style": "primary",
       "description": "Download",
       "layout": "IPY_MODEL_25d3e493a17a4031adaaf80c5bf0ce9e",
       "style": "IPY_MODEL_5d31d7f946354778914771dd8b3be8bd"
      }
     },
     "d0e6e61dfdcc4b199707084d7afcac5e": {
      "model_module": "@jupyter-widgets/base",
      "model_module_version": "1.0.0",
      "model_name": "LayoutModel",
      "state": {}
     },
     "d104333f38d6426fb9ff4d7cd3a68097": {
      "model_module": "@jupyter-widgets/base",
      "model_module_version": "1.0.0",
      "model_name": "LayoutModel",
      "state": {}
     },
     "d10c556f7f2a47159a6c17cc7893f592": {
      "model_module": "@jupyter-widgets/base",
      "model_module_version": "1.0.0",
      "model_name": "LayoutModel",
      "state": {}
     },
     "d10db9cb3a894c759530fc26f9e3b0af": {
      "model_module": "@jupyter-widgets/controls",
      "model_module_version": "1.2.0",
      "model_name": "DescriptionStyleModel",
      "state": {
       "description_width": ""
      }
     },
     "d11e10036e0f451789e05ea1392b907f": {
      "model_module": "@jupyter-widgets/controls",
      "model_module_version": "1.2.0",
      "model_name": "ButtonModel",
      "state": {
       "button_style": "primary",
       "description": "Download",
       "layout": "IPY_MODEL_ad4d2100a04f4978a929afa61f530fac",
       "style": "IPY_MODEL_649ede2a27d3441aa761059daa5e7d38"
      }
     },
     "d12e11d47d434e459136d75d313c5f39": {
      "model_module": "@jupyter-widgets/base",
      "model_module_version": "1.0.0",
      "model_name": "LayoutModel",
      "state": {
       "width": "auto"
      }
     },
     "d14e68a9be73497e8a9151027130751f": {
      "model_module": "@jupyter-widgets/controls",
      "model_module_version": "1.2.0",
      "model_name": "HBoxModel",
      "state": {
       "children": [
        "IPY_MODEL_f7918b87551949d894a37703d5e3079b",
        "IPY_MODEL_7af1159787a34bee930a17e5ed883c6a"
       ],
       "layout": "IPY_MODEL_17c49326ece94f3fa7ede369804e874c"
      }
     },
     "d1895668026c4192a2178c1cad614a3e": {
      "model_module": "@jupyter-widgets/controls",
      "model_module_version": "1.2.0",
      "model_name": "ButtonModel",
      "state": {
       "button_style": "primary",
       "description": "Download",
       "layout": "IPY_MODEL_081543b88a8d4314842d408a4b98a698",
       "style": "IPY_MODEL_1d73fc64e57347caa4a74bf468645ce9"
      }
     },
     "d1f22c1bce0c43668b5bf5ec79f4710d": {
      "model_module": "@jupyter-widgets/controls",
      "model_module_version": "1.2.0",
      "model_name": "DescriptionStyleModel",
      "state": {
       "description_width": ""
      }
     },
     "d20c3cd1d80f468997b8bd9471f5081c": {
      "model_module": "@jupyter-widgets/controls",
      "model_module_version": "1.2.0",
      "model_name": "ButtonModel",
      "state": {
       "button_style": "primary",
       "description": "Download",
       "layout": "IPY_MODEL_ebda8933180f4dfd9600d7cbdd2edb8f",
       "style": "IPY_MODEL_960aac22b67c4acf9780ab632e623767"
      }
     },
     "d2115b04eaa1402188265d8b2089fed8": {
      "model_module": "@jupyter-widgets/controls",
      "model_module_version": "1.2.0",
      "model_name": "DescriptionStyleModel",
      "state": {
       "description_width": ""
      }
     },
     "d245dd55dbb045aebb1c4c4d08a06ddd": {
      "model_module": "@jupyter-widgets/base",
      "model_module_version": "1.0.0",
      "model_name": "LayoutModel",
      "state": {
       "width": "auto"
      }
     },
     "d2720757d6634e93be05c258a63bb55a": {
      "model_module": "@jupyter-widgets/base",
      "model_module_version": "1.0.0",
      "model_name": "LayoutModel",
      "state": {
       "width": "100px"
      }
     },
     "d28d968bdfb44e9b9096183c9a5a65c5": {
      "model_module": "@jupyter-widgets/base",
      "model_module_version": "1.0.0",
      "model_name": "LayoutModel",
      "state": {}
     },
     "d2921a794b74410799d994caba21f590": {
      "model_module": "@jupyter-widgets/controls",
      "model_module_version": "1.2.0",
      "model_name": "HBoxModel",
      "state": {
       "children": [
        "IPY_MODEL_b9f0508e7ce345f8b5a5f96e0f5e6399",
        "IPY_MODEL_291f214f0e644865b4f8ca66dd8fb83a",
        "IPY_MODEL_809c34a94ca4485abaa3520c4bb857a6",
        "IPY_MODEL_dcead6c8b3a24875827be5bbd002b36d"
       ],
       "layout": "IPY_MODEL_83828c35479a43739d2f84dd4df2301d"
      }
     },
     "d2a7362ac8274b069bb8507dfadb8d65": {
      "model_module": "@jupyter-widgets/controls",
      "model_module_version": "1.2.0",
      "model_name": "HTMLModel",
      "state": {
       "layout": "IPY_MODEL_6f9380806793447ba0db542990f0da50",
       "style": "IPY_MODEL_86ec2ccc94664de098d390ae2255ffdb",
       "value": "<h3 class='text-center'><font color='green'>Login</font> to <a stc='https://github.com/'>Github</a><h3>"
      }
     },
     "d2b0dee5f661459cb98bd5203132247f": {
      "model_module": "@jupyter-widgets/controls",
      "model_module_version": "1.2.0",
      "model_name": "ButtonStyleModel",
      "state": {}
     },
     "d2dc19fef480442bae30404df4ab881b": {
      "model_module": "@jupyter-widgets/controls",
      "model_module_version": "1.2.0",
      "model_name": "HTMLModel",
      "state": {
       "layout": "IPY_MODEL_9c489884528141f6a701ab153a1383d3",
       "style": "IPY_MODEL_da0cd63388f74179be72aab85b83beb1",
       "value": "<h3 style='padding:0;margin:0;'>&nbsp &nbsp &nbsp<a href='https://github.com/pupster90/Kubernetes-on-google-cloud.git'>Kubernetes-on-google-cloud</a></h3>"
      }
     },
     "d34b2d35cd334838a314ab40f4ed9485": {
      "model_module": "@jupyter-widgets/base",
      "model_module_version": "1.0.0",
      "model_name": "LayoutModel",
      "state": {}
     },
     "d363b676d27740dd8934406ed84bfc8d": {
      "model_module": "@jupyter-widgets/controls",
      "model_module_version": "1.2.0",
      "model_name": "LabelModel",
      "state": {
       "layout": "IPY_MODEL_62435ae9c4f64ad6a189125862a0bae6",
       "style": "IPY_MODEL_0f3581e9002242308a73e5ac6bcf616c",
       "value": "1 hour ago"
      }
     },
     "d393305b58ac4051be213d67c14aba34": {
      "model_module": "@jupyter-widgets/base",
      "model_module_version": "1.0.0",
      "model_name": "LayoutModel",
      "state": {}
     },
     "d3d4b756fbcd4f53abcaae218c25c440": {
      "model_module": "@jupyter-widgets/controls",
      "model_module_version": "1.2.0",
      "model_name": "DescriptionStyleModel",
      "state": {
       "description_width": ""
      }
     },
     "d3de1ce77550478e89dc1c0bd57d4375": {
      "model_module": "@jupyter-widgets/controls",
      "model_module_version": "1.2.0",
      "model_name": "ButtonStyleModel",
      "state": {}
     },
     "d43c37179dc040679020947a21b980bf": {
      "model_module": "@jupyter-widgets/controls",
      "model_module_version": "1.2.0",
      "model_name": "HTMLModel",
      "state": {
       "layout": "IPY_MODEL_784131dbd71e4ec485e167edc8fa4bc2",
       "style": "IPY_MODEL_432e30c570244f9a8cb52e625bd8f6a7",
       "value": "<h3 style='padding:0;margin:0;'>&nbsp &nbsp &nbsp<a href='https://github.com/pupster90/prosettapal.git'>prosettapal</a></h3>"
      }
     },
     "d465d146d050428c83344e13fc8fa003": {
      "model_module": "@jupyter-widgets/base",
      "model_module_version": "1.0.0",
      "model_name": "LayoutModel",
      "state": {}
     },
     "d46d696946c14f3aa781c7b7e62e96ed": {
      "model_module": "@jupyter-widgets/controls",
      "model_module_version": "1.2.0",
      "model_name": "HBoxModel",
      "state": {
       "children": [
        "IPY_MODEL_e3d3b8c67a0c4c17b0b562c82d028b77",
        "IPY_MODEL_9a21fa9061334d658b08a9f714d75101"
       ],
       "layout": "IPY_MODEL_6730d0b473f64a259e3b323a68c17123"
      }
     },
     "d4b38c055c154ddfafbe8ce63e497fd6": {
      "model_module": "@jupyter-widgets/controls",
      "model_module_version": "1.2.0",
      "model_name": "HBoxModel",
      "state": {
       "children": [
        "IPY_MODEL_9f87cb25b75347c4b0101e9ba48461a0",
        "IPY_MODEL_2f9d401698a144f2be6bc2fce3dd4fcf",
        "IPY_MODEL_f7743d822e614ba2a75fd73bc4fa7df8",
        "IPY_MODEL_b2b8ef1df4f246758bd82a4d64b6ca16"
       ],
       "layout": "IPY_MODEL_1790673bc5e64f80a731734ce3a5737f"
      }
     },
     "d4bd21a082e340e8a7f9fe48d7787245": {
      "model_module": "@jupyter-widgets/controls",
      "model_module_version": "1.2.0",
      "model_name": "DescriptionStyleModel",
      "state": {
       "description_width": ""
      }
     },
     "d4d93b880aa4466ea081ef2b51f9557a": {
      "model_module": "@jupyter-widgets/base",
      "model_module_version": "1.0.0",
      "model_name": "LayoutModel",
      "state": {
       "width": "auto"
      }
     },
     "d51f38fc8b044a91b4bdbbf3b4078fb9": {
      "model_module": "@jupyter-widgets/controls",
      "model_module_version": "1.2.0",
      "model_name": "DescriptionStyleModel",
      "state": {
       "description_width": ""
      }
     },
     "d520cfda350043128cf7229ded26ec41": {
      "model_module": "@jupyter-widgets/controls",
      "model_module_version": "1.2.0",
      "model_name": "HBoxModel",
      "state": {
       "children": [
        "IPY_MODEL_8d994f5838c74b47893673bb9737d614",
        "IPY_MODEL_bc6e7b4859f84003be3275f95e1a098d"
       ],
       "layout": "IPY_MODEL_756789d0e1d0435bbb1d87844b8e7592"
      }
     },
     "d598c61cc8e542928be4e094828c66b8": {
      "model_module": "@jupyter-widgets/controls",
      "model_module_version": "1.2.0",
      "model_name": "DescriptionStyleModel",
      "state": {
       "description_width": ""
      }
     },
     "d5fdc8dc102943eaafb2f6ee0a471f61": {
      "model_module": "@jupyter-widgets/controls",
      "model_module_version": "1.2.0",
      "model_name": "DescriptionStyleModel",
      "state": {
       "description_width": ""
      }
     },
     "d6049d6a66a740229aec9766533c579f": {
      "model_module": "@jupyter-widgets/controls",
      "model_module_version": "1.2.0",
      "model_name": "ButtonStyleModel",
      "state": {}
     },
     "d633b1fd593d4492b3465696441493d0": {
      "model_module": "@jupyter-widgets/controls",
      "model_module_version": "1.2.0",
      "model_name": "HTMLModel",
      "state": {
       "layout": "IPY_MODEL_3b400431ff6546f99fc982e2856637e7",
       "style": "IPY_MODEL_aa31e356f6f74349a52ea7cefa76b792",
       "value": "<h3 style='padding:0;margin:0;'>&nbsp &nbsp &nbsp<a href='https://github.com/pupster90/My_First_Research_Paper.git'>My_First_Research_Paper</a></h3>"
      }
     },
     "d652b60abc274d9295b9d3ab0b8861fc": {
      "model_module": "@jupyter-widgets/base",
      "model_module_version": "1.0.0",
      "model_name": "LayoutModel",
      "state": {}
     },
     "d6aeccb5f4d44d0da104aef93dd1817f": {
      "model_module": "@jupyter-widgets/controls",
      "model_module_version": "1.2.0",
      "model_name": "LabelModel",
      "state": {
       "layout": "IPY_MODEL_c7b6b17ab9734373860211d161d427e2",
       "style": "IPY_MODEL_8685d7f0ec20467b90fc7085bd5ea05d",
       "value": "3 days ago"
      }
     },
     "d6bf43ec4ee34fdf972ac5b83c8e3203": {
      "model_module": "@jupyter-widgets/controls",
      "model_module_version": "1.2.0",
      "model_name": "HBoxModel",
      "state": {
       "children": [
        "IPY_MODEL_8c54215c33914315a913b6f4f7140dfa",
        "IPY_MODEL_f521f3477292489496f9377205393ba8",
        "IPY_MODEL_b7a01b06428348619e25481b94cea03d",
        "IPY_MODEL_5b22a4d73e3640d5aeeaf44fa9e888b3"
       ],
       "layout": "IPY_MODEL_f9a64fedf9d14742a73355a8ac2fc8dc"
      }
     },
     "d6f1b7e5921547eebc097333d324a733": {
      "model_module": "@jupyter-widgets/controls",
      "model_module_version": "1.2.0",
      "model_name": "DescriptionStyleModel",
      "state": {
       "description_width": ""
      }
     },
     "d754cbcf7cc14fc095d0adbced6ce815": {
      "model_module": "@jupyter-widgets/controls",
      "model_module_version": "1.2.0",
      "model_name": "ButtonModel",
      "state": {
       "button_style": "primary",
       "description": "Download",
       "layout": "IPY_MODEL_02e71621ce2e4c298d9dac4c9140e8f4",
       "style": "IPY_MODEL_dd4dd9ed0601425bae8295236e636960"
      }
     },
     "d782a7b335d24dc2907c476f6ed5c3d2": {
      "model_module": "@jupyter-widgets/controls",
      "model_module_version": "1.2.0",
      "model_name": "DescriptionStyleModel",
      "state": {
       "description_width": ""
      }
     },
     "d80593d7b9ad4aba8be8dbde3260c281": {
      "model_module": "@jupyter-widgets/controls",
      "model_module_version": "1.2.0",
      "model_name": "HTMLModel",
      "state": {
       "layout": "IPY_MODEL_031339e29116454798ccba4919a53d87",
       "style": "IPY_MODEL_262af83516e241ea801298e046b91d0b",
       "value": "<h3 style='padding:0;margin:0;'>&nbsp &nbsp &nbsp<a href='https://github.com/pupster90/Welcome_to_io.git'>Welcome_to_io</a></h3>"
      }
     },
     "d847ad28c30a432e9e7766c3d36e8855": {
      "model_module": "@jupyter-widgets/controls",
      "model_module_version": "1.2.0",
      "model_name": "HBoxModel",
      "state": {
       "children": [
        "IPY_MODEL_6de001105ba247e8a042234686b136c1",
        "IPY_MODEL_34611c612c3644f590de72969d80eeaa",
        "IPY_MODEL_a1111bb1b84d4fb0bcf5d06421615946",
        "IPY_MODEL_8fa35d60fe0146be96d86b68bc090c41",
        "IPY_MODEL_fe53c4d3271b496fb92c7702b05ae29f",
        "IPY_MODEL_562d025e22da44d0bdcaf67765522925"
       ],
       "layout": "IPY_MODEL_90951e1149aa43db9da20c96887157e0"
      }
     },
     "d858c22f3085458db297c07c9d75cee1": {
      "model_module": "@jupyter-widgets/controls",
      "model_module_version": "1.2.0",
      "model_name": "DescriptionStyleModel",
      "state": {
       "description_width": ""
      }
     },
     "d86a09ae93584ff9aecb64ec7bbb9ca1": {
      "model_module": "@jupyter-widgets/base",
      "model_module_version": "1.0.0",
      "model_name": "LayoutModel",
      "state": {}
     },
     "d86e70370d8742ba98010c292c81ac82": {
      "model_module": "@jupyter-widgets/base",
      "model_module_version": "1.0.0",
      "model_name": "LayoutModel",
      "state": {}
     },
     "d88b068614c848f998defd607a5c6da5": {
      "model_module": "@jupyter-widgets/base",
      "model_module_version": "1.0.0",
      "model_name": "LayoutModel",
      "state": {
       "width": "100px"
      }
     },
     "d88b743113fd48b2a1b31b5946bab8a7": {
      "model_module": "@jupyter-widgets/controls",
      "model_module_version": "1.2.0",
      "model_name": "ButtonModel",
      "state": {
       "button_style": "primary",
       "description": "Download",
       "layout": "IPY_MODEL_5e951d71983e43f49bbb2d7705510e8e",
       "style": "IPY_MODEL_747a1673bb01495bba917adcf541fca9"
      }
     },
     "d8b36a7bf143480aa3cc9feccb3bb626": {
      "model_module": "@jupyter-widgets/base",
      "model_module_version": "1.0.0",
      "model_name": "LayoutModel",
      "state": {
       "width": "100px"
      }
     },
     "d8bcf37a7eae405ba00f71996ebc7bdb": {
      "model_module": "@jupyter-widgets/controls",
      "model_module_version": "1.2.0",
      "model_name": "DescriptionStyleModel",
      "state": {
       "description_width": ""
      }
     },
     "d8da52b03abf4c38a057fac9b6b0c672": {
      "model_module": "@jupyter-widgets/base",
      "model_module_version": "1.0.0",
      "model_name": "LayoutModel",
      "state": {}
     },
     "d908387b85434120a3304b2bfd597094": {
      "model_module": "@jupyter-widgets/controls",
      "model_module_version": "1.2.0",
      "model_name": "HBoxModel",
      "state": {
       "children": [
        "IPY_MODEL_f93e2ac37bd846d49aee71e4649ec480",
        "IPY_MODEL_a6e95deaefe54b23a1c37321904f89da",
        "IPY_MODEL_6dfde21d4e194302ad29239622e753b7",
        "IPY_MODEL_bc0480194fde4edfa3038f7bcb682785",
        "IPY_MODEL_133b162334e045239b290b97bff49732",
        "IPY_MODEL_43e83191513c4ed6b68274490896117c"
       ],
       "layout": "IPY_MODEL_b5edff1be4be402dad06b00d37d22a28"
      }
     },
     "d90d337deac24269ac86716d6b30f316": {
      "model_module": "@jupyter-widgets/base",
      "model_module_version": "1.0.0",
      "model_name": "LayoutModel",
      "state": {
       "width": "auto"
      }
     },
     "d9942f1b0a464711b7db08ce8b839ea1": {
      "model_module": "@jupyter-widgets/controls",
      "model_module_version": "1.2.0",
      "model_name": "ButtonStyleModel",
      "state": {}
     },
     "d997760f46fb4939bd9ea252c1f5bea7": {
      "model_module": "@jupyter-widgets/controls",
      "model_module_version": "1.2.0",
      "model_name": "ButtonModel",
      "state": {
       "button_style": "primary",
       "description": "Download",
       "layout": "IPY_MODEL_410b28447b8a4af9938e19d4ef397d69",
       "style": "IPY_MODEL_fb935991238e4aa6adcb45878393c06e"
      }
     },
     "d9a52544a842498b9fc03c6b63538f2a": {
      "model_module": "@jupyter-widgets/controls",
      "model_module_version": "1.2.0",
      "model_name": "ButtonStyleModel",
      "state": {}
     },
     "d9b58213540847c98c42eb4630adef93": {
      "model_module": "@jupyter-widgets/controls",
      "model_module_version": "1.2.0",
      "model_name": "DescriptionStyleModel",
      "state": {
       "description_width": ""
      }
     },
     "d9bd843cdf354bc4a624145762f8eb9f": {
      "model_module": "@jupyter-widgets/base",
      "model_module_version": "1.0.0",
      "model_name": "LayoutModel",
      "state": {
       "width": "auto"
      }
     },
     "d9e68101343e46e89d3d6306c5636d11": {
      "model_module": "@jupyter-widgets/base",
      "model_module_version": "1.0.0",
      "model_name": "LayoutModel",
      "state": {}
     },
     "da0cd63388f74179be72aab85b83beb1": {
      "model_module": "@jupyter-widgets/controls",
      "model_module_version": "1.2.0",
      "model_name": "DescriptionStyleModel",
      "state": {
       "description_width": ""
      }
     },
     "da11d634020d4686867ef13c8570a94c": {
      "model_module": "@jupyter-widgets/base",
      "model_module_version": "1.0.0",
      "model_name": "LayoutModel",
      "state": {
       "width": "auto"
      }
     },
     "dabda0402e714c6fab86a3448cc33585": {
      "model_module": "@jupyter-widgets/controls",
      "model_module_version": "1.2.0",
      "model_name": "HTMLModel",
      "state": {
       "layout": "IPY_MODEL_d10c556f7f2a47159a6c17cc7893f592",
       "style": "IPY_MODEL_5ef7efada0774226b9eeced98f701c35",
       "value": "<font color='orange'> &nbsp Stars: 0</font>"
      }
     },
     "dabf91b5081949c48c436e086e39a83d": {
      "model_module": "@jupyter-widgets/controls",
      "model_module_version": "1.2.0",
      "model_name": "DescriptionStyleModel",
      "state": {
       "description_width": ""
      }
     },
     "daf4818c11444d1db4a1a919098c0696": {
      "model_module": "@jupyter-widgets/base",
      "model_module_version": "1.0.0",
      "model_name": "LayoutModel",
      "state": {
       "justify_content": "center",
       "padding": "15px 0 0 0"
      }
     },
     "db0bd5d1ccd64e3f8a626f4869ad38ac": {
      "model_module": "@jupyter-widgets/controls",
      "model_module_version": "1.2.0",
      "model_name": "ButtonStyleModel",
      "state": {}
     },
     "db2908b4444b47e3b12c623f314a2f38": {
      "model_module": "@jupyter-widgets/controls",
      "model_module_version": "1.2.0",
      "model_name": "DescriptionStyleModel",
      "state": {
       "description_width": ""
      }
     },
     "dbc7220d3cd74f9491108fd04ff409bf": {
      "model_module": "@jupyter-widgets/base",
      "model_module_version": "1.0.0",
      "model_name": "LayoutModel",
      "state": {
       "width": "auto"
      }
     },
     "dbf975db88fa4529a99e5ddc5faa3008": {
      "model_module": "@jupyter-widgets/base",
      "model_module_version": "1.0.0",
      "model_name": "LayoutModel",
      "state": {
       "width": "100px"
      }
     },
     "dc4d63c87f5845bf9edbc4d4efebed00": {
      "model_module": "@jupyter-widgets/base",
      "model_module_version": "1.0.0",
      "model_name": "LayoutModel",
      "state": {}
     },
     "dc988571deb445bfb1cc39fc60dbfef3": {
      "model_module": "@jupyter-widgets/base",
      "model_module_version": "1.0.0",
      "model_name": "LayoutModel",
      "state": {}
     },
     "dcb5e3dae21148dd8e28253a6977e26d": {
      "model_module": "@jupyter-widgets/base",
      "model_module_version": "1.0.0",
      "model_name": "LayoutModel",
      "state": {
       "align_items": "center"
      }
     },
     "dcd08f09e3f748eb930ccd6159851c6a": {
      "model_module": "@jupyter-widgets/controls",
      "model_module_version": "1.2.0",
      "model_name": "HBoxModel",
      "state": {
       "children": [
        "IPY_MODEL_f512f0d49a2541759f2193fbd33c5d77",
        "IPY_MODEL_83c72b84577e4bffa3b7d5d0851b5cdf"
       ],
       "layout": "IPY_MODEL_b7ee4ceaa94a4c38a3e3b2f10dc50e77"
      }
     },
     "dcd55fe48fa04957b8265e7c18b49eec": {
      "model_module": "@jupyter-widgets/controls",
      "model_module_version": "1.2.0",
      "model_name": "HTMLModel",
      "state": {
       "layout": "IPY_MODEL_ac22596d64014fc2ba836d8217e6a370",
       "style": "IPY_MODEL_68a7103211b14faea558e793b8a2a670",
       "value": "<font color='green'> &nbsp Downloads: 0</font>"
      }
     },
     "dce81cf27cc94942b1d1a98194dca607": {
      "model_module": "@jupyter-widgets/controls",
      "model_module_version": "1.2.0",
      "model_name": "DescriptionStyleModel",
      "state": {
       "description_width": ""
      }
     },
     "dcead6c8b3a24875827be5bbd002b36d": {
      "model_module": "@jupyter-widgets/controls",
      "model_module_version": "1.2.0",
      "model_name": "HTMLModel",
      "state": {
       "layout": "IPY_MODEL_1ceeb95abd0e46c8ac625fe56ca24177",
       "style": "IPY_MODEL_ddc9ebaea39a41229e890c3e8d31c218",
       "value": "<h3 style='padding:0;margin:0;'>&nbsp &nbsp &nbsp<a href='https://github.com/pupster90/Public_Profile.git'>Public_Profile</a></h3>"
      }
     },
     "dd04b4f6b24447c48bb12f8ae8414022": {
      "model_module": "@jupyter-widgets/base",
      "model_module_version": "1.0.0",
      "model_name": "LayoutModel",
      "state": {
       "align_items": "center"
      }
     },
     "dd07c065587c42ffa2f3267d954034c0": {
      "model_module": "@jupyter-widgets/controls",
      "model_module_version": "1.2.0",
      "model_name": "DescriptionStyleModel",
      "state": {
       "description_width": ""
      }
     },
     "dd0821851cd647d5be0bb896d408a54e": {
      "model_module": "@jupyter-widgets/controls",
      "model_module_version": "1.2.0",
      "model_name": "HTMLModel",
      "state": {
       "layout": "IPY_MODEL_205ed3d741634ac2b83bf3df0ea29c07",
       "style": "IPY_MODEL_5bb030d018624f979a363f1fbd0f975c",
       "value": "<h3 class='text-center'><font color='green'>Login</font> to <a stc='https://github.com/'>Github</a><h3>"
      }
     },
     "dd27da7f1fa94e62bfba918a5cf1473f": {
      "model_module": "@jupyter-widgets/controls",
      "model_module_version": "1.2.0",
      "model_name": "HTMLModel",
      "state": {
       "layout": "IPY_MODEL_43318ca81f744a49a74d68f7bf66ef97",
       "style": "IPY_MODEL_1b7a737aeb63448fb233679fe52cafef",
       "value": "<h3 style='padding:0;margin:0;'>&nbsp &nbsp &nbsp<a href='https://github.com/pupster90/io_Blog.git'>io_Blog</a></h3>"
      }
     },
     "dd441bf3e7334dcd9c47b8475caf80a2": {
      "model_module": "@jupyter-widgets/controls",
      "model_module_version": "1.2.0",
      "model_name": "ButtonStyleModel",
      "state": {}
     },
     "dd44e0bad2d24cc3ad8fa35f5ede8db6": {
      "model_module": "@jupyter-widgets/controls",
      "model_module_version": "1.2.0",
      "model_name": "ButtonModel",
      "state": {
       "button_style": "info",
       "description": "Download",
       "layout": "IPY_MODEL_54497274da5c4b6eaae74ca333319c49",
       "style": "IPY_MODEL_74d0d30d1ac0474ea8681aacdbaf0994"
      }
     },
     "dd46af00a55945de9e89df8fe7494278": {
      "model_module": "@jupyter-widgets/controls",
      "model_module_version": "1.2.0",
      "model_name": "HTMLModel",
      "state": {
       "layout": "IPY_MODEL_e5d402594280487b87e804a69a9d940a",
       "style": "IPY_MODEL_90d4863139954aaeb033c3d5f542dbbd",
       "value": "<h3 style='padding:0;margin:0;'>&nbsp &nbsp &nbsp<a href='https://github.com/pupster90/Cytoscape.git'>Cytoscape</a></h3>"
      }
     },
     "dd4dd9ed0601425bae8295236e636960": {
      "model_module": "@jupyter-widgets/controls",
      "model_module_version": "1.2.0",
      "model_name": "ButtonStyleModel",
      "state": {}
     },
     "dd5caf7027ba48a8a76c1e4fb745cdcf": {
      "model_module": "@jupyter-widgets/controls",
      "model_module_version": "1.2.0",
      "model_name": "DescriptionStyleModel",
      "state": {
       "description_width": ""
      }
     },
     "dd6b3569130d44d8a3b90cee738890c5": {
      "model_module": "@jupyter-widgets/base",
      "model_module_version": "1.0.0",
      "model_name": "LayoutModel",
      "state": {}
     },
     "ddad2c5af27a4f95915f87ce02db88d3": {
      "model_module": "@jupyter-widgets/base",
      "model_module_version": "1.0.0",
      "model_name": "LayoutModel",
      "state": {
       "align_items": "center"
      }
     },
     "ddc21d77e4ba43d785a3a41f12349328": {
      "model_module": "@jupyter-widgets/base",
      "model_module_version": "1.0.0",
      "model_name": "LayoutModel",
      "state": {
       "width": "auto"
      }
     },
     "ddc9ebaea39a41229e890c3e8d31c218": {
      "model_module": "@jupyter-widgets/controls",
      "model_module_version": "1.2.0",
      "model_name": "DescriptionStyleModel",
      "state": {
       "description_width": ""
      }
     },
     "ddf7b5161e3f42c69688cdb4339b632b": {
      "model_module": "@jupyter-widgets/base",
      "model_module_version": "1.0.0",
      "model_name": "LayoutModel",
      "state": {}
     },
     "ddf9ba38928c4da2b0677b79a7e105d9": {
      "model_module": "@jupyter-widgets/controls",
      "model_module_version": "1.2.0",
      "model_name": "ButtonModel",
      "state": {
       "button_style": "primary",
       "description": " Refresh",
       "icon": "refresh",
       "layout": "IPY_MODEL_850b23059b35405cac43fa926ddb2065",
       "style": "IPY_MODEL_6db030166f2e4107aa266c7f9a013d60"
      }
     },
     "de00b562b8824be9b5be11ea10d56ec2": {
      "model_module": "@jupyter-widgets/controls",
      "model_module_version": "1.2.0",
      "model_name": "DescriptionStyleModel",
      "state": {
       "description_width": ""
      }
     },
     "de14322dbcd5420a97bc7c20e0c36ca4": {
      "model_module": "@jupyter-widgets/base",
      "model_module_version": "1.0.0",
      "model_name": "LayoutModel",
      "state": {}
     },
     "de21c1aecc964a308e305d0665909617": {
      "model_module": "@jupyter-widgets/base",
      "model_module_version": "1.0.0",
      "model_name": "LayoutModel",
      "state": {
       "width": "auto"
      }
     },
     "de36964643cb4bdb9f7213957feba7df": {
      "model_module": "@jupyter-widgets/base",
      "model_module_version": "1.0.0",
      "model_name": "LayoutModel",
      "state": {}
     },
     "de5f594fcae94b59a1a56f4ecfda594b": {
      "model_module": "@jupyter-widgets/controls",
      "model_module_version": "1.2.0",
      "model_name": "DescriptionStyleModel",
      "state": {
       "description_width": ""
      }
     },
     "de687dea07da498fb0fa805bed41427f": {
      "model_module": "@jupyter-widgets/base",
      "model_module_version": "1.0.0",
      "model_name": "LayoutModel",
      "state": {
       "align_items": "center"
      }
     },
     "de8ebeb035c34f7c8093e5e31c075772": {
      "model_module": "@jupyter-widgets/base",
      "model_module_version": "1.0.0",
      "model_name": "LayoutModel",
      "state": {}
     },
     "de91d82c094e48e5adaf35698e92b1d8": {
      "model_module": "@jupyter-widgets/base",
      "model_module_version": "1.0.0",
      "model_name": "LayoutModel",
      "state": {
       "width": "auto"
      }
     },
     "dec49c0e99824b28b82c578b57e44a79": {
      "model_module": "@jupyter-widgets/controls",
      "model_module_version": "1.2.0",
      "model_name": "ButtonStyleModel",
      "state": {}
     },
     "ded308b7159e41d2ade0e6094a120e54": {
      "model_module": "@jupyter-widgets/controls",
      "model_module_version": "1.2.0",
      "model_name": "HTMLModel",
      "state": {
       "layout": "IPY_MODEL_394d9663503d4b09be5846cf581fb798",
       "style": "IPY_MODEL_d9b58213540847c98c42eb4630adef93",
       "value": "<h4 style='padding:0;margin:0;'>&nbsp <a href='https://github.com/pupster90' style='color:gray'>pupster90</a> &nbsp</h4>"
      }
     },
     "dee70b407eb7438e926870ada9b023fb": {
      "model_module": "@jupyter-widgets/base",
      "model_module_version": "1.0.0",
      "model_name": "LayoutModel",
      "state": {}
     },
     "df21b6db78d647339316e633315464a4": {
      "model_module": "@jupyter-widgets/base",
      "model_module_version": "1.0.0",
      "model_name": "LayoutModel",
      "state": {}
     },
     "df4d3a98ff3c4188a0b5c49da1f6350f": {
      "model_module": "@jupyter-widgets/controls",
      "model_module_version": "1.2.0",
      "model_name": "HBoxModel",
      "state": {
       "children": [
        "IPY_MODEL_89029d2f0dcd436b964e5a9fc657dfce",
        "IPY_MODEL_2d2b6b9874254e3f87b2f8a0e6d2e4c0",
        "IPY_MODEL_f018dede280f4a3e84ec99f9d141eb41",
        "IPY_MODEL_a10b1b0f78f041ecb2955e109cfc7285"
       ],
       "layout": "IPY_MODEL_8db84b6a0e564a59afaa12bd62d7707e"
      }
     },
     "df58821700764943950f737d56e97404": {
      "model_module": "@jupyter-widgets/controls",
      "model_module_version": "1.2.0",
      "model_name": "ButtonModel",
      "state": {
       "button_style": "primary",
       "description": "Download",
       "layout": "IPY_MODEL_1084c973171b4ffd9902eaeaaf4b70bd",
       "style": "IPY_MODEL_142e80c73a5d48a1937bf50a4e0539a7"
      }
     },
     "df745f29cdcf49bca952d96333db3d76": {
      "model_module": "@jupyter-widgets/base",
      "model_module_version": "1.0.0",
      "model_name": "LayoutModel",
      "state": {
       "width": "auto"
      }
     },
     "df76e25af5644b00b57a4c3ebea1238c": {
      "model_module": "@jupyter-widgets/controls",
      "model_module_version": "1.2.0",
      "model_name": "ButtonModel",
      "state": {
       "button_style": "primary",
       "description": "Download",
       "layout": "IPY_MODEL_c94970aa406d406f96c0ab76718e5662",
       "style": "IPY_MODEL_443a780c43bd435cadaadaafd96f8f11"
      }
     },
     "dfae315e188f43a6993648cbcd568b0b": {
      "model_module": "@jupyter-widgets/base",
      "model_module_version": "1.0.0",
      "model_name": "LayoutModel",
      "state": {
       "align_items": "center"
      }
     },
     "dfb35cef588e46c1b0deb1a37b4940db": {
      "model_module": "@jupyter-widgets/base",
      "model_module_version": "1.0.0",
      "model_name": "LayoutModel",
      "state": {}
     },
     "dfbc1521bb534fcb8c5b3ed0c94fa1a8": {
      "model_module": "@jupyter-widgets/controls",
      "model_module_version": "1.2.0",
      "model_name": "DescriptionStyleModel",
      "state": {
       "description_width": ""
      }
     },
     "dfdc50d6948446fcb7b8c4fe2478a069": {
      "model_module": "@jupyter-widgets/controls",
      "model_module_version": "1.2.0",
      "model_name": "PasswordModel",
      "state": {
       "description": "Password",
       "layout": "IPY_MODEL_dfb35cef588e46c1b0deb1a37b4940db",
       "style": "IPY_MODEL_ee028328f93b4a59bc6bdc988d1d604a"
      }
     },
     "e02075b012a14e468354c615bcf82049": {
      "model_module": "@jupyter-widgets/controls",
      "model_module_version": "1.2.0",
      "model_name": "HBoxModel",
      "state": {
       "children": [
        "IPY_MODEL_f628dd6fddcf4f76958fb4341fb41dd1",
        "IPY_MODEL_2ed83a43ea10489b85e998d7a4fa0837"
       ],
       "layout": "IPY_MODEL_a727287de33740caa59b349687e7a588"
      }
     },
     "e0e1098b654a41d082d7e7b7d68c924f": {
      "model_module": "@jupyter-widgets/controls",
      "model_module_version": "1.2.0",
      "model_name": "HTMLModel",
      "state": {
       "layout": "IPY_MODEL_ec828bda25d745f0a7fc26d10e939caf",
       "style": "IPY_MODEL_f050bc8ba3854650a46cdb05e9b7199d",
       "value": "<h3 style='padding:0;margin:0;'>&nbsp &nbsp &nbsp<a href='https://github.com/pupster90/jupyter-wysiwyg.git'>jupyter-wysiwyg</a></h3>"
      }
     },
     "e0feb51f73f74c888de61bcf2133f2eb": {
      "model_module": "@jupyter-widgets/base",
      "model_module_version": "1.0.0",
      "model_name": "LayoutModel",
      "state": {}
     },
     "e113ec909e2747fab04af708bd1ad05d": {
      "model_module": "@jupyter-widgets/controls",
      "model_module_version": "1.2.0",
      "model_name": "DescriptionStyleModel",
      "state": {
       "description_width": ""
      }
     },
     "e1367aa35bb8405d8fc55a9287caf614": {
      "model_module": "@jupyter-widgets/controls",
      "model_module_version": "1.2.0",
      "model_name": "DescriptionStyleModel",
      "state": {
       "description_width": ""
      }
     },
     "e148010ae711498d98ed03af291dafe2": {
      "model_module": "@jupyter-widgets/controls",
      "model_module_version": "1.2.0",
      "model_name": "LabelModel",
      "state": {
       "layout": "IPY_MODEL_bbc79678ce754097baccd09e8407131f",
       "style": "IPY_MODEL_9798e9608d6d4a838666e55537451b32",
       "value": "8 minutes ago"
      }
     },
     "e16a6ca85cd849a3b7c74048d2ebc4fa": {
      "model_module": "@jupyter-widgets/controls",
      "model_module_version": "1.2.0",
      "model_name": "HBoxModel",
      "state": {
       "children": [
        "IPY_MODEL_7dab465ddb5d404fa61f614297610e46",
        "IPY_MODEL_fc621fc3432242abb047c1b630853289"
       ],
       "layout": "IPY_MODEL_f9790d80be6d4642b7d7809d34a9027c"
      }
     },
     "e1923c50012e4a89bea3856ea204091b": {
      "model_module": "@jupyter-widgets/base",
      "model_module_version": "1.0.0",
      "model_name": "LayoutModel",
      "state": {
       "align_items": "center"
      }
     },
     "e1ac15fc382d4f518921176242ae8a17": {
      "model_module": "@jupyter-widgets/controls",
      "model_module_version": "1.2.0",
      "model_name": "DescriptionStyleModel",
      "state": {
       "description_width": ""
      }
     },
     "e20284d02e20428e90da7a0ba951262f": {
      "model_module": "@jupyter-widgets/controls",
      "model_module_version": "1.2.0",
      "model_name": "HTMLModel",
      "state": {
       "layout": "IPY_MODEL_6801d4f97521477a9b67518662026151",
       "style": "IPY_MODEL_fae0d9b1af3a4047883d9d44c8303361",
       "value": "<h3 style='padding:0;margin:0;'>&nbsp &nbsp &nbsp<a href='https://github.com/pupster90/io_docker_setup.git'>io_docker_setup</a></h3>"
      }
     },
     "e217593730404ebcb8b3043b5b45df39": {
      "model_module": "@jupyter-widgets/base",
      "model_module_version": "1.0.0",
      "model_name": "LayoutModel",
      "state": {
       "width": "auto"
      }
     },
     "e25617dc06c541d9a804681019268eb6": {
      "model_module": "@jupyter-widgets/controls",
      "model_module_version": "1.2.0",
      "model_name": "HTMLModel",
      "state": {
       "layout": "IPY_MODEL_74c4e073d3844aba8bbef5079dbb045f",
       "style": "IPY_MODEL_e1367aa35bb8405d8fc55a9287caf614",
       "value": "<h3 style='padding:0;margin:0;'>&nbsp &nbsp &nbsp<a href='https://github.com/pupster90/Setup_Notebook.git'>Setup_Notebook</a></h3>"
      }
     },
     "e26fba5fec274684b113e8ab8df0ad79": {
      "model_module": "@jupyter-widgets/controls",
      "model_module_version": "1.2.0",
      "model_name": "HTMLModel",
      "state": {
       "layout": "IPY_MODEL_bd17a9e5f4d44de2b4b4a6575dc9ef72",
       "style": "IPY_MODEL_5de6a75359ed4165ad004fdb33718858",
       "value": "<h3 style='padding:0;margin:0;'>&nbsp &nbsp<a href='https://github.com/pupster90/Public_Profile'>Public_Profile</a> &nbsp</h3>"
      }
     },
     "e2d41bd5da7f49edbf5818f1800b5d03": {
      "model_module": "@jupyter-widgets/controls",
      "model_module_version": "1.2.0",
      "model_name": "HTMLModel",
      "state": {
       "layout": "IPY_MODEL_5856d3fc6bb84a7e8987e980d780c2fd",
       "style": "IPY_MODEL_2cb013f8dd4c4498b9a3c65b8e03995e",
       "value": "<font color='orange'> &nbsp Stars: 0</font>"
      }
     },
     "e2ec1cba576a4ba4b82ccd1fe1187f83": {
      "model_module": "@jupyter-widgets/controls",
      "model_module_version": "1.2.0",
      "model_name": "DescriptionStyleModel",
      "state": {
       "description_width": ""
      }
     },
     "e345d899476247bda1ba8d0160992a65": {
      "model_module": "@jupyter-widgets/controls",
      "model_module_version": "1.2.0",
      "model_name": "ButtonStyleModel",
      "state": {}
     },
     "e36191da4c3547afb01f83ebc1b7f361": {
      "model_module": "@jupyter-widgets/base",
      "model_module_version": "1.0.0",
      "model_name": "LayoutModel",
      "state": {}
     },
     "e363f35fd81e4bd0842c326c7e2c5a29": {
      "model_module": "@jupyter-widgets/base",
      "model_module_version": "1.0.0",
      "model_name": "LayoutModel",
      "state": {
       "width": "auto"
      }
     },
     "e3642ea875924dd296f854e330608ad5": {
      "model_module": "@jupyter-widgets/controls",
      "model_module_version": "1.2.0",
      "model_name": "DescriptionStyleModel",
      "state": {
       "description_width": ""
      }
     },
     "e38912b90f424757b54f2a0f00770581": {
      "model_module": "@jupyter-widgets/controls",
      "model_module_version": "1.2.0",
      "model_name": "HTMLModel",
      "state": {
       "layout": "IPY_MODEL_cccebc13d0544a4fbd711fdbec4fb8ef",
       "style": "IPY_MODEL_af8f511752814b1fbd2fb4b00431425c",
       "value": "<h3 style='padding:0;margin:0;'>&nbsp &nbsp &nbsp<a href='https://github.com/pupster90/Public_Profile.git'>Public_Profile</a></h3>"
      }
     },
     "e39cc407e5034727be47df897b6b8956": {
      "model_module": "@jupyter-widgets/base",
      "model_module_version": "1.0.0",
      "model_name": "LayoutModel",
      "state": {}
     },
     "e3b9d236a7c943af8674b3e607c058a4": {
      "model_module": "@jupyter-widgets/controls",
      "model_module_version": "1.2.0",
      "model_name": "ButtonStyleModel",
      "state": {}
     },
     "e3caa6d726bd4aa9b4e0f8a50d6c6665": {
      "model_module": "@jupyter-widgets/controls",
      "model_module_version": "1.2.0",
      "model_name": "ButtonModel",
      "state": {
       "button_style": "primary",
       "description": "Download",
       "layout": "IPY_MODEL_536db62880f2420cb6438b58cdf80637",
       "style": "IPY_MODEL_04d5f612d0204c2296ce5e07048cce5c"
      }
     },
     "e3d3b8c67a0c4c17b0b562c82d028b77": {
      "model_module": "@jupyter-widgets/controls",
      "model_module_version": "1.2.0",
      "model_name": "ButtonModel",
      "state": {
       "button_style": "primary",
       "description": "Download",
       "layout": "IPY_MODEL_58c04ef8c7694dd799522f249b06b9e6",
       "style": "IPY_MODEL_bb792a6b3dbd44858c569b726ada593b"
      }
     },
     "e3ea637288874db5b24f0b74d939230d": {
      "model_module": "@jupyter-widgets/controls",
      "model_module_version": "1.2.0",
      "model_name": "DescriptionStyleModel",
      "state": {
       "description_width": ""
      }
     },
     "e3ede841f59346818d960f86edab4315": {
      "model_module": "@jupyter-widgets/controls",
      "model_module_version": "1.2.0",
      "model_name": "ButtonModel",
      "state": {
       "button_style": "primary",
       "description": "Download",
       "layout": "IPY_MODEL_81d31d2584944e09ac33bbbcfcba53e7",
       "style": "IPY_MODEL_4a2860faf141426195a7aecd307932c2"
      }
     },
     "e402a229ea6040b59b2f2ce0161f2617": {
      "model_module": "@jupyter-widgets/base",
      "model_module_version": "1.0.0",
      "model_name": "LayoutModel",
      "state": {}
     },
     "e435d08d330a490aae3fea839665422a": {
      "model_module": "@jupyter-widgets/controls",
      "model_module_version": "1.2.0",
      "model_name": "HTMLModel",
      "state": {
       "layout": "IPY_MODEL_9ef09954b7cb4f2e87182e7afa5666d7",
       "style": "IPY_MODEL_d6f1b7e5921547eebc097333d324a733",
       "value": "<h3 style='padding:0;margin:0;'>&nbsp &nbsp &nbsp<a href='https://github.com/pupster90/indra_me.git'>indra_me</a></h3>"
      }
     },
     "e451131b9c094d85acc1317b6c225168": {
      "model_module": "@jupyter-widgets/controls",
      "model_module_version": "1.2.0",
      "model_name": "DescriptionStyleModel",
      "state": {
       "description_width": ""
      }
     },
     "e4762c2d5ece41bf946a1a50d24299e6": {
      "model_module": "@jupyter-widgets/base",
      "model_module_version": "1.0.0",
      "model_name": "LayoutModel",
      "state": {}
     },
     "e50f0809490a478faf66cf91d7810eb3": {
      "model_module": "@jupyter-widgets/controls",
      "model_module_version": "1.2.0",
      "model_name": "ButtonModel",
      "state": {
       "button_style": "info",
       "description": "Download",
       "layout": "IPY_MODEL_ea1960032b4944e29f0ed98bc6a0c7d7",
       "style": "IPY_MODEL_ae2c735167cc4748b4d89812f1b8d631"
      }
     },
     "e51b67c0e1dd43bc8d28e8cc23a09eb6": {
      "model_module": "@jupyter-widgets/controls",
      "model_module_version": "1.2.0",
      "model_name": "HBoxModel",
      "state": {
       "children": [
        "IPY_MODEL_f0da276e0b184754bebe75822cb41ced",
        "IPY_MODEL_8537d31971fb4d0882313bdde1417e0e"
       ],
       "layout": "IPY_MODEL_dfae315e188f43a6993648cbcd568b0b"
      }
     },
     "e531cc3d7f9d47e7b642c12ccd239d10": {
      "model_module": "@jupyter-widgets/controls",
      "model_module_version": "1.2.0",
      "model_name": "ButtonStyleModel",
      "state": {}
     },
     "e57336b05fbe40a18e59b00f65ac494f": {
      "model_module": "@jupyter-widgets/base",
      "model_module_version": "1.0.0",
      "model_name": "LayoutModel",
      "state": {}
     },
     "e5c18f9e7997483a859006406879b4c7": {
      "model_module": "@jupyter-widgets/base",
      "model_module_version": "1.0.0",
      "model_name": "LayoutModel",
      "state": {
       "align_items": "center"
      }
     },
     "e5d402594280487b87e804a69a9d940a": {
      "model_module": "@jupyter-widgets/base",
      "model_module_version": "1.0.0",
      "model_name": "LayoutModel",
      "state": {}
     },
     "e5fa64adab7f405ab7b589794701172e": {
      "model_module": "@jupyter-widgets/base",
      "model_module_version": "1.0.0",
      "model_name": "LayoutModel",
      "state": {
       "width": "auto"
      }
     },
     "e60453307e1f412e99db29547164bfa9": {
      "model_module": "@jupyter-widgets/controls",
      "model_module_version": "1.2.0",
      "model_name": "HTMLModel",
      "state": {
       "layout": "IPY_MODEL_7df092c783094d1fb1d708ec1471892b",
       "style": "IPY_MODEL_c2f670ad0452489e8054b6db1c500cf5",
       "value": "<h4 style='padding:0;margin:0;'>&nbsp <a href='https://github.com/pupster90' style='color:gray'>pupster90</a> &nbsp</h4>"
      }
     },
     "e628d7c80b31494091d9867b116cc2d8": {
      "model_module": "@jupyter-widgets/controls",
      "model_module_version": "1.2.0",
      "model_name": "HTMLModel",
      "state": {
       "layout": "IPY_MODEL_491064a9643a4e36a57c0ee884320bca",
       "style": "IPY_MODEL_b357687e849742f49b5fad52f72a1ce9",
       "value": "<h3 style='padding:0;margin:0;'>&nbsp &nbsp<a href='https://github.com/pupster900/Public_Profile'>Public_Profile</a> &nbsp</h3>"
      }
     },
     "e69110295f38464eae93b7e696328352": {
      "model_module": "@jupyter-widgets/controls",
      "model_module_version": "1.2.0",
      "model_name": "DescriptionStyleModel",
      "state": {
       "description_width": ""
      }
     },
     "e6a0b5125b994e729c3a04ee09041faa": {
      "model_module": "@jupyter-widgets/controls",
      "model_module_version": "1.2.0",
      "model_name": "HBoxModel",
      "state": {
       "children": [
        "IPY_MODEL_a8eeed54c0ee404090cb746840b4c0c5",
        "IPY_MODEL_1ca94af99c5546dd91fc88b5dc452be0",
        "IPY_MODEL_be57976139914a98a038d624e29b309c",
        "IPY_MODEL_cf5ba6aeddb042acb37a55d068c13c1b",
        "IPY_MODEL_ea3c21937e0d43f59b5fe732758cdd30",
        "IPY_MODEL_bac7e467493946af8a964f3cb39a07e1"
       ],
       "layout": "IPY_MODEL_d86a09ae93584ff9aecb64ec7bbb9ca1"
      }
     },
     "e6bb39497a554ccb9a47e271a7af83f4": {
      "model_module": "@jupyter-widgets/controls",
      "model_module_version": "1.2.0",
      "model_name": "DescriptionStyleModel",
      "state": {
       "description_width": ""
      }
     },
     "e6be9f8deb9a49dd997dd95efe014d46": {
      "model_module": "@jupyter-widgets/controls",
      "model_module_version": "1.2.0",
      "model_name": "DescriptionStyleModel",
      "state": {
       "description_width": ""
      }
     },
     "e6cabe55b6534dae9badbfe2a84b9ee6": {
      "model_module": "@jupyter-widgets/controls",
      "model_module_version": "1.2.0",
      "model_name": "ButtonModel",
      "state": {
       "button_style": "primary",
       "description": " Refresh",
       "icon": "refresh",
       "layout": "IPY_MODEL_e402a229ea6040b59b2f2ce0161f2617",
       "style": "IPY_MODEL_682e91a2e1aa4b1a9d2929bb498c6ca1"
      }
     },
     "e755bc92bcd94cd0884ac8a632467c93": {
      "model_module": "@jupyter-widgets/base",
      "model_module_version": "1.0.0",
      "model_name": "LayoutModel",
      "state": {
       "align_items": "center"
      }
     },
     "e75e8735508842359799076f0fb1ba2e": {
      "model_module": "@jupyter-widgets/controls",
      "model_module_version": "1.2.0",
      "model_name": "LabelModel",
      "state": {
       "layout": "IPY_MODEL_128c98cd81e44a178d359df9a8baff36",
       "style": "IPY_MODEL_0a2a36d1e8d848f7b98ef9198b430104",
       "value": "12 minutes ago"
      }
     },
     "e79384d4fae14e98917a3da6044539f4": {
      "model_module": "@jupyter-widgets/controls",
      "model_module_version": "1.2.0",
      "model_name": "DescriptionStyleModel",
      "state": {
       "description_width": ""
      }
     },
     "e7a9b4e2f83b4dfd97398ebe08dc89c6": {
      "model_module": "@jupyter-widgets/controls",
      "model_module_version": "1.2.0",
      "model_name": "HTMLModel",
      "state": {
       "layout": "IPY_MODEL_80571143b91b440cb67d55791c4bdee0",
       "style": "IPY_MODEL_746ec3a9a9cf4764a1424fe31809189a",
       "value": "<h3 style='padding:0;margin:0;'>&nbsp &nbsp &nbsp<a href='https://github.com/pupster90/Cytoscape.git'>Cytoscape</a></h3>"
      }
     },
     "e7c9df4352cd4fdaa10786394c5a7687": {
      "model_module": "@jupyter-widgets/base",
      "model_module_version": "1.0.0",
      "model_name": "LayoutModel",
      "state": {}
     },
     "e7d0e6137bfd4856acb0a5502c144941": {
      "model_module": "@jupyter-widgets/controls",
      "model_module_version": "1.2.0",
      "model_name": "DescriptionStyleModel",
      "state": {
       "description_width": ""
      }
     },
     "e7d5ed4e341d4f1b8976d976b608e10f": {
      "model_module": "@jupyter-widgets/controls",
      "model_module_version": "1.2.0",
      "model_name": "DescriptionStyleModel",
      "state": {
       "description_width": ""
      }
     },
     "e7d6d44413284a5fb6ec27bfcf310e2a": {
      "model_module": "@jupyter-widgets/controls",
      "model_module_version": "1.2.0",
      "model_name": "ButtonStyleModel",
      "state": {}
     },
     "e81e413cca4a486baa14d8fea0ea4ab4": {
      "model_module": "@jupyter-widgets/base",
      "model_module_version": "1.0.0",
      "model_name": "LayoutModel",
      "state": {
       "align_items": "center"
      }
     },
     "e84a05b14d714d1486c9f7662ad5d938": {
      "model_module": "@jupyter-widgets/controls",
      "model_module_version": "1.2.0",
      "model_name": "HTMLModel",
      "state": {
       "layout": "IPY_MODEL_5eb5596e31e64749b023951f7dc385bf",
       "style": "IPY_MODEL_7c2e206d07924d809a6848c8c9619e48",
       "value": "<h3 style='padding:0;margin:0;'>&nbsp &nbsp &nbsp<a href='https://github.com/pupster90/ndex-viewer.git'>ndex-viewer</a></h3>"
      }
     },
     "e8520503b691427e9a9f3cde0b245987": {
      "model_module": "@jupyter-widgets/controls",
      "model_module_version": "1.2.0",
      "model_name": "LabelModel",
      "state": {
       "layout": "IPY_MODEL_cad9987b5f4a467a8b550a5cfd6bf9a5",
       "style": "IPY_MODEL_dabf91b5081949c48c436e086e39a83d",
       "value": "23 minutes ago"
      }
     },
     "e8856ef1f9374aed979db284088244cc": {
      "model_module": "@jupyter-widgets/base",
      "model_module_version": "1.0.0",
      "model_name": "LayoutModel",
      "state": {}
     },
     "e8af32cb9a3448a19da045cec043e510": {
      "model_module": "@jupyter-widgets/controls",
      "model_module_version": "1.2.0",
      "model_name": "HTMLModel",
      "state": {
       "layout": "IPY_MODEL_382903a03c034ebdac380853bff82f9a",
       "style": "IPY_MODEL_e3642ea875924dd296f854e330608ad5",
       "value": "<font color='green'> &nbsp Downloads: 0</font>"
      }
     },
     "e8c89575542a4578ba0782caedad11b8": {
      "model_module": "@jupyter-widgets/controls",
      "model_module_version": "1.2.0",
      "model_name": "DescriptionStyleModel",
      "state": {
       "description_width": ""
      }
     },
     "e8d2be12e3334d88a24e420ac7c03abd": {
      "model_module": "@jupyter-widgets/controls",
      "model_module_version": "1.2.0",
      "model_name": "HTMLModel",
      "state": {
       "layout": "IPY_MODEL_5ad0a8c0de3d4116a7e87739b00b8d07",
       "style": "IPY_MODEL_7608b8cb74ba4d31a9ce77d6d0569bd5",
       "value": "<font color='green'> &nbsp Downloads: 0</font>"
      }
     },
     "e8e43f9106ba4118a202a9b3a40e8792": {
      "model_module": "@jupyter-widgets/controls",
      "model_module_version": "1.2.0",
      "model_name": "ButtonModel",
      "state": {
       "button_style": "primary",
       "description": "Download",
       "layout": "IPY_MODEL_2a8d6a10b3534fc08f9b3e33a37a1feb",
       "style": "IPY_MODEL_06494ffbd4634f6aafff89312fc7cffb"
      }
     },
     "e8e6b49af0b84e44952e1ee4984dffbb": {
      "model_module": "@jupyter-widgets/base",
      "model_module_version": "1.0.0",
      "model_name": "LayoutModel",
      "state": {
       "align_items": "center"
      }
     },
     "e911839acd4c455e8391299864c26fa6": {
      "model_module": "@jupyter-widgets/controls",
      "model_module_version": "1.2.0",
      "model_name": "ButtonStyleModel",
      "state": {}
     },
     "e93f9e0f642141209cd3aed9acb51ab4": {
      "model_module": "@jupyter-widgets/controls",
      "model_module_version": "1.2.0",
      "model_name": "DescriptionStyleModel",
      "state": {
       "description_width": ""
      }
     },
     "e94577bfcfc2444486ab79bb6aef3407": {
      "model_module": "@jupyter-widgets/base",
      "model_module_version": "1.0.0",
      "model_name": "LayoutModel",
      "state": {}
     },
     "ea157a5781a84fd08ecd9d0d6bb11548": {
      "model_module": "@jupyter-widgets/controls",
      "model_module_version": "1.2.0",
      "model_name": "HTMLModel",
      "state": {
       "layout": "IPY_MODEL_dd6b3569130d44d8a3b90cee738890c5",
       "style": "IPY_MODEL_f4a2e7be8d874215a1e7255ba45612d6",
       "value": "<h3 style='padding:0;margin:0;'>&nbsp &nbsp<a href='https://github.com/pupster90/Setup_Notebook'>Setup_Notebook</a> &nbsp</h3>"
      }
     },
     "ea1960032b4944e29f0ed98bc6a0c7d7": {
      "model_module": "@jupyter-widgets/base",
      "model_module_version": "1.0.0",
      "model_name": "LayoutModel",
      "state": {
       "width": "auto"
      }
     },
     "ea3c21937e0d43f59b5fe732758cdd30": {
      "model_module": "@jupyter-widgets/controls",
      "model_module_version": "1.2.0",
      "model_name": "HTMLModel",
      "state": {
       "layout": "IPY_MODEL_c9c729fdc8a745a0a0fb8413db10ae08",
       "style": "IPY_MODEL_4abecd6dbb004dd9b16c765f1e675044",
       "value": "<h3 style='padding:0;margin:0;'>&nbsp &nbsp<a href='https://github.com/pupster90/Welcome_to_io'>Welcome_to_io</a> &nbsp</h3>"
      }
     },
     "eaa8f54448df4296ad40d7bfec4b65a8": {
      "model_module": "@jupyter-widgets/base",
      "model_module_version": "1.0.0",
      "model_name": "LayoutModel",
      "state": {}
     },
     "eadd94e1920a40549157734ab2898e42": {
      "model_module": "@jupyter-widgets/base",
      "model_module_version": "1.0.0",
      "model_name": "LayoutModel",
      "state": {}
     },
     "eadec973e37940a484df78de6b8f7124": {
      "model_module": "@jupyter-widgets/controls",
      "model_module_version": "1.2.0",
      "model_name": "HBoxModel",
      "state": {
       "children": [
        "IPY_MODEL_bbe76b8c384e4b2bb7790f98193d7754",
        "IPY_MODEL_8c46e7c8dde445c79a0406d5456f75fc",
        "IPY_MODEL_c43d7085ff7a400199bed77163c1fcac",
        "IPY_MODEL_4619dfbb8ab1440d85bc899926330a92",
        "IPY_MODEL_520dc414c0ff414e9a81d585c08dabc7",
        "IPY_MODEL_c85c2de090d24e239b69e220cab754e0"
       ],
       "layout": "IPY_MODEL_f5adb192bb7f4aa18b1d14f65a7424e0"
      }
     },
     "eae13d0dda5d48349ed99c6bb58e1c17": {
      "model_module": "@jupyter-widgets/controls",
      "model_module_version": "1.2.0",
      "model_name": "ButtonModel",
      "state": {
       "button_style": "primary",
       "description": "Download",
       "layout": "IPY_MODEL_bfef2e605a264eedb7b517e497628de4",
       "style": "IPY_MODEL_bba26dacbd0e47e7bf2bab734b074404"
      }
     },
     "eafdf91ccf9245d1b96fc0835f1bb57c": {
      "model_module": "@jupyter-widgets/controls",
      "model_module_version": "1.2.0",
      "model_name": "HBoxModel",
      "state": {
       "children": [
        "IPY_MODEL_fb434fd8592049d2b9c8b3eb12e09a2b",
        "IPY_MODEL_4b5e9fc267d04e588849c54d1f389ea8"
       ],
       "layout": "IPY_MODEL_e755bc92bcd94cd0884ac8a632467c93"
      }
     },
     "eb0c168e27084ac29742edd0ed288fc0": {
      "model_module": "@jupyter-widgets/controls",
      "model_module_version": "1.2.0",
      "model_name": "HBoxModel",
      "state": {
       "children": [
        "IPY_MODEL_40c5f957e7b646ab89447f3c592ded82",
        "IPY_MODEL_1a972be299e54724a3560f74be330110"
       ],
       "layout": "IPY_MODEL_9a96f301dd044e9f93b84bb81353ec1b"
      }
     },
     "eb1c93c4007a4513916bad82901a1587": {
      "model_module": "@jupyter-widgets/controls",
      "model_module_version": "1.2.0",
      "model_name": "ButtonModel",
      "state": {
       "button_style": "primary",
       "description": "Download",
       "layout": "IPY_MODEL_4a57047441e44ac897ae7bd78a35f662",
       "style": "IPY_MODEL_cdecfb701a9c46b0932d2eab78b8c6d3"
      }
     },
     "eb485549187e46abba5fa00e87e8aee8": {
      "model_module": "@jupyter-widgets/controls",
      "model_module_version": "1.2.0",
      "model_name": "HBoxModel",
      "state": {
       "children": [
        "IPY_MODEL_eae13d0dda5d48349ed99c6bb58e1c17",
        "IPY_MODEL_9fec7dc858764960bd3a515cfd5914ce"
       ],
       "layout": "IPY_MODEL_43e66dcd4e234528bdea46f5b4499a6d"
      }
     },
     "eb94f353fa30428ea476313990044d94": {
      "model_module": "@jupyter-widgets/controls",
      "model_module_version": "1.2.0",
      "model_name": "ButtonModel",
      "state": {
       "button_style": "primary",
       "description": "Download",
       "layout": "IPY_MODEL_523c1cf02f6442ebbfe5e2a94676415c",
       "style": "IPY_MODEL_87f228edc94b44fca663c599d6acd62e"
      }
     },
     "eb963048ad7c4c76a08691d62109297d": {
      "model_module": "@jupyter-widgets/controls",
      "model_module_version": "1.2.0",
      "model_name": "DescriptionStyleModel",
      "state": {
       "description_width": ""
      }
     },
     "ebb55f0793774e30882c234ca48d21c9": {
      "model_module": "@jupyter-widgets/controls",
      "model_module_version": "1.2.0",
      "model_name": "VBoxModel",
      "state": {
       "children": [
        "IPY_MODEL_5dfdb42d75a740f1b0219272408cfd8b",
        "IPY_MODEL_375d681e30304daab3597fd0cef27b0e"
       ],
       "layout": "IPY_MODEL_1292489b3b8c4570ba2654061801b717"
      }
     },
     "ebda8933180f4dfd9600d7cbdd2edb8f": {
      "model_module": "@jupyter-widgets/base",
      "model_module_version": "1.0.0",
      "model_name": "LayoutModel",
      "state": {
       "width": "auto"
      }
     },
     "ec0525af5a2d421a84b374af6bde649e": {
      "model_module": "@jupyter-widgets/base",
      "model_module_version": "1.0.0",
      "model_name": "LayoutModel",
      "state": {
       "width": "auto"
      }
     },
     "ec7fd3b8edc440e1863b4b7d93b4b507": {
      "model_module": "@jupyter-widgets/controls",
      "model_module_version": "1.2.0",
      "model_name": "LabelModel",
      "state": {
       "layout": "IPY_MODEL_caf0003324584a4f992a6be636270f67",
       "style": "IPY_MODEL_7d03642ae3a447b3b4a86d01635156e2",
       "value": "37 minutes ago"
      }
     },
     "ec828bda25d745f0a7fc26d10e939caf": {
      "model_module": "@jupyter-widgets/base",
      "model_module_version": "1.0.0",
      "model_name": "LayoutModel",
      "state": {}
     },
     "ed29d9eaf2014b2e88778eebfb1dfbdf": {
      "model_module": "@jupyter-widgets/base",
      "model_module_version": "1.0.0",
      "model_name": "LayoutModel",
      "state": {}
     },
     "ed4a54c5ac4947c8a238f305a2a33747": {
      "model_module": "@jupyter-widgets/controls",
      "model_module_version": "1.2.0",
      "model_name": "HBoxModel",
      "state": {
       "children": [
        "IPY_MODEL_cd29168d84f14a7fbf86be2a761974ee",
        "IPY_MODEL_9197fc8884174a699a0477f1932f93c6",
        "IPY_MODEL_f9b0bd27530c491e8b903d43651576ed",
        "IPY_MODEL_0412fde9a971433f9c72b63a53742e74"
       ],
       "layout": "IPY_MODEL_a3139860e6ff40b4ab744d3c34c31166"
      }
     },
     "ed931835427e47e4b85e719e5bb6281c": {
      "model_module": "@jupyter-widgets/controls",
      "model_module_version": "1.2.0",
      "model_name": "HTMLModel",
      "state": {
       "layout": "IPY_MODEL_64b5c5901c8745f1ae5db434e399464a",
       "style": "IPY_MODEL_4aaa56b7642947b08f4ca459d42fb59b",
       "value": "<h3 style='padding:0;margin:0;'>&nbsp &nbsp &nbsp<a href='https://github.com/pupster90/test-repo.git'>test-repo</a></h3>"
      }
     },
     "ee028328f93b4a59bc6bdc988d1d604a": {
      "model_module": "@jupyter-widgets/controls",
      "model_module_version": "1.2.0",
      "model_name": "DescriptionStyleModel",
      "state": {
       "description_width": ""
      }
     },
     "ee0c6791aa8d45148fc55462d1a45ea3": {
      "model_module": "@jupyter-widgets/controls",
      "model_module_version": "1.2.0",
      "model_name": "HTMLModel",
      "state": {
       "layout": "IPY_MODEL_60ab29d6984c42b889cae59df4117efd",
       "style": "IPY_MODEL_3e994916b0354b5696e3c4661f5973e7",
       "value": "<font color='orange'> &nbsp Stars: 0</font>"
      }
     },
     "ee5c83632c544ed8b04a95cd6f765a6d": {
      "model_module": "@jupyter-widgets/controls",
      "model_module_version": "1.2.0",
      "model_name": "DescriptionStyleModel",
      "state": {
       "description_width": ""
      }
     },
     "ee89627aaa104d3987d45ba620c20a5b": {
      "model_module": "@jupyter-widgets/controls",
      "model_module_version": "1.2.0",
      "model_name": "DescriptionStyleModel",
      "state": {
       "description_width": ""
      }
     },
     "ee9726d7e8de4018858c9cd7fb580143": {
      "model_module": "@jupyter-widgets/controls",
      "model_module_version": "1.2.0",
      "model_name": "HTMLModel",
      "state": {
       "layout": "IPY_MODEL_624bb882a4ff444382ca55d73d240229",
       "style": "IPY_MODEL_d858c22f3085458db297c07c9d75cee1",
       "value": "<font color='green'> &nbsp Downloads: 0</font>"
      }
     },
     "ee9aa728c06e447dad4adfe13cf3270b": {
      "model_module": "@jupyter-widgets/controls",
      "model_module_version": "1.2.0",
      "model_name": "DescriptionStyleModel",
      "state": {
       "description_width": ""
      }
     },
     "ef323d60d3744c44b55b91db8e490b25": {
      "model_module": "@jupyter-widgets/base",
      "model_module_version": "1.0.0",
      "model_name": "LayoutModel",
      "state": {}
     },
     "ef4d9a84c31f4fffb87ee9778419bf05": {
      "model_module": "@jupyter-widgets/base",
      "model_module_version": "1.0.0",
      "model_name": "LayoutModel",
      "state": {}
     },
     "ef65b4b3e5bb4ad4a95439d3b0e36e2b": {
      "model_module": "@jupyter-widgets/controls",
      "model_module_version": "1.2.0",
      "model_name": "ButtonModel",
      "state": {
       "button_style": "primary",
       "description": "Download",
       "layout": "IPY_MODEL_a0763d4b892342d4981877ca1c85bfca",
       "style": "IPY_MODEL_9fd97067b9e04df4b8e9a4f0f6bdc23a"
      }
     },
     "efae7e84423c4d9499597b7e28369ef5": {
      "model_module": "@jupyter-widgets/controls",
      "model_module_version": "1.2.0",
      "model_name": "DescriptionStyleModel",
      "state": {
       "description_width": ""
      }
     },
     "efc58ae416cd46cb850950af5c400fbe": {
      "model_module": "@jupyter-widgets/base",
      "model_module_version": "1.0.0",
      "model_name": "LayoutModel",
      "state": {
       "width": "auto"
      }
     },
     "efd95932ab6f4742b803d516a68e0b10": {
      "model_module": "@jupyter-widgets/controls",
      "model_module_version": "1.2.0",
      "model_name": "DescriptionStyleModel",
      "state": {
       "description_width": ""
      }
     },
     "f013e6d7f2a449d3b7e39a62096c64ef": {
      "model_module": "@jupyter-widgets/controls",
      "model_module_version": "1.2.0",
      "model_name": "HBoxModel",
      "state": {
       "children": [
        "IPY_MODEL_d0ced9e7fa8141d18719eb1ab349550d",
        "IPY_MODEL_6977525d2e624094898f8c2cd1c00a96"
       ],
       "layout": "IPY_MODEL_47feba615782476a8cc694fdca4358fc"
      }
     },
     "f018dede280f4a3e84ec99f9d141eb41": {
      "model_module": "@jupyter-widgets/controls",
      "model_module_version": "1.2.0",
      "model_name": "LabelModel",
      "state": {
       "layout": "IPY_MODEL_6df388f01b8f403faf5c3ca93375bf28",
       "style": "IPY_MODEL_742e173f70d541c68484268edde376e5",
       "value": "Saved 23 hours ago"
      }
     },
     "f050bc8ba3854650a46cdb05e9b7199d": {
      "model_module": "@jupyter-widgets/controls",
      "model_module_version": "1.2.0",
      "model_name": "DescriptionStyleModel",
      "state": {
       "description_width": ""
      }
     },
     "f056e74724f4496ca621c20c61efad00": {
      "model_module": "@jupyter-widgets/base",
      "model_module_version": "1.0.0",
      "model_name": "LayoutModel",
      "state": {
       "width": "auto"
      }
     },
     "f05d1a58408042d598e5f7f6dcf9ee25": {
      "model_module": "@jupyter-widgets/controls",
      "model_module_version": "1.2.0",
      "model_name": "ButtonStyleModel",
      "state": {}
     },
     "f0b95a767620456494d9901c86ebb255": {
      "model_module": "@jupyter-widgets/controls",
      "model_module_version": "1.2.0",
      "model_name": "TextModel",
      "state": {
       "layout": "IPY_MODEL_6279cb0796704549aaea5c735e9d0f4f",
       "style": "IPY_MODEL_f130e0248c254c30937df7caf4efe70d"
      }
     },
     "f0ba80e8161148e0befb6074c500f27f": {
      "model_module": "@jupyter-widgets/controls",
      "model_module_version": "1.2.0",
      "model_name": "DescriptionStyleModel",
      "state": {
       "description_width": ""
      }
     },
     "f0d2b1b5dbc648279a81ac1bc76e2073": {
      "model_module": "@jupyter-widgets/controls",
      "model_module_version": "1.2.0",
      "model_name": "ButtonStyleModel",
      "state": {}
     },
     "f0da276e0b184754bebe75822cb41ced": {
      "model_module": "@jupyter-widgets/controls",
      "model_module_version": "1.2.0",
      "model_name": "ButtonModel",
      "state": {
       "button_style": "primary",
       "description": "Download",
       "layout": "IPY_MODEL_17571ae416b14551ac78d5021c930fee",
       "style": "IPY_MODEL_d9942f1b0a464711b7db08ce8b839ea1"
      }
     },
     "f0f6259c48854e669a85400e7567eec2": {
      "model_module": "@jupyter-widgets/controls",
      "model_module_version": "1.2.0",
      "model_name": "ToggleButtonsModel",
      "state": {
       "_options_labels": [
        "Public",
        "Private"
       ],
       "button_style": "info",
       "icons": [],
       "index": 0,
       "layout": "IPY_MODEL_488b7927dd4948df8f8eaf8435a0f44e",
       "style": "IPY_MODEL_fe3655a46f7e4160aa711819c936e6ab",
       "tooltips": []
      }
     },
     "f0f6af96ceb048b8890a11696b07c6a4": {
      "model_module": "@jupyter-widgets/base",
      "model_module_version": "1.0.0",
      "model_name": "LayoutModel",
      "state": {
       "align_items": "center"
      }
     },
     "f1105c7c5e67477b9e0e72daa93654fa": {
      "model_module": "@jupyter-widgets/controls",
      "model_module_version": "1.2.0",
      "model_name": "DescriptionStyleModel",
      "state": {
       "description_width": ""
      }
     },
     "f12d353544d945acbd26a31cae64d53c": {
      "model_module": "@jupyter-widgets/base",
      "model_module_version": "1.0.0",
      "model_name": "LayoutModel",
      "state": {}
     },
     "f130e0248c254c30937df7caf4efe70d": {
      "model_module": "@jupyter-widgets/controls",
      "model_module_version": "1.2.0",
      "model_name": "DescriptionStyleModel",
      "state": {
       "description_width": ""
      }
     },
     "f14846ea7fc247358f1067d1d432cf03": {
      "model_module": "@jupyter-widgets/controls",
      "model_module_version": "1.2.0",
      "model_name": "HBoxModel",
      "state": {
       "children": [
        "IPY_MODEL_2ee7ba7cbaee4f7f995490a4a59a55f6",
        "IPY_MODEL_aaf901588b364dbf8a8c86f943db78f9",
        "IPY_MODEL_556248d777824b7aaab29965ea57521c",
        "IPY_MODEL_438ea0013dd545d1a9d4e26a5a28f25d"
       ],
       "layout": "IPY_MODEL_0ce3c4c5cefb4147a4130968806b17b2"
      }
     },
     "f16789d720be4de891a657af18667f1b": {
      "model_module": "@jupyter-widgets/controls",
      "model_module_version": "1.2.0",
      "model_name": "HBoxModel",
      "state": {
       "children": [
        "IPY_MODEL_26481c544f1a470e952d5a7a52803455",
        "IPY_MODEL_ffed2d0369044ad895b2296241cfb1a8"
       ],
       "layout": "IPY_MODEL_ddad2c5af27a4f95915f87ce02db88d3"
      }
     },
     "f186016e76334721a2d776167a4e1190": {
      "model_module": "@jupyter-widgets/controls",
      "model_module_version": "1.2.0",
      "model_name": "DescriptionStyleModel",
      "state": {
       "description_width": ""
      }
     },
     "f1a0668b2be94938b63d871f1d32a048": {
      "model_module": "@jupyter-widgets/base",
      "model_module_version": "1.0.0",
      "model_name": "LayoutModel",
      "state": {
       "align_items": "center"
      }
     },
     "f24631846ca040989f8e26c50b7c0788": {
      "model_module": "@jupyter-widgets/controls",
      "model_module_version": "1.2.0",
      "model_name": "DescriptionStyleModel",
      "state": {
       "description_width": ""
      }
     },
     "f257b08a2ffa4897a38f7defede4d5bd": {
      "model_module": "@jupyter-widgets/controls",
      "model_module_version": "1.2.0",
      "model_name": "HBoxModel",
      "state": {
       "children": [
        "IPY_MODEL_f35c5029dd69439895f5639fa12b6386",
        "IPY_MODEL_0ba56a8a51f34a8a93097a8793b9921d"
       ],
       "layout": "IPY_MODEL_de687dea07da498fb0fa805bed41427f"
      }
     },
     "f25e965f04674979b02f3b47cc93b773": {
      "model_module": "@jupyter-widgets/controls",
      "model_module_version": "1.2.0",
      "model_name": "DescriptionStyleModel",
      "state": {
       "description_width": ""
      }
     },
     "f27b57c39fdb48dcb13f82e0f67420c6": {
      "model_module": "@jupyter-widgets/base",
      "model_module_version": "1.0.0",
      "model_name": "LayoutModel",
      "state": {}
     },
     "f28d75d2b2a1422ebe35adbc98aba113": {
      "model_module": "@jupyter-widgets/controls",
      "model_module_version": "1.2.0",
      "model_name": "ButtonModel",
      "state": {
       "button_style": "primary",
       "description": "Download",
       "layout": "IPY_MODEL_efc58ae416cd46cb850950af5c400fbe",
       "style": "IPY_MODEL_3f76de30724d49de9082efb3b549422b"
      }
     },
     "f2bb137957c34dd9a66db7342792ecf6": {
      "model_module": "@jupyter-widgets/base",
      "model_module_version": "1.0.0",
      "model_name": "LayoutModel",
      "state": {}
     },
     "f2c7bb41ab0e495b89210372023792f8": {
      "model_module": "@jupyter-widgets/controls",
      "model_module_version": "1.2.0",
      "model_name": "DescriptionStyleModel",
      "state": {
       "description_width": ""
      }
     },
     "f2fd4409e3544c33aa49c835d2a4ee2a": {
      "model_module": "@jupyter-widgets/controls",
      "model_module_version": "1.2.0",
      "model_name": "HTMLModel",
      "state": {
       "layout": "IPY_MODEL_f56b15bebd7e4d13bdbb633b02273474",
       "style": "IPY_MODEL_f24631846ca040989f8e26c50b7c0788",
       "value": "<h3 class='text-center'><font color='green'>Login</font> to <a stc='https://github.com/'>Github</a><h3>"
      }
     },
     "f35c5029dd69439895f5639fa12b6386": {
      "model_module": "@jupyter-widgets/controls",
      "model_module_version": "1.2.0",
      "model_name": "ButtonModel",
      "state": {
       "button_style": "primary",
       "description": "Download",
       "layout": "IPY_MODEL_a9de806b2db34a209ca1b06918a1f6c0",
       "style": "IPY_MODEL_0d824fdbca194b6180179c9f431a9e77"
      }
     },
     "f3bdc3241e3d403bb27e5b64e79c377d": {
      "model_module": "@jupyter-widgets/controls",
      "model_module_version": "1.2.0",
      "model_name": "HBoxModel",
      "state": {
       "children": [
        "IPY_MODEL_971ae27c11c5475bbb7c13d1adc514ac",
        "IPY_MODEL_6dbad36678344eef8587963ea4a3bfd3"
       ],
       "layout": "IPY_MODEL_e5c18f9e7997483a859006406879b4c7"
      }
     },
     "f3ccaf736aea4366af2c797188fee375": {
      "model_module": "@jupyter-widgets/base",
      "model_module_version": "1.0.0",
      "model_name": "LayoutModel",
      "state": {}
     },
     "f4164b992b8e489d97faf99091a382d0": {
      "model_module": "@jupyter-widgets/controls",
      "model_module_version": "1.2.0",
      "model_name": "HBoxModel",
      "state": {
       "children": [
        "IPY_MODEL_b4a3a6b351934b54add73a038db2b27b",
        "IPY_MODEL_be37238c4aff4023b870f02f32e867d2"
       ],
       "layout": "IPY_MODEL_b898f61ba3fd4524ba93244f85c67595"
      }
     },
     "f422c58a057e4756972ca4a0f841cbee": {
      "model_module": "@jupyter-widgets/controls",
      "model_module_version": "1.2.0",
      "model_name": "DescriptionStyleModel",
      "state": {
       "description_width": ""
      }
     },
     "f48a79d6110d44ad93926850181cecab": {
      "model_module": "@jupyter-widgets/base",
      "model_module_version": "1.0.0",
      "model_name": "LayoutModel",
      "state": {}
     },
     "f4a2e7be8d874215a1e7255ba45612d6": {
      "model_module": "@jupyter-widgets/controls",
      "model_module_version": "1.2.0",
      "model_name": "DescriptionStyleModel",
      "state": {
       "description_width": ""
      }
     },
     "f4c54a8a3c2a46a3b42a36c02b4ebb0c": {
      "model_module": "@jupyter-widgets/controls",
      "model_module_version": "1.2.0",
      "model_name": "DescriptionStyleModel",
      "state": {
       "description_width": ""
      }
     },
     "f4c63550d97949a1906912375619bd95": {
      "model_module": "@jupyter-widgets/base",
      "model_module_version": "1.0.0",
      "model_name": "LayoutModel",
      "state": {}
     },
     "f50df6eaeefa4ed1b7a76ae1b2d235ea": {
      "model_module": "@jupyter-widgets/controls",
      "model_module_version": "1.2.0",
      "model_name": "HTMLModel",
      "state": {
       "layout": "IPY_MODEL_7fa4928dee1b4dd497205b9eabc3cd49",
       "style": "IPY_MODEL_11f1854774a54e598a5d9c43936e9b8f",
       "value": "<h3 style='padding:0;margin:0;'>&nbsp &nbsp &nbsp<a href='https://github.com/pupster90/indra_easy.git'>indra_easy</a></h3>"
      }
     },
     "f512f0d49a2541759f2193fbd33c5d77": {
      "model_module": "@jupyter-widgets/controls",
      "model_module_version": "1.2.0",
      "model_name": "ButtonModel",
      "state": {
       "button_style": "primary",
       "description": "Download",
       "layout": "IPY_MODEL_f9d6d672a7df4da19471f877e7cac499",
       "style": "IPY_MODEL_37fdf217dea34b9a9771e5ae52638020"
      }
     },
     "f516e4390af740fd8770f80a0fa3209d": {
      "model_module": "@jupyter-widgets/base",
      "model_module_version": "1.0.0",
      "model_name": "LayoutModel",
      "state": {
       "align_items": "center"
      }
     },
     "f51af49db8514dd0b755102ed6565913": {
      "model_module": "@jupyter-widgets/controls",
      "model_module_version": "1.2.0",
      "model_name": "HBoxModel",
      "state": {
       "children": [
        "IPY_MODEL_aad6320150a04531b766c160bb80a770",
        "IPY_MODEL_e20284d02e20428e90da7a0ba951262f"
       ],
       "layout": "IPY_MODEL_f1a0668b2be94938b63d871f1d32a048"
      }
     },
     "f521f3477292489496f9377205393ba8": {
      "model_module": "@jupyter-widgets/controls",
      "model_module_version": "1.2.0",
      "model_name": "TextModel",
      "state": {
       "layout": "IPY_MODEL_89bdbd9929cf43b5a4f2177ce3a58f28",
       "style": "IPY_MODEL_bb6899bdfec64750b9cf624bfe4d2079"
      }
     },
     "f55e99b055b24c45863396a861911191": {
      "model_module": "@jupyter-widgets/controls",
      "model_module_version": "1.2.0",
      "model_name": "HTMLModel",
      "state": {
       "layout": "IPY_MODEL_e8856ef1f9374aed979db284088244cc",
       "style": "IPY_MODEL_b392c1d6e947407792ac7b8d87636068",
       "value": "<h3 style='padding:0;margin:0;'>&nbsp &nbsp<a href='https://github.com/pupster90/io_Presentation'>io_Presentation</a> &nbsp</h3>"
      }
     },
     "f56b15bebd7e4d13bdbb633b02273474": {
      "model_module": "@jupyter-widgets/base",
      "model_module_version": "1.0.0",
      "model_name": "LayoutModel",
      "state": {}
     },
     "f58c8e34c5654e429eb12ffcbadc494c": {
      "model_module": "@jupyter-widgets/base",
      "model_module_version": "1.0.0",
      "model_name": "LayoutModel",
      "state": {
       "align_items": "center"
      }
     },
     "f59df6d4b6d948d5b274cf920e161ca3": {
      "model_module": "@jupyter-widgets/controls",
      "model_module_version": "1.2.0",
      "model_name": "HTMLModel",
      "state": {
       "layout": "IPY_MODEL_752e7aefebd0418583c43603d9ef902a",
       "style": "IPY_MODEL_01a3265233d64daf843c5ee950c698bf",
       "value": "<h3 style='padding:0;margin:0;'>&nbsp &nbsp &nbsp<a href='https://github.com/pupster90/pythonStrings.git'>pythonStrings</a></h3>"
      }
     },
     "f5adb192bb7f4aa18b1d14f65a7424e0": {
      "model_module": "@jupyter-widgets/base",
      "model_module_version": "1.0.0",
      "model_name": "LayoutModel",
      "state": {}
     },
     "f5b2d4dee14c4fec978f9fa46a3e8b88": {
      "model_module": "@jupyter-widgets/base",
      "model_module_version": "1.0.0",
      "model_name": "LayoutModel",
      "state": {}
     },
     "f5db987563e04884956de1bd0a20b76d": {
      "model_module": "@jupyter-widgets/controls",
      "model_module_version": "1.2.0",
      "model_name": "ButtonModel",
      "state": {
       "button_style": "primary",
       "description": "Download",
       "layout": "IPY_MODEL_5b772b0e07524e3a92acb5a2ef8753e4",
       "style": "IPY_MODEL_ab0ce69f2aa244d3991f8091d4369cf1"
      }
     },
     "f6285127a0584bc099a57be582b58624": {
      "model_module": "@jupyter-widgets/base",
      "model_module_version": "1.0.0",
      "model_name": "LayoutModel",
      "state": {}
     },
     "f628dd6fddcf4f76958fb4341fb41dd1": {
      "model_module": "@jupyter-widgets/controls",
      "model_module_version": "1.2.0",
      "model_name": "ButtonModel",
      "state": {
       "button_style": "primary",
       "description": "Download",
       "layout": "IPY_MODEL_4309d029f62e4b949f536c55291ff635",
       "style": "IPY_MODEL_76a33a6479e245f5918e38895d19a16b"
      }
     },
     "f638069557bd49bf8432f43cbac0d906": {
      "model_module": "@jupyter-widgets/controls",
      "model_module_version": "1.2.0",
      "model_name": "HBoxModel",
      "state": {
       "children": [
        "IPY_MODEL_ddf9ba38928c4da2b0677b79a7e105d9"
       ],
       "layout": "IPY_MODEL_f9413f7877e04ba2a34bc68188a67732"
      }
     },
     "f646d3d7183b425f97780a38032c4ee1": {
      "model_module": "@jupyter-widgets/controls",
      "model_module_version": "1.2.0",
      "model_name": "HTMLModel",
      "state": {
       "layout": "IPY_MODEL_5ff7aa15495b4a9bbd781c0757ed8bf1",
       "style": "IPY_MODEL_8dcb6165370c493d810183abb593d0a8",
       "value": "<h3 style='padding:0;margin:0;'>&nbsp &nbsp &nbsp<a href='https://github.com/pupster90/Public_Profile.git'>Public_Profile</a></h3>"
      }
     },
     "f677f654ffd34bd3949b85cdd152a81c": {
      "model_module": "@jupyter-widgets/controls",
      "model_module_version": "1.2.0",
      "model_name": "HTMLModel",
      "state": {
       "layout": "IPY_MODEL_fb6db2c3a7034e13ae98f1d5bd6615ee",
       "style": "IPY_MODEL_5be5d9d186c04070b40a9ae9e005d7ee",
       "value": "<h3 style='padding:0;margin:0;'>&nbsp &nbsp<a href='https://github.com/pupster90/io_Start_Screen'>io_Start_Screen</a> &nbsp</h3>"
      }
     },
     "f68e20d6e00845a4bebcc1e2bbd61dd2": {
      "model_module": "@jupyter-widgets/controls",
      "model_module_version": "1.2.0",
      "model_name": "ButtonModel",
      "state": {
       "button_style": "primary",
       "description": "Download",
       "layout": "IPY_MODEL_048e13aee192475fa7c31904fa02dc93",
       "style": "IPY_MODEL_ce61b516b5954d269e5dba96003f053d"
      }
     },
     "f6b43eba9ed04e49a4c0c5d6f568101b": {
      "model_module": "@jupyter-widgets/controls",
      "model_module_version": "1.2.0",
      "model_name": "HTMLModel",
      "state": {
       "layout": "IPY_MODEL_f6fb473db37446c9a799e702b7f1f953",
       "style": "IPY_MODEL_1fbcf7bec6bb4d4ebdae35b24261a82f",
       "value": "<h3 style='padding:0;margin:0;'>&nbsp &nbsp &nbsp<a href='https://github.com/pupster90/test-repo.git'>test-repo</a></h3>"
      }
     },
     "f6b78c3be4954742a2513b1bae4a3e5a": {
      "model_module": "@jupyter-widgets/base",
      "model_module_version": "1.0.0",
      "model_name": "LayoutModel",
      "state": {
       "align_items": "center"
      }
     },
     "f6cf498cb4f348a8ae7b1fff4f7392e2": {
      "model_module": "@jupyter-widgets/base",
      "model_module_version": "1.0.0",
      "model_name": "LayoutModel",
      "state": {
       "width": "auto"
      }
     },
     "f6fb473db37446c9a799e702b7f1f953": {
      "model_module": "@jupyter-widgets/base",
      "model_module_version": "1.0.0",
      "model_name": "LayoutModel",
      "state": {}
     },
     "f74f03432bee414390a657ccd58e6103": {
      "model_module": "@jupyter-widgets/base",
      "model_module_version": "1.0.0",
      "model_name": "LayoutModel",
      "state": {}
     },
     "f75060aaed074a95bc194f0a26647c9c": {
      "model_module": "@jupyter-widgets/controls",
      "model_module_version": "1.2.0",
      "model_name": "HBoxModel",
      "state": {
       "children": [
        "IPY_MODEL_9ecab76471be4573865008708bfb7d58",
        "IPY_MODEL_64ffb0d0171e45e395e305646f157f15",
        "IPY_MODEL_dcd55fe48fa04957b8265e7c18b49eec",
        "IPY_MODEL_646a8bfd92134618a8fe675f795fc356",
        "IPY_MODEL_a326181136ce490cb1de3210fb03fc76",
        "IPY_MODEL_ac095b242d6d4941850f78e7ab7e5382"
       ],
       "layout": "IPY_MODEL_40c422bed42b489d8ae041aadb26c30a"
      }
     },
     "f7743d822e614ba2a75fd73bc4fa7df8": {
      "model_module": "@jupyter-widgets/controls",
      "model_module_version": "1.2.0",
      "model_name": "LabelModel",
      "state": {
       "layout": "IPY_MODEL_095d83e706d541ca9381bb2841a7f334",
       "style": "IPY_MODEL_cd4ce9c953d14ce895b7a8ffc50d29b3",
       "value": "Saved 24 hours ago"
      }
     },
     "f78ca1909e8b476e902c353d4ddf239c": {
      "model_module": "@jupyter-widgets/controls",
      "model_module_version": "1.2.0",
      "model_name": "ButtonStyleModel",
      "state": {}
     },
     "f7918b87551949d894a37703d5e3079b": {
      "model_module": "@jupyter-widgets/controls",
      "model_module_version": "1.2.0",
      "model_name": "ButtonModel",
      "state": {
       "button_style": "primary",
       "description": "Download",
       "layout": "IPY_MODEL_246ebe9ad0fb473d9738e75c89109651",
       "style": "IPY_MODEL_0fee025b55ab47a688c1a6104dc0b886"
      }
     },
     "f7b90322a0db40d586537387cdee47b8": {
      "model_module": "@jupyter-widgets/base",
      "model_module_version": "1.0.0",
      "model_name": "LayoutModel",
      "state": {}
     },
     "f7c01c60b3a84dbc9c4945685e633bb6": {
      "model_module": "@jupyter-widgets/controls",
      "model_module_version": "1.2.0",
      "model_name": "DescriptionStyleModel",
      "state": {
       "description_width": ""
      }
     },
     "f7f8cebeeb3a4bd285683aeaee34336b": {
      "model_module": "@jupyter-widgets/controls",
      "model_module_version": "1.2.0",
      "model_name": "DescriptionStyleModel",
      "state": {
       "description_width": ""
      }
     },
     "f7faa453f0f340f9a646c5b2d55b0f1f": {
      "model_module": "@jupyter-widgets/controls",
      "model_module_version": "1.2.0",
      "model_name": "ButtonModel",
      "state": {
       "button_style": "primary",
       "description": "Download",
       "layout": "IPY_MODEL_d12e11d47d434e459136d75d313c5f39",
       "style": "IPY_MODEL_2dc39f6aea9b4a6d950f166e7c02275f"
      }
     },
     "f800532f85bd4959b0706c22dee039e8": {
      "model_module": "@jupyter-widgets/base",
      "model_module_version": "1.0.0",
      "model_name": "LayoutModel",
      "state": {
       "justify_content": "center",
       "margin": "0 0 0 100px"
      }
     },
     "f818090a94604a1a9666f3bb4f7ee1ea": {
      "model_module": "@jupyter-widgets/base",
      "model_module_version": "1.0.0",
      "model_name": "LayoutModel",
      "state": {}
     },
     "f82374ebd7574638ba96b3012c793b85": {
      "model_module": "@jupyter-widgets/controls",
      "model_module_version": "1.2.0",
      "model_name": "DescriptionStyleModel",
      "state": {
       "description_width": ""
      }
     },
     "f848f442066e4a1188299fd43ed733aa": {
      "model_module": "@jupyter-widgets/base",
      "model_module_version": "1.0.0",
      "model_name": "LayoutModel",
      "state": {}
     },
     "f867da79884c4809908575aad835d14a": {
      "model_module": "@jupyter-widgets/base",
      "model_module_version": "1.0.0",
      "model_name": "LayoutModel",
      "state": {
       "width": "auto"
      }
     },
     "f8845d3669aa432b879179f6cadda3cf": {
      "model_module": "@jupyter-widgets/controls",
      "model_module_version": "1.2.0",
      "model_name": "ButtonModel",
      "state": {
       "button_style": "primary",
       "description": "Download",
       "layout": "IPY_MODEL_f056e74724f4496ca621c20c61efad00",
       "style": "IPY_MODEL_f05d1a58408042d598e5f7f6dcf9ee25"
      }
     },
     "f89e93ab04de42879861a557af623782": {
      "model_module": "@jupyter-widgets/controls",
      "model_module_version": "1.2.0",
      "model_name": "HBoxModel",
      "state": {
       "children": [
        "IPY_MODEL_c26641927c4b4de190f486d93a37c3fd",
        "IPY_MODEL_7a15c45a10a84ff38ca26e33f5a42ccb"
       ],
       "layout": "IPY_MODEL_3621f3bf421c4b039b5b9990c2d29316"
      }
     },
     "f93e2ac37bd846d49aee71e4649ec480": {
      "model_module": "@jupyter-widgets/controls",
      "model_module_version": "1.2.0",
      "model_name": "LabelModel",
      "state": {
       "layout": "IPY_MODEL_58699db6080e4268986b62911ce06f4e",
       "style": "IPY_MODEL_1694a596a84b4096b02650dc7e5e8f1d",
       "value": "1 hour ago"
      }
     },
     "f9413f7877e04ba2a34bc68188a67732": {
      "model_module": "@jupyter-widgets/base",
      "model_module_version": "1.0.0",
      "model_name": "LayoutModel",
      "state": {
       "justify_content": "center",
       "padding": "15px 0 0 0"
      }
     },
     "f94439cf853245ceb3c860d318c96701": {
      "model_module": "@jupyter-widgets/controls",
      "model_module_version": "1.2.0",
      "model_name": "DescriptionStyleModel",
      "state": {
       "description_width": ""
      }
     },
     "f96077c417bf4a01b5682ee7e55e55e4": {
      "model_module": "@jupyter-widgets/controls",
      "model_module_version": "1.2.0",
      "model_name": "HBoxModel",
      "state": {
       "children": [
        "IPY_MODEL_e148010ae711498d98ed03af291dafe2",
        "IPY_MODEL_64a73014837b43e7b50b1c2749f124cb",
        "IPY_MODEL_39baf4a23f8043e4beebb034880886d7",
        "IPY_MODEL_c0227b116a1c4e4995ee23528214f839",
        "IPY_MODEL_89e9162224304eb284723e9a633a2408",
        "IPY_MODEL_e60453307e1f412e99db29547164bfa9"
       ],
       "layout": "IPY_MODEL_dee70b407eb7438e926870ada9b023fb"
      }
     },
     "f9790d80be6d4642b7d7809d34a9027c": {
      "model_module": "@jupyter-widgets/base",
      "model_module_version": "1.0.0",
      "model_name": "LayoutModel",
      "state": {
       "align_items": "center"
      }
     },
     "f9a0645601164f88a273ba182d9849cf": {
      "model_module": "@jupyter-widgets/controls",
      "model_module_version": "1.2.0",
      "model_name": "HTMLModel",
      "state": {
       "layout": "IPY_MODEL_80e660fda567482c86075fa6cc252ce1",
       "style": "IPY_MODEL_e79384d4fae14e98917a3da6044539f4",
       "value": "<font color='orange'> &nbsp Stars: 0</font>"
      }
     },
     "f9a64fedf9d14742a73355a8ac2fc8dc": {
      "model_module": "@jupyter-widgets/base",
      "model_module_version": "1.0.0",
      "model_name": "LayoutModel",
      "state": {
       "align_items": "center",
       "display": "None"
      }
     },
     "f9b0bd27530c491e8b903d43651576ed": {
      "model_module": "@jupyter-widgets/controls",
      "model_module_version": "1.2.0",
      "model_name": "LabelModel",
      "state": {
       "layout": "IPY_MODEL_0bafd4fb46e84727868d1e9f6e9f48ee",
       "style": "IPY_MODEL_86873681ee4d455b8c8138b169b79394",
       "value": "Saved 4 days ago"
      }
     },
     "f9cbbcf9a3f2434a80ab1b61a5461840": {
      "model_module": "@jupyter-widgets/base",
      "model_module_version": "1.0.0",
      "model_name": "LayoutModel",
      "state": {}
     },
     "f9d3d5b69e914c43afc052c2c2013965": {
      "model_module": "@jupyter-widgets/base",
      "model_module_version": "1.0.0",
      "model_name": "LayoutModel",
      "state": {}
     },
     "f9d6d672a7df4da19471f877e7cac499": {
      "model_module": "@jupyter-widgets/base",
      "model_module_version": "1.0.0",
      "model_name": "LayoutModel",
      "state": {
       "width": "auto"
      }
     },
     "f9f380a72c504816b1bf9981eacd621f": {
      "model_module": "@jupyter-widgets/base",
      "model_module_version": "1.0.0",
      "model_name": "LayoutModel",
      "state": {
       "display": "none"
      }
     },
     "f9fde05d3d3c428d8d1b8ba3da000891": {
      "model_module": "@jupyter-widgets/base",
      "model_module_version": "1.0.0",
      "model_name": "LayoutModel",
      "state": {}
     },
     "fa03a58c692b45e7b2b312611b59bd7b": {
      "model_module": "@jupyter-widgets/controls",
      "model_module_version": "1.2.0",
      "model_name": "HTMLModel",
      "state": {
       "layout": "IPY_MODEL_2a0450adc13d4779bd3a1b8e1d541819",
       "style": "IPY_MODEL_b6e97f2ff8d94715bf66d08d90ed1a71",
       "value": "<h3 style='padding:0;margin:0;'>&nbsp &nbsp &nbsp<a href='https://github.com/pupster90/io_docker_setup.git'>io_docker_setup</a></h3>"
      }
     },
     "fa0781b4ddec403eaefb35e7db262f23": {
      "model_module": "@jupyter-widgets/controls",
      "model_module_version": "1.2.0",
      "model_name": "DescriptionStyleModel",
      "state": {
       "description_width": ""
      }
     },
     "fa3e8c1428e24f128e60745cbdbf51c1": {
      "model_module": "@jupyter-widgets/controls",
      "model_module_version": "1.2.0",
      "model_name": "HTMLModel",
      "state": {
       "layout": "IPY_MODEL_8df7bc1540844a45940152d30698b4e3",
       "style": "IPY_MODEL_8f4a49cc20934a89b0332b67f523176a",
       "value": "<h3 style='padding:0;margin:0;'>&nbsp &nbsp<a href='https://github.com/pupster90/Ideker_Online'>Ideker_Online</a> &nbsp</h3>"
      }
     },
     "fa5ae27e957a4f7aba3da0c3d7d0c0bf": {
      "model_module": "@jupyter-widgets/base",
      "model_module_version": "1.0.0",
      "model_name": "LayoutModel",
      "state": {}
     },
     "fae0d9b1af3a4047883d9d44c8303361": {
      "model_module": "@jupyter-widgets/controls",
      "model_module_version": "1.2.0",
      "model_name": "DescriptionStyleModel",
      "state": {
       "description_width": ""
      }
     },
     "fae7a3bf0595460dbb63e2397a0fba05": {
      "model_module": "@jupyter-widgets/controls",
      "model_module_version": "1.2.0",
      "model_name": "ButtonStyleModel",
      "state": {}
     },
     "faf2a8d937cb47d6b27f9c2f07a23506": {
      "model_module": "@jupyter-widgets/controls",
      "model_module_version": "1.2.0",
      "model_name": "HBoxModel",
      "state": {
       "children": [
        "IPY_MODEL_27b603fece534497850caf58781fcffc",
        "IPY_MODEL_11d252b533cb49ca8e80f1947838e036"
       ],
       "layout": "IPY_MODEL_44040a7940404a47a033b3ba32dfa190"
      }
     },
     "fafb22cf5cc642c3b4034313e9b4e29f": {
      "model_module": "@jupyter-widgets/controls",
      "model_module_version": "1.2.0",
      "model_name": "ButtonStyleModel",
      "state": {}
     },
     "fb12803aadb245869968c5b4d280d4eb": {
      "model_module": "@jupyter-widgets/base",
      "model_module_version": "1.0.0",
      "model_name": "LayoutModel",
      "state": {
       "width": "auto"
      }
     },
     "fb1e8a3c26404233a088d90783b0aa54": {
      "model_module": "@jupyter-widgets/controls",
      "model_module_version": "1.2.0",
      "model_name": "HBoxModel",
      "state": {
       "children": [
        "IPY_MODEL_4617f303d0c148418d2b48d9000f5091",
        "IPY_MODEL_14d303c1a43549058a26e603be53225c",
        "IPY_MODEL_ad639eae2293441dbe52d7cc518387f4",
        "IPY_MODEL_87180bc922924911b5c77bef7290c6a0"
       ],
       "layout": "IPY_MODEL_899af3ed733f4fc5afc00be8049d9412"
      }
     },
     "fb434fd8592049d2b9c8b3eb12e09a2b": {
      "model_module": "@jupyter-widgets/controls",
      "model_module_version": "1.2.0",
      "model_name": "ButtonModel",
      "state": {
       "button_style": "primary",
       "description": "Download",
       "layout": "IPY_MODEL_3606f417fbf7484e91b8af4f1fd9feb2",
       "style": "IPY_MODEL_f78ca1909e8b476e902c353d4ddf239c"
      }
     },
     "fb46f6cc4f854be4ad011cf518d926a1": {
      "model_module": "@jupyter-widgets/controls",
      "model_module_version": "1.2.0",
      "model_name": "ToggleButtonsModel",
      "state": {
       "_options_labels": [
        "Public",
        "Private"
       ],
       "button_style": "info",
       "icons": [],
       "index": 0,
       "layout": "IPY_MODEL_66d6fdc849674a3d83ba1753ce526a78",
       "style": "IPY_MODEL_76dcbc75d7b040a2a054752311063d2a",
       "tooltips": []
      }
     },
     "fb48f57709d84dceb89ea14518460269": {
      "model_module": "@jupyter-widgets/base",
      "model_module_version": "1.0.0",
      "model_name": "LayoutModel",
      "state": {
       "align_items": "center"
      }
     },
     "fb6db2c3a7034e13ae98f1d5bd6615ee": {
      "model_module": "@jupyter-widgets/base",
      "model_module_version": "1.0.0",
      "model_name": "LayoutModel",
      "state": {}
     },
     "fb935991238e4aa6adcb45878393c06e": {
      "model_module": "@jupyter-widgets/controls",
      "model_module_version": "1.2.0",
      "model_name": "ButtonStyleModel",
      "state": {}
     },
     "fba43f2921894723b45443dde5a0c908": {
      "model_module": "@jupyter-widgets/base",
      "model_module_version": "1.0.0",
      "model_name": "LayoutModel",
      "state": {}
     },
     "fbdf167191424fa0ba934f1c4eb34d79": {
      "model_module": "@jupyter-widgets/controls",
      "model_module_version": "1.2.0",
      "model_name": "TextModel",
      "state": {
       "layout": "IPY_MODEL_3577473f1d3b45c9b0330d6a6c80b397",
       "style": "IPY_MODEL_8d48cf1de9dd422697f3cdc15f8369a1"
      }
     },
     "fc1548164c044077bb5318c7130da1db": {
      "model_module": "@jupyter-widgets/controls",
      "model_module_version": "1.2.0",
      "model_name": "HBoxModel",
      "state": {
       "children": [
        "IPY_MODEL_a7295fbd4b4440328f90436b10029535",
        "IPY_MODEL_27694f57f2c74c62aa7ed7240208cd04",
        "IPY_MODEL_48019d71bf2046689bafc538ff035083",
        "IPY_MODEL_5eff2fa1b0a64641a6dcf156df6b022c",
        "IPY_MODEL_c3037008c93f47b2bdd4931088493e14",
        "IPY_MODEL_05247cd9dbfd4d26afbf1e10b88e4965"
       ],
       "layout": "IPY_MODEL_892986e1e6d6473eaea4fbf616463c02"
      }
     },
     "fc1f5c7d96824388b8d391be6fae5153": {
      "model_module": "@jupyter-widgets/base",
      "model_module_version": "1.0.0",
      "model_name": "LayoutModel",
      "state": {
       "align_items": "center"
      }
     },
     "fc621fc3432242abb047c1b630853289": {
      "model_module": "@jupyter-widgets/controls",
      "model_module_version": "1.2.0",
      "model_name": "HTMLModel",
      "state": {
       "layout": "IPY_MODEL_aa02599f13b7442c90c7c4782aa2d467",
       "style": "IPY_MODEL_bc5adaf523c849a395d093125fcff2ba",
       "value": "<h3 style='padding:0;margin:0;'>&nbsp &nbsp &nbsp<a href='https://github.com/pupster90/indra_easy.git'>indra_easy</a></h3>"
      }
     },
     "fc89907d3c4546189ced7fd152b5301b": {
      "model_module": "@jupyter-widgets/base",
      "model_module_version": "1.0.0",
      "model_name": "LayoutModel",
      "state": {
       "width": "auto"
      }
     },
     "fcbcc94ebc4248ba9e59ed3348b8a61c": {
      "model_module": "@jupyter-widgets/base",
      "model_module_version": "1.0.0",
      "model_name": "LayoutModel",
      "state": {
       "width": "auto"
      }
     },
     "fcdd8048198e41a59356b235d25aa422": {
      "model_module": "@jupyter-widgets/controls",
      "model_module_version": "1.2.0",
      "model_name": "DescriptionStyleModel",
      "state": {
       "description_width": ""
      }
     },
     "fd3df5ba9b6246c6badce90d6be47ba6": {
      "model_module": "@jupyter-widgets/controls",
      "model_module_version": "1.2.0",
      "model_name": "VBoxModel",
      "state": {
       "children": [
        "IPY_MODEL_b63fd6bfb4594fc0b86906a933b16a83",
        "IPY_MODEL_c2d7cabafb654e059edd54bdde1829bc"
       ],
       "layout": "IPY_MODEL_888292c981da4bd6bee74d2269bca8aa"
      }
     },
     "fd3f54db318c402fa849a2b7c86e6908": {
      "model_module": "@jupyter-widgets/controls",
      "model_module_version": "1.2.0",
      "model_name": "ButtonStyleModel",
      "state": {}
     },
     "fdbeb6f2e09a4ec9b838ae01c22ca27f": {
      "model_module": "@jupyter-widgets/controls",
      "model_module_version": "1.2.0",
      "model_name": "HTMLModel",
      "state": {
       "layout": "IPY_MODEL_feb3a505a4bb405d9a67441676e6fe42",
       "style": "IPY_MODEL_fcdd8048198e41a59356b235d25aa422",
       "value": "<h3 style='padding:0;margin:0;'>&nbsp &nbsp<a href='https://github.com/pupster90/io_Presentation'>io_Presentation</a> &nbsp</h3>"
      }
     },
     "fdcaf7072db7476788aa2ac16693d348": {
      "model_module": "@jupyter-widgets/controls",
      "model_module_version": "1.2.0",
      "model_name": "HBoxModel",
      "state": {
       "children": [
        "IPY_MODEL_1c6e35fb95694877885e90fbb45be496",
        "IPY_MODEL_21ecf5c08c3f46e982459fa9abf3e5e6",
        "IPY_MODEL_bc70332b18de4f8aad208de19df917e3",
        "IPY_MODEL_bfa08de7099045749058e784bb844cfa",
        "IPY_MODEL_f55e99b055b24c45863396a861911191",
        "IPY_MODEL_7ef308750b6e40b18934ecf56b250590"
       ],
       "layout": "IPY_MODEL_276766ac1b304ea7b4d388f0b8fba199"
      }
     },
     "fde0cb0f941b4f5bb7bae3e23d5c2134": {
      "model_module": "@jupyter-widgets/base",
      "model_module_version": "1.0.0",
      "model_name": "LayoutModel",
      "state": {
       "width": "auto"
      }
     },
     "fdf056b6eb1a40aeb66013f7380a142f": {
      "model_module": "@jupyter-widgets/base",
      "model_module_version": "1.0.0",
      "model_name": "LayoutModel",
      "state": {}
     },
     "fe28a982ab764ecb9ffb45ebc0c0b193": {
      "model_module": "@jupyter-widgets/base",
      "model_module_version": "1.0.0",
      "model_name": "LayoutModel",
      "state": {
       "visibility": "hidden"
      }
     },
     "fe3655a46f7e4160aa711819c936e6ab": {
      "model_module": "@jupyter-widgets/controls",
      "model_module_version": "1.2.0",
      "model_name": "ToggleButtonsStyleModel",
      "state": {
       "button_width": "",
       "description_width": ""
      }
     },
     "fe53c4d3271b496fb92c7702b05ae29f": {
      "model_module": "@jupyter-widgets/controls",
      "model_module_version": "1.2.0",
      "model_name": "HTMLModel",
      "state": {
       "layout": "IPY_MODEL_89e083c528064553b8d4b302ebc14dfb",
       "style": "IPY_MODEL_510781d60a234a1ca13448abf20201bb",
       "value": "<h3 style='padding:0;margin:0;'>&nbsp &nbsp<a href='https://github.com/pupster90/Public_Profile'>Public_Profile</a> &nbsp</h3>"
      }
     },
     "fe6a4ea0084e49a7ac2281c7f142ccf6": {
      "model_module": "@jupyter-widgets/controls",
      "model_module_version": "1.2.0",
      "model_name": "HTMLModel",
      "state": {
       "layout": "IPY_MODEL_eadd94e1920a40549157734ab2898e42",
       "style": "IPY_MODEL_5dc99198fb554b83a4b59f996278c15d",
       "value": "<h3 style='padding:0;margin:0;'>&nbsp &nbsp &nbsp<a href='https://github.com/pupster90/io_Online.git'>io_Online</a></h3>"
      }
     },
     "feb3a505a4bb405d9a67441676e6fe42": {
      "model_module": "@jupyter-widgets/base",
      "model_module_version": "1.0.0",
      "model_name": "LayoutModel",
      "state": {}
     },
     "fee7a77193f643b2a8d062e23dd18693": {
      "model_module": "@jupyter-widgets/controls",
      "model_module_version": "1.2.0",
      "model_name": "ButtonStyleModel",
      "state": {}
     },
     "fefa07cae8314928a49e0630342fd9eb": {
      "model_module": "@jupyter-widgets/base",
      "model_module_version": "1.0.0",
      "model_name": "LayoutModel",
      "state": {}
     },
     "ff1bedbeef144ba6a397bde93d566610": {
      "model_module": "@jupyter-widgets/base",
      "model_module_version": "1.0.0",
      "model_name": "LayoutModel",
      "state": {}
     },
     "ff2b96c235cd4aff82d2acba5449edbb": {
      "model_module": "@jupyter-widgets/base",
      "model_module_version": "1.0.0",
      "model_name": "LayoutModel",
      "state": {}
     },
     "ff8de4d6f4af4ea4b56301b1a2d2a459": {
      "model_module": "@jupyter-widgets/base",
      "model_module_version": "1.0.0",
      "model_name": "LayoutModel",
      "state": {
       "align_items": "center"
      }
     },
     "ffd6eeab8a9248cda16a07165b0afd43": {
      "model_module": "@jupyter-widgets/controls",
      "model_module_version": "1.2.0",
      "model_name": "HBoxModel",
      "state": {
       "children": [
        "IPY_MODEL_28d5ef5478a2474e89012c2b79a9dc00",
        "IPY_MODEL_4a5eb6cfb0534078acb1d538661a9fa9"
       ],
       "layout": "IPY_MODEL_1432ae4b2daf4aadbeb90a9aae49051f"
      }
     },
     "ffed2d0369044ad895b2296241cfb1a8": {
      "model_module": "@jupyter-widgets/controls",
      "model_module_version": "1.2.0",
      "model_name": "HTMLModel",
      "state": {
       "layout": "IPY_MODEL_1bdb03274685492c87d1217cb1e9b47a",
       "style": "IPY_MODEL_d0007725a2074b4c8efb306ee1a49229",
       "value": "<h3 style='padding:0;margin:0;'>&nbsp &nbsp &nbsp<a href='https://github.com/pupster90/judoscape.git'>judoscape</a></h3>"
      }
     }
    },
    "version_major": 2,
    "version_minor": 0
   }
  }
 },
 "nbformat": 4,
 "nbformat_minor": 2
}
