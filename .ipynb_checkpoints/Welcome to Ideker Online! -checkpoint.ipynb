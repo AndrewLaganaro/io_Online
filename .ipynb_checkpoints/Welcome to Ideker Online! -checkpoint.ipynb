{
 "cells": [
  {
   "cell_type": "code",
   "execution_count": null,
   "metadata": {},
   "outputs": [],
   "source": [
    "%run \"~/Apps/Setup_Notebook/default.ipynb\"\n",
    "%run \"Source Code.ipynb\""
   ]
  },
  {
   "cell_type": "markdown",
   "metadata": {},
   "source": [
    "**<font color=\"Gray\" size=7>Ideker</font>** *<font color=\"magenta\" size=7>Online</font>*"
   ]
  },
  {
   "cell_type": "markdown",
   "metadata": {},
   "source": [
    "<font color=\"magenta\">Ideker Online</font> connects your computer with everyone in the lab. This is done using the [power of Github](https://github.com/). With <font color=\"magenta\">Ideker Online</font> you can:\n",
    "\n",
    "* Save your work\n",
    "* Update applications\n",
    "* Share your work with others"
   ]
  },
  {
   "cell_type": "markdown",
   "metadata": {},
   "source": [
    "# <font color=\"limeGreen\">Github Sign In</font>"
   ]
  },
  {
   "cell_type": "markdown",
   "metadata": {},
   "source": [
    "To use <font color=\"magenta\">Ideker Online</font> you must have a github account which you can [create here](https://github.com/).\n",
    "\n",
    "<font color=\"limeGreen\">Github</font> is an incredible piece of technology that allows people to save/share code on the cloud. However, <font color=\"limeGreen\">Github</font> can be confusing to use... even for programmers! <font color=\"magenta\">Ideker Online</font> makes using <font color=\"limeGreen\">Github</font> simple. In order to use <font color=\"magenta\">Ideker Online</font> you need to sign in to <font color=\"limeGreen\">Github</font>:"
   ]
  },
  {
   "cell_type": "code",
   "execution_count": null,
   "metadata": {
    "cell_style": "split"
   },
   "outputs": [],
   "source": [
    "display(HTML(\"<hr style=margin:0>\"))\n",
    "Git.b.signIn"
   ]
  },
  {
   "cell_type": "markdown",
   "metadata": {},
   "source": [
    "# <font color=\"teal\">Manage Files</font>"
   ]
  },
  {
   "cell_type": "markdown",
   "metadata": {},
   "source": [
    "In this section you can <font color=\"orange\">Add</font> new folders to Github and  <font color=\"green\">Publish</font> your most recent changes. This is smart to do because :\n",
    "1. You <font color=\"blue\">back up</font> your files in the cloud\n",
    "2. Your work is now <font color=\"blue\">shared with everyone</font>\n",
    "\n",
    "**<font color=\"red\">Tip :</font>** When you <font color=\"green\">Publish</font> your recent changes to Github, you can write a short note about what you did. Use the text box to write a note before clicking <font color=\"green\">Publish</font>"
   ]
  },
  {
   "cell_type": "code",
   "execution_count": null,
   "metadata": {},
   "outputs": [],
   "source": [
    "Git.w.folder_type\n",
    "Git.wf.folderType(\"b\")"
   ]
  },
  {
   "cell_type": "markdown",
   "metadata": {},
   "source": [
    "# <font color=\"orange\">Manage Apps</font>"
   ]
  },
  {
   "cell_type": "markdown",
   "metadata": {},
   "source": [
    "This is where you can **check new updates** for all of your <font color=\"orange\">Apps</font>. Only the <font color=\"orange\">apps</font> that need updates are shown. After updating your <font color=\"orange\">apps</font> click  <font color=\"blue\">Refresh</font> to confirm everythign is up to date."
   ]
  },
  {
   "cell_type": "code",
   "execution_count": null,
   "metadata": {},
   "outputs": [],
   "source": [
    "display( Git.b.update_refresh )\n",
    "Git.wf.showUpdates(\"b\")"
   ]
  },
  {
   "cell_type": "markdown",
   "metadata": {},
   "source": [
    "#  <font color=\"Orchid\">Ideker News Room</font>"
   ]
  },
  {
   "cell_type": "markdown",
   "metadata": {},
   "source": [
    "You can use the <font color=\"Orchid\">Ideker News Room</font> to check out what everyone else is doing in the lab. It displays a list of all of the most recent things that lab members published.  <font color=\"teal\">Click Download</font>  to save something into your <font color=\"blue\">Downloads Folder.</font> "
   ]
  },
  {
   "cell_type": "code",
   "execution_count": null,
   "metadata": {},
   "outputs": [],
   "source": [
    "display( Git.b.news_refresh )\n",
    "Git.wf.showNews(\"b\")"
   ]
  },
  {
   "cell_type": "markdown",
   "metadata": {},
   "source": [
    "# <font color=\"SeaGreen\">Download from Github</font>"
   ]
  },
  {
   "cell_type": "markdown",
   "metadata": {},
   "source": [
    "Here you can download your repo from the cloud <font color=\"limeGreen\">(Github)</font> to <font color=\"orange\">io</font>. \n",
    "* Click <font color=\"green\">Public</font> or <font color=\"red\">Private</font> to view your <font color=\"green\">Public</font>/<font color=\"red\">Private</font> <font color=\"limeGreen\">Github</font> repos which are not yet on <font color=\"orange\">io</font>. \n",
    "* Then click download to move a repo to your <font color=\"green\">Public</font>/<font color=\"red\">Private</font> folder on <font color=\"orange\">io</font>."
   ]
  },
  {
   "cell_type": "code",
   "execution_count": null,
   "metadata": {},
   "outputs": [],
   "source": [
    "display( Git.w.github_download )\n",
    "Git.wf.githubDownload(\"b\")"
   ]
  },
  {
   "cell_type": "code",
   "execution_count": null,
   "metadata": {},
   "outputs": [],
   "source": []
  }
 ],
 "metadata": {
  "hide_input": false,
  "kernelspec": {
   "display_name": "Python 3",
   "language": "python",
   "name": "python3"
  },
  "language_info": {
   "codemirror_mode": {
    "name": "ipython",
    "version": 3
   },
   "file_extension": ".py",
   "mimetype": "text/x-python",
   "name": "python",
   "nbconvert_exporter": "python",
   "pygments_lexer": "ipython3",
   "version": "3.6.3"
  },
  "toc": {
   "base_numbering": 1,
   "nav_menu": {},
   "number_sections": true,
   "sideBar": true,
   "skip_h1_title": false,
   "title_cell": "Table of Contents",
   "title_sidebar": "Contents",
   "toc_cell": false,
   "toc_position": {},
   "toc_section_display": true,
   "toc_window_display": false
  },
  "varInspector": {
   "cols": {
    "lenName": 16,
    "lenType": 16,
    "lenVar": 40
   },
   "kernels_config": {
    "python": {
     "delete_cmd_postfix": "",
     "delete_cmd_prefix": "del ",
     "library": "var_list.py",
     "varRefreshCmd": "print(var_dic_list())"
    },
    "r": {
     "delete_cmd_postfix": ") ",
     "delete_cmd_prefix": "rm(",
     "library": "var_list.r",
     "varRefreshCmd": "cat(var_dic_list()) "
    }
   },
   "types_to_exclude": [
    "module",
    "function",
    "builtin_function_or_method",
    "instance",
    "_Feature"
   ],
   "window_display": false
  }
 },
 "nbformat": 4,
 "nbformat_minor": 2
}
